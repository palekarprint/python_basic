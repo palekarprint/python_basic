{
 "cells": [
  {
   "cell_type": "markdown",
   "metadata": {
    "id": "cyOfbWCdOjEr"
   },
   "source": [
    "# ASSIGNMENTS - Compulsory\n",
    "## Send it before 0000 hrs IST or 12 AM Wednesday\n",
    "\n",
    "## NOTE: Evaluation will be done before next class.\n",
    "\n",
    "## HOW TO SUBMIT: -\n",
    "Download this notebook, Solve it and upload in the google form given in the mail."
   ]
  },
  {
   "cell_type": "markdown",
   "metadata": {
    "id": "GT4IytkJMNa-"
   },
   "source": [
    "## Python String Manipulation\n",
    "\n",
    "1. Count the number of times `iNeuron` appears in the string.\n",
    "```python\n",
    "text = \"Welcome to iNeuron, You are a part of FSDS Bootcamp 2 in iNeuron. I hope you are enjoying the course by iNeuron\"\n",
    "```\n",
    "2. Check if position `5` to `11` ends with the phrase `iNeuron.` in the string \n",
    "```python\n",
    "txt = \"Hello, welcome to FSDS 2.0 at iNeuron.\"\n",
    "```\n",
    "3. Write a program that takes your full name as input and displays the abbreviations of the first and middle names except the last name which is displayed as it is. For example, if your name is Sunny Bhaveen Chandra, then the output should be S.B.Chandra.\n",
    "\n",
    "4. Join all items in a list into a string, using a hash(`#`) character as separator:\n",
    "```python\n",
    "LIST = [\"My\", \"name\", \"is\", \"Rishav\", \"Dash\"]\n",
    "```\n",
    "5. Write example for the following string manipulation function,\n",
    "\n",
    "  ```\n",
    "  - isdecimal()\n",
    "  - islower()\n",
    "  - isupper()\n",
    "  - isalpha()\n",
    "  - isnumeric()\n",
    "\n",
    "  ```\n",
    "6. Indian PAN card format follows the following formats - \n",
    "    - `AYEPC7894X`\n",
    "    - `ABCDE9999Y`\n",
    "  Take user input for PAN_CARD and validate as per the above example.\n"
   ]
  },
  {
   "cell_type": "markdown",
   "metadata": {},
   "source": [
    "1. Count the number of times `iNeuron` appears in the string.\n",
    "```python\n",
    "text = \"Welcome to iNeuron, You are a part of FSDS Bootcamp 2 in iNeuron. I hope you are enjoying the course by iNeuron\"\n",
    "```"
   ]
  },
  {
   "cell_type": "code",
   "execution_count": 4,
   "metadata": {},
   "outputs": [
    {
     "data": {
      "text/plain": [
       "3"
      ]
     },
     "execution_count": 4,
     "metadata": {},
     "output_type": "execute_result"
    }
   ],
   "source": [
    "text = \"Welcome to iNeuron, You are a part of FSDS Bootcamp 2 in iNeuron. I hope you are enjoying the course by iNeuron\"\n",
    "text.count(\"iNeuron\")"
   ]
  },
  {
   "cell_type": "markdown",
   "metadata": {},
   "source": [
    "2. Check if position `5` to `11` ends with the phrase `iNeuron.` in the string \n",
    "```python\n",
    "txt = \"Hello, welcome to FSDS 2.0 at iNeuron.\"\n",
    "```"
   ]
  },
  {
   "cell_type": "code",
   "execution_count": null,
   "metadata": {},
   "outputs": [],
   "source": [
    "txt = \"Hello, welcome to FSDS 2.0 at iNeuron.\""
   ]
  }
 ],
 "metadata": {
  "colab": {
   "collapsed_sections": [],
   "provenance": []
  },
  "kernelspec": {
   "display_name": "Python 3 (ipykernel)",
   "language": "python",
   "name": "python3"
  },
  "language_info": {
   "codemirror_mode": {
    "name": "ipython",
    "version": 3
   },
   "file_extension": ".py",
   "mimetype": "text/x-python",
   "name": "python",
   "nbconvert_exporter": "python",
   "pygments_lexer": "ipython3",
   "version": "3.9.12"
  }
 },
 "nbformat": 4,
 "nbformat_minor": 1
}
