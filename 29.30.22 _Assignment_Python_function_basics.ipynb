{
 "cells": [
  {
   "cell_type": "markdown",
   "id": "6cb42445",
   "metadata": {},
   "source": [
    "### Vikas Palekar - Assignment Submission Python function basics 29.10.22"
   ]
  },
  {
   "cell_type": "markdown",
   "id": "1b143c9e",
   "metadata": {},
   "source": [
    "1. Write a funtion which will find out the length of the string without using inbuit funtion."
   ]
  },
  {
   "cell_type": "code",
   "execution_count": 10,
   "id": "8f8e23ff",
   "metadata": {},
   "outputs": [
    {
     "data": {
      "text/plain": [
       "7"
      ]
     },
     "execution_count": 10,
     "metadata": {},
     "output_type": "execute_result"
    }
   ],
   "source": [
    "string = \"Vikas\"\n",
    "\n",
    "\n",
    "def str_length(l):\n",
    "    count = 0\n",
    "    for i in l:\n",
    "        count += 1\n",
    "    return count\n",
    "\n",
    "str_length(\"Palekar\")"
   ]
  },
  {
   "cell_type": "code",
   "execution_count": null,
   "id": "ef65e164",
   "metadata": {},
   "outputs": [],
   "source": []
  },
  {
   "cell_type": "markdown",
   "id": "1e41acc7",
   "metadata": {},
   "source": [
    "2. Write a function which will be able to print an index of list element without using index function."
   ]
  },
  {
   "cell_type": "code",
   "execution_count": 7,
   "id": "88c3a577",
   "metadata": {},
   "outputs": [
    {
     "name": "stdout",
     "output_type": "stream",
     "text": [
      "0 - zero\n",
      "1 - one\n",
      "2 - two\n",
      "3 - three\n",
      "4 - four\n"
     ]
    }
   ],
   "source": [
    "lst = ['zero', 'one', 'two', 'three', 'four']\n",
    "\n",
    "def index_print(l):\n",
    "    for i in range (0, len(l)):\n",
    "        print(f'{i} - {l[i]}')\n",
    "\n",
    "index_print(lst)"
   ]
  },
  {
   "cell_type": "markdown",
   "id": "60d91914",
   "metadata": {},
   "source": [
    "3. Write a function which will be able to print the IP Address of the your system."
   ]
  },
  {
   "cell_type": "code",
   "execution_count": 6,
   "id": "15f40b7d",
   "metadata": {},
   "outputs": [
    {
     "ename": "NameError",
     "evalue": "name 'IPAddr' is not defined",
     "output_type": "error",
     "traceback": [
      "\u001b[1;31m---------------------------------------------------------------------------\u001b[0m",
      "\u001b[1;31mNameError\u001b[0m                                 Traceback (most recent call last)",
      "Input \u001b[1;32mIn [6]\u001b[0m, in \u001b[0;36m<cell line: 3>\u001b[1;34m()\u001b[0m\n\u001b[0;32m      1\u001b[0m \u001b[38;5;28;01mimport\u001b[39;00m \u001b[38;5;21;01msocket\u001b[39;00m\n\u001b[0;32m      2\u001b[0m IP \u001b[38;5;241m=\u001b[39m socket\u001b[38;5;241m.\u001b[39mgethostbyname\n\u001b[1;32m----> 3\u001b[0m \u001b[38;5;28mprint\u001b[39m(\u001b[38;5;124m\"\u001b[39m\u001b[38;5;124mYour Computer IP Address is:\u001b[39m\u001b[38;5;124m\"\u001b[39m \u001b[38;5;241m+\u001b[39m \u001b[43mIPAddr\u001b[49m)\n",
      "\u001b[1;31mNameError\u001b[0m: name 'IPAddr' is not defined"
     ]
    }
   ],
   "source": [
    "import socket\n",
    "IP = socket.gethostbyname\n",
    "print(\"Your Computer IP Address is:\" + IPAddr)"
   ]
  },
  {
   "cell_type": "markdown",
   "id": "b4fe6acd",
   "metadata": {},
   "source": [
    "4. Write a function which will shut down your system"
   ]
  },
  {
   "cell_type": "code",
   "execution_count": null,
   "id": "f4b3ad46",
   "metadata": {},
   "outputs": [],
   "source": []
  },
  {
   "cell_type": "markdown",
   "id": "aec25db0",
   "metadata": {},
   "source": [
    "5. write a function which will take input with any kind of numeric value and give an output as multiplication of all the numeric data\n",
    "\n",
    "\n",
    "L = [3.5., 6.56, 4.5 \"sudh\", 'ineuron', 'fsda bootcamp 2,0']"
   ]
  },
  {
   "cell_type": "code",
   "execution_count": 27,
   "id": "29a99d4e",
   "metadata": {},
   "outputs": [
    {
     "data": {
      "text/plain": [
       "-103.32"
      ]
     },
     "execution_count": 27,
     "metadata": {},
     "output_type": "execute_result"
    }
   ],
   "source": [
    "L = [3.5, 6.56, 4.5, \"sudh\", 'ineuron', 'fsda bootcamp 2,0']\n",
    "def multiplication(l):\n",
    "    res = 1\n",
    "    for i in l:\n",
    "        if (i == 0):\n",
    "            res = 0\n",
    "        else:\n",
    "            if (type(i) == int or type(i) == float):\n",
    "                res = res * i\n",
    "    return res\n",
    "multiplication(L)"
   ]
  },
  {
   "cell_type": "markdown",
   "id": "2afa40df",
   "metadata": {},
   "source": [
    "6. write a funtion which will be able to read all the mail"
   ]
  },
  {
   "cell_type": "code",
   "execution_count": null,
   "id": "0f9f6ffd",
   "metadata": {},
   "outputs": [],
   "source": []
  },
  {
   "cell_type": "markdown",
   "id": "65fc1c5a",
   "metadata": {},
   "source": [
    "7. write a funtion which will be able to send a mail to anyone"
   ]
  },
  {
   "cell_type": "code",
   "execution_count": null,
   "id": "a57a09ac",
   "metadata": {},
   "outputs": [],
   "source": []
  },
  {
   "cell_type": "markdown",
   "id": "4d8db0f8",
   "metadata": {},
   "source": [
    "8. write a function which will be able to read a doc/word file from your system\n"
   ]
  },
  {
   "cell_type": "code",
   "execution_count": 11,
   "id": "e049592d",
   "metadata": {},
   "outputs": [
    {
     "ename": "ModuleNotFoundError",
     "evalue": "No module named 'docx2text'",
     "output_type": "error",
     "traceback": [
      "\u001b[1;31m---------------------------------------------------------------------------\u001b[0m",
      "\u001b[1;31mModuleNotFoundError\u001b[0m                       Traceback (most recent call last)",
      "Input \u001b[1;32mIn [11]\u001b[0m, in \u001b[0;36m<cell line: 1>\u001b[1;34m()\u001b[0m\n\u001b[1;32m----> 1\u001b[0m \u001b[38;5;28;01mimport\u001b[39;00m \u001b[38;5;21;01mdocx2text\u001b[39;00m\n",
      "\u001b[1;31mModuleNotFoundError\u001b[0m: No module named 'docx2text'"
     ]
    }
   ],
   "source": [
    "import docx2text"
   ]
  },
  {
   "cell_type": "code",
   "execution_count": 13,
   "id": "49ee9188",
   "metadata": {},
   "outputs": [
    {
     "name": "stdout",
     "output_type": "stream",
     "text": [
      "Collecting docx2txt\n",
      "  Downloading docx2txt-0.8.tar.gz (2.8 kB)\n",
      "Building wheels for collected packages: docx2txt\n",
      "  Building wheel for docx2txt (setup.py): started\n",
      "  Building wheel for docx2txt (setup.py): finished with status 'done'\n",
      "  Created wheel for docx2txt: filename=docx2txt-0.8-py3-none-any.whl size=3984 sha256=3e729cd5f1ff0e71b8b85dad78ea6e12155fe909a0c6ce0b0dce1efe6dde311f\n",
      "  Stored in directory: c:\\users\\my pc\\appdata\\local\\pip\\cache\\wheels\\40\\75\\01\\e6c444034338bde9c7947d3467807f889123465c2371e77418\n",
      "Successfully built docx2txt\n",
      "Installing collected packages: docx2txt\n",
      "Successfully installed docx2txt-0.8\n",
      "Note: you may need to restart the kernel to use updated packages.\n"
     ]
    }
   ],
   "source": [
    "pip install docx2txt"
   ]
  },
  {
   "cell_type": "code",
   "execution_count": 14,
   "id": "e50838d6",
   "metadata": {},
   "outputs": [],
   "source": [
    "import docx2txt"
   ]
  },
  {
   "cell_type": "code",
   "execution_count": null,
   "id": "06c2dc09",
   "metadata": {},
   "outputs": [],
   "source": []
  }
 ],
 "metadata": {
  "kernelspec": {
   "display_name": "Python 3 (ipykernel)",
   "language": "python",
   "name": "python3"
  },
  "language_info": {
   "codemirror_mode": {
    "name": "ipython",
    "version": 3
   },
   "file_extension": ".py",
   "mimetype": "text/x-python",
   "name": "python",
   "nbconvert_exporter": "python",
   "pygments_lexer": "ipython3",
   "version": "3.9.12"
  }
 },
 "nbformat": 4,
 "nbformat_minor": 5
}
