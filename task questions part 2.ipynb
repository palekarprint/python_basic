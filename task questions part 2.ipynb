{
 "cells": [
  {
   "cell_type": "raw",
   "id": "3c0619f5-1793-4874-829a-625b6e12f3fc",
   "metadata": {},
   "source": [
    "Task 1"
   ]
  },
  {
   "cell_type": "raw",
   "id": "d048c7da-1b25-4d94-943f-e1ea1da061fd",
   "metadata": {},
   "source": [
    "s = \"this is My0First Python programming class and i am learNING python string and its function\"\n",
    "1 . Try to extract data from index one to index 300 with a jump of 3 \n",
    "2. Try to reverse a string without using reverse function \n",
    "3. Try to split a string after conversion of entire string in uppercase \n",
    "4. try to convert the whole string into lower case \n",
    "5 . Try to capitalize the whole string \n",
    "6 . Write a diference between isalnum() and isalpha()\n",
    "7. Try to give an example of expand tab\n",
    "8 . Give an example of strip , lstrip and rstrip \n",
    "9.  Replace a string charecter by another charector by taking your own example \n",
    "\"sudhanshu\"\n",
    "10 . Try  to give a defination of string center function with and exmple \n",
    "11 . Write your own definition of compiler and interpretor without copy paste form internet in your own language\n",
    "12 . Python is a interpreted of compiled language give a clear ans with your understanding \n",
    "13 . Try to write a usecase of python with your understanding ."
   ]
  },
  {
   "cell_type": "code",
   "execution_count": 2,
   "id": "a91b91ab-b406-4c3e-a467-017058868e0b",
   "metadata": {},
   "outputs": [
    {
     "data": {
      "text/plain": [
       "'tssyityopgmncsa alrNph rgni ni'"
      ]
     },
     "execution_count": 2,
     "metadata": {},
     "output_type": "execute_result"
    }
   ],
   "source": [
    "#1 . Try to extract data from index one to index 300 with a jump of 3 \n",
    "s = \"this is My First Python programming class and i am learNING python string and its function\"\n",
    "s[0:300:3]"
   ]
  },
  {
   "cell_type": "code",
   "execution_count": 3,
   "id": "e0f5d2ce-5c67-4853-9b65-3cab7f32b9bb",
   "metadata": {},
   "outputs": [
    {
     "data": {
      "text/plain": [
       "'noitcnuf sti dna gnirts nohtyp GNINrael ma i dna ssalc gnimmargorp nohtyP tsriF yM si siht'"
      ]
     },
     "execution_count": 3,
     "metadata": {},
     "output_type": "execute_result"
    }
   ],
   "source": [
    "#2. Try to reverse a string without using reverse function \n",
    "s[::-1]"
   ]
  },
  {
   "cell_type": "code",
   "execution_count": 13,
   "id": "606b10c9-8271-41e7-83c9-6b9062799b65",
   "metadata": {},
   "outputs": [
    {
     "data": {
      "text/plain": [
       "['THIS',\n",
       " 'IS',\n",
       " 'MY',\n",
       " 'FIRST',\n",
       " 'PYTHON',\n",
       " 'PROGRAMMING',\n",
       " 'CLASS',\n",
       " 'AND',\n",
       " 'I',\n",
       " 'AM',\n",
       " 'LEARNING',\n",
       " 'PYTHON',\n",
       " 'STRING',\n",
       " 'AND',\n",
       " 'ITS',\n",
       " 'FUNCTION']"
      ]
     },
     "execution_count": 13,
     "metadata": {},
     "output_type": "execute_result"
    }
   ],
   "source": [
    "#3. Try to split a string after conversion of entire string in uppercase \n",
    "s = \"this is My First Python programming class and i am learNING python string and its function\"\n",
    "l = (s.upper()).split(' ')\n",
    "l"
   ]
  },
  {
   "cell_type": "code",
   "execution_count": 14,
   "id": "e2407af5-a94b-48bd-a729-935e088480d6",
   "metadata": {},
   "outputs": [
    {
     "data": {
      "text/plain": [
       "'this is my first python programming class and i am learning python string and its function'"
      ]
     },
     "execution_count": 14,
     "metadata": {},
     "output_type": "execute_result"
    }
   ],
   "source": [
    "#4. try to convert the whole string into lower case \n",
    "s.lower()"
   ]
  },
  {
   "cell_type": "code",
   "execution_count": 15,
   "id": "3baacc6b-e3b0-4c59-ba2f-42202c5505ad",
   "metadata": {},
   "outputs": [
    {
     "data": {
      "text/plain": [
       "'This is my first python programming class and i am learning python string and its function'"
      ]
     },
     "execution_count": 15,
     "metadata": {},
     "output_type": "execute_result"
    }
   ],
   "source": [
    "#5 . Try to capitalize the whole string \n",
    "s.capitalize()"
   ]
  },
  {
   "cell_type": "raw",
   "id": "9cbb13d9-0210-4718-ae73-1c6ee14a3e68",
   "metadata": {},
   "source": [
    "#6 . Write a diference between isalnum() and isalpha()\n",
    "Ans : isalnum() function returns the boolean values true or false. It return true if string is combination of alphabets and number. it also return true if string contains only numbers which are considered as char. if string consist of special charectot it returns false\n",
    " isalpha() \n",
    "\n",
    "s.isalnum() function returns the boolean values true or false. It return true only if string is combination of alphabets, otherwise false"
   ]
  },
  {
   "cell_type": "code",
   "execution_count": 33,
   "id": "adfa0d1e-4450-4e86-bb05-e3d060176624",
   "metadata": {},
   "outputs": [
    {
     "data": {
      "text/plain": [
       "True"
      ]
     },
     "execution_count": 33,
     "metadata": {},
     "output_type": "execute_result"
    }
   ],
   "source": [
    "p = '123'\n",
    "p.isalnum()"
   ]
  },
  {
   "cell_type": "code",
   "execution_count": 32,
   "id": "9a85aff1-4d94-4031-8be1-ad65fe1e807b",
   "metadata": {},
   "outputs": [
    {
     "data": {
      "text/plain": [
       "False"
      ]
     },
     "execution_count": 32,
     "metadata": {},
     "output_type": "execute_result"
    }
   ],
   "source": [
    "p = 'abac%'\n",
    "p.isalpha()"
   ]
  },
  {
   "cell_type": "code",
   "execution_count": 34,
   "id": "274175e0-15ec-4807-986e-9350f7aaf4f8",
   "metadata": {},
   "outputs": [
    {
     "data": {
      "text/plain": [
       "'ineuron i       code    write'"
      ]
     },
     "execution_count": 34,
     "metadata": {},
     "output_type": "execute_result"
    }
   ],
   "source": [
    "#7. Try to give an example of expand tab\n",
    "m = 'ineuron\\ti\\tcode\\twrite'\n",
    "m.expandtabs() #expandtab() expands the the tab \\t code available in string"
   ]
  },
  {
   "cell_type": "code",
   "execution_count": 50,
   "id": "f90f27d7-ecb6-40a0-a4c6-e4097dcaa5e6",
   "metadata": {},
   "outputs": [
    {
     "data": {
      "text/plain": [
       "'vikas   palekar'"
      ]
     },
     "execution_count": 50,
     "metadata": {},
     "output_type": "execute_result"
    }
   ],
   "source": [
    "#8 . Give an example of strip , lstrip and rstrip \n",
    "\n",
    "#strip() removes all white spaces from the front and end of sting.\n",
    "#ltrip() removes all white spaces only from the front sting.\n",
    "#strip() removes all white spaces only from the end of sting.\n",
    "\n",
    "s1 = '   vikas   palekar   '\n",
    "s1.strip()"
   ]
  },
  {
   "cell_type": "code",
   "execution_count": 48,
   "id": "ba9c0cc1-5a4c-46dc-ac76-aed1ff710f78",
   "metadata": {},
   "outputs": [
    {
     "data": {
      "text/plain": [
       "'vikas   palekar   '"
      ]
     },
     "execution_count": 48,
     "metadata": {},
     "output_type": "execute_result"
    }
   ],
   "source": [
    "s1.lstrip()"
   ]
  },
  {
   "cell_type": "code",
   "execution_count": 49,
   "id": "66393209-0b5f-40f7-a347-8c3109928153",
   "metadata": {},
   "outputs": [
    {
     "data": {
      "text/plain": [
       "'   vikas   palekar'"
      ]
     },
     "execution_count": 49,
     "metadata": {},
     "output_type": "execute_result"
    }
   ],
   "source": [
    "s1.rstrip()"
   ]
  },
  {
   "cell_type": "code",
   "execution_count": 54,
   "id": "fa7d0df2-62e2-4cef-b350-3ef4e53549fa",
   "metadata": {},
   "outputs": [
    {
     "data": {
      "text/plain": [
       "'Vikas'"
      ]
     },
     "execution_count": 54,
     "metadata": {},
     "output_type": "execute_result"
    }
   ],
   "source": [
    "#9.  Replace a string charecter by another charector by taking your own example \n",
    "s = \"vikas\"\n",
    "s.replace('v', 'V')\n"
   ]
  },
  {
   "cell_type": "code",
   "execution_count": 55,
   "id": "7a3af189-eb5a-4966-af05-3f912cf38fc0",
   "metadata": {},
   "outputs": [
    {
     "data": {
      "text/plain": [
       "'vikaS'"
      ]
     },
     "execution_count": 55,
     "metadata": {},
     "output_type": "execute_result"
    }
   ],
   "source": [
    "s.replace('s', 'S')"
   ]
  },
  {
   "cell_type": "code",
   "execution_count": 59,
   "id": "a7447771-0ad9-4268-b65a-fafe8bb635e6",
   "metadata": {},
   "outputs": [
    {
     "data": {
      "text/plain": [
       "'       Vikas        '"
      ]
     },
     "execution_count": 59,
     "metadata": {},
     "output_type": "execute_result"
    }
   ],
   "source": [
    "#10 . Try  to give a defination of string center function with and exmple \n",
    "# Ans : The center() method will center align the string, using a specified character (space is default) as the fill character.\n",
    "# syntax is string.center(length, character)\n",
    "\n",
    "\n",
    "s = 'Vikas'\n",
    "s.center(20)"
   ]
  },
  {
   "cell_type": "code",
   "execution_count": 60,
   "id": "7ec06156-3ee3-4d23-90d7-b3916aa47b0f",
   "metadata": {},
   "outputs": [
    {
     "data": {
      "text/plain": [
       "'%%%%%%%Vikas%%%%%%%%'"
      ]
     },
     "execution_count": 60,
     "metadata": {},
     "output_type": "execute_result"
    }
   ],
   "source": [
    "s.center(20, '%')"
   ]
  },
  {
   "cell_type": "raw",
   "id": "0faa0a2e-9d08-48c3-9fb4-eee9474e9e68",
   "metadata": {},
   "source": [
    "#11 . Write your own definition of compiler and interpretor without copy paste form internet in your own language\n",
    "\n",
    "Ans : Compiler is the program which is used to take high level language code and input and convert into machine readable code i.e object code or machile lavel code.\n",
    "there are various stages of compilation process. Interpretor program is the part of compilation proceess to inderstand the instuction.\n",
    "\n",
    "Interpreter is the program used to understand the context of instruction (action to be done). Interpreter is line by line process."
   ]
  },
  {
   "cell_type": "code",
   "execution_count": null,
   "id": "3fd12d6d-c298-4553-b2a8-304b1c31daf3",
   "metadata": {},
   "outputs": [],
   "source": []
  },
  {
   "cell_type": "raw",
   "id": "07c95b8f-af77-46de-8d54-008ff38fac12",
   "metadata": {},
   "source": [
    "Task 2"
   ]
  },
  {
   "cell_type": "raw",
   "id": "0e251093-15b3-4cae-906b-e6cfcb8d2829",
   "metadata": {},
   "source": [
    "l = [3,4,5,6,7 , [23,456,67,8,78,78] , [345,56,87,8,98,9] , (234,6657,6) , {\"key1\" :\"sudh\" , 234:[23,45,656]}]\n",
    "1 . Try to reverse a list \n",
    "2. try to access 234 out of this list \n",
    "3 . try to access 456 \n",
    "4 . Try to extract only a list collection form list l \n",
    "5 . Try to extract \"sudh\"\n",
    "6 . Try to list all the key in dict element avaible in list \n",
    "7 . Try to extract all the value element form dict available in list"
   ]
  },
  {
   "cell_type": "code",
   "execution_count": 61,
   "id": "bdd2adef-837d-4ac0-8466-c25242dafde8",
   "metadata": {},
   "outputs": [],
   "source": [
    "l = [3,4,5,6,7 , [23,456,67,8,78,78] , [345,56,87,8,98,9] , (234,6657,6) , {\"key1\" :\"sudh\" , 234:[23,45,656]}]"
   ]
  },
  {
   "cell_type": "code",
   "execution_count": 62,
   "id": "a74fdefd-cdd4-4ee9-9d83-704c3d336fa6",
   "metadata": {},
   "outputs": [
    {
     "data": {
      "text/plain": [
       "[{'key1': 'sudh', 234: [23, 45, 656]},\n",
       " (234, 6657, 6),\n",
       " [345, 56, 87, 8, 98, 9],\n",
       " [23, 456, 67, 8, 78, 78],\n",
       " 7,\n",
       " 6,\n",
       " 5,\n",
       " 4,\n",
       " 3]"
      ]
     },
     "execution_count": 62,
     "metadata": {},
     "output_type": "execute_result"
    }
   ],
   "source": [
    "#1 . Try to reverse a list \n",
    "l[::-1]"
   ]
  },
  {
   "cell_type": "code",
   "execution_count": 63,
   "id": "13119c9a-431b-4b83-844f-c0c5e89726ab",
   "metadata": {},
   "outputs": [
    {
     "data": {
      "text/plain": [
       "234"
      ]
     },
     "execution_count": 63,
     "metadata": {},
     "output_type": "execute_result"
    }
   ],
   "source": [
    "#2. try to access 234 out of this list \n",
    "l[7][0]"
   ]
  },
  {
   "cell_type": "code",
   "execution_count": 68,
   "id": "ab044b56-1318-4e71-88aa-4b0c19f252cf",
   "metadata": {},
   "outputs": [
    {
     "data": {
      "text/plain": [
       "{'key1': 'sudh', 234: [23, 45, 656]}"
      ]
     },
     "execution_count": 68,
     "metadata": {},
     "output_type": "execute_result"
    }
   ],
   "source": [
    "l[8]"
   ]
  },
  {
   "cell_type": "code",
   "execution_count": 69,
   "id": "5984d25f-d3c0-4868-a6c9-b43d5f0cfc91",
   "metadata": {},
   "outputs": [
    {
     "data": {
      "text/plain": [
       "dict_keys(['key1', 234])"
      ]
     },
     "execution_count": 69,
     "metadata": {},
     "output_type": "execute_result"
    }
   ],
   "source": [
    "l[8].keys()"
   ]
  },
  {
   "cell_type": "code",
   "execution_count": 72,
   "id": "60983602-45b7-4c1f-96e9-41d4583907a6",
   "metadata": {},
   "outputs": [
    {
     "data": {
      "text/plain": [
       "234"
      ]
     },
     "execution_count": 72,
     "metadata": {},
     "output_type": "execute_result"
    }
   ],
   "source": [
    "list(l[8].keys())[1]"
   ]
  },
  {
   "cell_type": "code",
   "execution_count": 64,
   "id": "ee221742-7abd-4112-8a7e-61ce7808755d",
   "metadata": {},
   "outputs": [
    {
     "data": {
      "text/plain": [
       "456"
      ]
     },
     "execution_count": 64,
     "metadata": {},
     "output_type": "execute_result"
    }
   ],
   "source": [
    "#3 . try to access 456\n",
    "l[5][1]"
   ]
  },
  {
   "cell_type": "code",
   "execution_count": 65,
   "id": "c3435be1-c69a-4568-9085-b76aecca9dc6",
   "metadata": {},
   "outputs": [
    {
     "data": {
      "text/plain": [
       "[3, 4, 5, 6, 7, [23, 456, 67, 8, 78, 78], [345, 56, 87, 8, 98, 9]]"
      ]
     },
     "execution_count": 65,
     "metadata": {},
     "output_type": "execute_result"
    }
   ],
   "source": [
    "#4 . Try to extract only a list collection form list l \n",
    "list_collection = l[0:7]\n",
    "list_collection"
   ]
  },
  {
   "cell_type": "code",
   "execution_count": 88,
   "id": "e1515860-a435-4345-9dfb-377442f3c485",
   "metadata": {},
   "outputs": [
    {
     "data": {
      "text/plain": [
       "[[23, 456, 67, 8, 78, 78], [345, 56, 87, 8, 98, 9]]"
      ]
     },
     "execution_count": 88,
     "metadata": {},
     "output_type": "execute_result"
    }
   ],
   "source": [
    "l = [3,4,5,6,7 , [23,456,67,8,78,78] , [345,56,87,8,98,9] , (234,6657,6) , {\"key1\" :\"sudh\" , 234:[23,45,656]}]\n",
    "ls = []\n",
    "for i in range(len(l)):\n",
    "    if (type(l[i]) == list) :\n",
    "        ls.append(l[i])\n",
    "\n",
    "ls"
   ]
  },
  {
   "cell_type": "code",
   "execution_count": 73,
   "id": "701c4ea0-da15-4880-88a8-7c074a82ebbe",
   "metadata": {},
   "outputs": [
    {
     "data": {
      "text/plain": [
       "{'key1': 'sudh', 234: [23, 45, 656]}"
      ]
     },
     "execution_count": 73,
     "metadata": {},
     "output_type": "execute_result"
    }
   ],
   "source": [
    "#5 . Try to extract \"sudh\"\n",
    "l[8]"
   ]
  },
  {
   "cell_type": "code",
   "execution_count": 75,
   "id": "5582b291-c0da-46c1-b09a-0b0708b3f7cb",
   "metadata": {},
   "outputs": [
    {
     "data": {
      "text/plain": [
       "'sudh'"
      ]
     },
     "execution_count": 75,
     "metadata": {},
     "output_type": "execute_result"
    }
   ],
   "source": [
    "list(l[8].values())[0]"
   ]
  },
  {
   "cell_type": "code",
   "execution_count": 78,
   "id": "360e3974-657f-42f5-815e-f02ed0d1f4a5",
   "metadata": {},
   "outputs": [
    {
     "data": {
      "text/plain": [
       "['key1', 234]"
      ]
     },
     "execution_count": 78,
     "metadata": {},
     "output_type": "execute_result"
    }
   ],
   "source": [
    "#6 . Try to list all the key in dict element avaible in list \n",
    "list(l[8].keys())"
   ]
  },
  {
   "cell_type": "code",
   "execution_count": 80,
   "id": "ea1cbad5-b8da-4c7c-a17b-71a1530646ed",
   "metadata": {},
   "outputs": [
    {
     "data": {
      "text/plain": [
       "['sudh', [23, 45, 656]]"
      ]
     },
     "execution_count": 80,
     "metadata": {},
     "output_type": "execute_result"
    }
   ],
   "source": [
    "#7 . Try to extract all the value element form dict available in list\n",
    "list(l[8].values())"
   ]
  },
  {
   "cell_type": "code",
   "execution_count": null,
   "id": "907a8e16-dc7c-442d-b3c7-252146c730da",
   "metadata": {},
   "outputs": [],
   "source": []
  },
  {
   "cell_type": "raw",
   "id": "c69012da-c17c-4d51-aa90-2821883fda73",
   "metadata": {},
   "source": [
    "Task 3"
   ]
  },
  {
   "cell_type": "raw",
   "id": "df924ef0-ac76-4f10-8020-8fb81e338c0f",
   "metadata": {},
   "source": [
    "q1 :\n",
    "ineruon \n",
    "ineruon ineruon \n",
    "ineruon ineruon ineruon\n",
    "ineruon ineruon ineruon ineruon\n",
    "\n",
    "q2 - \n",
    "\n",
    "          ineruon\n",
    "    ineruon      ineruon\n",
    "ineruon\t\tineruon \tineruon\n",
    "\tineruon\t\t ineruon\n",
    "\t\t  ineruon\n",
    "\n",
    "l = [[1,2,3,4] , (2,3,4,5,6) , (3,4,5,6,7) , set([23,4,5,45,4,4,5,45,45,4,5]) , {'k1' :\"sudh\" , \"k2\" : \"ineuron\",\"k3\":\n",
    "            \"kumar\" , 3:6 , 7:8} , [\"ineuron\" , \"data science \"]]\n",
    "\n",
    "q3 : Try to extract all the list entity \n",
    "q4 : Try to extract all the dict enteties\n",
    "q5 : Try to extract all the tuples entities\n",
    "q6 : Try to extract all the numerical data it may b a part of dict key and values \n",
    "q7 : Try to give summation of all the numeric data \n",
    "q8 : Try to filter out all the odd values out all numeric data which is a part of a list \n",
    "q9 : Try to extract \"ineruon\" out of this data\n",
    "q10 : Try to find out a number of occurances of all the data \n",
    "q11 : Try to find out number of keys in dict element\n",
    "q12 : Try to filter out all the string data \n",
    "q13 : Try to Find  out alphanum in data\n",
    "q14 : Try to find out multiplication of all numeric value in the individual collection inside dataset"
   ]
  },
  {
   "cell_type": "raw",
   "id": "a59fb022-98c3-46c2-b5b0-1af151e8ea0e",
   "metadata": {},
   "source": [
    "q1 :\n",
    "ineruon \n",
    "ineruon ineruon \n",
    "ineruon ineruon ineruon\n",
    "ineruon ineruon ineruon ineruon"
   ]
  },
  {
   "cell_type": "code",
   "execution_count": 93,
   "id": "4fd5caaa-d95e-4bb9-8cae-15f994c81a39",
   "metadata": {},
   "outputs": [
    {
     "name": "stdout",
     "output_type": "stream",
     "text": [
      "ineruon \n",
      "ineruon ineruon \n",
      "ineruon ineruon ineruon \n",
      "ineruon ineruon ineruon ineruon \n"
     ]
    }
   ],
   "source": [
    "str = 'ineruon '\n",
    "for i in range(1, 5):\n",
    "    print(str*i)"
   ]
  },
  {
   "cell_type": "code",
   "execution_count": 97,
   "id": "829cb679-b48d-4761-bdcb-4724c5707e6a",
   "metadata": {},
   "outputs": [
    {
     "name": "stdout",
     "output_type": "stream",
     "text": [
      "\n",
      "\n",
      "ineruon \n",
      "\n",
      "ineruon ineruon \n",
      "\n",
      "ineruon ineruon ineruon \n",
      "\n",
      "ineruon ineruon ineruon ineruon \n",
      "\n"
     ]
    }
   ],
   "source": [
    "str = 'ineruon'\n",
    "for i in range(5):\n",
    "    for j in range(i):\n",
    "        print('ineruon', end=' ')\n",
    "    print(\"\\n\")"
   ]
  },
  {
   "cell_type": "raw",
   "id": "ae13371f-8f9a-44c8-a24e-d8a39dd93107",
   "metadata": {},
   "source": [
    "q2 - \n",
    "\n",
    "          ineruon\n",
    "    ineruon      ineruon\n",
    "ineruon\t\tineruon \tineruon\n",
    "\tineruon\t\t ineruon\n",
    "\t\t  ineruon"
   ]
  },
  {
   "cell_type": "code",
   "execution_count": 127,
   "id": "53aac159-3bda-4097-8f78-d265945508a0",
   "metadata": {},
   "outputs": [
    {
     "name": "stdout",
     "output_type": "stream",
     "text": [
      "                                 \n",
      "           ineruon               \n",
      "      ineruon    ineruon         \n",
      "ineruon    ineruon    ineruon    \n",
      "      ineruon    ineruon         \n",
      "           ineruon               \n"
     ]
    }
   ],
   "source": [
    "str = 'ineruon    '\n",
    "for i in range(4):\n",
    "    str1 = str*i\n",
    "    str2 = str1.center(33)\n",
    "    print(str2)\n",
    "for j in range(1,3):\n",
    "    str1 = str*(i-j)\n",
    "    str2 = str1.center(33)\n",
    "    print(str2)"
   ]
  },
  {
   "cell_type": "code",
   "execution_count": 121,
   "id": "59ba631a-33a6-475b-8e21-dd6ec72d8c7b",
   "metadata": {},
   "outputs": [
    {
     "data": {
      "text/plain": [
       "33"
      ]
     },
     "execution_count": 121,
     "metadata": {},
     "output_type": "execute_result"
    }
   ],
   "source": [
    "len(str*3)"
   ]
  },
  {
   "cell_type": "code",
   "execution_count": null,
   "id": "f2deb0d0-2e12-4e1c-ad71-f30e1d307311",
   "metadata": {},
   "outputs": [],
   "source": [
    "l = [[1,2,3,4] , (2,3,4,5,6) , (3,4,5,6,7) , set([23,4,5,45,4,4,5,45,45,4,5]) , {'k1' :\"sudh\" , \"k2\" : \"ineuron\",\"k3\":\n",
    "            \"kumar\" , 3:6 , 7:8} , [\"ineuron\" , \"data science \"]]\n",
    "\n",
    "q3 : Try to extract all the list entity \n",
    "q4 : Try to extract all the dict enteties\n",
    "q5 : Try to extract all the tuples entities\n",
    "q6 : Try to extract all the numerical data it may b a part of dict key and values \n",
    "q7 : Try to give summation of all the numeric data \n",
    "q8 : Try to filter out all the odd values out all numeric data which is a part of a list \n",
    "q9 : Try to extract \"ineruon\" out of this data\n",
    "q10 : Try to find out a number of occurances of all the data \n",
    "q11 : Try to find out number of keys in dict element\n",
    "q12 : Try to filter out all the string data \n",
    "q13 : Try to Find  out alphanum in data\n",
    "q14 : Try to find out multiplication of all numeric value in the individual collection inside dataset"
   ]
  },
  {
   "cell_type": "code",
   "execution_count": 128,
   "id": "344a0d8c-3151-42de-b20e-0e08e0a7d707",
   "metadata": {},
   "outputs": [],
   "source": [
    "l = [[1,2,3,4] , (2,3,4,5,6) , (3,4,5,6,7) , set([23,4,5,45,4,4,5,45,45,4,5]) , {'k1' :\"sudh\" , \"k2\" : \"ineuron\",\"k3\":\n",
    "            \"kumar\" , 3:6 , 7:8} , [\"ineuron\" , \"data science \"]]"
   ]
  },
  {
   "cell_type": "code",
   "execution_count": 129,
   "id": "5719a19a-c559-4635-8137-1940de548de4",
   "metadata": {},
   "outputs": [
    {
     "name": "stdout",
     "output_type": "stream",
     "text": [
      "[[1, 2, 3, 4], ['ineuron', 'data science ']]\n"
     ]
    }
   ],
   "source": [
    "#q3 : Try to extract all the list entity \n",
    "ls = []\n",
    "for i in range(len(l)):\n",
    "    if(type(l[i]) == list):\n",
    "        ls.append(l[i])\n",
    "\n",
    "print(ls)"
   ]
  },
  {
   "cell_type": "code",
   "execution_count": 130,
   "id": "abb27172-6263-4f74-8596-56540da317f8",
   "metadata": {},
   "outputs": [
    {
     "name": "stdout",
     "output_type": "stream",
     "text": [
      "[{'k1': 'sudh', 'k2': 'ineuron', 'k3': 'kumar', 3: 6, 7: 8}]\n"
     ]
    }
   ],
   "source": [
    "#q4 : Try to extract all the dict enteties\n",
    "dic = []\n",
    "for i in range(len(l)):\n",
    "    if(type(l[i]) == dict):\n",
    "        dic.append(l[i])\n",
    "\n",
    "print(dic)"
   ]
  },
  {
   "cell_type": "code",
   "execution_count": 132,
   "id": "2a28b0e9-1aee-4db8-bcf2-adbd5d07cabd",
   "metadata": {},
   "outputs": [
    {
     "name": "stdout",
     "output_type": "stream",
     "text": [
      "[(2, 3, 4, 5, 6), (3, 4, 5, 6, 7)]\n"
     ]
    }
   ],
   "source": [
    "#q5 : Try to extract all the tuples entities\n",
    "tup = []\n",
    "for i in range(len(l)):\n",
    "    if(type(l[i]) == tuple):\n",
    "        tup.append(l[i])\n",
    "\n",
    "print(tup)"
   ]
  },
  {
   "cell_type": "code",
   "execution_count": 67,
   "id": "ea84d5f1-7a84-4805-bce2-1c45aeef8b1a",
   "metadata": {},
   "outputs": [
    {
     "name": "stdout",
     "output_type": "stream",
     "text": [
      "[1, 2, 3, 4, 2, 3, 4, 5, 6, 3, 4, 5, 6, 7, 45, 4, 5, 23, 3, 7, 6, 8]\n"
     ]
    }
   ],
   "source": [
    "#q6 Try to extract all the numerical data it may b a part of dict key and values \n",
    "l = [[1,2,3,4] , (2,3,4,5,6) , (3,4,5,6,7) , set([23,4,5,45,4,4,5,45,45,4,5]) , {'k1' :\"sudh\" , \"k2\" : \"ineuron\",\"k3\":\n",
    "            \"kumar\" , 3:6 , 7:8} , [\"ineuron\" , \"data science \"]]\n",
    "ext_num = []\n",
    "for i in l:\n",
    "    if(type(i) == list or type(i) == tuple ):\n",
    "        for j in range(len(i)):\n",
    "            if (type(i[j]) == int):\n",
    "                ext_num.append(i[j])\n",
    "    if(type(i) == set):\n",
    "        set_lst = list(i)\n",
    "        for k in range(len(set_lst)):\n",
    "            if (type(set_lst[k]) == int):\n",
    "                ext_num.append(set_lst[k])\n",
    "    if(type(i) == dict):\n",
    "        key = list(i.keys())\n",
    "        for m in range(len(key)):\n",
    "            if (type(key[m]) == int):\n",
    "                ext_num.append(key[m])\n",
    "        val = list(i.values())\n",
    "        for n in range(len(val)):\n",
    "            if (type(val[n]) == int):\n",
    "                ext_num.append(val[n])\n",
    "                \n",
    "print(ext_num)"
   ]
  },
  {
   "cell_type": "code",
   "execution_count": 43,
   "id": "09607bff-6eec-40d4-86d0-046f7de41eab",
   "metadata": {},
   "outputs": [
    {
     "name": "stdout",
     "output_type": "stream",
     "text": [
      "156\n"
     ]
    }
   ],
   "source": [
    "#q7 : Try to give summation of all the numeric data \n",
    "print(sum(ext_num))"
   ]
  },
  {
   "cell_type": "code",
   "execution_count": 44,
   "id": "d11d6528-fa0f-463b-ad66-c8eba56d06d2",
   "metadata": {},
   "outputs": [
    {
     "name": "stdout",
     "output_type": "stream",
     "text": [
      "[1, 3, 3, 5, 3, 5, 7, 45, 5, 23, 3, 7]\n",
      "[2, 4, 2, 4, 6, 4, 6, 4, 6, 8]\n"
     ]
    }
   ],
   "source": [
    "#q8 : Try to filter out all the odd values out all numeric data which is a part of a list\n",
    "odd_ext_num = []\n",
    "even_ext_num = []\n",
    "for i in ext_num:\n",
    "    if i % 2 == 0:\n",
    "        even_ext_num.append(i)\n",
    "    else:\n",
    "        odd_ext_num.append(i)\n",
    "print(odd_ext_num)\n",
    "print(even_ext_num)\n",
    "        "
   ]
  },
  {
   "cell_type": "code",
   "execution_count": 45,
   "id": "c28b1e73-3270-4a50-975f-5a5c96a7e152",
   "metadata": {},
   "outputs": [
    {
     "data": {
      "text/plain": [
       "'ineuron'"
      ]
     },
     "execution_count": 45,
     "metadata": {},
     "output_type": "execute_result"
    }
   ],
   "source": [
    "#q9 : Try to extract \"ineruon\" out of this data\n",
    "l[5][0]"
   ]
  },
  {
   "cell_type": "code",
   "execution_count": 54,
   "id": "38fe4aa7-f405-4ce8-9d31-a78ec139e409",
   "metadata": {},
   "outputs": [
    {
     "name": "stdout",
     "output_type": "stream",
     "text": [
      "1 occure 1 times\n",
      "2 occure 2 times\n",
      "3 occure 4 times\n",
      "4 occure 4 times\n",
      "2 occure 2 times\n",
      "3 occure 4 times\n",
      "4 occure 4 times\n",
      "5 occure 3 times\n",
      "6 occure 3 times\n",
      "3 occure 4 times\n",
      "4 occure 4 times\n",
      "5 occure 3 times\n",
      "6 occure 3 times\n",
      "7 occure 2 times\n",
      "45 occure 1 times\n",
      "4 occure 4 times\n",
      "5 occure 3 times\n",
      "23 occure 1 times\n",
      "3 occure 4 times\n",
      "7 occure 2 times\n",
      "6 occure 3 times\n",
      "8 occure 1 times\n"
     ]
    }
   ],
   "source": [
    "#10 : Try to find out a number of occurances of all the data\n",
    "for i in ext_num:\n",
    "    print(f'{i} occure {ext_num.count(i)} times')\n",
    "\n"
   ]
  },
  {
   "cell_type": "code",
   "execution_count": 57,
   "id": "bcdca3b7-70c3-47da-962d-feabdcdd1bc1",
   "metadata": {},
   "outputs": [
    {
     "name": "stdout",
     "output_type": "stream",
     "text": [
      "5\n"
     ]
    }
   ],
   "source": [
    "#q11 : Try to find out number of keys in dict element\n",
    "l = [[1,2,3,4] , (2,3,4,5,6) , (3,4,5,6,7) , set([23,4,5,45,4,4,5,45,45,4,5]) , {'k1' :\"sudh\" , \"k2\" : \"ineuron\",\"k3\":\n",
    "            \"kumar\" , 3:6 , 7:8} , [\"ineuron\" , \"data science \"]]\n",
    "for i in l:\n",
    "    if(type(i) == dict):\n",
    "        key = list(i.keys())\n",
    "        print(len(key))\n",
    "    "
   ]
  },
  {
   "cell_type": "code",
   "execution_count": 61,
   "id": "438be444-dfca-46c1-9c22-929c1176554a",
   "metadata": {},
   "outputs": [
    {
     "name": "stdout",
     "output_type": "stream",
     "text": [
      "['k1', 'k2', 'k3', 'sudh', 'ineuron', 'kumar']\n"
     ]
    }
   ],
   "source": [
    "#q12 : Try to filter out all the string data\n",
    "ext_str = []\n",
    "for i in l:\n",
    "    if(type(i) == str or type(i) == str ):\n",
    "        for j in range(len(i)):\n",
    "            if (type(i[j]) == str):\n",
    "                ext_str.append(i[j])\n",
    "    if(type(i) == set):\n",
    "        set_lst = list(i)\n",
    "        for k in range(len(set_lst)):\n",
    "            if (type(set_lst[k]) == str):\n",
    "                ext_str.append(set_lst[k])\n",
    "    if(type(i) == dict):\n",
    "        key = list(i.keys())\n",
    "        for m in range(len(key)):\n",
    "            if (type(key[m]) == str):\n",
    "                ext_str.append(key[m])\n",
    "        val = list(i.values())\n",
    "        for n in range(len(val)):\n",
    "            if (type(val[n]) == str):\n",
    "                ext_str.append(val[n])\n",
    "                \n",
    "print(ext_str)\n"
   ]
  },
  {
   "cell_type": "code",
   "execution_count": 62,
   "id": "a39ccb0b-a761-408e-ba80-54fa1d8c87d9",
   "metadata": {},
   "outputs": [
    {
     "name": "stdout",
     "output_type": "stream",
     "text": [
      "['k1', 'k2', 'k3', 'sudh', 'ineuron', 'kumar']\n"
     ]
    }
   ],
   "source": [
    "#q13 : Try to Find  out alphanum in data\n",
    "ap_num = []\n",
    "for i in ext_str:\n",
    "    if (i.isalnum()):\n",
    "        ap_num.append(i)\n",
    "print(ap_num)"
   ]
  },
  {
   "cell_type": "code",
   "execution_count": 69,
   "id": "c17f4221-8ee0-4bd7-b321-c8076dd18857",
   "metadata": {},
   "outputs": [
    {
     "name": "stdout",
     "output_type": "stream",
     "text": [
      "908605071360000\n"
     ]
    }
   ],
   "source": [
    "#q14 : Try to find out multiplication of all numeric value in the individual collection inside dataset\n",
    "prod = 1\n",
    "for i in ext_num:\n",
    "    prod = prod * i\n",
    "print(prod)"
   ]
  },
  {
   "cell_type": "raw",
   "id": "9f511c8f-c8d3-4f88-8112-1e92c8aa1105",
   "metadata": {},
   "source": [
    "Task 4"
   ]
  },
  {
   "cell_type": "raw",
   "id": "19a98172-eac2-49d6-9584-4dd6f8090d95",
   "metadata": {},
   "source": [
    "q1 : Try to print this by using while loop \n",
    "* \n",
    "* * \n",
    "* * * \n",
    "* * * * \n",
    "* * * * * \n",
    "* * * * * * \n",
    "* * * * * * * \n",
    "* * * * * * * * \n",
    "* * * * * * * * * \n",
    "\n",
    "q2 : try to print below by using while loop : \n",
    "        \n",
    "A\n",
    "B H \n",
    "C I N\n",
    "D J o S\n",
    "E K p T W\n",
    "F L Q U X z\n",
    "G M R V Y \n",
    "\n",
    "q3 : Try to print all the number divisible by 3 in between a range of 40 - 400\n",
    "    \n",
    "q4 : Try to filter out all the vowels form below text by using while loop : \n",
    " \"\"\"Python is a high-level, interpreted, general-purpose programming language. Its design philosophy emphasizes code readability with the use of significant indentation.[32]\n",
    "\n",
    "Python is dynamically-typed and garbage-collected. It supports multiple programming paradigms, including structured (particularly procedural), object-oriented and functional programming. It is often described as a \"batteries included\" language due to its comprehensive standard library.[33][34]\n",
    "\n",
    "Guido van Rossum began working on Python in the late 1980s as a successor to the ABC programming language and first released it in 1991 as Python 0.9.0.[35] Python 2.0 was released in 2000 and introduced new features such as list comprehensions, cycle-detecting garbage collection, reference counting, and Unicode support. Python 3.0, released in 2008, was a major revision that is not completely backward-compatible with earlier versions. Python 2 was discontinued with version 2.7.18 in 2020.[36]\n",
    "\n",
    "Python consistently ranks as one of the most popular programming languagesc\"\"\" \n",
    "\n",
    "\n",
    "q5 : Try to generate all the even number between 1- 1000\n",
    "\n",
    "q6 : Define a function for all the above problem statememnt  . \n",
    "    \n",
    "q7 : write a code to get a time of your system \n",
    "\n",
    "q8 : Write a code to fetch date form your system \n",
    "\n",
    "q9 : Write a code to send a mail to your friend \n",
    "\n",
    "q10 : write a code to trigger alarm for you at scheduled time \n",
    "\n",
    "q11 : write a code to check ip address of your system \n",
    "\n",
    "q12 : Write a code to check a perticular installation in your system\n",
    "\n",
    "q13 : Write a code to convert any text in to voice \n",
    "\n",
    "q14 : you have to write a fun which will take string and return a len of \n",
    "it without using a inbuilt fun len\n",
    "\n",
    "q15 :write a fun which will be able to print an index of all premitive element which you will pass \n",
    "\n",
    "q16 : Write a fun which will take input as a dict and give me out as a list of all the values \n",
    "even in case of 2 level nesting it should work . \n",
    "\n",
    "q17 : write a function whihc will take multiple list as a input and give me concatnation of all the element as \n",
    "and output\n",
    "\n",
    "q18 : Write a function which will whould return list of all the file name from a directory . \n",
    "\n",
    "q19 : write a function whihc will be able to read a image file and show it to you .\n",
    "    \n",
    "q20 : write a function by which you will be able to append two PDF files . \n",
    "    \n",
    "q21 : write a function which can help you to filter only word file from a directory . \n",
    "    \n",
    "q22 : write a function which can read video file and play for you . \n",
    "    \n",
    "q23 : write a function which will be able to shutdonw your system . \n",
    "\n",
    "q24 : Write a function which will whould return list of all the file name from a directory . \n",
    "\n",
    "q25 : write a function whihc will be able to access your mail . "
   ]
  },
  {
   "cell_type": "raw",
   "id": "aff920af-288f-4fc4-b6e7-95edb2bf3b95",
   "metadata": {},
   "source": [
    "q1 : Try to print this by using while loop \n",
    "* \n",
    "* * \n",
    "* * * \n",
    "* * * * \n",
    "* * * * * \n",
    "* * * * * * \n",
    "* * * * * * * \n",
    "* * * * * * * * \n",
    "* * * * * * * * * "
   ]
  },
  {
   "cell_type": "code",
   "execution_count": 81,
   "id": "68ac4fc0-ebe8-4635-ab2c-adcabf271304",
   "metadata": {},
   "outputs": [
    {
     "name": "stdout",
     "output_type": "stream",
     "text": [
      "*  \n",
      "\n",
      "* *  \n",
      "\n",
      "* * *  \n",
      "\n",
      "* * * *  \n",
      "\n",
      "* * * * *  \n",
      "\n",
      "* * * * * *  \n",
      "\n",
      "* * * * * * *  \n",
      "\n",
      "* * * * * * * *  \n",
      "\n"
     ]
    }
   ],
   "source": [
    "i = 1\n",
    "while i < 9:\n",
    "    print('* '*i, end=' ')\n",
    "    print('\\n')\n",
    "    i += 1"
   ]
  },
  {
   "cell_type": "raw",
   "id": "057679d7-3b56-41b0-8175-4275918ca879",
   "metadata": {},
   "source": [
    "q2 : try to print below by using while loop : \n",
    "        \n",
    "A\n",
    "B H \n",
    "C I N\n",
    "D J o S\n",
    "E K p T W\n",
    "F L Q U X z\n",
    "G M R V Y"
   ]
  },
  {
   "cell_type": "code",
   "execution_count": 91,
   "id": "c4129dc4-9236-4689-8e8c-d615a6cf473a",
   "metadata": {},
   "outputs": [
    {
     "name": "stdout",
     "output_type": "stream",
     "text": [
      "G\n",
      "G\n",
      "G\n",
      "G\n",
      "G\n",
      "G\n"
     ]
    }
   ],
   "source": [
    "s = 'ABCDEFGHIJKLMNOPQRSTUVWXYZ'\n",
    "c = 7\n",
    "while(c>1):\n",
    "    print(s[i])\n",
    "    c -= 1\n"
   ]
  },
  {
   "cell_type": "code",
   "execution_count": 92,
   "id": "346bb864-fdfc-41b5-85bc-e10ca047ad69",
   "metadata": {},
   "outputs": [
    {
     "name": "stdout",
     "output_type": "stream",
     "text": [
      "42\n",
      "45\n",
      "48\n",
      "51\n",
      "54\n",
      "57\n",
      "60\n",
      "63\n",
      "66\n",
      "69\n",
      "72\n",
      "75\n",
      "78\n",
      "81\n",
      "84\n",
      "87\n",
      "90\n",
      "93\n",
      "96\n",
      "99\n",
      "102\n",
      "105\n",
      "108\n",
      "111\n",
      "114\n",
      "117\n",
      "120\n",
      "123\n",
      "126\n",
      "129\n",
      "132\n",
      "135\n",
      "138\n",
      "141\n",
      "144\n",
      "147\n",
      "150\n",
      "153\n",
      "156\n",
      "159\n",
      "162\n",
      "165\n",
      "168\n",
      "171\n",
      "174\n",
      "177\n",
      "180\n",
      "183\n",
      "186\n",
      "189\n",
      "192\n",
      "195\n",
      "198\n",
      "201\n",
      "204\n",
      "207\n",
      "210\n",
      "213\n",
      "216\n",
      "219\n",
      "222\n",
      "225\n",
      "228\n",
      "231\n",
      "234\n",
      "237\n",
      "240\n",
      "243\n",
      "246\n",
      "249\n",
      "252\n",
      "255\n",
      "258\n",
      "261\n",
      "264\n",
      "267\n",
      "270\n",
      "273\n",
      "276\n",
      "279\n",
      "282\n",
      "285\n",
      "288\n",
      "291\n",
      "294\n",
      "297\n",
      "300\n",
      "303\n",
      "306\n",
      "309\n",
      "312\n",
      "315\n",
      "318\n",
      "321\n",
      "324\n",
      "327\n",
      "330\n",
      "333\n",
      "336\n",
      "339\n",
      "342\n",
      "345\n",
      "348\n",
      "351\n",
      "354\n",
      "357\n",
      "360\n",
      "363\n",
      "366\n",
      "369\n",
      "372\n",
      "375\n",
      "378\n",
      "381\n",
      "384\n",
      "387\n",
      "390\n",
      "393\n",
      "396\n",
      "399\n"
     ]
    }
   ],
   "source": [
    "#q3 : Try to print all the number divisible by 3 in between a range of 40 - 400\n",
    "\n",
    "for i in range(40, 401):\n",
    "    if i % 3 == 0:\n",
    "        print(i)"
   ]
  },
  {
   "cell_type": "raw",
   "id": "1ecb3d7e-112c-4cf9-9b92-c7eefdcbaf17",
   "metadata": {},
   "source": [
    "#q4 : Try to filter out all the vowels form below text by using while loop : \n",
    " \"\"\"Python is a high-level, interpreted, general-purpose programming language. Its design philosophy emphasizes code readability with the use of significant indentation.[32]"
   ]
  },
  {
   "cell_type": "code",
   "execution_count": null,
   "id": "6cc570fc-062a-4bb2-829c-483bee7cd57c",
   "metadata": {},
   "outputs": [],
   "source": []
  }
 ],
 "metadata": {
  "kernelspec": {
   "display_name": "Python 3 (ipykernel)",
   "language": "python",
   "name": "python3"
  },
  "language_info": {
   "codemirror_mode": {
    "name": "ipython",
    "version": 3
   },
   "file_extension": ".py",
   "mimetype": "text/x-python",
   "name": "python",
   "nbconvert_exporter": "python",
   "pygments_lexer": "ipython3",
   "version": "3.10.6"
  }
 },
 "nbformat": 4,
 "nbformat_minor": 5
}
