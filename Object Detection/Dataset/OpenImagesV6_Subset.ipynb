{
 "cells": [
  {
   "cell_type": "markdown",
   "metadata": {
    "id": "5h7S_U7oj4ur"
   },
   "source": [
    "Creation of a subset of Open Images V6 dataset"
   ]
  },
  {
   "cell_type": "code",
   "execution_count": 6,
   "metadata": {
    "colab": {
     "base_uri": "https://localhost:8080/"
    },
    "executionInfo": {
     "elapsed": 19222,
     "status": "ok",
     "timestamp": 1616342042902,
     "user": {
      "displayName": "G X",
      "photoUrl": "https://lh3.googleusercontent.com/a-/AOh14GiPM3nBcSIAiq4wgSkRDneXZblaI339eFJPGU8gtg=s64",
      "userId": "07430575892639430364"
     },
     "user_tz": -120
    },
    "id": "daebBhh6fNw3",
    "outputId": "e11d38bf-29dc-47b9-ead9-a73f0e3f11a7"
   },
   "outputs": [
    {
     "name": "stdout",
     "output_type": "stream",
     "text": [
      "Mounted at /content/drive\n",
      "/content/drive/MyDrive\n"
     ]
    }
   ],
   "source": [
    "#we will save all the data in drive\n",
    "from google.colab import drive\n",
    "drive.mount('/content/drive')\n",
    "\n",
    "%cd /content/drive/MyDrive/"
   ]
  },
  {
   "cell_type": "code",
   "execution_count": 8,
   "metadata": {
    "colab": {
     "base_uri": "https://localhost:8080/"
    },
    "executionInfo": {
     "elapsed": 512704,
     "status": "ok",
     "timestamp": 1616342579398,
     "user": {
      "displayName": "G X",
      "photoUrl": "https://lh3.googleusercontent.com/a-/AOh14GiPM3nBcSIAiq4wgSkRDneXZblaI339eFJPGU8gtg=s64",
      "userId": "07430575892639430364"
     },
     "user_tz": -120
    },
    "id": "WMwn6lYUb2j1",
    "outputId": "348bbcf6-abda-498d-833b-1eee023f6eba"
   },
   "outputs": [
    {
     "name": "stdout",
     "output_type": "stream",
     "text": [
      "Cloning into 'OIDv4_ToolKit'...\n",
      "remote: Enumerating objects: 444, done.\u001b[K\n",
      "remote: Total 444 (delta 0), reused 0 (delta 0), pack-reused 444\u001b[K\n",
      "Receiving objects: 100% (444/444), 34.09 MiB | 16.13 MiB/s, done.\n",
      "Resolving deltas: 100% (157/157), done.\n",
      "/content/drive/MyDrive/OIDv4_ToolKit\n",
      "Requirement already satisfied: pandas in /usr/local/lib/python3.7/dist-packages (from -r requirements.txt (line 1)) (1.1.5)\n",
      "Requirement already satisfied: numpy in /usr/local/lib/python3.7/dist-packages (from -r requirements.txt (line 2)) (1.19.5)\n",
      "Requirement already satisfied: awscli in /usr/local/lib/python3.7/dist-packages (from -r requirements.txt (line 3)) (1.19.33)\n",
      "Requirement already satisfied: urllib3 in /usr/local/lib/python3.7/dist-packages (from -r requirements.txt (line 4)) (1.24.3)\n",
      "Requirement already satisfied: tqdm in /usr/local/lib/python3.7/dist-packages (from -r requirements.txt (line 5)) (4.41.1)\n",
      "Requirement already satisfied: opencv-python in /usr/local/lib/python3.7/dist-packages (from -r requirements.txt (line 6)) (4.1.2.30)\n",
      "Requirement already satisfied: python-dateutil>=2.7.3 in /usr/local/lib/python3.7/dist-packages (from pandas->-r requirements.txt (line 1)) (2.8.1)\n",
      "Requirement already satisfied: pytz>=2017.2 in /usr/local/lib/python3.7/dist-packages (from pandas->-r requirements.txt (line 1)) (2018.9)\n",
      "Requirement already satisfied: rsa<=4.5.0,>=3.1.2 in /usr/local/lib/python3.7/dist-packages (from awscli->-r requirements.txt (line 3)) (4.5)\n",
      "Requirement already satisfied: PyYAML<5.5,>=3.10 in /usr/local/lib/python3.7/dist-packages (from awscli->-r requirements.txt (line 3)) (3.13)\n",
      "Requirement already satisfied: colorama<0.4.4,>=0.2.5 in /usr/local/lib/python3.7/dist-packages (from awscli->-r requirements.txt (line 3)) (0.4.3)\n",
      "Requirement already satisfied: botocore==1.20.33 in /usr/local/lib/python3.7/dist-packages (from awscli->-r requirements.txt (line 3)) (1.20.33)\n",
      "Requirement already satisfied: s3transfer<0.4.0,>=0.3.0 in /usr/local/lib/python3.7/dist-packages (from awscli->-r requirements.txt (line 3)) (0.3.6)\n",
      "Requirement already satisfied: docutils<0.16,>=0.10 in /usr/local/lib/python3.7/dist-packages (from awscli->-r requirements.txt (line 3)) (0.15.2)\n",
      "Requirement already satisfied: six>=1.5 in /usr/local/lib/python3.7/dist-packages (from python-dateutil>=2.7.3->pandas->-r requirements.txt (line 1)) (1.15.0)\n",
      "Requirement already satisfied: pyasn1>=0.1.3 in /usr/local/lib/python3.7/dist-packages (from rsa<=4.5.0,>=3.1.2->awscli->-r requirements.txt (line 3)) (0.4.8)\n",
      "Requirement already satisfied: jmespath<1.0.0,>=0.7.1 in /usr/local/lib/python3.7/dist-packages (from botocore==1.20.33->awscli->-r requirements.txt (line 3)) (0.10.0)\n",
      "\u001b[92m\n",
      "\t\t   ___   _____  ______            _    _    \n",
      "\t\t .'   `.|_   _||_   _ `.         | |  | |   \n",
      "\t\t/  .-.  \\ | |    | | `. \\ _   __ | |__| |_  \n",
      "\t\t| |   | | | |    | |  | |[ \\ [  ]|____   _| \n",
      "\t\t\\  `-'  /_| |_  _| |_.' / \\ \\/ /     _| |_  \n",
      "\t\t `.___.'|_____||______.'   \\__/     |_____|\n",
      "\t\u001b[0m\n",
      "\u001b[92m\n",
      "             _____                    _                 _             \n",
      "            (____ \\                  | |               | |            \n",
      "             _   \\ \\ ___  _ _ _ ____ | | ___   ____  _ | | ____  ____ \n",
      "            | |   | / _ \\| | | |  _ \\| |/ _ \\ / _  |/ || |/ _  )/ ___)\n",
      "            | |__/ / |_| | | | | | | | | |_| ( ( | ( (_| ( (/ /| |    \n",
      "            |_____/ \\___/ \\____|_| |_|_|\\___/ \\_||_|\\____|\\____)_|    \n",
      "                                                          \n",
      "        \u001b[0m\n",
      "    [INFO] | Downloading ['Horse', 'Cattle', 'Sheep', 'Person'] together.\u001b[0m\n",
      "\u001b[91m   [ERROR] | Missing the class-descriptions-boxable.csv file.\u001b[0m\n",
      "\u001b[94m[DOWNLOAD] | Do you want to download the missing file? [Y/n] \u001b[0mY\n",
      "...145%, 0 MB, 50838 KB/s, 0 seconds passed\n",
      "\u001b[94m[DOWNLOAD] | File class-descriptions-boxable.csv downloaded into OID/csv_folder/class-descriptions-boxable.csv.\u001b[0m\n",
      "\u001b[91m   [ERROR] | Missing the train-annotations-bbox.csv file.\u001b[0m\n",
      "\u001b[94m[DOWNLOAD] | Do you want to download the missing file? [Y/n] \u001b[0mY\n",
      "...100%, 1138 MB, 32154 KB/s, 36 seconds passed\n",
      "\u001b[94m[DOWNLOAD] | File train-annotations-bbox.csv downloaded into OID/csv_folder/train-annotations-bbox.csv.\u001b[0m\n",
      "\n",
      "\u001b[95mHorse\u001b[0m\n",
      "    [INFO] | Downloading train images.\u001b[0m\n",
      "    [INFO] | [INFO] Found 7073 online images for train.\u001b[0m\n",
      "    [INFO] | Limiting to 45 images.\u001b[0m\n",
      "    [INFO] | Download of 45 images in train.\u001b[0m\n",
      "100% 45/45 [00:34<00:00,  1.32it/s]\n",
      "    [INFO] | Done!\u001b[0m\n",
      "    [INFO] | Creating labels for Horse of train.\u001b[0m\n",
      "    [INFO] | Labels creation completed.\u001b[0m\n",
      "\n",
      "\u001b[95mCattle\u001b[0m\n",
      "    [INFO] | Downloading train images.\u001b[0m\n",
      "    [INFO] | [INFO] Found 2916 online images for train.\u001b[0m\n",
      "    [INFO] | Limiting to 45 images.\u001b[0m\n",
      "    [INFO] | Download of 45 images in train.\u001b[0m\n",
      "100% 45/45 [00:33<00:00,  1.33it/s]\n",
      "    [INFO] | Done!\u001b[0m\n",
      "    [INFO] | Creating labels for Cattle of train.\u001b[0m\n",
      "    [INFO] | Labels creation completed.\u001b[0m\n",
      "\n",
      "\u001b[95mSheep\u001b[0m\n",
      "    [INFO] | Downloading train images.\u001b[0m\n",
      "    [INFO] | [INFO] Found 1188 online images for train.\u001b[0m\n",
      "    [INFO] | Limiting to 45 images.\u001b[0m\n",
      "    [INFO] | Download of 45 images in train.\u001b[0m\n",
      "100% 45/45 [00:32<00:00,  1.37it/s]\n",
      "    [INFO] | Done!\u001b[0m\n",
      "    [INFO] | Creating labels for Sheep of train.\u001b[0m\n",
      "    [INFO] | Labels creation completed.\u001b[0m\n",
      "\n",
      "\u001b[95mPerson\u001b[0m\n",
      "    [INFO] | Downloading train images.\u001b[0m\n",
      "    [INFO] | [INFO] Found 248384 online images for train.\u001b[0m\n",
      "    [INFO] | Limiting to 45 images.\u001b[0m\n",
      "    [INFO] | Download of 45 images in train.\u001b[0m\n",
      "100% 45/45 [00:31<00:00,  1.42it/s]\n",
      "    [INFO] | Done!\u001b[0m\n",
      "    [INFO] | Creating labels for Person of train.\u001b[0m\n",
      "    [INFO] | Labels creation completed.\u001b[0m\n",
      "\u001b[92m\n",
      "\t\t   ___   _____  ______            _    _    \n",
      "\t\t .'   `.|_   _||_   _ `.         | |  | |   \n",
      "\t\t/  .-.  \\ | |    | | `. \\ _   __ | |__| |_  \n",
      "\t\t| |   | | | |    | |  | |[ \\ [  ]|____   _| \n",
      "\t\t\\  `-'  /_| |_  _| |_.' / \\ \\/ /     _| |_  \n",
      "\t\t `.___.'|_____||______.'   \\__/     |_____|\n",
      "\t\u001b[0m\n",
      "\u001b[92m\n",
      "             _____                    _                 _             \n",
      "            (____ \\                  | |               | |            \n",
      "             _   \\ \\ ___  _ _ _ ____ | | ___   ____  _ | | ____  ____ \n",
      "            | |   | / _ \\| | | |  _ \\| |/ _ \\ / _  |/ || |/ _  )/ ___)\n",
      "            | |__/ / |_| | | | | | | | | |_| ( ( | ( (_| ( (/ /| |    \n",
      "            |_____/ \\___/ \\____|_| |_|_|\\___/ \\_||_|\\____|\\____)_|    \n",
      "                                                          \n",
      "        \u001b[0m\n",
      "    [INFO] | Downloading ['Horse', 'Cattle', 'Sheep', 'Person'] together.\u001b[0m\n",
      "\u001b[91m   [ERROR] | Missing the validation-annotations-bbox.csv file.\u001b[0m\n",
      "\u001b[94m[DOWNLOAD] | Do you want to download the missing file? [Y/n] \u001b[0mY\n",
      "...100%, 16 MB, 25083 KB/s, 0 seconds passed\n",
      "\u001b[94m[DOWNLOAD] | File validation-annotations-bbox.csv downloaded into OID/csv_folder/validation-annotations-bbox.csv.\u001b[0m\n",
      "\n",
      "\u001b[95mHorse\u001b[0m\n",
      "    [INFO] | Downloading validation images.\u001b[0m\n",
      "    [INFO] | [INFO] Found 268 online images for validation.\u001b[0m\n",
      "    [INFO] | Limiting to 10 images.\u001b[0m\n",
      "    [INFO] | Download of 10 images in validation.\u001b[0m\n",
      "100% 10/10 [00:11<00:00,  1.10s/it]\n",
      "    [INFO] | Done!\u001b[0m\n",
      "    [INFO] | Creating labels for Horse of validation.\u001b[0m\n",
      "    [INFO] | Labels creation completed.\u001b[0m\n",
      "\n",
      "\u001b[95mCattle\u001b[0m\n",
      "    [INFO] | Downloading validation images.\u001b[0m\n",
      "    [INFO] | [INFO] Found 112 online images for validation.\u001b[0m\n",
      "    [INFO] | Limiting to 10 images.\u001b[0m\n",
      "    [INFO] | Download of 10 images in validation.\u001b[0m\n",
      "100% 10/10 [00:11<00:00,  1.12s/it]\n",
      "    [INFO] | Done!\u001b[0m\n",
      "    [INFO] | Creating labels for Cattle of validation.\u001b[0m\n",
      "    [INFO] | Labels creation completed.\u001b[0m\n",
      "\n",
      "\u001b[95mSheep\u001b[0m\n",
      "    [INFO] | Downloading validation images.\u001b[0m\n",
      "    [INFO] | [INFO] Found 48 online images for validation.\u001b[0m\n",
      "    [INFO] | Limiting to 10 images.\u001b[0m\n",
      "    [INFO] | Download of 10 images in validation.\u001b[0m\n",
      "100% 10/10 [00:11<00:00,  1.13s/it]\n",
      "    [INFO] | Done!\u001b[0m\n",
      "    [INFO] | Creating labels for Sheep of validation.\u001b[0m\n",
      "    [INFO] | Labels creation completed.\u001b[0m\n",
      "\n",
      "\u001b[95mPerson\u001b[0m\n",
      "    [INFO] | Downloading validation images.\u001b[0m\n",
      "    [INFO] | [INFO] Found 6436 online images for validation.\u001b[0m\n",
      "    [INFO] | Limiting to 10 images.\u001b[0m\n",
      "    [INFO] | Download of 9 images in validation.\u001b[0m\n",
      "100% 9/9 [00:10<00:00,  1.18s/it]\n",
      "    [INFO] | Done!\u001b[0m\n",
      "    [INFO] | Creating labels for Person of validation.\u001b[0m\n",
      "    [INFO] | Labels creation completed.\u001b[0m\n"
     ]
    }
   ],
   "source": [
    "# use the OIDv4_Toolkit\n",
    "!git clone https://github.com/theAIGuysCode/OIDv4_ToolKit.git\n",
    "\n",
    "%cd OIDv4_ToolKit/\n",
    "!pip install -r requirements.txt\n",
    "\n",
    "# take 45 images for each class for training and 10 for validation\n",
    "!python main.py downloader --classes Horse Cattle Sheep Person --type_csv train --limit 45 --multiclasses 1\n",
    "\n",
    "!python main.py downloader --classes Horse Cattle Sheep Person --type_csv validation --limit 10 --multiclasses 1\n",
    "\n",
    "# !python convert_annotations.py"
   ]
  },
  {
   "cell_type": "code",
   "execution_count": 9,
   "metadata": {
    "colab": {
     "base_uri": "https://localhost:8080/"
    },
    "executionInfo": {
     "elapsed": 1404,
     "status": "ok",
     "timestamp": 1616342591398,
     "user": {
      "displayName": "G X",
      "photoUrl": "https://lh3.googleusercontent.com/a-/AOh14GiPM3nBcSIAiq4wgSkRDneXZblaI339eFJPGU8gtg=s64",
      "userId": "07430575892639430364"
     },
     "user_tz": -120
    },
    "id": "2IiRh_43X7Ko",
    "outputId": "cab0b76c-012c-4123-b533-4a90c37e5360"
   },
   "outputs": [
    {
     "name": "stdout",
     "output_type": "stream",
     "text": [
      "/content/drive/MyDrive\n",
      "/content/drive/My Drive/images_set1\n"
     ]
    }
   ],
   "source": [
    "# prepare the data dir\n",
    "%cd /content/drive/MyDrive/\n",
    "!mkdir images_set1\n",
    "\n",
    "%cd images_set1/\n",
    "!mkdir test\n",
    "!mkdir train"
   ]
  },
  {
   "cell_type": "code",
   "execution_count": 10,
   "metadata": {
    "colab": {
     "base_uri": "https://localhost:8080/"
    },
    "executionInfo": {
     "elapsed": 11671,
     "status": "ok",
     "timestamp": 1616342632345,
     "user": {
      "displayName": "G X",
      "photoUrl": "https://lh3.googleusercontent.com/a-/AOh14GiPM3nBcSIAiq4wgSkRDneXZblaI339eFJPGU8gtg=s64",
      "userId": "07430575892639430364"
     },
     "user_tz": -120
    },
    "id": "Ssw76reNW9mC",
    "outputId": "c7260829-0c44-48fd-d228-7133d2fcb9c8"
   },
   "outputs": [
    {
     "name": "stdout",
     "output_type": "stream",
     "text": [
      "/content/drive/MyDrive/OIDv4_ToolKit\n",
      "Cloning into 'OIDv4_to_VOC'...\n",
      "remote: Enumerating objects: 12, done.\u001b[K\n",
      "remote: Counting objects: 100% (12/12), done.\u001b[K\n",
      "remote: Compressing objects: 100% (9/9), done.\u001b[K\n",
      "remote: Total 26 (delta 3), reused 5 (delta 1), pack-reused 14\u001b[K\n",
      "Unpacking objects: 100% (26/26), done.\n",
      "/content/drive/My Drive/OIDv4_ToolKit/OIDv4_to_VOC\n"
     ]
    }
   ],
   "source": [
    "# transform the data to pascal voc format. Use of OIDv4_to_VOC tool\n",
    "%cd /content/drive/MyDrive/OIDv4_ToolKit\n",
    "\n",
    "!git clone https://github.com/AtriSaxena/OIDv4_to_VOC.git\n",
    "\n",
    "%cd OIDv4_to_VOC/\n",
    "\n",
    "# convert txt to xml \n",
    "!python OIDv4_to_VOC.py --sourcepath /content/drive/MyDrive/OIDv4_ToolKit/OID/Dataset/train/Horse_Cattle_Sheep_Person --dest_path /content/drive/MyDrive/images_set1/train/\n",
    "!python OIDv4_to_VOC.py --sourcepath /content/drive/MyDrive/OIDv4_ToolKit/OID/Dataset/validation/Horse_Cattle_Sheep_Person --dest_path /content/drive/MyDrive/images_set1/test/"
   ]
  },
  {
   "cell_type": "code",
   "execution_count": 11,
   "metadata": {
    "colab": {
     "base_uri": "https://localhost:8080/"
    },
    "executionInfo": {
     "elapsed": 5662,
     "status": "ok",
     "timestamp": 1616342657708,
     "user": {
      "displayName": "G X",
      "photoUrl": "https://lh3.googleusercontent.com/a-/AOh14GiPM3nBcSIAiq4wgSkRDneXZblaI339eFJPGU8gtg=s64",
      "userId": "07430575892639430364"
     },
     "user_tz": -120
    },
    "id": "eRIjMK8HW9J1",
    "outputId": "61ae0f1a-d554-4d33-b747-aaac73b881b9"
   },
   "outputs": [
    {
     "name": "stdout",
     "output_type": "stream",
     "text": [
      "/content/drive/MyDrive/OIDv4_ToolKit/OID/Dataset/train\n",
      "/content/drive/MyDrive/OIDv4_ToolKit/OID/Dataset/validation\n"
     ]
    }
   ],
   "source": [
    "# put all imgs in images_set1 dir, with their annotations\n",
    "%cd /content/drive/MyDrive/OIDv4_ToolKit/OID/Dataset/train/\n",
    "!cp -r Horse_Cattle_Sheep_Person /content/drive/MyDrive/images_set1/train/\n",
    "\n",
    "%cd /content/drive/MyDrive/OIDv4_ToolKit/OID/Dataset/validation/\n",
    "!cp -r Horse_Cattle_Sheep_Person /content/drive/MyDrive/images_set1/test/"
   ]
  },
  {
   "cell_type": "code",
   "execution_count": 13,
   "metadata": {
    "colab": {
     "base_uri": "https://localhost:8080/"
    },
    "executionInfo": {
     "elapsed": 3029,
     "status": "ok",
     "timestamp": 1616342683603,
     "user": {
      "displayName": "G X",
      "photoUrl": "https://lh3.googleusercontent.com/a-/AOh14GiPM3nBcSIAiq4wgSkRDneXZblaI339eFJPGU8gtg=s64",
      "userId": "07430575892639430364"
     },
     "user_tz": -120
    },
    "id": "J68pqIVIWUsF",
    "outputId": "792a2fa6-9a64-4a4c-b52d-72f304fd0388"
   },
   "outputs": [
    {
     "name": "stdout",
     "output_type": "stream",
     "text": [
      "/content/drive/MyDrive\n"
     ]
    }
   ],
   "source": [
    "# remove what we don't need\n",
    "%cd /content/drive/MyDrive/\n",
    "!rm -rf OIDv4_ToolKit"
   ]
  },
  {
   "cell_type": "code",
   "execution_count": 14,
   "metadata": {
    "executionInfo": {
     "elapsed": 1998,
     "status": "ok",
     "timestamp": 1616342714529,
     "user": {
      "displayName": "G X",
      "photoUrl": "https://lh3.googleusercontent.com/a-/AOh14GiPM3nBcSIAiq4wgSkRDneXZblaI339eFJPGU8gtg=s64",
      "userId": "07430575892639430364"
     },
     "user_tz": -120
    },
    "id": "xTw_pAs9aCmz"
   },
   "outputs": [],
   "source": [
    "# all in one file\n",
    "import os\n",
    "import shutil\n",
    "\n",
    "source_dir = '/content/drive/MyDrive/images_set1/train/Horse_Cattle_Sheep_Person/'\n",
    "target_dir = '/content/drive/MyDrive/images_set1/train'\n",
    "\n",
    "file_names = os.listdir(source_dir)\n",
    "\n",
    "for file_name in file_names:\n",
    "    shutil.move(os.path.join(source_dir, file_name), target_dir)\n",
    "\n",
    "\n",
    "\n",
    "source_dir2 = '/content/drive/MyDrive/images_set1/test/Horse_Cattle_Sheep_Person/'\n",
    "target_dir2 = '/content/drive/MyDrive/images_set1/test'\n",
    "\n",
    "file_names2 = os.listdir(source_dir2)\n",
    "\n",
    "for file_name2 in file_names2:\n",
    "    shutil.move(os.path.join(source_dir2, file_name2), target_dir2)"
   ]
  },
  {
   "cell_type": "code",
   "execution_count": 15,
   "metadata": {
    "colab": {
     "base_uri": "https://localhost:8080/"
    },
    "executionInfo": {
     "elapsed": 1800,
     "status": "ok",
     "timestamp": 1616342723149,
     "user": {
      "displayName": "G X",
      "photoUrl": "https://lh3.googleusercontent.com/a-/AOh14GiPM3nBcSIAiq4wgSkRDneXZblaI339eFJPGU8gtg=s64",
      "userId": "07430575892639430364"
     },
     "user_tz": -120
    },
    "id": "t3N9nx0waK18",
    "outputId": "612cb792-6d31-4a59-d16d-34d1dde5b5f8"
   },
   "outputs": [
    {
     "name": "stdout",
     "output_type": "stream",
     "text": [
      "/content/drive/MyDrive/images_set1/train\n",
      "/content/drive/MyDrive/images_set1/test\n"
     ]
    }
   ],
   "source": [
    "# remove what we don't need\n",
    "%cd /content/drive/MyDrive/images_set1/train/\n",
    "!rm -rf Label\n",
    "!rm -rf Horse_Cattle_Sheep_Person\n",
    "\n",
    "%cd /content/drive/MyDrive/images_set1/test/\n",
    "!rm -rf Label\n",
    "!rm -rf Horse_Cattle_Sheep_Person"
   ]
  },
  {
   "cell_type": "markdown",
   "metadata": {
    "id": "0bIA4ww5jpbn"
   },
   "source": [
    "images_set1 is now a subset of OpenImagesV6 dataset, combrised of 4 classes with 45 images each for training and 10 for testing. Our dataset is in Pascal Voc format. "
   ]
  }
 ],
 "metadata": {
  "accelerator": "GPU",
  "colab": {
   "authorship_tag": "ABX9TyNXHym3j/uUD+P8OcBfEzWp",
   "collapsed_sections": [],
   "name": "OpenImagesV6_Subset.ipynb",
   "provenance": [
    {
     "file_id": "1U4ZHiTtoaYNqUVnd37hv9tuE-siZ5ojy",
     "timestamp": 1614772843821
    }
   ]
  },
  "kernelspec": {
   "display_name": "Python 3",
   "name": "python3"
  }
 },
 "nbformat": 4,
 "nbformat_minor": 0
}
