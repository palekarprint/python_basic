{
 "cells": [
  {
   "cell_type": "markdown",
   "id": "variable-ferry",
   "metadata": {},
   "source": [
    "# Create a Custom Dataset for Object Detection using Open-cv"
   ]
  },
  {
   "cell_type": "code",
   "execution_count": 1,
   "id": "corresponding-advantage",
   "metadata": {},
   "outputs": [],
   "source": [
    "# import libraries\n",
    "import cv2 #open cv\n",
    "import os\n",
    "import time\n",
    "import uuid"
   ]
  },
  {
   "cell_type": "code",
   "execution_count": 4,
   "id": "skilled-analyst",
   "metadata": {},
   "outputs": [],
   "source": [
    "# define what labels(classes) would be\n",
    "labels = ['one', 'rock_yeah', 'hallo', 'ok', 'all_good']\n",
    "# number of images per label\n",
    "number_imgs = 15"
   ]
  },
  {
   "cell_type": "code",
   "execution_count": 5,
   "id": "electronic-confirmation",
   "metadata": {},
   "outputs": [],
   "source": [
    "# setup folders\n",
    "IMAGES_PATH = os.path.join('workspace', 'images', 'collectedimages')"
   ]
  },
  {
   "cell_type": "code",
   "execution_count": 6,
   "id": "romantic-cutting",
   "metadata": {},
   "outputs": [],
   "source": [
    "if not os.path.exists(IMAGES_PATH):\n",
    "    if os.name == 'posix':\n",
    "        !mkdir -p {IMAGES_PATH}\n",
    "    if os.name == 'nt':\n",
    "         !mkdir {IMAGES_PATH}\n",
    "for label in labels:\n",
    "    path = os.path.join(IMAGES_PATH, label)\n",
    "    if not os.path.exists(path):\n",
    "        !mkdir {path}"
   ]
  },
  {
   "cell_type": "code",
   "execution_count": 7,
   "id": "incorrect-completion",
   "metadata": {},
   "outputs": [
    {
     "name": "stdout",
     "output_type": "stream",
     "text": [
      "Collecting images for one\n",
      "Collecting image 0\n",
      "Collecting image 1\n",
      "Collecting image 2\n",
      "Collecting image 3\n",
      "Collecting image 4\n",
      "Collecting image 5\n",
      "Collecting image 6\n",
      "Collecting image 7\n",
      "Collecting image 8\n",
      "Collecting image 9\n",
      "Collecting image 10\n",
      "Collecting image 11\n",
      "Collecting image 12\n",
      "Collecting image 13\n",
      "Collecting image 14\n",
      "Collecting images for rock_yeah\n",
      "Collecting image 0\n",
      "Collecting image 1\n",
      "Collecting image 2\n",
      "Collecting image 3\n",
      "Collecting image 4\n",
      "Collecting image 5\n",
      "Collecting image 6\n",
      "Collecting image 7\n",
      "Collecting image 8\n",
      "Collecting image 9\n",
      "Collecting image 10\n",
      "Collecting image 11\n",
      "Collecting image 12\n",
      "Collecting image 13\n",
      "Collecting image 14\n",
      "Collecting images for hallo\n",
      "Collecting image 0\n",
      "Collecting image 1\n",
      "Collecting image 2\n",
      "Collecting image 3\n",
      "Collecting image 4\n",
      "Collecting image 5\n",
      "Collecting image 6\n",
      "Collecting image 7\n",
      "Collecting image 8\n",
      "Collecting image 9\n",
      "Collecting image 10\n",
      "Collecting image 11\n",
      "Collecting image 12\n",
      "Collecting image 13\n",
      "Collecting image 14\n",
      "Collecting images for ok\n",
      "Collecting image 0\n",
      "Collecting image 1\n",
      "Collecting image 2\n",
      "Collecting image 3\n",
      "Collecting image 4\n",
      "Collecting image 5\n",
      "Collecting image 6\n",
      "Collecting image 7\n",
      "Collecting image 8\n",
      "Collecting image 9\n",
      "Collecting image 10\n",
      "Collecting image 11\n",
      "Collecting image 12\n",
      "Collecting image 13\n",
      "Collecting image 14\n",
      "Collecting images for all_good\n",
      "Collecting image 0\n",
      "Collecting image 1\n",
      "Collecting image 2\n",
      "Collecting image 3\n",
      "Collecting image 4\n",
      "Collecting image 5\n",
      "Collecting image 6\n",
      "Collecting image 7\n",
      "Collecting image 8\n",
      "Collecting image 9\n",
      "Collecting image 10\n",
      "Collecting image 11\n",
      "Collecting image 12\n",
      "Collecting image 13\n",
      "Collecting image 14\n"
     ]
    }
   ],
   "source": [
    "# capture images and create a folder with 15 images for each label/class\n",
    "for label in labels:\n",
    "    cap = cv2.VideoCapture(0)\n",
    "    print('Collecting images for {}'.format(label))\n",
    "    time.sleep(5)\n",
    "    for imgnum in range(number_imgs):\n",
    "        print('Collecting image {}'.format(imgnum))\n",
    "        ret, frame = cap.read()\n",
    "        imgname = os.path.join(IMAGES_PATH,label,label+'.'+'{}.jpg'.format(str(uuid.uuid1())))\n",
    "        cv2.imwrite(imgname, frame)\n",
    "        cv2.imshow('frame', frame)\n",
    "        time.sleep(2)\n",
    "\n",
    "        if cv2.waitKey(1) & 0xFF == ord('q'):\n",
    "            break\n",
    "cap.release()\n",
    "cv2.destroyAllWindows()"
   ]
  },
  {
   "cell_type": "code",
   "execution_count": 9,
   "id": "informative-cooler",
   "metadata": {},
   "outputs": [
    {
     "name": "stdout",
     "output_type": "stream",
     "text": [
      "Requirement already satisfied: pyqt5 in c:\\users\\user\\anaconda3\\envs\\tensorflow\\lib\\site-packages (5.15.4)\n",
      "Requirement already satisfied: lxml in c:\\users\\user\\anaconda3\\envs\\tensorflow\\lib\\site-packages (4.6.3)\n",
      "Requirement already satisfied: PyQt5-Qt5>=5.15 in c:\\users\\user\\anaconda3\\envs\\tensorflow\\lib\\site-packages (from pyqt5) (5.15.2)\n",
      "Requirement already satisfied: PyQt5-sip<13,>=12.8 in c:\\users\\user\\anaconda3\\envs\\tensorflow\\lib\\site-packages (from pyqt5) (12.9.0)\n"
     ]
    }
   ],
   "source": [
    "# label images with labelimg tool\n",
    "# lxml and pyqt are required to be installed \n",
    "!pip install --upgrade pyqt5 lxml"
   ]
  },
  {
   "cell_type": "code",
   "execution_count": 11,
   "id": "acquired-optimum",
   "metadata": {},
   "outputs": [],
   "source": [
    "LABELIMG_PATH = os.path.join('labelimg')"
   ]
  },
  {
   "cell_type": "code",
   "execution_count": 12,
   "id": "entertaining-diesel",
   "metadata": {},
   "outputs": [
    {
     "name": "stderr",
     "output_type": "stream",
     "text": [
      "Cloning into 'labelimg'...\n"
     ]
    }
   ],
   "source": [
    "# install labelimg tool\n",
    "if not os.path.exists(LABELIMG_PATH):\n",
    "    !mkdir {LABELIMG_PATH}\n",
    "    !git clone https://github.com/tzutalin/labelImg {LABELIMG_PATH}"
   ]
  },
  {
   "cell_type": "code",
   "execution_count": 13,
   "id": "cheap-boating",
   "metadata": {},
   "outputs": [],
   "source": [
    "if os.name == 'posix':\n",
    "    !make qt5py3\n",
    "if os.name =='nt':\n",
    "    !cd {LABELIMG_PATH} && pyrcc5 -o libs/resources.py resources.qrc"
   ]
  },
  {
   "cell_type": "code",
   "execution_count": 14,
   "id": "quality-quality",
   "metadata": {},
   "outputs": [
    {
     "name": "stdout",
     "output_type": "stream",
     "text": [
      "Image:C:\\Users\\user\\workspace\\images\\collectedimages\\all_good\\all_good.1fec0602-b28b-11eb-8a1b-9cb6d0b7280a.jpg -> Annotation:C:/Users/user/workspace/images/collectedimages\\all_good.1fec0602-b28b-11eb-8a1b-9cb6d0b7280a.xml\n",
      "Image:C:\\Users\\user\\workspace\\images\\collectedimages\\all_good\\all_good.1fec0602-b28b-11eb-8a1b-9cb6d0b7280a.jpg -> Annotation:C:/Users/user/workspace/images/collectedimages\\all_good.1fec0602-b28b-11eb-8a1b-9cb6d0b7280a.xml\n",
      "Image:C:\\Users\\user\\workspace\\images\\collectedimages\\all_good\\all_good.2ad308fe-b28b-11eb-a6eb-9cb6d0b7280a.jpg -> Annotation:C:/Users/user/workspace/images/collectedimages\\all_good.2ad308fe-b28b-11eb-a6eb-9cb6d0b7280a.xml\n",
      "Image:C:\\Users\\user\\workspace\\images\\collectedimages\\all_good\\all_good.2c0d8b19-b28b-11eb-a81e-9cb6d0b7280a.jpg -> Annotation:C:/Users/user/workspace/images/collectedimages\\all_good.2c0d8b19-b28b-11eb-a81e-9cb6d0b7280a.xml\n",
      "Image:C:\\Users\\user\\workspace\\images\\collectedimages\\all_good\\all_good.2d42f142-b28b-11eb-8bff-9cb6d0b7280a.jpg -> Annotation:C:/Users/user/workspace/images/collectedimages\\all_good.2d42f142-b28b-11eb-8bff-9cb6d0b7280a.xml\n",
      "Image:C:\\Users\\user\\workspace\\images\\collectedimages\\all_good\\all_good.2e76b268-b28b-11eb-bf4d-9cb6d0b7280a.jpg -> Annotation:C:/Users/user/workspace/images/collectedimages\\all_good.2e76b268-b28b-11eb-bf4d-9cb6d0b7280a.xml\n",
      "Image:C:\\Users\\user\\workspace\\images\\collectedimages\\all_good\\all_good.2fb1fc65-b28b-11eb-baaf-9cb6d0b7280a.jpg -> Annotation:C:/Users/user/workspace/images/collectedimages\\all_good.2fb1fc65-b28b-11eb-baaf-9cb6d0b7280a.xml\n",
      "Image:C:\\Users\\user\\workspace\\images\\collectedimages\\all_good\\all_good.24ca4b76-b28b-11eb-9e1e-9cb6d0b7280a.jpg -> Annotation:C:/Users/user/workspace/images/collectedimages\\all_good.24ca4b76-b28b-11eb-9e1e-9cb6d0b7280a.xml\n",
      "Image:C:\\Users\\user\\workspace\\images\\collectedimages\\all_good\\all_good.25fe67a3-b28b-11eb-8764-9cb6d0b7280a.jpg -> Annotation:C:/Users/user/workspace/images/collectedimages\\all_good.25fe67a3-b28b-11eb-8764-9cb6d0b7280a.xml\n",
      "Image:C:\\Users\\user\\workspace\\images\\collectedimages\\all_good\\all_good.30e79d36-b28b-11eb-bf9b-9cb6d0b7280a.jpg -> Annotation:C:/Users/user/workspace/images/collectedimages\\all_good.30e79d36-b28b-11eb-bf9b-9cb6d0b7280a.xml\n",
      "Image:C:\\Users\\user\\workspace\\images\\collectedimages\\all_good\\all_good.299bae2b-b28b-11eb-ac4a-9cb6d0b7280a.jpg -> Annotation:C:/Users/user/workspace/images/collectedimages\\all_good.299bae2b-b28b-11eb-ac4a-9cb6d0b7280a.xml\n",
      "Image:C:\\Users\\user\\workspace\\images\\collectedimages\\all_good\\all_good.2121f678-b28b-11eb-ae6d-9cb6d0b7280a.jpg -> Annotation:C:/Users/user/workspace/images/collectedimages\\all_good.2121f678-b28b-11eb-ae6d-9cb6d0b7280a.xml\n",
      "Image:C:\\Users\\user\\workspace\\images\\collectedimages\\all_good\\all_good.2257aeea-b28b-11eb-be02-9cb6d0b7280a.jpg -> Annotation:C:/Users/user/workspace/images/collectedimages\\all_good.2257aeea-b28b-11eb-be02-9cb6d0b7280a.xml\n",
      "Image:C:\\Users\\user\\workspace\\images\\collectedimages\\all_good\\all_good.2392c5a5-b28b-11eb-8d1e-9cb6d0b7280a.jpg -> Annotation:C:/Users/user/workspace/images/collectedimages\\all_good.2392c5a5-b28b-11eb-8d1e-9cb6d0b7280a.xml\n",
      "Image:C:\\Users\\user\\workspace\\images\\collectedimages\\all_good\\all_good.2731dc2d-b28b-11eb-93ad-9cb6d0b7280a.jpg -> Annotation:C:/Users/user/workspace/images/collectedimages\\all_good.2731dc2d-b28b-11eb-93ad-9cb6d0b7280a.xml\n",
      "Image:C:\\Users\\user\\workspace\\images\\collectedimages\\all_good\\all_good.28686965-b28b-11eb-9175-9cb6d0b7280a.jpg -> Annotation:C:/Users/user/workspace/images/collectedimages\\all_good.28686965-b28b-11eb-9175-9cb6d0b7280a.xml\n",
      "Image:C:\\Users\\user\\workspace\\images\\collectedimages\\hallo\\hallo.0001b4a9-b28b-11eb-8721-9cb6d0b7280a.jpg -> Annotation:C:/Users/user/workspace/images/collectedimages\\hallo.0001b4a9-b28b-11eb-8721-9cb6d0b7280a.xml\n",
      "Image:C:\\Users\\user\\workspace\\images\\collectedimages\\hallo\\hallo.03a53805-b28b-11eb-8021-9cb6d0b7280a.jpg -> Annotation:C:/Users/user/workspace/images/collectedimages\\hallo.03a53805-b28b-11eb-8021-9cb6d0b7280a.xml\n",
      "Image:C:\\Users\\user\\workspace\\images\\collectedimages\\hallo\\hallo.026c3a0e-b28b-11eb-a752-9cb6d0b7280a.jpg -> Annotation:C:/Users/user/workspace/images/collectedimages\\hallo.026c3a0e-b28b-11eb-a752-9cb6d0b7280a.xml\n",
      "Image:C:\\Users\\user\\workspace\\images\\collectedimages\\hallo\\hallo.01351a51-b28b-11eb-8c69-9cb6d0b7280a.jpg -> Annotation:C:/Users/user/workspace/images/collectedimages\\hallo.01351a51-b28b-11eb-8c69-9cb6d0b7280a.xml\n",
      "Image:C:\\Users\\user\\workspace\\images\\collectedimages\\hallo\\hallo.f2a5867e-b28a-11eb-8e5c-9cb6d0b7280a.jpg -> Annotation:C:/Users/user/workspace/images/collectedimages\\hallo.f2a5867e-b28a-11eb-8e5c-9cb6d0b7280a.xml\n",
      "Image:C:\\Users\\user\\workspace\\images\\collectedimages\\hallo\\hallo.f3dc6c86-b28a-11eb-99ba-9cb6d0b7280a.jpg -> Annotation:C:/Users/user/workspace/images/collectedimages\\hallo.f3dc6c86-b28a-11eb-99ba-9cb6d0b7280a.xml\n",
      "Image:C:\\Users\\user\\workspace\\images\\collectedimages\\hallo\\hallo.f8b96ff6-b28a-11eb-8f8e-9cb6d0b7280a.jpg -> Annotation:C:/Users/user/workspace/images/collectedimages\\hallo.f8b96ff6-b28a-11eb-8f8e-9cb6d0b7280a.xml\n",
      "Image:C:\\Users\\user\\workspace\\images\\collectedimages\\hallo\\hallo.f9ed8313-b28a-11eb-8d41-9cb6d0b7280a.jpg -> Annotation:C:/Users/user/workspace/images/collectedimages\\hallo.f9ed8313-b28a-11eb-8d41-9cb6d0b7280a.xml\n",
      "Image:C:\\Users\\user\\workspace\\images\\collectedimages\\hallo\\hallo.f64ca206-b28a-11eb-b785-9cb6d0b7280a.jpg -> Annotation:C:/Users/user/workspace/images/collectedimages\\hallo.f64ca206-b28a-11eb-b785-9cb6d0b7280a.xml\n",
      "Image:C:\\Users\\user\\workspace\\images\\collectedimages\\hallo\\hallo.f783732f-b28a-11eb-9e62-9cb6d0b7280a.jpg -> Annotation:C:/Users/user/workspace/images/collectedimages\\hallo.f783732f-b28a-11eb-9e62-9cb6d0b7280a.xml\n",
      "Image:C:\\Users\\user\\workspace\\images\\collectedimages\\hallo\\hallo.f5128132-b28a-11eb-b30b-9cb6d0b7280a.jpg -> Annotation:C:/Users/user/workspace/images/collectedimages\\hallo.f5128132-b28a-11eb-b30b-9cb6d0b7280a.xml\n",
      "Image:C:\\Users\\user\\workspace\\images\\collectedimages\\hallo\\hallo.fb2672fa-b28a-11eb-8237-9cb6d0b7280a.jpg -> Annotation:C:/Users/user/workspace/images/collectedimages\\hallo.fb2672fa-b28a-11eb-8237-9cb6d0b7280a.xml\n",
      "Image:C:\\Users\\user\\workspace\\images\\collectedimages\\hallo\\hallo.fc5e302f-b28a-11eb-848c-9cb6d0b7280a.jpg -> Annotation:C:/Users/user/workspace/images/collectedimages\\hallo.fc5e302f-b28a-11eb-848c-9cb6d0b7280a.xml\n",
      "Image:C:\\Users\\user\\workspace\\images\\collectedimages\\hallo\\hallo.fd93267a-b28a-11eb-9abb-9cb6d0b7280a.jpg -> Annotation:C:/Users/user/workspace/images/collectedimages\\hallo.fd93267a-b28a-11eb-9abb-9cb6d0b7280a.xml\n",
      "Image:C:\\Users\\user\\workspace\\images\\collectedimages\\hallo\\hallo.fec802a1-b28a-11eb-85e1-9cb6d0b7280a.jpg -> Annotation:C:/Users/user/workspace/images/collectedimages\\hallo.fec802a1-b28a-11eb-85e1-9cb6d0b7280a.xml\n",
      "Image:C:\\Users\\user\\workspace\\images\\collectedimages\\ok\\ok.0a718900-b28b-11eb-a728-9cb6d0b7280a.jpg -> Annotation:C:/Users/user/workspace/images/collectedimages\\ok.0a718900-b28b-11eb-a728-9cb6d0b7280a.xml\n",
      "Image:C:\\Users\\user\\workspace\\images\\collectedimages\\ok\\ok.0ba84bfd-b28b-11eb-8923-9cb6d0b7280a.jpg -> Annotation:C:/Users/user/workspace/images/collectedimages\\ok.0ba84bfd-b28b-11eb-8923-9cb6d0b7280a.xml\n",
      "Image:C:\\Users\\user\\workspace\\images\\collectedimages\\ok\\ok.0ce21042-b28b-11eb-9744-9cb6d0b7280a.jpg -> Annotation:C:/Users/user/workspace/images/collectedimages\\ok.0ce21042-b28b-11eb-9744-9cb6d0b7280a.xml\n",
      "Image:C:\\Users\\user\\workspace\\images\\collectedimages\\ok\\ok.0e1a38a5-b28b-11eb-a8cd-9cb6d0b7280a.jpg -> Annotation:C:/Users/user/workspace/images/collectedimages\\ok.0e1a38a5-b28b-11eb-a8cd-9cb6d0b7280a.xml\n",
      "Image:C:\\Users\\user\\workspace\\images\\collectedimages\\ok\\ok.0f4f3bae-b28b-11eb-9283-9cb6d0b7280a.jpg -> Annotation:C:/Users/user/workspace/images/collectedimages\\ok.0f4f3bae-b28b-11eb-9283-9cb6d0b7280a.xml\n",
      "Image:C:\\Users\\user\\workspace\\images\\collectedimages\\ok\\ok.1a374342-b28b-11eb-afa3-9cb6d0b7280a.jpg -> Annotation:C:/Users/user/workspace/images/collectedimages\\ok.1a374342-b28b-11eb-afa3-9cb6d0b7280a.xml\n",
      "Image:C:\\Users\\user\\workspace\\images\\collectedimages\\ok\\ok.11bbbed2-b28b-11eb-b2a4-9cb6d0b7280a.jpg -> Annotation:C:/Users/user/workspace/images/collectedimages\\ok.11bbbed2-b28b-11eb-b2a4-9cb6d0b7280a.xml\n",
      "Image:C:\\Users\\user\\workspace\\images\\collectedimages\\ok\\ok.12f0c1a2-b28b-11eb-b290-9cb6d0b7280a.jpg -> Annotation:C:/Users/user/workspace/images/collectedimages\\ok.12f0c1a2-b28b-11eb-b290-9cb6d0b7280a.xml\n",
      "Image:C:\\Users\\user\\workspace\\images\\collectedimages\\ok\\ok.17cbcf51-b28b-11eb-b207-9cb6d0b7280a.jpg -> Annotation:C:/Users/user/workspace/images/collectedimages\\ok.17cbcf51-b28b-11eb-b207-9cb6d0b7280a.xml\n",
      "Image:C:\\Users\\user\\workspace\\images\\collectedimages\\ok\\ok.18ff76d0-b28b-11eb-9980-9cb6d0b7280a.jpg -> Annotation:C:/Users/user/workspace/images/collectedimages\\ok.18ff76d0-b28b-11eb-9980-9cb6d0b7280a.xml\n",
      "Image:C:\\Users\\user\\workspace\\images\\collectedimages\\ok\\ok.093b8c78-b28b-11eb-8f9e-9cb6d0b7280a.jpg -> Annotation:C:/Users/user/workspace/images/collectedimages\\ok.093b8c78-b28b-11eb-8f9e-9cb6d0b7280a.xml\n",
      "Image:C:\\Users\\user\\workspace\\images\\collectedimages\\ok\\ok.155f8360-b28b-11eb-b433-9cb6d0b7280a.jpg -> Annotation:C:/Users/user/workspace/images/collectedimages\\ok.155f8360-b28b-11eb-b433-9cb6d0b7280a.xml\n",
      "Image:C:\\Users\\user\\workspace\\images\\collectedimages\\ok\\ok.1084c88b-b28b-11eb-9c79-9cb6d0b7280a.jpg -> Annotation:C:/Users/user/workspace/images/collectedimages\\ok.1084c88b-b28b-11eb-9c79-9cb6d0b7280a.xml\n",
      "Image:C:\\Users\\user\\workspace\\images\\collectedimages\\ok\\ok.14292b6f-b28b-11eb-9120-9cb6d0b7280a.jpg -> Annotation:C:/Users/user/workspace/images/collectedimages\\ok.14292b6f-b28b-11eb-9120-9cb6d0b7280a.xml\n",
      "Image:C:\\Users\\user\\workspace\\images\\collectedimages\\ok\\ok.169623db-b28b-11eb-8974-9cb6d0b7280a.jpg -> Annotation:C:/Users/user/workspace/images/collectedimages\\ok.169623db-b28b-11eb-8974-9cb6d0b7280a.xml\n",
      "Image:C:\\Users\\user\\workspace\\images\\collectedimages\\rock_yeah\\rock_yeah.dbff499e-b28a-11eb-b851-9cb6d0b7280a.jpg -> Annotation:C:/Users/user/workspace/images/collectedimages\\rock_yeah.dbff499e-b28a-11eb-b851-9cb6d0b7280a.xml\n",
      "Image:C:\\Users\\user\\workspace\\images\\collectedimages\\rock_yeah\\rock_yeah.dd34b8db-b28a-11eb-b199-9cb6d0b7280a.jpg -> Annotation:C:/Users/user/workspace/images/collectedimages\\rock_yeah.dd34b8db-b28a-11eb-b199-9cb6d0b7280a.xml\n",
      "Image:C:\\Users\\user\\workspace\\images\\collectedimages\\rock_yeah\\rock_yeah.de6df9eb-b28a-11eb-85da-9cb6d0b7280a.jpg -> Annotation:C:/Users/user/workspace/images/collectedimages\\rock_yeah.de6df9eb-b28a-11eb-85da-9cb6d0b7280a.xml\n",
      "Image:C:\\Users\\user\\workspace\\images\\collectedimages\\rock_yeah\\rock_yeah.dfa1a427-b28a-11eb-94d0-9cb6d0b7280a.jpg -> Annotation:C:/Users/user/workspace/images/collectedimages\\rock_yeah.dfa1a427-b28a-11eb-94d0-9cb6d0b7280a.xml\n",
      "Image:C:\\Users\\user\\workspace\\images\\collectedimages\\rock_yeah\\rock_yeah.e0d95705-b28a-11eb-8112-9cb6d0b7280a.jpg -> Annotation:C:/Users/user/workspace/images/collectedimages\\rock_yeah.e0d95705-b28a-11eb-8112-9cb6d0b7280a.xml\n",
      "Image:C:\\Users\\user\\workspace\\images\\collectedimages\\rock_yeah\\rock_yeah.e5b2a2f7-b28a-11eb-add2-9cb6d0b7280a.jpg -> Annotation:C:/Users/user/workspace/images/collectedimages\\rock_yeah.e5b2a2f7-b28a-11eb-add2-9cb6d0b7280a.xml\n",
      "Image:C:\\Users\\user\\workspace\\images\\collectedimages\\rock_yeah\\rock_yeah.e6e792b7-b28a-11eb-9ca6-9cb6d0b7280a.jpg -> Annotation:C:/Users/user/workspace/images/collectedimages\\rock_yeah.e6e792b7-b28a-11eb-9ca6-9cb6d0b7280a.xml\n"
     ]
    },
    {
     "name": "stdout",
     "output_type": "stream",
     "text": [
      "Image:C:\\Users\\user\\workspace\\images\\collectedimages\\rock_yeah\\rock_yeah.e20e30dc-b28a-11eb-81b2-9cb6d0b7280a.jpg -> Annotation:C:/Users/user/workspace/images/collectedimages\\rock_yeah.e20e30dc-b28a-11eb-81b2-9cb6d0b7280a.xml\n",
      "Image:C:\\Users\\user\\workspace\\images\\collectedimages\\rock_yeah\\rock_yeah.e47c291f-b28a-11eb-ae16-9cb6d0b7280a.jpg -> Annotation:C:/Users/user/workspace/images/collectedimages\\rock_yeah.e47c291f-b28a-11eb-ae16-9cb6d0b7280a.xml\n",
      "Image:C:\\Users\\user\\workspace\\images\\collectedimages\\rock_yeah\\rock_yeah.e81ae78b-b28a-11eb-b4eb-9cb6d0b7280a.jpg -> Annotation:C:/Users/user/workspace/images/collectedimages\\rock_yeah.e81ae78b-b28a-11eb-b4eb-9cb6d0b7280a.xml\n",
      "Image:C:\\Users\\user\\workspace\\images\\collectedimages\\rock_yeah\\rock_yeah.e954fd27-b28a-11eb-9a4a-9cb6d0b7280a.jpg -> Annotation:C:/Users/user/workspace/images/collectedimages\\rock_yeah.e954fd27-b28a-11eb-9a4a-9cb6d0b7280a.xml\n",
      "Image:C:\\Users\\user\\workspace\\images\\collectedimages\\rock_yeah\\rock_yeah.e3421c4b-b28a-11eb-a570-9cb6d0b7280a.jpg -> Annotation:C:/Users/user/workspace/images/collectedimages\\rock_yeah.e3421c4b-b28a-11eb-a570-9cb6d0b7280a.xml\n",
      "Image:C:\\Users\\user\\workspace\\images\\collectedimages\\rock_yeah\\rock_yeah.ea8b27fd-b28a-11eb-bcbe-9cb6d0b7280a.jpg -> Annotation:C:/Users/user/workspace/images/collectedimages\\rock_yeah.ea8b27fd-b28a-11eb-bcbe-9cb6d0b7280a.xml\n",
      "Image:C:\\Users\\user\\workspace\\images\\collectedimages\\rock_yeah\\rock_yeah.ebbff93b-b28a-11eb-9e61-9cb6d0b7280a.jpg -> Annotation:C:/Users/user/workspace/images/collectedimages\\rock_yeah.ebbff93b-b28a-11eb-9e61-9cb6d0b7280a.xml\n",
      "Image:C:\\Users\\user\\workspace\\images\\collectedimages\\rock_yeah\\rock_yeah.ecf9dc23-b28a-11eb-8b98-9cb6d0b7280a.jpg -> Annotation:C:/Users/user/workspace/images/collectedimages\\rock_yeah.ecf9dc23-b28a-11eb-8b98-9cb6d0b7280a.xml\n",
      "Image:C:\\Users\\user\\workspace\\images\\collectedimages\\one\\one.c7afc1ad-b28a-11eb-be9a-9cb6d0b7280a.jpg -> Annotation:C:/Users/user/workspace/images/collectedimages\\one.c7afc1ad-b28a-11eb-be9a-9cb6d0b7280a.xml\n",
      "Image:C:\\Users\\user\\workspace\\images\\collectedimages\\one\\one.c8e6ee2e-b28a-11eb-8852-9cb6d0b7280a.jpg -> Annotation:C:/Users/user/workspace/images/collectedimages\\one.c8e6ee2e-b28a-11eb-8852-9cb6d0b7280a.xml\n",
      "Image:C:\\Users\\user\\workspace\\images\\collectedimages\\one\\one.c67b61e1-b28a-11eb-92b4-9cb6d0b7280a.jpg -> Annotation:C:/Users/user/workspace/images/collectedimages\\one.c67b61e1-b28a-11eb-92b4-9cb6d0b7280a.xml\n",
      "Image:C:\\Users\\user\\workspace\\images\\collectedimages\\one\\one.c546ab87-b28a-11eb-8055-9cb6d0b7280a.jpg -> Annotation:C:/Users/user/workspace/images/collectedimages\\one.c546ab87-b28a-11eb-8055-9cb6d0b7280a.xml\n",
      "Image:C:\\Users\\user\\workspace\\images\\collectedimages\\one\\one.ca1dae2a-b28a-11eb-9b3b-9cb6d0b7280a.jpg -> Annotation:C:/Users/user/workspace/images/collectedimages\\one.ca1dae2a-b28a-11eb-9b3b-9cb6d0b7280a.xml\n",
      "Image:C:\\Users\\user\\workspace\\images\\collectedimages\\one\\one.cb51aa79-b28a-11eb-905c-9cb6d0b7280a.jpg -> Annotation:C:/Users/user/workspace/images/collectedimages\\one.cb51aa79-b28a-11eb-905c-9cb6d0b7280a.xml\n",
      "Image:C:\\Users\\user\\workspace\\images\\collectedimages\\one\\one.cc8b5114-b28a-11eb-9bc0-9cb6d0b7280a.jpg -> Annotation:C:/Users/user/workspace/images/collectedimages\\one.cc8b5114-b28a-11eb-9bc0-9cb6d0b7280a.xml\n",
      "Image:C:\\Users\\user\\workspace\\images\\collectedimages\\one\\one.cdc24671-b28a-11eb-94dd-9cb6d0b7280a.jpg -> Annotation:C:/Users/user/workspace/images/collectedimages\\one.cdc24671-b28a-11eb-94dd-9cb6d0b7280a.xml\n",
      "Image:C:\\Users\\user\\workspace\\images\\collectedimages\\one\\one.cef877e3-b28a-11eb-8b84-9cb6d0b7280a.jpg -> Annotation:C:/Users/user/workspace/images/collectedimages\\one.cef877e3-b28a-11eb-8b84-9cb6d0b7280a.xml\n",
      "Image:C:\\Users\\user\\workspace\\images\\collectedimages\\one\\one.d3cff08f-b28a-11eb-864f-9cb6d0b7280a.jpg -> Annotation:C:/Users/user/workspace/images/collectedimages\\one.d3cff08f-b28a-11eb-864f-9cb6d0b7280a.xml\n",
      "Image:C:\\Users\\user\\workspace\\images\\collectedimages\\one\\one.d29bc2a5-b28a-11eb-864e-9cb6d0b7280a.jpg -> Annotation:C:/Users/user/workspace/images/collectedimages\\one.d29bc2a5-b28a-11eb-864e-9cb6d0b7280a.xml\n",
      "Image:C:\\Users\\user\\workspace\\images\\collectedimages\\one\\one.d63fe053-b28a-11eb-8b81-9cb6d0b7280a.jpg -> Annotation:C:/Users/user/workspace/images/collectedimages\\one.d63fe053-b28a-11eb-8b81-9cb6d0b7280a.xml\n",
      "Image:C:\\Users\\user\\workspace\\images\\collectedimages\\one\\one.d167f157-b28a-11eb-a3dc-9cb6d0b7280a.jpg -> Annotation:C:/Users/user/workspace/images/collectedimages\\one.d167f157-b28a-11eb-a3dc-9cb6d0b7280a.xml\n",
      "Image:C:\\Users\\user\\workspace\\images\\collectedimages\\one\\one.d506a319-b28a-11eb-a016-9cb6d0b7280a.jpg -> Annotation:C:/Users/user/workspace/images/collectedimages\\one.d506a319-b28a-11eb-a016-9cb6d0b7280a.xml\n",
      "Image:C:\\Users\\user\\workspace\\images\\collectedimages\\one\\one.d03340ee-b28a-11eb-b6df-9cb6d0b7280a.jpg -> Annotation:C:/Users/user/workspace/images/collectedimages\\one.d03340ee-b28a-11eb-b6df-9cb6d0b7280a.xml\n"
     ]
    }
   ],
   "source": [
    "# start labeling. then, put all images and their corresponding annotations in one folder(collectedimages) and manually split them to a train(13/15 for each label) a test folder(2/15)\n",
    "!cd {LABELIMG_PATH} && python labelImg.py"
   ]
  },
  {
   "cell_type": "code",
   "execution_count": 17,
   "id": "incorporate-mercury",
   "metadata": {},
   "outputs": [],
   "source": [
    "# compress the images sets\n",
    "TRAIN_PATH = os.path.join('workspace', 'images', 'train')\n",
    "TEST_PATH = os.path.join('workspace', 'images', 'test')\n",
    "ARCHIVE_PATH = os.path.join('workspace', 'images', 'archive.tar.gz')"
   ]
  },
  {
   "cell_type": "code",
   "execution_count": 18,
   "id": "altered-fabric",
   "metadata": {},
   "outputs": [],
   "source": [
    "!tar -czf {ARCHIVE_PATH} {TRAIN_PATH} {TEST_PATH}"
   ]
  }
 ],
 "metadata": {
  "kernelspec": {
   "display_name": "Python 3",
   "language": "python",
   "name": "python3"
  },
  "language_info": {
   "codemirror_mode": {
    "name": "ipython",
    "version": 3
   },
   "file_extension": ".py",
   "mimetype": "text/x-python",
   "name": "python",
   "nbconvert_exporter": "python",
   "pygments_lexer": "ipython3",
   "version": "3.8.8"
  }
 },
 "nbformat": 4,
 "nbformat_minor": 5
}
