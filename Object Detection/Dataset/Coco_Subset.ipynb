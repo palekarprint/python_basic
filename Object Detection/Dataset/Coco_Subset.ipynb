{
 "cells": [
  {
   "cell_type": "markdown",
   "metadata": {
    "id": "l7KVeOcWEl4J"
   },
   "source": [
    "Creation of a subset of Coco dataset\n",
    "\n"
   ]
  },
  {
   "cell_type": "code",
   "execution_count": 1,
   "metadata": {
    "colab": {
     "base_uri": "https://localhost:8080/"
    },
    "executionInfo": {
     "elapsed": 10938,
     "status": "ok",
     "timestamp": 1616608428309,
     "user": {
      "displayName": "G X",
      "photoUrl": "https://lh3.googleusercontent.com/a-/AOh14GiPM3nBcSIAiq4wgSkRDneXZblaI339eFJPGU8gtg=s64",
      "userId": "07430575892639430364"
     },
     "user_tz": -120
    },
    "id": "nVAW7PFqrP15",
    "outputId": "04b864ed-292d-47d5-d573-ed20af486736"
   },
   "outputs": [
    {
     "name": "stderr",
     "output_type": "stream",
     "text": [
      "'wget' is not recognized as an internal or external command,\n",
      "operable program or batch file.\n",
      "'unzip' is not recognized as an internal or external command,\n",
      "operable program or batch file.\n"
     ]
    },
    {
     "name": "stdout",
     "output_type": "stream",
     "text": [
      "[WinError 3] The system cannot find the path specified: '/content/annotations/'\n",
      "C:\\Users\\DMIETR\\Object Detection\\Dataset\n"
     ]
    },
    {
     "name": "stderr",
     "output_type": "stream",
     "text": [
      "'rm' is not recognized as an internal or external command,\n",
      "operable program or batch file.\n",
      "'rm' is not recognized as an internal or external command,\n",
      "operable program or batch file.\n",
      "'rm' is not recognized as an internal or external command,\n",
      "operable program or batch file.\n",
      "'rm' is not recognized as an internal or external command,\n",
      "operable program or batch file.\n",
      "'rm' is not recognized as an internal or external command,\n",
      "operable program or batch file.\n"
     ]
    }
   ],
   "source": [
    "# download coco's annotations trainval2017 and by using coco API, create a subset\n",
    "\n",
    "!wget http://images.cocodataset.org/annotations/annotations_trainval2017.zip\n",
    "!unzip annotations_trainval2017.zip\n",
    "!rm -rf annotations_trainval2017.zip\n",
    "\n",
    "# keep only instances_train/val.json \n",
    "%cd /content/annotations/\n",
    "!rm captions_train2017.json\n",
    "!rm captions_val2017.json\n",
    "!rm person_keypoints_train2017.json\n",
    "!rm person_keypoints_val2017.json"
   ]
  },
  {
   "cell_type": "code",
   "execution_count": 2,
   "metadata": {
    "colab": {
     "base_uri": "https://localhost:8080/"
    },
    "executionInfo": {
     "elapsed": 27820,
     "status": "ok",
     "timestamp": 1616608445200,
     "user": {
      "displayName": "G X",
      "photoUrl": "https://lh3.googleusercontent.com/a-/AOh14GiPM3nBcSIAiq4wgSkRDneXZblaI339eFJPGU8gtg=s64",
      "userId": "07430575892639430364"
     },
     "user_tz": -120
    },
    "id": "m5yBUNY3GsrV",
    "outputId": "4b61d996-a1b7-48ed-baab-53fd0b91bbbf"
   },
   "outputs": [
    {
     "ename": "ModuleNotFoundError",
     "evalue": "No module named 'pycocotools'",
     "output_type": "error",
     "traceback": [
      "\u001b[1;31m---------------------------------------------------------------------------\u001b[0m",
      "\u001b[1;31mModuleNotFoundError\u001b[0m                       Traceback (most recent call last)",
      "\u001b[1;32m<ipython-input-2-905f292e275e>\u001b[0m in \u001b[0;36m<module>\u001b[1;34m\u001b[0m\n\u001b[0;32m      1\u001b[0m \u001b[1;31m# use of coco API\u001b[0m\u001b[1;33m\u001b[0m\u001b[1;33m\u001b[0m\u001b[1;33m\u001b[0m\u001b[0m\n\u001b[0;32m      2\u001b[0m \u001b[1;33m\u001b[0m\u001b[0m\n\u001b[1;32m----> 3\u001b[1;33m \u001b[1;32mfrom\u001b[0m \u001b[0mpycocotools\u001b[0m\u001b[1;33m.\u001b[0m\u001b[0mcoco\u001b[0m \u001b[1;32mimport\u001b[0m \u001b[0mCOCO\u001b[0m\u001b[1;33m\u001b[0m\u001b[1;33m\u001b[0m\u001b[0m\n\u001b[0m\u001b[0;32m      4\u001b[0m \u001b[1;32mimport\u001b[0m \u001b[0mrequests\u001b[0m\u001b[1;33m\u001b[0m\u001b[1;33m\u001b[0m\u001b[0m\n\u001b[0;32m      5\u001b[0m \u001b[1;32mimport\u001b[0m \u001b[0mrandom\u001b[0m\u001b[1;33m\u001b[0m\u001b[1;33m\u001b[0m\u001b[0m\n",
      "\u001b[1;31mModuleNotFoundError\u001b[0m: No module named 'pycocotools'"
     ]
    }
   ],
   "source": [
    "# use of coco API\n",
    "\n",
    "from pycocotools.coco import COCO\n",
    "import requests\n",
    "import random\n",
    "\n",
    "# take 45 images with their annotations for each of 4 classes for training and another 10 for testing, respectively\n",
    "classes = ['person', 'horse', 'cow', 'sheep']\n",
    "\n",
    "imagesTrain = []\n",
    "imagesVal = []\n",
    "\n",
    "#unique_imagesTrain = []\n",
    "#unique_imagesVal = []\n",
    "\n",
    "subimagesTrain = []\n",
    "subimagesVal = []\n",
    "\n",
    "cocoTrain = COCO('/content/annotations/instances_train2017.json')\n",
    "cocoVal = COCO('/content/annotations/instances_val2017.json')\n",
    "\n",
    "for className in classes:\n",
    "\n",
    "  # images for training\n",
    "  catIdsTrain = cocoTrain.getCatIds(catNms=className)\n",
    "  imgIdsTrain = cocoTrain.getImgIds(catIds=catIdsTrain)\n",
    "  imagesTrain = cocoTrain.loadImgs(imgIdsTrain)\n",
    "\n",
    "  # filter out the repeated images    \n",
    "  #for k in range(len(imagesTrain)):\n",
    "  #  if imagesTrain[k] not in unique_imagesTrain:\n",
    "  #    unique_imagesTrain.append(imagesTrain[k])\n",
    "\n",
    "  # take 45 of them randomly\n",
    "  subimagesTrain += random.sample(imagesTrain, 45)\n",
    "\n",
    "  # images for testing\n",
    "  catIdsVal = cocoVal.getCatIds(catNms=className)\n",
    "  imgIdsVal = cocoVal.getImgIds(catIds=catIdsVal)\n",
    "  imagesVal = cocoVal.loadImgs(imgIdsVal)\n",
    "\n",
    "  # filter out the repeated images\n",
    "  #for l in range(len(imagesVal)):\n",
    "  #  if imagesVal[l] not in unique_imagesVal:\n",
    "  #    unique_imagesVal.append(imagesVal[l])\n",
    "\n",
    "  # take 10 of them randomly\n",
    "  subimagesVal += random.sample(imagesVal, 10)\n",
    "\n"
   ]
  },
  {
   "cell_type": "code",
   "execution_count": 3,
   "metadata": {
    "executionInfo": {
     "elapsed": 50172,
     "status": "ok",
     "timestamp": 1616608467556,
     "user": {
      "displayName": "G X",
      "photoUrl": "https://lh3.googleusercontent.com/a-/AOh14GiPM3nBcSIAiq4wgSkRDneXZblaI339eFJPGU8gtg=s64",
      "userId": "07430575892639430364"
     },
     "user_tz": -120
    },
    "id": "cVOKCId1GsoT"
   },
   "outputs": [],
   "source": [
    "# save images to dir\n",
    "!mkdir train_images\n",
    "!mkdir test_images\n",
    "\n",
    "for im in subimagesTrain:\n",
    "  #print(\"im: \", im)\n",
    "  img_data = requests.get(im['coco_url']).content\n",
    "  with open('train_images/' + im['file_name'], 'wb') as handler:\n",
    "    handler.write(img_data)\n",
    "\n",
    "for im2 in subimagesVal:\n",
    "  #print(\"im: \", im)\n",
    "  img_data2 = requests.get(im2['coco_url']).content\n",
    "  with open('test_images/' + im2['file_name'], 'wb') as handler:\n",
    "    handler.write(img_data2)\n"
   ]
  },
  {
   "cell_type": "code",
   "execution_count": 4,
   "metadata": {
    "colab": {
     "base_uri": "https://localhost:8080/"
    },
    "executionInfo": {
     "elapsed": 50170,
     "status": "ok",
     "timestamp": 1616608467558,
     "user": {
      "displayName": "G X",
      "photoUrl": "https://lh3.googleusercontent.com/a-/AOh14GiPM3nBcSIAiq4wgSkRDneXZblaI339eFJPGU8gtg=s64",
      "userId": "07430575892639430364"
     },
     "user_tz": -120
    },
    "id": "-b1pTX6hMM2N",
    "outputId": "974db9b3-0394-42ec-9b99-65774ef23118"
   },
   "outputs": [
    {
     "name": "stdout",
     "output_type": "stream",
     "text": [
      "180\n",
      "39\n"
     ]
    }
   ],
   "source": [
    "# check the lengths of dirs\n",
    "import os\n",
    "\n",
    "print(len(os.listdir('/content/annotations/train_images')))\n",
    "print(len(os.listdir('/content/annotations/test_images')))"
   ]
  },
  {
   "cell_type": "code",
   "execution_count": 5,
   "metadata": {
    "executionInfo": {
     "elapsed": 50167,
     "status": "ok",
     "timestamp": 1616608467560,
     "user": {
      "displayName": "G X",
      "photoUrl": "https://lh3.googleusercontent.com/a-/AOh14GiPM3nBcSIAiq4wgSkRDneXZblaI339eFJPGU8gtg=s64",
      "userId": "07430575892639430364"
     },
     "user_tz": -120
    },
    "id": "voP39tHlGslb"
   },
   "outputs": [],
   "source": [
    "# keep annotations of the above train/test images at .csv and .json data files\n",
    "\n",
    "# csv\n",
    "\n",
    "import csv\n",
    "header = ['filename', 'x', 'y', 'width', 'height', 'category_id' ]\n",
    "\n",
    "with open('train_annotations'  + '.csv', mode='w', newline='') as annot:\n",
    "  annot_writer = csv.writer(annot)\n",
    "  annot_writer.writerow(header)\n",
    "  for im in subimagesTrain:    \n",
    "    annIdsTrain = cocoTrain.getAnnIds(imgIds=im['id'])\n",
    "    annsTrain = cocoTrain.loadAnns(annIdsTrain)\n",
    "    for i in range(len(annsTrain)):\n",
    "      #annot_writer.writerow([im['coco_url'], anns[i]['bbox'][0], anns[i]['bbox'][1], anns[i]['bbox'][0] + anns[i]['bbox'][2], anns[i]['bbox'][1] + anns[i]['bbox'][3], anns[i].get('category_id')])\n",
    "      annot_writer.writerow([im['file_name'], int(round(annsTrain[i]['bbox'][0])), int(round(annsTrain[i]['bbox'][1])), int(round(annsTrain[i]['bbox'][0] + annsTrain[i]['bbox'][2])), int(round(annsTrain[i]['bbox'][1] + annsTrain[i]['bbox'][3])), annsTrain[i].get('category_id')])\n",
    "annot.close()\n",
    "\n",
    "with open('test_annotations'  + '.csv', mode='w', newline='') as annot2:\n",
    "  annot_writer2 = csv.writer(annot2)\n",
    "  annot_writer2.writerow(header)\n",
    "  for im2 in subimagesVal:    \n",
    "    annIdsVal = cocoVal.getAnnIds(imgIds=im2['id'])\n",
    "    annsVal = cocoVal.loadAnns(annIdsVal)\n",
    "    for i2 in range(len(annsVal)):\n",
    "      #annot_writer.writerow([im['coco_url'], anns[i]['bbox'][0], anns[i]['bbox'][1], anns[i]['bbox'][0] + anns[i]['bbox'][2], anns[i]['bbox'][1] + anns[i]['bbox'][3], anns[i2].get('category_id')])\n",
    "      annot_writer2.writerow([im2['file_name'], int(round(annsVal[i2]['bbox'][0])), int(round(annsVal[i2]['bbox'][1])), int(round(annsVal[i2]['bbox'][0] + annsVal[i2]['bbox'][2])), int(round(annsVal[i2]['bbox'][1] + annsVal[i2]['bbox'][3])), annsVal[i2].get('category_id')])\n",
    "annot2.close()\n"
   ]
  },
  {
   "cell_type": "code",
   "execution_count": 6,
   "metadata": {
    "executionInfo": {
     "elapsed": 50165,
     "status": "ok",
     "timestamp": 1616608467561,
     "user": {
      "displayName": "G X",
      "photoUrl": "https://lh3.googleusercontent.com/a-/AOh14GiPM3nBcSIAiq4wgSkRDneXZblaI339eFJPGU8gtg=s64",
      "userId": "07430575892639430364"
     },
     "user_tz": -120
    },
    "id": "AbFIguQaXXo_"
   },
   "outputs": [],
   "source": [
    "# json\n",
    "import json \n",
    "\n",
    "def csv_to_json(csvFilePath, jsonFilePath):\n",
    "    jsonArray = []\n",
    "      \n",
    "    #read csv file\n",
    "    with open(csvFilePath, encoding='utf-8') as csvf: \n",
    "        #load csv file data using csv library's dictionary reader\n",
    "        csvReader = csv.DictReader(csvf) \n",
    "\n",
    "        #convert each csv row into python dict\n",
    "        for row in csvReader: \n",
    "            #add this python dict to json array\n",
    "            jsonArray.append(row)\n",
    "  \n",
    "    #convert python jsonArray to JSON String and write to file\n",
    "    with open(jsonFilePath, 'w', encoding='utf-8') as jsonf: \n",
    "        jsonString = json.dumps(jsonArray, indent=4)\n",
    "        jsonf.write(jsonString)\n",
    "\n",
    "csvFilePathTrain = r'/content/annotations/train_annotations.csv'\n",
    "jsonFilePathTrain = r'train_annotations.json'\n",
    "csv_to_json(csvFilePathTrain, jsonFilePathTrain)\n",
    "\n",
    "csvFilePathVal = r'/content/annotations/test_annotations.csv'\n",
    "jsonFilePathVal = r'test_annotations.json'\n",
    "csv_to_json(csvFilePathVal, jsonFilePathVal)\n"
   ]
  },
  {
   "cell_type": "code",
   "execution_count": 7,
   "metadata": {
    "colab": {
     "base_uri": "https://localhost:8080/"
    },
    "executionInfo": {
     "elapsed": 50163,
     "status": "ok",
     "timestamp": 1616608467563,
     "user": {
      "displayName": "G X",
      "photoUrl": "https://lh3.googleusercontent.com/a-/AOh14GiPM3nBcSIAiq4wgSkRDneXZblaI339eFJPGU8gtg=s64",
      "userId": "07430575892639430364"
     },
     "user_tz": -120
    },
    "id": "w7DimPbKGsfU",
    "outputId": "8c3fd4aa-af31-4032-f12c-b2135e77213c"
   },
   "outputs": [
    {
     "name": "stdout",
     "output_type": "stream",
     "text": [
      "/content\n"
     ]
    }
   ],
   "source": [
    "# all in one file\n",
    "%cd /content/\n",
    "os.rename('annotations', 'images_set2')\n"
   ]
  },
  {
   "cell_type": "markdown",
   "metadata": {
    "id": "9ULS2Sy2JEYr"
   },
   "source": [
    "images_set2 is now a subset of Coco dataset, combrised of 4 classes with 45 images each for training and 10 for testing."
   ]
  },
  {
   "cell_type": "code",
   "execution_count": 16,
   "metadata": {
    "colab": {
     "base_uri": "https://localhost:8080/",
     "height": 35
    },
    "executionInfo": {
     "elapsed": 41113,
     "status": "ok",
     "timestamp": 1616609969258,
     "user": {
      "displayName": "G X",
      "photoUrl": "https://lh3.googleusercontent.com/a-/AOh14GiPM3nBcSIAiq4wgSkRDneXZblaI339eFJPGU8gtg=s64",
      "userId": "07430575892639430364"
     },
     "user_tz": -120
    },
    "id": "z_Bt9buxbC8o",
    "outputId": "b5101525-1451-4f41-88db-48fc2131b647"
   },
   "outputs": [
    {
     "data": {
      "application/vnd.google.colaboratory.intrinsic+json": {
       "type": "string"
      },
      "text/plain": [
       "'/content/images_set2.zip'"
      ]
     },
     "execution_count": 16,
     "metadata": {
      "tags": []
     },
     "output_type": "execute_result"
    }
   ],
   "source": [
    "import shutil\n",
    "shutil.make_archive('images_set2', 'zip', '/content/')"
   ]
  }
 ],
 "metadata": {
  "accelerator": "GPU",
  "colab": {
   "authorship_tag": "ABX9TyPoRH4enAI6DqGdfN9C/iy7",
   "collapsed_sections": [],
   "name": "Coco_Subset.ipynb",
   "provenance": []
  },
  "kernelspec": {
   "display_name": "Python 3",
   "language": "python",
   "name": "python3"
  },
  "language_info": {
   "codemirror_mode": {
    "name": "ipython",
    "version": 3
   },
   "file_extension": ".py",
   "mimetype": "text/x-python",
   "name": "python",
   "nbconvert_exporter": "python",
   "pygments_lexer": "ipython3",
   "version": "3.8.5"
  }
 },
 "nbformat": 4,
 "nbformat_minor": 1
}
