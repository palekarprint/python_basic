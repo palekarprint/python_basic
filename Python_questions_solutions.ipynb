{
 "cells": [
  {
   "cell_type": "raw",
   "id": "60b6f0c4-87d7-464a-a919-fafe79fbb6eb",
   "metadata": {},
   "source": [
    "1. Print the first 5 positive integers in ascending order with one number \n",
    "in each line\n"
   ]
  },
  {
   "cell_type": "code",
   "execution_count": 3,
   "id": "92d3ae20-2f09-4de9-8a6c-9f01b3b716d9",
   "metadata": {},
   "outputs": [
    {
     "name": "stdout",
     "output_type": "stream",
     "text": [
      "1\n",
      "2\n",
      "3\n",
      "4\n",
      "5\n"
     ]
    }
   ],
   "source": [
    "for i in range(5):\n",
    "    print(i+1)"
   ]
  },
  {
   "cell_type": "raw",
   "id": "a723c70f-2393-4dcc-b34c-2e045588207b",
   "metadata": {},
   "source": [
    "2. Print the following pattern\n",
    "*\n",
    "**\n",
    "***\n",
    "****\n",
    "*****\n",
    "There are no spaces between consecutive stars. There are no spaces \n",
    "at the end of each line."
   ]
  },
  {
   "cell_type": "code",
   "execution_count": 2,
   "id": "3aa3b3d9-77ed-4368-9b20-3d9a9216070b",
   "metadata": {},
   "outputs": [
    {
     "name": "stdout",
     "output_type": "stream",
     "text": [
      "*\n",
      "**\n",
      "***\n",
      "****\n",
      "*****\n"
     ]
    }
   ],
   "source": [
    "for i in range(1, 6):\n",
    "    print('*'*i)"
   ]
  },
  {
   "cell_type": "raw",
   "id": "d9263791-a394-44ee-8ba9-4fb01759b6ac",
   "metadata": {},
   "source": [
    "3. Accept an integer as input and print its square as output."
   ]
  },
  {
   "cell_type": "code",
   "execution_count": 7,
   "id": "fd8d4506-6b67-49f9-a5af-4d46a014b06a",
   "metadata": {},
   "outputs": [
    {
     "name": "stdin",
     "output_type": "stream",
     "text": [
      "Enter the Number 3\n"
     ]
    },
    {
     "name": "stdout",
     "output_type": "stream",
     "text": [
      "9\n"
     ]
    }
   ],
   "source": [
    "a = int(input('Enter the Number'))\n",
    "print(a**2)"
   ]
  },
  {
   "cell_type": "raw",
   "id": "49ca4411-ab36-4e57-8d62-3628156bc49b",
   "metadata": {},
   "source": [
    "4.Accept two integers as input and print their sum as output."
   ]
  },
  {
   "cell_type": "code",
   "execution_count": 13,
   "id": "2455b484-4878-490f-a669-d5d587911e27",
   "metadata": {},
   "outputs": [
    {
     "name": "stdin",
     "output_type": "stream",
     "text": [
      "Enter the first String 4\n",
      "Enter the Second String  4\n"
     ]
    },
    {
     "name": "stdout",
     "output_type": "stream",
     "text": [
      "8\n"
     ]
    }
   ],
   "source": [
    "a = int(input('Enter the Number'))\n",
    "b = int(input('Enter the Number'))\n",
    "print(a + b)"
   ]
  },
  {
   "cell_type": "raw",
   "id": "f303afc2-f3af-4d9d-a4d8-7c2da8f24e3c",
   "metadata": {},
   "source": [
    "5. Accept two words as input and print the two words after adding a \n",
    "space between them"
   ]
  },
  {
   "cell_type": "code",
   "execution_count": 14,
   "id": "1dbdf4a3-558e-4f70-bd68-fa1b3558b3eb",
   "metadata": {},
   "outputs": [
    {
     "name": "stdin",
     "output_type": "stream",
     "text": [
      "Enter the first String vikas\n",
      "Enter the Second String palekar\n"
     ]
    },
    {
     "name": "stdout",
     "output_type": "stream",
     "text": [
      "vikas palekar\n"
     ]
    }
   ],
   "source": [
    "a = input('Enter the first String')\n",
    "b = input('Enter the Second String')\n",
    "print(a + \" \" + b)"
   ]
  },
  {
   "cell_type": "raw",
   "id": "1fdd53ab-a380-4caa-bdec-2876024a044d",
   "metadata": {},
   "source": [
    "6. Accept the registration number of a vehicle as input and print its \n",
    "state-code as output."
   ]
  },
  {
   "cell_type": "code",
   "execution_count": 15,
   "id": "d9659972-f10b-4cd6-9dc8-bc36b114620e",
   "metadata": {},
   "outputs": [
    {
     "name": "stdin",
     "output_type": "stream",
     "text": [
      " MH32AS4731\n"
     ]
    },
    {
     "name": "stdout",
     "output_type": "stream",
     "text": [
      "MH\n"
     ]
    }
   ],
   "source": [
    "s = input()\n",
    "print(s[:2])"
   ]
  },
  {
   "cell_type": "raw",
   "id": "e476d0d4-2d90-4764-b4ce-91d6d67729c2",
   "metadata": {},
   "source": [
    "7.Accept a five-digit number as input and print the sum of its digits as \n",
    "output."
   ]
  },
  {
   "cell_type": "code",
   "execution_count": 20,
   "id": "63ff1b1d-2d92-413d-a840-74c3a415fc4a",
   "metadata": {},
   "outputs": [
    {
     "name": "stdin",
     "output_type": "stream",
     "text": [
      " 12345\n"
     ]
    },
    {
     "name": "stdout",
     "output_type": "stream",
     "text": [
      "15\n"
     ]
    }
   ],
   "source": [
    "num = input()\n",
    "d1 = int(num[0])\n",
    "d2 = int(num[1])\n",
    "d3 = int(num[2])\n",
    "d4 = int(num[3])\n",
    "d5 = int(num[4])\n",
    "dsum = d1 + d2 + d3 + d4 + d5\n",
    "print(dsum)"
   ]
  },
  {
   "cell_type": "code",
   "execution_count": 3,
   "id": "4cd758f2-f2a5-4b42-ab15-08a8a977783d",
   "metadata": {},
   "outputs": [
    {
     "name": "stdin",
     "output_type": "stream",
     "text": [
      " 12345\n"
     ]
    },
    {
     "name": "stdout",
     "output_type": "stream",
     "text": [
      "15\n"
     ]
    }
   ],
   "source": [
    "num = input()\n",
    "sum = 0\n",
    "for i in range(0, len(num)):\n",
    "    sum = sum + int(num[i])\n",
    "print(sum)"
   ]
  },
  {
   "cell_type": "raw",
   "id": "47ef2a83-4d51-4340-8770-9490474f43a9",
   "metadata": {},
   "source": [
    "8.Accept five words as input and print the sentence formed by these \n",
    "words after adding a space between consecutive words and a full stop \n",
    "at the end."
   ]
  },
  {
   "cell_type": "code",
   "execution_count": 34,
   "id": "ceed0483-1d14-49a2-a11a-e435043b0c78",
   "metadata": {},
   "outputs": [
    {
     "name": "stdin",
     "output_type": "stream",
     "text": [
      " this\n",
      " is\n",
      " five\n",
      " word\n",
      " sentence\n"
     ]
    },
    {
     "name": "stdout",
     "output_type": "stream",
     "text": [
      "this is five word sentence.\n"
     ]
    }
   ],
   "source": [
    "word1 = input()\n",
    "word2 = input()\n",
    "word3 = input()\n",
    "word4 = input()\n",
    "word5 = input()\n",
    "space = ' '\n",
    "stop = '.'\n",
    "sentance = word1 + space + word2 + space + word3 + space + word4 + space + word5 + stop\n",
    "print(sentance)"
   ]
  },
  {
   "cell_type": "raw",
   "id": "7b0fb9d7-98dc-4ab9-9548-c12f49f787a0",
   "metadata": {},
   "source": [
    "9.Accept the date in DD-MM-YYYY format as input and print the \n",
    "year as output."
   ]
  },
  {
   "cell_type": "code",
   "execution_count": 39,
   "id": "0120ac30-6970-4b1f-9615-575ed7aab8b3",
   "metadata": {},
   "outputs": [
    {
     "name": "stdin",
     "output_type": "stream",
     "text": [
      " 12-10-2022\n"
     ]
    },
    {
     "name": "stdout",
     "output_type": "stream",
     "text": [
      "2022\n"
     ]
    }
   ],
   "source": [
    "date = input()\n",
    "print('Year is 'date[6:])"
   ]
  },
  {
   "cell_type": "raw",
   "id": "521abc20-5c4a-4fda-a3d7-45c626ad4d1c",
   "metadata": {},
   "source": [
    "10.Accept a sequence of five single digit numbers separated by commas \n",
    "as input. Print the product of all five numbers."
   ]
  },
  {
   "cell_type": "code",
   "execution_count": 10,
   "id": "72e3ec71-3442-403d-93b1-0cd8494031ff",
   "metadata": {},
   "outputs": [
    {
     "name": "stdin",
     "output_type": "stream",
     "text": [
      " 1,2,3,4,5\n"
     ]
    },
    {
     "name": "stdout",
     "output_type": "stream",
     "text": [
      "120\n"
     ]
    }
   ],
   "source": [
    "input_num = input()\n",
    "input_list = list(input_num.split(','))\n",
    "prod = 1\n",
    "for i in input_list:\n",
    "    prod = prod * int(i)\n",
    "print(prod)"
   ]
  },
  {
   "cell_type": "code",
   "execution_count": 11,
   "id": "3ebf7e8b-87b8-417b-b691-54ca9ddf74f5",
   "metadata": {},
   "outputs": [
    {
     "name": "stdin",
     "output_type": "stream",
     "text": [
      " 1,2,3,4,5\n"
     ]
    },
    {
     "name": "stdout",
     "output_type": "stream",
     "text": [
      "120\n"
     ]
    }
   ],
   "source": [
    "input_num = list(input().split(','))\n",
    "prod = 1\n",
    "for i in input_num:\n",
    "    prod = prod * int(i)\n",
    "print(prod)"
   ]
  },
  {
   "cell_type": "raw",
   "id": "482e853e-2564-4eaf-a46b-0f31d3369f58",
   "metadata": {},
   "source": [
    "11. Accept two positive integers x and y as input. Print the number of \n",
    "digits in x^y"
   ]
  },
  {
   "cell_type": "code",
   "execution_count": 20,
   "id": "8dd195dd-c106-471d-8ed9-88a6573ff8f2",
   "metadata": {},
   "outputs": [
    {
     "name": "stdin",
     "output_type": "stream",
     "text": [
      " 100\n",
      " 2\n"
     ]
    },
    {
     "name": "stdout",
     "output_type": "stream",
     "text": [
      "10000\n",
      "5\n"
     ]
    }
   ],
   "source": [
    "x = int(input())\n",
    "y= int(input())\n",
    "z = x**y\n",
    "print(z)\n",
    "print(len(str(z)))"
   ]
  },
  {
   "cell_type": "raw",
   "id": "af890b67-6c1f-412c-bbbe-8fc1358e0a91",
   "metadata": {},
   "source": [
    "12. Accept a string as input. If the input string is of odd length, then \n",
    "continue with it. If the input string is of even length, make the \n",
    "string of odd length as below:\n",
    "• If the last character is a period (.), then remove it \n",
    "• If the last character is not a period, then add a period (.) to the \n",
    "end of the string\n",
    "Call this string of odd length word. Select a substring made up of \n",
    "three consecutive characters from word such that there are an \n",
    "equal number of characters to the left and right of this substring. \n",
    "Print this substring as output. You can assume that all input \n",
    "strings will be in lower case and will have a length of at least four"
   ]
  },
  {
   "cell_type": "code",
   "execution_count": 42,
   "id": "daa47dc3-aff7-4993-a4e3-a8d6fc10c4dc",
   "metadata": {},
   "outputs": [
    {
     "name": "stdin",
     "output_type": "stream",
     "text": [
      " vikaspalekar\n"
     ]
    },
    {
     "name": "stdout",
     "output_type": "stream",
     "text": [
      "vikaspalekar.\n",
      "pal\n"
     ]
    }
   ],
   "source": [
    "str = input()\n",
    "if (len(str) % 2 == 0):\n",
    "    if(str[-1] == '.'):\n",
    "        str = str[0:-1]\n",
    "    else:\n",
    "        str = str + '.'\n",
    "print(str)\n",
    "for i in range(len(str)):\n",
    "    sub_str = str[i:-i]\n",
    "    if (len(sub_str) == 3):\n",
    "        print(sub_str)"
   ]
  },
  {
   "cell_type": "raw",
   "id": "7188ddf7-aeae-43c7-add9-8a31e08a2bc9",
   "metadata": {},
   "source": [
    "13. Accept three positive integers as input and check if they form the \n",
    "sides of a right triangle. Print YES if they form one, and NO is they do \n",
    "not. The input will have three lines, with one integer on each line. \n",
    "The output should be a single line containing one of these two \n",
    "strings: YES or NO."
   ]
  },
  {
   "cell_type": "code",
   "execution_count": 44,
   "id": "1673d38b-985b-40a2-8c18-9930a1a83d17",
   "metadata": {},
   "outputs": [
    {
     "name": "stdin",
     "output_type": "stream",
     "text": [
      " 3\n",
      " 4\n",
      " 5\n"
     ]
    },
    {
     "name": "stdout",
     "output_type": "stream",
     "text": [
      "YES\n"
     ]
    }
   ],
   "source": [
    "x = int(input())\n",
    "y = int(input())\n",
    "z = int(input())\n",
    "if ((x**2 + y**2 == z**2) or (z**2 + y**2 == x**2) or (x**2 + z**2 == y**2)):\n",
    "    print(\"YES\")\n",
    "else:\n",
    "    print(\"No\")"
   ]
  },
  {
   "cell_type": "raw",
   "id": "5e16b40c-a122-4dbc-a681-bca1fe32a1dc",
   "metadata": {},
   "source": [
    "14. EvenOdd is a tech startup. Each employee at the startup is given an employee id which is a unique \n",
    "positive integer. On one warm Sunday evening, five employees of the company come together for a \n",
    "meeting and sit at a circular table:\n",
    "The employees follow a strange convention. They will continue the meeting only if the following \n",
    "condition is satisfied.\n",
    "The sum of the employee-ids of every pair of adjacent employees at the table must be an even \n",
    "number.\n",
    "They are so lazy that they won’t move around to satisfy the above condition, If the current seating \n",
    "plan doesn’t satisfy the condition, the meeting will be cancelled. You are given the employee-id of all \n",
    "five employees. Your task is to decide if the meeting happened or not.\n",
    "The input will be five lined, each containing an integer. The ith line will have the employee-id of Ei. \n",
    "The output will be a single line containing one of these two strings: YES or NO"
   ]
  },
  {
   "cell_type": "code",
   "execution_count": 46,
   "id": "b6b8651b-5504-41c3-a9c6-98c29393dd13",
   "metadata": {},
   "outputs": [
    {
     "name": "stdin",
     "output_type": "stream",
     "text": [
      " 2\n",
      " 4\n",
      " 5\n",
      " 4\n",
      " 5\n"
     ]
    },
    {
     "name": "stdout",
     "output_type": "stream",
     "text": [
      "No\n"
     ]
    }
   ],
   "source": [
    "Emp_id1 = int(input())\n",
    "Emp_id2 = int(input())\n",
    "Emp_id3 = int(input())\n",
    "Emp_id4 = int(input())\n",
    "Emp_id5 = int(input())\n",
    "if ((Emp_id1 + Emp_id2) % 2 == 0 and\n",
    "    (Emp_id2 + Emp_id3) % 2 == 0 and\n",
    "    (Emp_id3 + Emp_id4) % 2 == 0 and\n",
    "    (Emp_id4 + Emp_id5) % 2 == 0 and\n",
    "    (Emp_id5 + Emp_id1) % 2 == 0) :\n",
    "    print('YES')\n",
    "else:\n",
    "    print('No')\n",
    "       "
   ]
  },
  {
   "cell_type": "raw",
   "id": "1d651eb9-add5-4f2b-9a92-57303f327be3",
   "metadata": {},
   "source": [
    "15. Accept a string as input and print the vowels present in the string in \n",
    "alphabetical order. If the string doesn’t contain any vowels, then \n",
    "print the string none as output. Each vowel that appears in the input \n",
    "string – irrespective of its case should appear just once in lower case \n",
    "in the output"
   ]
  },
  {
   "cell_type": "code",
   "execution_count": 24,
   "id": "5ada7188-ada1-4aec-a665-8fb0d7a13691",
   "metadata": {},
   "outputs": [
    {
     "name": "stdin",
     "output_type": "stream",
     "text": [
      " VIKASpalekar\n"
     ]
    },
    {
     "name": "stdout",
     "output_type": "stream",
     "text": [
      "{'a', 'e', 'i'}\n"
     ]
    }
   ],
   "source": [
    "volwels = ['a', 'e', 'i', 'o', 'u', 'A', 'E', 'I', 'O', 'U' ]\n",
    "input_str = input()\n",
    "vol_in_str = []\n",
    "for i in input_str:\n",
    "    if i in volwels:\n",
    "        i = i.lower()\n",
    "        vol_in_str.append(i)\n",
    "\n",
    "if (len(vol_in_str) == 0):\n",
    "    print('none')\n",
    "else:\n",
    "    print(set(vol_in_str))\n",
    "        "
   ]
  },
  {
   "cell_type": "raw",
   "id": "f7e76b4b-b3f7-4766-a82b-5e63a879b380",
   "metadata": {},
   "source": [
    "16.You are given the date of birth of two persons, not necessarily from \n",
    "the same family. Your task is to find the younger of the two. If both \n",
    "of them share the same date of birth, then the younger of the two is \n",
    "assumed to be that person whose name comes first in alphabetical \n",
    "order.\n",
    "The input will have four lines. The first two lines correspond to the \n",
    "first person, while the last two lines correspond to the second \n",
    "person. For each person, the first line corresponds to the name and \n",
    "the second line corresponds to the date of birth in “DD-MM-YYYY” \n",
    "format. Your output should be the name of the younger of the two."
   ]
  },
  {
   "cell_type": "code",
   "execution_count": 55,
   "id": "fbcfdb18-8887-4ae2-b15e-2bc0ef9bb5cf",
   "metadata": {},
   "outputs": [
    {
     "name": "stdin",
     "output_type": "stream",
     "text": [
      " vikas\n",
      " 17-04-1983\n",
      " shital\n",
      " 12-04-1983\n"
     ]
    },
    {
     "name": "stdout",
     "output_type": "stream",
     "text": [
      "shital is younger than vikas\n"
     ]
    }
   ],
   "source": [
    "Person1_name = input()\n",
    "Person1_dob = input()\n",
    "Person2_name = input()\n",
    "Person2_dob = input()\n",
    "Person1_doy = int(Person1_dob[-4:])\n",
    "Person1_dom = int(Person1_dob[3:5])\n",
    "Person1_dod = int(Person1_dob[0:2])\n",
    "Person2_doy = int(Person2_dob[-4:])\n",
    "Person2_dom = int(Person2_dob[3:5])\n",
    "Person2_dod = int(Person2_dob[0:2])\n",
    "if (Person1_doy == Person2_doy):\n",
    "    if (Person1_dom == Person2_dom):\n",
    "        if (Person1_dod == Person2_dod):\n",
    "            if(Person1_name > Person2_name):\n",
    "                print(f\"{Person2_name} is younger than {Person1_name}\")\n",
    "            else:\n",
    "                print(f\"{Person2_name} is younger than {Person1_name}\")\n",
    "        elif(Person1_dod > Person2_dod):\n",
    "            print(f\"{Person2_name} is younger than {Person1_name}\")\n",
    "        else:\n",
    "            print(f\"{Person1_name} is younger than {Person2_name}\")\n",
    "    elif(Person1_dom > Person2_dom):\n",
    "        print(f\"{Person2_name} is younger than {Person1_name}\")\n",
    "    else:\n",
    "        print(f\"{Person1_name} is younger than {Person2_name}\")\n",
    "elif(Person1_doy > Person2_doy):\n",
    "    print(f\"{Person2_name} is younger than {Person1_name}\")\n",
    "else:\n",
    "    print(f\"{Person1_name} is younger than {Person2_name}\")        "
   ]
  },
  {
   "cell_type": "raw",
   "id": "6ee8f8bd-15aa-40d8-9cef-2f7e22f6cf5d",
   "metadata": {},
   "source": [
    "17.Accept a string as input. Your task is to determine if the input string is a valid password or not. For a \n",
    "string to be a valid password, it must satisfy all the conditions given below:\n",
    "(1) It should have at least 8 and at most 32 characters\n",
    "(2) It should start with an uppercase or lowercase letter\n",
    "(3) It should not have any of these characters: / \\ = ' \"\n",
    "(4) It should not have spaces\n",
    "It could have any character that is not mentioned in the list of characters to be avoided (points 3 and \n",
    "4). Output True if the string forms a valid password and False otherwise"
   ]
  },
  {
   "cell_type": "code",
   "execution_count": 70,
   "id": "e993a7ee-2447-48f5-bb50-bdec5cf40867",
   "metadata": {},
   "outputs": [
    {
     "name": "stdin",
     "output_type": "stream",
     "text": [
      " vika'pale\n"
     ]
    },
    {
     "name": "stdout",
     "output_type": "stream",
     "text": [
      "Invalid Passward\n"
     ]
    }
   ],
   "source": [
    "inp_paas = input()\n",
    "sp_char = ['/', '\\\\', \"=\", '\"', \"'\", ' ']\n",
    "if(32 > len(inp_paas) > 8):\n",
    "    if(inp_paas[0].isupper() or inp_paas[0].islower()):\n",
    "        flag = 0\n",
    "        for i in range(len(inp_paas)):\n",
    "            if (inp_paas[i] in sp_char):\n",
    "                flag = 1\n",
    "if(flag == 0):\n",
    "    print('Valid Passward')\n",
    "else:\n",
    "    print('Invalid Passward')"
   ]
  },
  {
   "cell_type": "raw",
   "id": "a4d2f09c-6787-477e-8ed5-4ed4257469cb",
   "metadata": {},
   "source": [
    "18. Accept a positive integer n as input and print the first n positive \n",
    "integers, one number on each line."
   ]
  },
  {
   "cell_type": "code",
   "execution_count": 72,
   "id": "8bb9b9db-d2bd-42d4-812a-752b9dbe49cb",
   "metadata": {},
   "outputs": [
    {
     "name": "stdin",
     "output_type": "stream",
     "text": [
      " 5\n"
     ]
    },
    {
     "name": "stdout",
     "output_type": "stream",
     "text": [
      "1\n",
      "2\n",
      "3\n",
      "4\n",
      "5\n"
     ]
    }
   ],
   "source": [
    "num = int(input())\n",
    "for i in range(1, num+1):\n",
    "    print(i)"
   ]
  },
  {
   "cell_type": "raw",
   "id": "0527265b-0110-476d-8bf6-6a724749197e",
   "metadata": {},
   "source": [
    "19.Accept a positive integer n as input, where n is greater than 1. \n",
    "Print PRIME ifnis a prime number and NOTPRIME otherwise."
   ]
  },
  {
   "cell_type": "code",
   "execution_count": 78,
   "id": "a5475af1-2f5c-4b0f-9495-18a6c8fc06c2",
   "metadata": {},
   "outputs": [
    {
     "name": "stdin",
     "output_type": "stream",
     "text": [
      " 44\n"
     ]
    },
    {
     "name": "stdout",
     "output_type": "stream",
     "text": [
      "NOT PRIME\n"
     ]
    }
   ],
   "source": [
    "num = int(input())\n",
    "if(num > 1):\n",
    "    if (num == 1):\n",
    "        print('PRIME')\n",
    "    elif(num %2 == 1):\n",
    "        print('PRIME')\n",
    "    else:\n",
    "        print('NOT PRIME')"
   ]
  },
  {
   "cell_type": "raw",
   "id": "8d8297d3-a658-4afd-9b7f-b2ee198faa52",
   "metadata": {},
   "source": [
    "20. Accept two strings as input and form a new string by removing all \n",
    "characters from the second string which are present in the first string. \n",
    "Print this new string as output. You can assume that all input strings \n",
    "will be in lower case."
   ]
  },
  {
   "cell_type": "code",
   "execution_count": 87,
   "id": "de624283-d5ce-4101-a78e-36436638c362",
   "metadata": {},
   "outputs": [
    {
     "name": "stdin",
     "output_type": "stream",
     "text": [
      " vikas\n",
      " palekar\n"
     ]
    },
    {
     "name": "stdout",
     "output_type": "stream",
     "text": [
      "pler\n"
     ]
    }
   ],
   "source": [
    "str1 = input()\n",
    "str2 = input()\n",
    "for i in str1:\n",
    "    if(i in str2):\n",
    "        str2 = str2.replace(i, '')\n",
    "print(str2)\n",
    "       \n",
    "        "
   ]
  },
  {
   "cell_type": "raw",
   "id": "9d4ca698-02c3-415a-8b99-7b59c5702d8d",
   "metadata": {},
   "source": [
    "21.Accept a phone number as input. A valid phone number should satisfy \n",
    "the following constraints.\n",
    "(1) The number should start with one of these digits: 6, 7, 8, 9\n",
    "(2) The number should be exactly 10 digits long.\n",
    "(3) No digit should appear more than 7 times in the number.\n",
    "(4) No digit should appear more than 5 times in a row in the \n",
    "number.\n",
    "If the fourth condition is not very clear, then consider this example: \n",
    "the number 9888888765 is invalid because the digit 8 appears more \n",
    "than 5 times in a row. Print the string valid if the phone number is \n",
    "valid. If not, print the string invalid."
   ]
  },
  {
   "cell_type": "code",
   "execution_count": 43,
   "id": "a165fb0d-5f57-4ed0-be94-d7d4b24f56e6",
   "metadata": {},
   "outputs": [
    {
     "name": "stdin",
     "output_type": "stream",
     "text": [
      " 8888888878\n"
     ]
    },
    {
     "name": "stdout",
     "output_type": "stream",
     "text": [
      "Valid\n"
     ]
    }
   ],
   "source": [
    "ph_num = input()\n",
    "a = False\n",
    "if(len(ph_num) == 10 and int(ph_num[0])>5 and ph_num.isdigit()):\n",
    "    for i in range(10):\n",
    "        if (ph_num.count(ph_num[i]) < 8):\n",
    "            a = True\n",
    "            if (ph_num[i]*6 in ph_num):\n",
    "                a = False\n",
    "                break\n",
    "            else:\n",
    "                break\n",
    "\n",
    "if a:\n",
    "    print('Valid')\n",
    "else:\n",
    "    print('Invalid')\n",
    "                "
   ]
  },
  {
   "cell_type": "code",
   "execution_count": 35,
   "id": "25879432-32a4-45d0-85c9-25eca7537870",
   "metadata": {},
   "outputs": [
    {
     "name": "stdout",
     "output_type": "stream",
     "text": [
      "False\n"
     ]
    }
   ],
   "source": [
    "ph_num = '8888885565'\n",
    "a = False\n",
    "if (ph_num.count(ph_num[0]) < 8):\n",
    "    a = True\n",
    "    if (ph_num[0]*6 in ph_num):\n",
    "                a = False\n",
    "print(a)"
   ]
  },
  {
   "cell_type": "code",
   "execution_count": 40,
   "id": "df5f6a11-35aa-43e9-8e71-30977cd097f0",
   "metadata": {},
   "outputs": [
    {
     "data": {
      "text/plain": [
       "8"
      ]
     },
     "execution_count": 40,
     "metadata": {},
     "output_type": "execute_result"
    }
   ],
   "source": [
    "ph_num.count(ph_num[0])"
   ]
  },
  {
   "cell_type": "raw",
   "id": "781b0869-d8b7-4f2f-b4cd-16d0e128fd0f",
   "metadata": {},
   "source": [
    "22. In the first line of input, accept a sequence of space-separated words. In the second line of \n",
    "input, accept a single word. If this word is not present in the sequence, print NO. If this word \n",
    "is present in the sequence, then print YES and in the next line of the output, print the number \n",
    "of times the word appears in the sequence."
   ]
  },
  {
   "cell_type": "code",
   "execution_count": 48,
   "id": "b32b8acd-0ea7-4d67-98fe-f976d441e914",
   "metadata": {},
   "outputs": [
    {
     "name": "stdin",
     "output_type": "stream",
     "text": [
      " he range of a list of numbers is the difference between the maximum and minimum values in the list\n",
      " the\n"
     ]
    },
    {
     "name": "stdout",
     "output_type": "stream",
     "text": [
      "YES\n",
      "3\n"
     ]
    }
   ],
   "source": [
    "seq = input()\n",
    "single = input()\n",
    "if single in seq:\n",
    "    print('YES')\n",
    "    print(seq.count(single))\n",
    "else:\n",
    "    print('NO')"
   ]
  },
  {
   "cell_type": "raw",
   "id": "ea752210-2e2a-428b-937c-31251daf7ba8",
   "metadata": {},
   "source": [
    "23. Write a function named factorial that accepts an integer n as argument. It should return \n",
    "the factorial of n if n is a positive integer. It should return -1 if n is a negative integer, and it \n",
    "should return 1 if n is zero."
   ]
  },
  {
   "cell_type": "code",
   "execution_count": 53,
   "id": "f2e134b3-c27f-4fa3-973a-2f970d3cf0a3",
   "metadata": {},
   "outputs": [
    {
     "name": "stdin",
     "output_type": "stream",
     "text": [
      " 4\n"
     ]
    },
    {
     "name": "stdout",
     "output_type": "stream",
     "text": [
      "24\n"
     ]
    }
   ],
   "source": [
    "num = int(input())\n",
    "def facto(n):\n",
    "    if(num == 0):\n",
    "        print(1)\n",
    "    if(num < 0):\n",
    "        print(-1)\n",
    "    fact = 1\n",
    "    for i in range(0, n):\n",
    "        fact = fact * ( n - i)\n",
    "    return fact\n",
    "\n",
    "print(facto(num))"
   ]
  },
  {
   "cell_type": "raw",
   "id": "c757a0b6-8450-47af-9b1f-f6ce69ebc775",
   "metadata": {},
   "source": [
    "24. \n",
    "The range of a list of numbers is the difference between the maximum and minimum values in the list\n",
    "Write a function named get_range that accepts a non-empty list of real numbers as argument. It \n",
    "should return the range of the list.\n",
    "(1) Avoid using built-in function such as max and min.\n",
    "(2) You do not have to accept input from the user or print output to the console. You just have to write \n",
    "the function definition."
   ]
  },
  {
   "cell_type": "code",
   "execution_count": 9,
   "id": "65a3861f-88ca-4c39-a844-7d9d5c779e54",
   "metadata": {},
   "outputs": [
    {
     "name": "stdout",
     "output_type": "stream",
     "text": [
      "30\n"
     ]
    }
   ],
   "source": [
    "l = [3, 5, 4, 11, 33]\n",
    "def get_max(lst):\n",
    "    max_lst = lst[0]\n",
    "    for i in lst:\n",
    "        if i > max_lst:\n",
    "            max_lst = i\n",
    "    return max_lst\n",
    "\n",
    "def get_min(lst):\n",
    "    min_lst = lst[0]\n",
    "    for i in lst:\n",
    "        if i < min_lst:\n",
    "            min_lst = i\n",
    "    return min_lst\n",
    "\n",
    "def get_range(lst):\n",
    "    min_lst = get_min(lst)\n",
    "    max_lst = get_max(lst)\n",
    "    return max_lst - min_lst\n",
    "print(get_range(l))\n",
    "    "
   ]
  },
  {
   "cell_type": "raw",
   "id": "8f3ba3db-9ed9-4c14-ac23-41f3225ad874",
   "metadata": {},
   "source": [
    "25. Write a function named read_file that accepts a text file named filename as argument. Within \n",
    "the function, read the file and print each line of the file on a separate line in the console. You shouldn't \n",
    "print any extra characters at the end of a line. There shouldn't be an empty line between any two \n",
    "consecutive lines.\n",
    "(1) filename is a string variable that holds the name of the file. For example, in the first test case, it \n",
    "is filename = 'public_1.txt'.\n",
    "(2) You do not have to accept input from the console. You have to write the function definition and \n",
    "print the contents of the file within the function"
   ]
  },
  {
   "cell_type": "raw",
   "id": "b2d94805-f65b-47c2-9d18-2a8bdbe5c2dc",
   "metadata": {},
   "source": [
    "26. A simple algorithm has to be designed to find out whether a student \n",
    "belongs to the Data Science branch or not. The input will be a \n",
    "student's roll number, which is of the form BR18B0000. \n",
    "Here, BR represents the branch code, 18 represents the year of \n",
    "joining, B represents the education level and 0000 represents the \n",
    "specific identification given to the student of that batch. The branch \n",
    "code for Data Science is DS. Print True if the student belongs to \n",
    "Data Science branch and False otherwise."
   ]
  },
  {
   "cell_type": "code",
   "execution_count": 15,
   "id": "ca5273ac-e54e-44d7-bad1-248c418da1d2",
   "metadata": {},
   "outputs": [
    {
     "name": "stdin",
     "output_type": "stream",
     "text": [
      " MR18B0000\n"
     ]
    },
    {
     "name": "stdout",
     "output_type": "stream",
     "text": [
      "False\n"
     ]
    }
   ],
   "source": [
    "r_no = input()\n",
    "def find_ds_stud(roll_no):\n",
    "    if (roll_no[:2] == 'DS'):\n",
    "        print('True')\n",
    "    else:\n",
    "        print('False')\n",
    "find_ds_stud(r_no)"
   ]
  },
  {
   "cell_type": "raw",
   "id": "52e69e6b-ab1d-411c-8750-7a2de08bc8dd",
   "metadata": {},
   "source": [
    "27.The police are trying to track a criminal based on the evidence \n",
    "available at a crime site. Their main clue is a vehicle's damaged \n",
    "number plate. Only the string TN07 is visible. The format of the \n",
    "registration number is AA00AA00, where the first two letters are \n",
    "alphabets, next two are numbers, next two are again alphabets \n",
    "followed by two numbers at the end. A number plate is picked from a \n",
    "database of registration numbers and is given to you as input. Your \n",
    "task is to determine if this could belong to the criminal or not. \n",
    "Print True if the number plate \n",
    "contains TN07 and False otherwise."
   ]
  },
  {
   "cell_type": "code",
   "execution_count": 20,
   "id": "b6dace90-04f3-49e9-b4ef-0c861edfb903",
   "metadata": {},
   "outputs": [
    {
     "name": "stdin",
     "output_type": "stream",
     "text": [
      " TN07AA00\n"
     ]
    },
    {
     "name": "stdout",
     "output_type": "stream",
     "text": [
      "True\n"
     ]
    }
   ],
   "source": [
    "num_plate = input()\n",
    "def identify(num):\n",
    "    if(num[:4] == 'TN07' or num[4:] == 'TN07'):\n",
    "        print('True')\n",
    "    else:\n",
    "        print('False')\n",
    "\n",
    "identify(num_plate)"
   ]
  },
  {
   "cell_type": "raw",
   "id": "11b4a079-30a1-480d-a759-2b54ab29f90f",
   "metadata": {},
   "source": [
    "28. You are given a string and two non-negative integers as input. The \n",
    "two integers specify the start and end indices of a substring in the \n",
    "given string. Create a new string by replicating the substring a \n",
    "minimum number of times so that the resulting string is longer than \n",
    "the input string. The input parameters are the string, start index of \n",
    "the substring and the end index of substring (endpoints inclusive) \n",
    "each on a different line."
   ]
  },
  {
   "cell_type": "code",
   "execution_count": 39,
   "id": "f988cc82-f9fb-4c45-9544-b5c3ecde7bd2",
   "metadata": {},
   "outputs": [
    {
     "name": "stdin",
     "output_type": "stream",
     "text": [
      " entire\n",
      " 1\n",
      " 5\n"
     ]
    },
    {
     "name": "stdout",
     "output_type": "stream",
     "text": [
      "ntirentire\n"
     ]
    }
   ],
   "source": [
    "a = input()\n",
    "b = int(input())\n",
    "c = int(input())\n",
    "d = a[b:c+1]\n",
    "l_d = len(d)\n",
    "l_a = len(a)\n",
    "for i in range(1, l_a):\n",
    "    if(i*l_d > l_a):\n",
    "        new = d*i\n",
    "        break\n",
    "print(new)\n"
   ]
  },
  {
   "cell_type": "raw",
   "id": "2c2d9d8e-e84a-4ca1-8791-8033b8e650a0",
   "metadata": {},
   "source": [
    "29. A class teacher has decided to split her entire class into four groups, namely Sapphire, Peridot, Ruby, \n",
    "and Emerald for sports competitions. For dividing the students into these four groups, she has \n",
    "followed the pattern given below:\n",
    "Sapphire - 1, 5, 9, 13, 17, 21, ...\n",
    "Peridot - 2, 6, 10, 14, 18, 22, ...\n",
    "Ruby - 3, 7, 11, 15, 19, 23, ...\n",
    "Emerald - 4, 8, 12, 16, 20, 24, ...\n",
    "All the students are represented by their roll numbers. Based on the above pattern, given the roll \n",
    "number as input, print the group the student belongs to. Note that the roll number can be any \n",
    "positive integer and not necessarily less than 25."
   ]
  },
  {
   "cell_type": "code",
   "execution_count": 40,
   "id": "0f3576c8-2fc1-4b51-ae92-c6dce5110b66",
   "metadata": {},
   "outputs": [
    {
     "name": "stdin",
     "output_type": "stream",
     "text": [
      " 25\n"
     ]
    },
    {
     "name": "stdout",
     "output_type": "stream",
     "text": [
      "Sapphire\n"
     ]
    }
   ],
   "source": [
    "n = int(input())\n",
    "for i in range(1, n+1, 4):\n",
    "    if n == i:\n",
    "        print('Sapphire')\n",
    "for i in range(2, n+1, 4):\n",
    "    if n == i:\n",
    "        print('Peridot')\n",
    "for i in range(3, n+1, 4):\n",
    "    if n == i:\n",
    "        print('Ruby')\n",
    "for i in range(3, n+1, 4):\n",
    "    if n == i:\n",
    "        print('Ruby')"
   ]
  },
  {
   "cell_type": "raw",
   "id": "7e18467c-5ccb-4820-bc5f-c4adc9babe2c",
   "metadata": {},
   "source": [
    "30. A data science company wants to hire data scientists from abc college. \n",
    "The company follows a certain criteria for selection: for a student to \n",
    "be selected, the number of backlogs should be at most 5 and the \n",
    "CGPA (Cumulative Grade Point Average) should be greater than 6. If \n",
    "the student does not fit the above criteria, then the student is not \n",
    "offered the job. If the student is selected, then the salary offered is \n",
    "equal to 5 times his/her CGPA (in lakhs).\n",
    "Accept the number of backlogs (integer) and the CGPA (float) of the \n",
    "student as input. Your task is to determine if the student is selected or \n",
    "not. If the student is selected, then print the package. If not, then \n",
    "print the string Not Selected."
   ]
  },
  {
   "cell_type": "code",
   "execution_count": 47,
   "id": "b5228140-0b54-442e-bef0-452233998b4d",
   "metadata": {},
   "outputs": [
    {
     "name": "stdin",
     "output_type": "stream",
     "text": [
      " 4\n",
      " 5.5\n"
     ]
    },
    {
     "name": "stdout",
     "output_type": "stream",
     "text": [
      "Not Selected\n"
     ]
    }
   ],
   "source": [
    "no_back = int(input())\n",
    "CGPA = float(input())\n",
    "if(no_back < 6 and CGPA > 6):\n",
    "    print('Salary offered', CGPA * 5)\n",
    "else:\n",
    "    print('Not Selected')"
   ]
  },
  {
   "cell_type": "raw",
   "id": "15b2b2b3-e511-4184-af23-c42d9ee021b8",
   "metadata": {},
   "source": [
    "31. Accept a string as input and print PALINDROME if it is a \n",
    "palindrome, and NOT PALINDROME otherwise"
   ]
  },
  {
   "cell_type": "code",
   "execution_count": 53,
   "id": "23d669a4-facf-4b92-b445-5a5db0b40cdb",
   "metadata": {},
   "outputs": [
    {
     "name": "stdin",
     "output_type": "stream",
     "text": [
      " ana\n"
     ]
    },
    {
     "name": "stdout",
     "output_type": "stream",
     "text": [
      "PALINDROM\n"
     ]
    }
   ],
   "source": [
    "st = input()\n",
    "st_r = st[::-1]\n",
    "if(st == st_r):\n",
    "    print('PALINDROM')\n",
    "else:\n",
    "    print('NOT PALINDROM')\n",
    "    "
   ]
  },
  {
   "cell_type": "raw",
   "id": "92cfcd2b-ae26-4009-85b4-15e7996421ac",
   "metadata": {},
   "source": [
    "32. In a portal login website, you are asked to write a function get_password_strength to decide \n",
    "the strength of a password. The strength is decided based on the total score of the password, Use \n",
    "following conditions:\n",
    "1) If password has length greater than 7 then score increases by one point.\n",
    "2) If password has at least one upper case and one lower case alphabets score increases by one point.\n",
    "3) If password has at least one number and no consecutive numbers like 12 or 234 then score \n",
    "increases by one point.\n",
    "4) If password has at least one special character (any character other than numbers and alphabets) then \n",
    "score increases by one point.\n",
    "5) If password contains username, then it is invalid password.\n",
    "If the password has score of four points, three points, two points, or one point then print Very \n",
    "Strong, Strong, Moderate, or Weak respectively. If the password is invalid, then \n",
    "print PASSWORD SHOULD NOT CONTAIN USERNAME and If the score is zero, then print Use a \n",
    "different password.The arguments to the function are username and password which are \n",
    "already defined"
   ]
  },
  {
   "cell_type": "code",
   "execution_count": 89,
   "id": "d40805bd-369f-4abd-bddc-a2a28352fd6b",
   "metadata": {},
   "outputs": [
    {
     "name": "stdout",
     "output_type": "stream",
     "text": [
      "Strong\n"
     ]
    }
   ],
   "source": [
    "def get_passward_strength(username, password):\n",
    "    score  = 0\n",
    "    capital = 'ABCDEFGHIJKLMNOPQRSTUVWXYZ'\n",
    "    c_flag = False\n",
    "    small = 'abcdefghijklmnopqrstuvwxyz'\n",
    "    s_flag = False\n",
    "    num = '0123456789'\n",
    "    n_flag = False\n",
    "    nc_flag = True\n",
    "    if username in password:\n",
    "        print('PASSWORD SHOULD NOT CONTAIN USERNAME')\n",
    "        return\n",
    "    if (len(password)>7):\n",
    "        score += 1\n",
    "    for i in range(len(password)):\n",
    "        if password[i] in small:\n",
    "            s_flag = True\n",
    "        if password[i] in capital:\n",
    "            c_flag = True\n",
    "        if password[i] in num:\n",
    "            n_flag = True\n",
    "            if n_flag:\n",
    "                if i!=(len(password)-1):\n",
    "                    if num[((num.index(password[i])))+1] == password[i+1]:\n",
    "                        nc_flag = False\n",
    "        if c_flag and s_flag:\n",
    "            score += 1\n",
    "        if n_flag and nc_flag:\n",
    "            score += 1\n",
    "        if not password.isalnum():\n",
    "            score += 1\n",
    "        if score == 4:\n",
    "            print('Very Strong')\n",
    "            return\n",
    "        if score == 3:\n",
    "            print('Strong')   \n",
    "            return\n",
    "        if score == 2:\n",
    "            print('Moderate')\n",
    "            return\n",
    "        if score == 1:\n",
    "            print('Weak')\n",
    "            return\n",
    "        if score == 0:\n",
    "            print('Use Different password')\n",
    "            return\n",
    "\n",
    "get_passward_strength(\"vikas\", \"1nc2_3@UY\")"
   ]
  },
  {
   "cell_type": "raw",
   "id": "67644faf-c8dc-439d-9c26-54b16751b2e0",
   "metadata": {},
   "source": [
    "33.decorator that logs the date and time\n",
    "#The strftime() function is used to convert date and time objects to their string representation."
   ]
  },
  {
   "cell_type": "code",
   "execution_count": 1,
   "id": "15e6bff9-0cc2-4f56-a267-2383165a05bb",
   "metadata": {},
   "outputs": [],
   "source": [
    "from datetime import datetime\n",
    "\n",
    "\n",
    "def log_datetime(func):\n",
    "    '''Log the date and time of a function'''\n",
    "\n",
    "    def wrapper():\n",
    "        print(f'Function: {func.__name__}\\nRun on: {datetime.today().strftime(\"%Y-%m-%d %H:%M:%S\")}')\n",
    "        print(f'{\"-\"*30}')\n",
    "        func()\n",
    "    return wrapper\n",
    "\n",
    "\n",
    "@log_datetime\n",
    "def daily_backup():\n",
    "\n",
    "    print('Daily backup job has finished.')   "
   ]
  },
  {
   "cell_type": "code",
   "execution_count": 2,
   "id": "33ea301d-2f74-48a9-bae1-d2323efd6f43",
   "metadata": {},
   "outputs": [
    {
     "name": "stdout",
     "output_type": "stream",
     "text": [
      "Function: daily_backup\n",
      "Run on: 2022-11-28 09:04:35\n",
      "------------------------------\n",
      "Daily backup job has finished.\n"
     ]
    }
   ],
   "source": [
    "daily_backup()"
   ]
  },
  {
   "cell_type": "code",
   "execution_count": 10,
   "id": "d05277aa-821b-4ca9-8b9e-ca8e058b26c5",
   "metadata": {},
   "outputs": [
    {
     "data": {
      "text/plain": [
       "['hellow', 'world']"
      ]
     },
     "execution_count": 10,
     "metadata": {},
     "output_type": "execute_result"
    }
   ],
   "source": [
    "# Decorator to accept Hellow World and Return ['hellow', 'world']\n",
    "\n",
    "\n",
    "def l_case(function):\n",
    "    def wrapper():\n",
    "        func = function()\n",
    "        string_lowercase = func.lower()\n",
    "        return string_lowercase\n",
    "    return wrapper\n",
    "\n",
    "def split_words(function):\n",
    "    def wrapper():\n",
    "        func = function()\n",
    "        words_split = func.split()\n",
    "        return words_split\n",
    "    return wrapper\n",
    "\n",
    "@split_words  #l_case decorator is execuated second\n",
    "@l_case   #l_case decorator is execuated first\n",
    "def print_hello():\n",
    "    return 'Hellow World'\n",
    "\n",
    "print_hello()"
   ]
  },
  {
   "cell_type": "raw",
   "id": "93474414-e8ba-439d-9f7d-0f3f4eb648b9",
   "metadata": {},
   "source": [
    "34.Program to Get Data Items From a List Appearing Odd Number of Times"
   ]
  },
  {
   "cell_type": "code",
   "execution_count": 1,
   "id": "548d5c4c-eb5e-40c0-ad6f-7a8f6614a550",
   "metadata": {},
   "outputs": [
    {
     "name": "stdout",
     "output_type": "stream",
     "text": [
      "[1, 1, 4, 1]\n"
     ]
    }
   ],
   "source": [
    "l = [1, 3, 1, 3, 4, 1]\n",
    "li = []\n",
    "for i in l:\n",
    "    if l.count(i) % 2 !=0:\n",
    "        li.append(i)\n",
    "print(li)"
   ]
  },
  {
   "cell_type": "raw",
   "id": "70caf71f-6a2d-42a5-bb41-a83e99f3b0cb",
   "metadata": {},
   "source": [
    "35.What are decorators in Python?"
   ]
  },
  {
   "cell_type": "raw",
   "id": "6396b18a-cf84-497f-a569-6a630711aea7",
   "metadata": {},
   "source": [
    "Decorators\n",
    " in Python are essentially functions that add functionality to an existing function in Python\n",
    " without changing the structure of the function itself. They are represented by the\n",
    "@decorator_name\n",
    " inPython and are called in bottom-up fashion. For example:"
   ]
  },
  {
   "cell_type": "raw",
   "id": "00d3f3e6-8d1a-459c-8f05-fec2d7a72f0b",
   "metadata": {},
   "source": [
    "36. remove items from a list while iterating but without creating a different copy of a list.\n",
    "Remove numbers greater than 50\n",
    "number_list = [10, 20, 30, 40, 50, 60, 70, 80, 90, 100]\n",
    "Expected Output: [10, 20, 30, 40, 50]"
   ]
  },
  {
   "cell_type": "code",
   "execution_count": 14,
   "id": "9c4d29d9-9744-4df1-85de-11e18da04a52",
   "metadata": {},
   "outputs": [
    {
     "name": "stdout",
     "output_type": "stream",
     "text": [
      "[10, 20, 30, 40, 50]\n"
     ]
    }
   ],
   "source": [
    "number_list = [10, 20, 30, 40, 50, 60, 70, 80, 90, 100]\n",
    "number_list = [ele for ele in number_list if ele <= 50]\n",
    "print(number_list)"
   ]
  },
  {
   "cell_type": "code",
   "execution_count": 15,
   "id": "478841c4-df21-443c-8836-58c33d06170e",
   "metadata": {},
   "outputs": [
    {
     "name": "stdout",
     "output_type": "stream",
     "text": [
      "[10, 20, 30, 40, 50]\n"
     ]
    }
   ],
   "source": [
    "number_list = [10, 20, 30, 40, 50, 60, 70, 80, 90, 100]\n",
    "i = 0\n",
    "n = len(number_list)\n",
    "while i<n:\n",
    "    if number_list[i] > 50 :\n",
    "        del number_list[i]\n",
    "        n = n -1\n",
    "    else:\n",
    "        i = i + 1\n",
    "print(number_list)"
   ]
  },
  {
   "cell_type": "raw",
   "id": "6a034cd6-9a75-4912-8286-2396360ffa28",
   "metadata": {},
   "source": [
    "37.  Display all duplicate items from a list\n",
    "sample_list = [10, 20, 60, 30, 20, 40, 30, 60, 70, 80]\n",
    "Expected Output: [20, 60, 30]"
   ]
  },
  {
   "cell_type": "code",
   "execution_count": 18,
   "id": "6a020147-cf33-4b12-9d84-f34f9bac86f8",
   "metadata": {},
   "outputs": [
    {
     "name": "stdout",
     "output_type": "stream",
     "text": [
      "[20, 60, 30]\n"
     ]
    }
   ],
   "source": [
    "sample_list = [10, 20, 60, 30, 20, 40, 30, 60, 70, 80]\n",
    "dup = []\n",
    "for ele in sample_list:\n",
    "    if (sample_list.count(ele) > 1):\n",
    "        dup.append(ele)\n",
    "print(list(set(dup)))"
   ]
  },
  {
   "cell_type": "code",
   "execution_count": 21,
   "id": "48530287-0aa7-4034-b82a-94398db583a5",
   "metadata": {},
   "outputs": [
    {
     "name": "stdout",
     "output_type": "stream",
     "text": [
      "[20, 60, 30]\n"
     ]
    }
   ],
   "source": [
    "import collections\n",
    "\n",
    "sample_list = [10, 20, 60, 30, 20, 40, 30, 60, 70, 80]\n",
    "\n",
    "duplicate = []\n",
    "\n",
    "for item, count in collections.Counter(sample_list).items():\n",
    "    if count > 1:\n",
    "        duplicate.append(item)\n",
    "print(duplicate)\n"
   ]
  },
  {
   "cell_type": "raw",
   "id": "03607aeb-291c-41e0-bb35-101d53d1f25f",
   "metadata": {},
   "source": [
    "38. Create an outer function that will accept two strings, x and y. (x= 'Emma' and y = 'Kelly'.\n",
    "Create an inner function inside an outer function that will concatenate x and y.\n",
    "At last, an outer function will join the word 'developer' to it."
   ]
  },
  {
   "cell_type": "code",
   "execution_count": 23,
   "id": "1a29f79d-37e1-4dac-b126-f81e8529e406",
   "metadata": {},
   "outputs": [],
   "source": [
    "def str_accept(str1, str2):\n",
    "    x = str1\n",
    "    y = str2\n",
    "    def str_join():\n",
    "        return x + ' ' + y + ' ' +'developer'\n",
    "    z = str_join()\n",
    "    return z"
   ]
  },
  {
   "cell_type": "code",
   "execution_count": 24,
   "id": "2db6ae49-6bb4-4452-a23f-bf1d69b7739a",
   "metadata": {},
   "outputs": [
    {
     "name": "stdout",
     "output_type": "stream",
     "text": [
      "vikas palekar developer\n"
     ]
    }
   ],
   "source": [
    "result = str_accept('vikas', 'palekar')\n",
    "print(result)"
   ]
  },
  {
   "cell_type": "code",
   "execution_count": 12,
   "id": "aff022cb-0755-4cb4-91ac-5cb92fd0b709",
   "metadata": {},
   "outputs": [
    {
     "name": "stdout",
     "output_type": "stream",
     "text": [
      "EmmaKellyDevelopers\n"
     ]
    }
   ],
   "source": [
    "def manipulate(x, y):\n",
    "    # concatenate two strings\n",
    "    def inner_fun(x, y):\n",
    "        return x + y\n",
    "\n",
    "    z = inner_fun(x, y)\n",
    "    return z + 'Developers'\n",
    "\n",
    "result = manipulate('Emma', 'Kelly')\n",
    "print(result)"
   ]
  },
  {
   "cell_type": "code",
   "execution_count": null,
   "id": "251983be-af5e-400f-977a-1032e0508d19",
   "metadata": {},
   "outputs": [],
   "source": []
  },
  {
   "cell_type": "raw",
   "id": "c3238d35-61fa-4d2a-8e92-c393399b1b5b",
   "metadata": {},
   "source": [
    "39. Modify the element of a nested list inside the following list\n",
    "Change the element 35 to 3500\n",
    "list1 = [5, [10, 15, [20, 25, [30, 35], 40], 45], 50]"
   ]
  },
  {
   "cell_type": "code",
   "execution_count": 25,
   "id": "183520c2-8ae6-4b9f-b060-49371a26b35d",
   "metadata": {},
   "outputs": [
    {
     "name": "stdout",
     "output_type": "stream",
     "text": [
      "[5, [10, 15, [20, 25, [30, 3500], 40], 45], 50]\n"
     ]
    }
   ],
   "source": [
    "list1 = [5, [10, 15, [20, 25, [30, 35], 40], 45], 50]\n",
    "\n",
    "list1[1][2][2][1] = 3500\n",
    "\n",
    "print(list1)"
   ]
  },
  {
   "cell_type": "raw",
   "id": "0106b7da-e95f-46ba-873a-e641d7199be7",
   "metadata": {},
   "source": [
    "40.  Access the nested key increment from the following dictionary\n",
    "Access 12\n",
    "emp_dict = {\n",
    "    \"company\": {\n",
    "        \"employee\": {\n",
    "            \"name\": \"Jess\",\n",
    "            \"payable\": {\n",
    "                \"salary\": 9000,\n",
    "                \"increment\": 12\n",
    "            }\n",
    "        }\n",
    "    }\n",
    "}"
   ]
  },
  {
   "cell_type": "code",
   "execution_count": 28,
   "id": "0a1862a0-9bc7-407b-a65e-088706fd2be2",
   "metadata": {},
   "outputs": [
    {
     "name": "stdout",
     "output_type": "stream",
     "text": [
      "12\n"
     ]
    }
   ],
   "source": [
    "emp_dict = {\n",
    "    \"company\": {\n",
    "        \"employee\": {\n",
    "            \"name\": \"Jess\",\n",
    "            \"payable\": {\n",
    "                \"salary\": 9000,\n",
    "                \"increment\": 12\n",
    "            }\n",
    "        }\n",
    "    }\n",
    "}\n",
    "print(emp_dict['company']['employee']['payable']['increment'])"
   ]
  },
  {
   "cell_type": "code",
   "execution_count": null,
   "id": "1f1cee48-376a-4385-883d-c411786b7caa",
   "metadata": {},
   "outputs": [],
   "source": []
  },
  {
   "cell_type": "raw",
   "id": "a36e12a4-baf9-4c0b-90e6-c16fd60b02ba",
   "metadata": {},
   "source": [
    "41. Print the sum of the current number and the previous number\n",
    "Write a program to iterate the first 10 numbers and in each iteration, print the sum of the current and previous number.\n",
    "Printing current and previous number sum in a range(10)\n",
    "Current Number 0 Previous Number  0  Sum:  0\n",
    "Current Number 1 Previous Number  0  Sum:  1\n",
    "Current Number 2 Previous Number  1  Sum:  3\n",
    "Current Number 3 Previous Number  2  Sum:  5\n",
    "Current Number 4 Previous Number  3  Sum:  7\n",
    "Current Number 5 Previous Number  4  Sum:  9\n",
    "Current Number 6 Previous Number  5  Sum:  11\n",
    "Current Number 7 Previous Number  6  Sum:  13\n",
    "Current Number 8 Previous Number  7  Sum:  15\n",
    "Current Number 9 Previous Number  8  Sum:  17"
   ]
  },
  {
   "cell_type": "code",
   "execution_count": 31,
   "id": "c105e9a0-bacd-445b-bb8f-fe25688478c3",
   "metadata": {},
   "outputs": [
    {
     "name": "stdout",
     "output_type": "stream",
     "text": [
      "Current Number 0 Previous Number -1 Sum : -1\n",
      "Current Number 1 Previous Number 0 Sum : 1\n",
      "Current Number 2 Previous Number 1 Sum : 3\n",
      "Current Number 3 Previous Number 2 Sum : 5\n",
      "Current Number 4 Previous Number 3 Sum : 7\n",
      "Current Number 5 Previous Number 4 Sum : 9\n",
      "Current Number 6 Previous Number 5 Sum : 11\n",
      "Current Number 7 Previous Number 6 Sum : 13\n",
      "Current Number 8 Previous Number 7 Sum : 15\n",
      "Current Number 9 Previous Number 8 Sum : 17\n"
     ]
    }
   ],
   "source": [
    "for i in range(10):\n",
    "    print(f'Current Number {i} Previous Number {i-1} Sum : {i + (i -1)}')\n",
    "    "
   ]
  },
  {
   "cell_type": "raw",
   "id": "04f5ef21-9056-4a31-bc4d-b5641a6bc80d",
   "metadata": {},
   "source": [
    "42. Print characters from a string that are present at an even index number\n",
    "Write a program to accept a string from the user and display characters that are present at an even index number.\n",
    "\n",
    "For example, str = \"ineuron\" so you should display ‘i’, ‘e’, ‘r’, ‘n’."
   ]
  },
  {
   "cell_type": "code",
   "execution_count": 28,
   "id": "5efd76ed-d364-4e25-80f5-c6cf4b078908",
   "metadata": {},
   "outputs": [
    {
     "name": "stdin",
     "output_type": "stream",
     "text": [
      "Input:  ineuron\n"
     ]
    },
    {
     "name": "stdout",
     "output_type": "stream",
     "text": [
      "['i', 'e', 'r', 'n']\n"
     ]
    }
   ],
   "source": [
    "string = input('Input: ')\n",
    "evn_str = []\n",
    "for i in range(0, len(string), 2):\n",
    "    evn_str.append(string[i])\n",
    "print(str(evn_str))"
   ]
  },
  {
   "cell_type": "code",
   "execution_count": 30,
   "id": "3ed77248-8b99-4520-a859-d850dc9fe122",
   "metadata": {},
   "outputs": [
    {
     "name": "stdin",
     "output_type": "stream",
     "text": [
      "Input:  ineuron\n"
     ]
    },
    {
     "name": "stdout",
     "output_type": "stream",
     "text": [
      "i e r n "
     ]
    }
   ],
   "source": [
    "string = input('Input: ')\n",
    "for i in range(0, len(string), 2):\n",
    "    print(string[i], end=\" \")"
   ]
  },
  {
   "cell_type": "raw",
   "id": "19f5f95f-8e4e-48c8-8639-247f8f058efa",
   "metadata": {},
   "source": [
    "43. Print multiplication table form 1 to 10\n",
    "1  2 3 4 5 6 7 8 9 10 \t\t\n",
    "2  4 6 8 10 12 14 16 18 20 \t\t\n",
    "3  6 9 12 15 18 21 24 27 30 \t\t\n",
    "4  8 12 16 20 24 28 32 36 40 \t\t\n",
    "5  10 15 20 25 30 35 40 45 50 \t\t\n",
    "6  12 18 24 30 36 42 48 54 60 \t\t\n",
    "7  14 21 28 35 42 49 56 63 70 \t\t\n",
    "8  16 24 32 40 48 56 64 72 80 \t\t\n",
    "9  18 27 36 45 54 63 72 81 90 \t\t\n",
    "10 20 30 40 50 60 70 80 90 100 "
   ]
  },
  {
   "cell_type": "code",
   "execution_count": 31,
   "id": "7bfc01c8-6b26-43a7-8497-d9b21c7827d3",
   "metadata": {},
   "outputs": [
    {
     "name": "stdout",
     "output_type": "stream",
     "text": [
      "1  2  3  4  5  6  7  8  9  10  \n",
      "\n",
      "2  4  6  8  10  12  14  16  18  20  \n",
      "\n",
      "3  6  9  12  15  18  21  24  27  30  \n",
      "\n",
      "4  8  12  16  20  24  28  32  36  40  \n",
      "\n",
      "5  10  15  20  25  30  35  40  45  50  \n",
      "\n",
      "6  12  18  24  30  36  42  48  54  60  \n",
      "\n",
      "7  14  21  28  35  42  49  56  63  70  \n",
      "\n",
      "8  16  24  32  40  48  56  64  72  80  \n",
      "\n",
      "9  18  27  36  45  54  63  72  81  90  \n",
      "\n",
      "10  20  30  40  50  60  70  80  90  100  \n",
      "\n"
     ]
    }
   ],
   "source": [
    "for i in range(1, 11):\n",
    "    for j in range(1, 11):\n",
    "        c = i * j\n",
    "        \n",
    "        print(f\"{c} \", end=\" \")\n",
    "    print(\"\\n\")\n",
    "              "
   ]
  },
  {
   "cell_type": "raw",
   "id": "07f9b814-fc05-4a97-8a50-b762ab2522e6",
   "metadata": {},
   "source": [
    "44. Remove duplicates from a list and create a tuple and find the minimum and maximum number\n",
    "sample_list = [87, 45, 41, 65, 94, 41, 99, 94]\n",
    "Expected Outcome:\n",
    "unique items [87, 45, 41, 65, 99]\n",
    "tuple (87, 45, 41, 65, 99)\n",
    "min: 41\n",
    "max: 99"
   ]
  },
  {
   "cell_type": "code",
   "execution_count": 33,
   "id": "d3d389ee-64b3-4c1e-b1a3-45e8ca114d1e",
   "metadata": {},
   "outputs": [
    {
     "name": "stdout",
     "output_type": "stream",
     "text": [
      "Original list [87, 45, 41, 65, 94, 41, 99, 94]\n",
      "unique list [65, 99, 41, 45, 87, 94]\n",
      "tuple  (65, 99, 41, 45, 87, 94)\n",
      "Minimum number is:  41\n",
      "Maximum number is:  99\n"
     ]
    }
   ],
   "source": [
    "sample_list = [87, 45, 41, 65, 94, 41, 99, 94]\n",
    "\n",
    "print(\"Original list\", sample_list)\n",
    "\n",
    "sample_list = list(set(sample_list))\n",
    "print(\"unique list\", sample_list)\n",
    "\n",
    "t = tuple(sample_list)\n",
    "print(\"tuple \", t)\n",
    "\n",
    "print(\"Minimum number is: \", min(t))\n",
    "print(\"Maximum number is: \", max(t))"
   ]
  },
  {
   "cell_type": "raw",
   "id": "f4d4b1a2-7c19-43c4-922c-837b6c40f5fb",
   "metadata": {},
   "source": [
    "45. Write a Python program to create a lambda function that adds 15 to a given number passed in as an argument,\n",
    "also create a lambda function\n",
    "that multiplies argument x with argument y and print the result."
   ]
  },
  {
   "cell_type": "code",
   "execution_count": 57,
   "id": "2e2e8cd4-5c60-4eb7-8863-a3cb265dc0bc",
   "metadata": {},
   "outputs": [
    {
     "name": "stdout",
     "output_type": "stream",
     "text": [
      "Addition :  17\n",
      "Multiplication :  4\n"
     ]
    }
   ],
   "source": [
    "add = lambda num : num + 15\n",
    "print('Addition : ', add(2))\n",
    "mul = lambda num1, num2 : num1 * num2\n",
    "print('Multiplication : ', mul(2, 2))"
   ]
  },
  {
   "cell_type": "raw",
   "id": "58df2f9a-6310-4e59-a5fe-6658ff7898e1",
   "metadata": {},
   "source": [
    "46. Write a Python program to sort a list of tuples using Lambda."
   ]
  },
  {
   "cell_type": "raw",
   "id": "2d93a994-1ecd-425c-a03c-e9f14429e6fc",
   "metadata": {},
   "source": [
    "\n",
    "The sort() method sorts the list ascending by default.\n",
    "\n",
    "You can also make a function to decide the sorting criteria(s).\n",
    "reverse\tOptional. reverse=True will sort the list descending. Default is reverse=False\n",
    "key\tOptional. A function to specify the sorting criteria(s)\n"
   ]
  },
  {
   "cell_type": "code",
   "execution_count": null,
   "id": "2c08bd32-1b41-4eb7-b01e-f763a88eb664",
   "metadata": {},
   "outputs": [],
   "source": [
    "subject_marks = [('English', 88), ('Science', 90), ('Maths', 97), ('Social sciences', 82)]\n",
    "print(\"Original list of tuples:\")\n",
    "print(subject_marks)\n",
    "subject_marks.sort(key = lambda x: x[1])\n",
    "print(\"\\nSorting the List of Tuples:\")\n",
    "print(subject_marks)"
   ]
  },
  {
   "cell_type": "raw",
   "id": "745bbb70-f71c-4042-a99a-f42bccef267e",
   "metadata": {},
   "source": [
    "47. Write a Python program to extract year, month, date and time using Lambda."
   ]
  },
  {
   "cell_type": "code",
   "execution_count": 61,
   "id": "b836e50f-8c59-473e-b87e-8042c5755855",
   "metadata": {},
   "outputs": [
    {
     "name": "stdout",
     "output_type": "stream",
     "text": [
      "2022\n",
      "11\n",
      "26\n",
      "11:51:11.142036\n"
     ]
    }
   ],
   "source": [
    "import datetime\n",
    "now = datetime.datetime.now()\n",
    "year = lambda x : x.year\n",
    "month = lambda x : x.month\n",
    "day = lambda x : x.day\n",
    "time = lambda x : x.time()\n",
    "print(year(now))\n",
    "print(month(now))\n",
    "print(day(now))\n",
    "print(time(now))"
   ]
  },
  {
   "cell_type": "raw",
   "id": "afcf0f97-d39b-4554-a14f-411096bd515e",
   "metadata": {},
   "source": [
    "48. Write a Python program to count the even, odd numbers in a given array of integers using Lambda."
   ]
  },
  {
   "cell_type": "code",
   "execution_count": 72,
   "id": "07474a57-8c10-430f-a37d-a398e8e42d4f",
   "metadata": {},
   "outputs": [
    {
     "name": "stdout",
     "output_type": "stream",
     "text": [
      "4\n",
      "5\n"
     ]
    }
   ],
   "source": [
    "l = [1, 2, 3, 4, 5, 6, 7, 8, 9]\n",
    "even =len(list(filter( lambda x : x%2==0, l)))\n",
    "odd =len(list(filter( lambda x : x%2==1, l)))\n",
    "print(even)\n",
    "print(odd)"
   ]
  },
  {
   "cell_type": "raw",
   "id": "dbd65ee9-2f83-4286-a7b3-52f398ab8527",
   "metadata": {},
   "source": [
    "49. Write a Python program to convert all the characters in uppercase and lowercase and eliminate duplicate letters from a given sequence.\n",
    "Use map() function."
   ]
  },
  {
   "cell_type": "code",
   "execution_count": 80,
   "id": "6595998a-7d27-4905-b3ef-2c305f084588",
   "metadata": {},
   "outputs": [
    {
     "name": "stdout",
     "output_type": "stream",
     "text": [
      "{('z', 'Z'), ('m', 'M'), ('a', 'A')}\n"
     ]
    }
   ],
   "source": [
    "def test(s):\n",
    "    return str(s).lower(), str(s).upper()\n",
    "\n",
    "char = ['a', 'A', 'z', 'M']\n",
    "\n",
    "result = map(test, char)\n",
    "\n",
    "print(set(result))"
   ]
  },
  {
   "cell_type": "raw",
   "id": "78c63beb-b43b-48ad-bb20-31f403af2f10",
   "metadata": {},
   "source": [
    "50.  Write a Python program to square the elements of a list using map() function."
   ]
  },
  {
   "cell_type": "code",
   "execution_count": 77,
   "id": "8835edd9-db24-4dd9-90a6-4d97030f7c9e",
   "metadata": {},
   "outputs": [
    {
     "name": "stdout",
     "output_type": "stream",
     "text": [
      "[1, 4, 9, 16, 25]\n"
     ]
    }
   ],
   "source": [
    "def sq(n):\n",
    "    return n**2\n",
    "num = (1, 2, 3, 4, 5)\n",
    "\n",
    "result = map(sq, num)\n",
    "print(list(result))"
   ]
  },
  {
   "cell_type": "code",
   "execution_count": null,
   "id": "30b1c8c0-cc91-4201-bd92-5a9215711fbb",
   "metadata": {},
   "outputs": [],
   "source": []
  },
  {
   "cell_type": "code",
   "execution_count": 73,
   "id": "ff2ef32a-b44b-42bb-9e6e-ffcea7b10234",
   "metadata": {},
   "outputs": [],
   "source": [
    "def add(n):\n",
    "    return n+n"
   ]
  },
  {
   "cell_type": "code",
   "execution_count": 74,
   "id": "75058b28-3344-473f-8c33-b2cbfaeb9e70",
   "metadata": {},
   "outputs": [],
   "source": [
    "num = (1, 2, 3, 4, 5)"
   ]
  },
  {
   "cell_type": "code",
   "execution_count": 75,
   "id": "b4d0c531-0074-42b9-b078-80ffcc74bcdc",
   "metadata": {},
   "outputs": [
    {
     "name": "stdout",
     "output_type": "stream",
     "text": [
      "[2, 4, 6, 8, 10]\n"
     ]
    }
   ],
   "source": [
    "result = map(add, num)\n",
    "print(list(result))\n"
   ]
  },
  {
   "cell_type": "code",
   "execution_count": null,
   "id": "abb3d987-a739-4e8a-a8e3-4d1ae71d2fc4",
   "metadata": {},
   "outputs": [],
   "source": []
  }
 ],
 "metadata": {
  "kernelspec": {
   "display_name": "Python 3 (ipykernel)",
   "language": "python",
   "name": "python3"
  },
  "language_info": {
   "codemirror_mode": {
    "name": "ipython",
    "version": 3
   },
   "file_extension": ".py",
   "mimetype": "text/x-python",
   "name": "python",
   "nbconvert_exporter": "python",
   "pygments_lexer": "ipython3",
   "version": "3.10.6"
  }
 },
 "nbformat": 4,
 "nbformat_minor": 5
}
