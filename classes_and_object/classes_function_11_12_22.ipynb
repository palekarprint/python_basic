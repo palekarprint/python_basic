{
 "cells": [
  {
   "cell_type": "code",
   "execution_count": 1,
   "id": "6bb6c03a-cc41-440f-80d0-c8ae3f72b2f5",
   "metadata": {},
   "outputs": [],
   "source": [
    "class emp:                #emp is the class name\n",
    "    pass"
   ]
  },
  {
   "cell_type": "code",
   "execution_count": 2,
   "id": "037b3432-b44f-4e05-b9e6-fa00d86cf6f7",
   "metadata": {},
   "outputs": [],
   "source": [
    "e = emp()                 # e is the object of class emp()"
   ]
  },
  {
   "cell_type": "code",
   "execution_count": 4,
   "id": "e3b9b18f-79fd-4e6a-a0fb-0b0a9ca9ab78",
   "metadata": {},
   "outputs": [
    {
     "name": "stdout",
     "output_type": "stream",
     "text": [
      "<class '__main__.emp'>\n"
     ]
    }
   ],
   "source": [
    "print(type(e))"
   ]
  },
  {
   "cell_type": "code",
   "execution_count": 5,
   "id": "07f546fd-de28-43c7-909c-0d095802cb58",
   "metadata": {},
   "outputs": [
    {
     "data": {
      "text/plain": [
       "140328868674768"
      ]
     },
     "execution_count": 5,
     "metadata": {},
     "output_type": "execute_result"
    }
   ],
   "source": [
    "id(e)"
   ]
  },
  {
   "cell_type": "code",
   "execution_count": 6,
   "id": "1348ea85-ce47-4fd6-b910-ff224ce81f0b",
   "metadata": {},
   "outputs": [],
   "source": [
    "class Robot:\n",
    "    def intoduce_self(self):\n",
    "        print(\"My name is \" + self.name)"
   ]
  },
  {
   "cell_type": "code",
   "execution_count": 7,
   "id": "d60b6866-0fb8-4e66-b6e9-1b839aca6601",
   "metadata": {},
   "outputs": [],
   "source": [
    "r1 = Robot()"
   ]
  },
  {
   "cell_type": "code",
   "execution_count": 9,
   "id": "e9339d29-d3a5-4620-ac24-0aaefc07502d",
   "metadata": {},
   "outputs": [],
   "source": [
    "r1.name = 'abc'"
   ]
  },
  {
   "cell_type": "code",
   "execution_count": 10,
   "id": "a662baba-e69b-4b61-80f0-53c8637c735e",
   "metadata": {},
   "outputs": [
    {
     "name": "stdout",
     "output_type": "stream",
     "text": [
      "My name is abc\n"
     ]
    }
   ],
   "source": [
    "r1.intoduce_self()"
   ]
  },
  {
   "cell_type": "code",
   "execution_count": 11,
   "id": "8a2f39af-963b-439d-8696-018420da3df2",
   "metadata": {},
   "outputs": [],
   "source": [
    "r2 = Robot()"
   ]
  },
  {
   "cell_type": "code",
   "execution_count": 12,
   "id": "cb714430-25cb-41bb-84a0-de9ed90316dd",
   "metadata": {},
   "outputs": [],
   "source": [
    "r2.name = 'xyz'"
   ]
  },
  {
   "cell_type": "code",
   "execution_count": 13,
   "id": "62f52b5a-6269-426f-8661-f59d075ae571",
   "metadata": {},
   "outputs": [
    {
     "name": "stdout",
     "output_type": "stream",
     "text": [
      "My name is xyz\n"
     ]
    }
   ],
   "source": [
    "r2.intoduce_self()"
   ]
  },
  {
   "cell_type": "code",
   "execution_count": 14,
   "id": "f6122a8c-aad9-4882-97c6-0a10663ee1fd",
   "metadata": {},
   "outputs": [
    {
     "data": {
      "text/plain": [
       "['__class__',\n",
       " '__delattr__',\n",
       " '__dict__',\n",
       " '__dir__',\n",
       " '__doc__',\n",
       " '__eq__',\n",
       " '__format__',\n",
       " '__ge__',\n",
       " '__getattribute__',\n",
       " '__gt__',\n",
       " '__hash__',\n",
       " '__init__',\n",
       " '__init_subclass__',\n",
       " '__le__',\n",
       " '__lt__',\n",
       " '__module__',\n",
       " '__ne__',\n",
       " '__new__',\n",
       " '__reduce__',\n",
       " '__reduce_ex__',\n",
       " '__repr__',\n",
       " '__setattr__',\n",
       " '__sizeof__',\n",
       " '__str__',\n",
       " '__subclasshook__',\n",
       " '__weakref__',\n",
       " 'intoduce_self',\n",
       " 'name']"
      ]
     },
     "execution_count": 14,
     "metadata": {},
     "output_type": "execute_result"
    }
   ],
   "source": [
    "dir(r1)"
   ]
  },
  {
   "cell_type": "code",
   "execution_count": 15,
   "id": "fbd87026-4a00-4c26-9ca5-19a979261ac5",
   "metadata": {},
   "outputs": [
    {
     "ename": "AttributeError",
     "evalue": "'Robot' object has no attribute 'name'",
     "output_type": "error",
     "traceback": [
      "\u001b[0;31m---------------------------------------------------------------------------\u001b[0m",
      "\u001b[0;31mAttributeError\u001b[0m                            Traceback (most recent call last)",
      "Cell \u001b[0;32mIn [15], line 2\u001b[0m\n\u001b[1;32m      1\u001b[0m r3 \u001b[38;5;241m=\u001b[39m Robot()\n\u001b[0;32m----> 2\u001b[0m \u001b[43mr3\u001b[49m\u001b[38;5;241;43m.\u001b[39;49m\u001b[43mintoduce_self\u001b[49m\u001b[43m(\u001b[49m\u001b[43m)\u001b[49m\n",
      "Cell \u001b[0;32mIn [6], line 3\u001b[0m, in \u001b[0;36mRobot.intoduce_self\u001b[0;34m(self)\u001b[0m\n\u001b[1;32m      2\u001b[0m \u001b[38;5;28;01mdef\u001b[39;00m \u001b[38;5;21mintoduce_self\u001b[39m(\u001b[38;5;28mself\u001b[39m):\n\u001b[0;32m----> 3\u001b[0m     \u001b[38;5;28mprint\u001b[39m(\u001b[38;5;124m\"\u001b[39m\u001b[38;5;124mMy name is \u001b[39m\u001b[38;5;124m\"\u001b[39m \u001b[38;5;241m+\u001b[39m \u001b[38;5;28;43mself\u001b[39;49m\u001b[38;5;241;43m.\u001b[39;49m\u001b[43mname\u001b[49m)\n",
      "\u001b[0;31mAttributeError\u001b[0m: 'Robot' object has no attribute 'name'"
     ]
    }
   ],
   "source": [
    "r3 = Robot()\n",
    "r3.intoduce_self()"
   ]
  },
  {
   "cell_type": "code",
   "execution_count": 17,
   "id": "1ee7f4b6-5338-422a-a58a-b3a6280248dd",
   "metadata": {},
   "outputs": [
    {
     "ename": "TypeError",
     "evalue": "Robot.intoduce_self() takes 1 positional argument but 2 were given",
     "output_type": "error",
     "traceback": [
      "\u001b[0;31m---------------------------------------------------------------------------\u001b[0m",
      "\u001b[0;31mTypeError\u001b[0m                                 Traceback (most recent call last)",
      "Cell \u001b[0;32mIn [17], line 2\u001b[0m\n\u001b[1;32m      1\u001b[0m r3 \u001b[38;5;241m=\u001b[39m Robot()\n\u001b[0;32m----> 2\u001b[0m \u001b[43mr3\u001b[49m\u001b[38;5;241;43m.\u001b[39;49m\u001b[43mintoduce_self\u001b[49m\u001b[43m(\u001b[49m\u001b[38;5;124;43m'\u001b[39;49m\u001b[38;5;124;43mVikas\u001b[39;49m\u001b[38;5;124;43m'\u001b[39;49m\u001b[43m)\u001b[49m\n",
      "\u001b[0;31mTypeError\u001b[0m: Robot.intoduce_self() takes 1 positional argument but 2 were given"
     ]
    }
   ],
   "source": [
    "r3 = Robot()\n",
    "r3.intoduce_self('Vikas')"
   ]
  },
  {
   "cell_type": "code",
   "execution_count": 18,
   "id": "508cace9-ea46-48d4-a97f-351b9022b2e6",
   "metadata": {},
   "outputs": [
    {
     "name": "stdout",
     "output_type": "stream",
     "text": [
      "My name is Vikas\n"
     ]
    }
   ],
   "source": [
    "r3.name = 'Vikas'\n",
    "r3.intoduce_self()"
   ]
  },
  {
   "cell_type": "code",
   "execution_count": null,
   "id": "9e1c8681-a888-4997-bb0f-a14497e882bc",
   "metadata": {},
   "outputs": [],
   "source": [
    "class Robot:\n",
    "    \n",
    "    def __init__(self, name, colour, weight):\n",
    "        self.name = name\n",
    "        sel\n",
    "    \n",
    "    \n",
    "    def intoduce_self(self):\n",
    "        print(\"My name is \" + self.name)"
   ]
  },
  {
   "cell_type": "code",
   "execution_count": 19,
   "id": "3678d1d0-49dc-4b1b-8d7f-bb78854119ad",
   "metadata": {},
   "outputs": [],
   "source": [
    "class Person():\n",
    "    def __init__(self, name, gender, profession):\n",
    "        self.name = name\n",
    "        self.gender = gender\n",
    "        self.profession = profession\n",
    "    \n",
    "    def show(self):\n",
    "        print('Name', self.name, 'Gender', self.gender, 'Profession', self.profession)\n",
    "        \n",
    "    def work(self):\n",
    "        print(self.name, 'Working as' , self.profession)\n",
    "    "
   ]
  },
  {
   "cell_type": "code",
   "execution_count": 20,
   "id": "5f4a5ccc-fafb-4b60-9036-5a62f8425a2f",
   "metadata": {},
   "outputs": [],
   "source": [
    "o1 = Person('Vikas', 'Male', 'Master in Enggineeing')"
   ]
  },
  {
   "cell_type": "code",
   "execution_count": 21,
   "id": "006f6737-1899-441c-a0b4-d45c0de922fc",
   "metadata": {},
   "outputs": [
    {
     "name": "stdout",
     "output_type": "stream",
     "text": [
      "Name Vikas Gender Male Profession Master in Enggineeing\n"
     ]
    }
   ],
   "source": [
    "o1.show()"
   ]
  },
  {
   "cell_type": "code",
   "execution_count": 22,
   "id": "10574a0f-04b0-4448-a2e3-08f5b8defab5",
   "metadata": {},
   "outputs": [
    {
     "name": "stdout",
     "output_type": "stream",
     "text": [
      "Vikas Working as Master in Enggineeing\n"
     ]
    }
   ],
   "source": [
    "o1.work()"
   ]
  },
  {
   "cell_type": "code",
   "execution_count": 23,
   "id": "0c2b1a3d-4787-4c90-8ef6-81a39ffafc23",
   "metadata": {},
   "outputs": [],
   "source": [
    "class Emp():\n",
    "    def __init__(self):\n",
    "        print(id(self))\n",
    "        self.age=25\n",
    "        self.name='vikas'\n",
    "        self.salaru=50000\n",
    "        "
   ]
  },
  {
   "cell_type": "code",
   "execution_count": 24,
   "id": "914dd923-117c-44ff-b0a6-b987d091c991",
   "metadata": {},
   "outputs": [
    {
     "name": "stdout",
     "output_type": "stream",
     "text": [
      "140328865769808\n"
     ]
    }
   ],
   "source": [
    "e1 = Emp()"
   ]
  },
  {
   "cell_type": "code",
   "execution_count": 25,
   "id": "421a0fea-cfe1-4ce1-a194-7eaf02210300",
   "metadata": {},
   "outputs": [
    {
     "data": {
      "text/plain": [
       "50000"
      ]
     },
     "execution_count": 25,
     "metadata": {},
     "output_type": "execute_result"
    }
   ],
   "source": [
    "e1.salaru"
   ]
  },
  {
   "cell_type": "code",
   "execution_count": 26,
   "id": "6e4e481d-18c7-44d8-b1ad-ac65a8c96036",
   "metadata": {},
   "outputs": [
    {
     "data": {
      "text/plain": [
       "'vikas'"
      ]
     },
     "execution_count": 26,
     "metadata": {},
     "output_type": "execute_result"
    }
   ],
   "source": [
    "e1.name"
   ]
  },
  {
   "cell_type": "code",
   "execution_count": 35,
   "id": "8b74e5a8-822b-49fd-8835-4c13a336f39e",
   "metadata": {},
   "outputs": [],
   "source": [
    "class Area_circle():\n",
    "    def __init__(self, radius):\n",
    "        self.radius = radius\n",
    "    \n",
    "    def area(self):\n",
    "        print('Area of circle :', 3.14 * self.radius**2)\n",
    "        \n",
    "    def circumtance(self):\n",
    "        print('Circumrance of circle :', 2 * 3.14 * self.radius)"
   ]
  },
  {
   "cell_type": "code",
   "execution_count": 36,
   "id": "c411268a-c468-4f28-aa1a-16b66672a636",
   "metadata": {},
   "outputs": [],
   "source": [
    "c1 = Area_circle(10)"
   ]
  },
  {
   "cell_type": "code",
   "execution_count": 37,
   "id": "ea720055-d271-4aac-9f41-1e5acfa9ea17",
   "metadata": {},
   "outputs": [
    {
     "name": "stdout",
     "output_type": "stream",
     "text": [
      "Area of circle : 314.0\n"
     ]
    }
   ],
   "source": [
    "c1.area()"
   ]
  },
  {
   "cell_type": "code",
   "execution_count": 38,
   "id": "b0deabfa-b7b7-4b4b-a657-9baba87388a4",
   "metadata": {},
   "outputs": [
    {
     "name": "stdout",
     "output_type": "stream",
     "text": [
      "Circumrance of circle : 62.800000000000004\n"
     ]
    }
   ],
   "source": [
    "c1.circumtance()"
   ]
  },
  {
   "cell_type": "code",
   "execution_count": 41,
   "id": "784de180-1986-40c5-a878-94833d36d8ba",
   "metadata": {},
   "outputs": [],
   "source": [
    "class Account():\n",
    "    def __init__(self, account_no, name, balance):\n",
    "        self.account_no = account_no\n",
    "        self.name = name\n",
    "        self.balance = balance\n",
    "        \n",
    "    def deposit(self, dep_amount):\n",
    "        self.dep_amount = dep_amount\n",
    "        self.balance = self.balance + self.dep_amount\n",
    "        \n",
    "    def withdrawal(self, wit_amount):\n",
    "        self.wit_amount = wit_amount\n",
    "        self.balance = self.balance - self.wit_amount\n",
    "        \n",
    "    def display(self):\n",
    "        print('Account No.', self.account_no, 'Name', self.name, 'Balance', self.balance)\n",
    "        \n",
    "        "
   ]
  },
  {
   "cell_type": "code",
   "execution_count": 43,
   "id": "6f3f3d3f-5714-47f1-9d54-1946918c15ad",
   "metadata": {},
   "outputs": [],
   "source": [
    "b1 = Account(123, 'vikas', 5000)"
   ]
  },
  {
   "cell_type": "code",
   "execution_count": 44,
   "id": "bfef26a8-582f-4e91-8c0d-6f0fa1a5f47b",
   "metadata": {},
   "outputs": [],
   "source": [
    "b1.deposit(100)"
   ]
  },
  {
   "cell_type": "code",
   "execution_count": 45,
   "id": "0a13627d-32f3-488b-a63b-44e7439056aa",
   "metadata": {},
   "outputs": [],
   "source": [
    "b1.withdrawal(50)"
   ]
  },
  {
   "cell_type": "code",
   "execution_count": 46,
   "id": "723a98d1-068b-4103-9b07-4c6132a10457",
   "metadata": {},
   "outputs": [
    {
     "name": "stdout",
     "output_type": "stream",
     "text": [
      "Account No. 123 Name vikas Balance 5050\n"
     ]
    }
   ],
   "source": [
    "b1.display()"
   ]
  },
  {
   "cell_type": "code",
   "execution_count": null,
   "id": "803071f4-8f27-499d-8e50-8e2e3d8aa5d2",
   "metadata": {},
   "outputs": [],
   "source": []
  }
 ],
 "metadata": {
  "kernelspec": {
   "display_name": "Python 3 (ipykernel)",
   "language": "python",
   "name": "python3"
  },
  "language_info": {
   "codemirror_mode": {
    "name": "ipython",
    "version": 3
   },
   "file_extension": ".py",
   "mimetype": "text/x-python",
   "name": "python",
   "nbconvert_exporter": "python",
   "pygments_lexer": "ipython3",
   "version": "3.10.6"
  }
 },
 "nbformat": 4,
 "nbformat_minor": 5
}
