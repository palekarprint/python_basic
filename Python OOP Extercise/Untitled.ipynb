{
 "cells": [
  {
   "cell_type": "code",
   "execution_count": 1,
   "metadata": {},
   "outputs": [
    {
     "name": "stdout",
     "output_type": "stream",
     "text": [
      "John is 20 year old\n",
      "Jack is 34 year old\n"
     ]
    }
   ],
   "source": [
    "class Person:\n",
    "    \n",
    "    def __init__(self, name, age):\n",
    "        self.name = name\n",
    "        self.age = age\n",
    "        \n",
    "    def display(self):\n",
    "        print(f'{self.name} is {self.age} year old')\n",
    "        \n",
    "p1 = Person('John', 20)\n",
    "p2 = Person('Jack', 34)\n",
    "\n",
    "p1.display()\n",
    "p2.display()"
   ]
  },
  {
   "cell_type": "code",
   "execution_count": 2,
   "metadata": {},
   "outputs": [
    {
     "name": "stdout",
     "output_type": "stream",
     "text": [
      "John is 20 year old\n",
      "Jack is 34 year old\n"
     ]
    }
   ],
   "source": [
    "class Person:\n",
    "    \n",
    "    species = 'Homo Sapiens'\n",
    "    \n",
    "    def __init__(self, name, age):\n",
    "        self.name = name\n",
    "        self.age = age\n",
    "        \n",
    "    def display(self):\n",
    "        print(f'{self.name} is {self.age} year old')\n",
    "        \n",
    "p1 = Person('John', 20)\n",
    "p2 = Person('Jack', 34)\n",
    "\n",
    "p1.display()\n",
    "p2.display()"
   ]
  },
  {
   "cell_type": "code",
   "execution_count": 3,
   "metadata": {},
   "outputs": [
    {
     "data": {
      "text/plain": [
       "'Homo Sapiens'"
      ]
     },
     "execution_count": 3,
     "metadata": {},
     "output_type": "execute_result"
    }
   ],
   "source": [
    "Person.species"
   ]
  },
  {
   "cell_type": "code",
   "execution_count": 4,
   "metadata": {},
   "outputs": [
    {
     "data": {
      "text/plain": [
       "'Homo Sapiens'"
      ]
     },
     "execution_count": 4,
     "metadata": {},
     "output_type": "execute_result"
    }
   ],
   "source": [
    "p1.species"
   ]
  },
  {
   "cell_type": "code",
   "execution_count": 5,
   "metadata": {},
   "outputs": [
    {
     "data": {
      "text/plain": [
       "'Homo Sapiens'"
      ]
     },
     "execution_count": 5,
     "metadata": {},
     "output_type": "execute_result"
    }
   ],
   "source": [
    "p2.species"
   ]
  },
  {
   "cell_type": "code",
   "execution_count": 6,
   "metadata": {},
   "outputs": [
    {
     "ename": "AttributeError",
     "evalue": "type object 'Person' has no attribute 'name'",
     "output_type": "error",
     "traceback": [
      "\u001b[1;31m---------------------------------------------------------------------------\u001b[0m",
      "\u001b[1;31mAttributeError\u001b[0m                            Traceback (most recent call last)",
      "\u001b[1;32m<ipython-input-6-d6ea30305f24>\u001b[0m in \u001b[0;36m<module>\u001b[1;34m\u001b[0m\n\u001b[1;32m----> 1\u001b[1;33m \u001b[0mPerson\u001b[0m\u001b[1;33m.\u001b[0m\u001b[0mname\u001b[0m\u001b[1;33m\u001b[0m\u001b[1;33m\u001b[0m\u001b[0m\n\u001b[0m",
      "\u001b[1;31mAttributeError\u001b[0m: type object 'Person' has no attribute 'name'"
     ]
    }
   ],
   "source": [
    "Person.name"
   ]
  },
  {
   "cell_type": "code",
   "execution_count": 7,
   "metadata": {},
   "outputs": [
    {
     "data": {
      "text/plain": [
       "2704506098800"
      ]
     },
     "execution_count": 7,
     "metadata": {},
     "output_type": "execute_result"
    }
   ],
   "source": [
    "id(Person.species)"
   ]
  },
  {
   "cell_type": "code",
   "execution_count": 8,
   "metadata": {},
   "outputs": [
    {
     "data": {
      "text/plain": [
       "2704506098800"
      ]
     },
     "execution_count": 8,
     "metadata": {},
     "output_type": "execute_result"
    }
   ],
   "source": [
    "id(p1.species)"
   ]
  },
  {
   "cell_type": "code",
   "execution_count": 10,
   "metadata": {},
   "outputs": [
    {
     "data": {
      "text/plain": [
       "2704506098800"
      ]
     },
     "execution_count": 10,
     "metadata": {},
     "output_type": "execute_result"
    }
   ],
   "source": [
    "id(p2.species)"
   ]
  },
  {
   "cell_type": "code",
   "execution_count": 12,
   "metadata": {},
   "outputs": [
    {
     "name": "stdout",
     "output_type": "stream",
     "text": [
      "John is 20 year old Homo Sapiens\n",
      "Jack is 34 year old Homo Sapiens\n"
     ]
    }
   ],
   "source": [
    "class Person:\n",
    "    \n",
    "    species = 'Homo Sapiens'\n",
    "    \n",
    "    def __init__(self, name, age):\n",
    "        self.name = name\n",
    "        self.age = age\n",
    "        \n",
    "    def display(self):\n",
    "        print(f'{self.name} is {self.age} year old {Person.species}')\n",
    "        \n",
    "p1 = Person('John', 20)\n",
    "p2 = Person('Jack', 34)\n",
    "\n",
    "p1.display()\n",
    "p2.display()"
   ]
  },
  {
   "cell_type": "code",
   "execution_count": 13,
   "metadata": {},
   "outputs": [
    {
     "name": "stdout",
     "output_type": "stream",
     "text": [
      "John is 20 year old Homo Sapiens\n",
      "Jack is 34 year old Homo Sapiens\n"
     ]
    }
   ],
   "source": [
    "class Person:\n",
    "    \n",
    "    species = 'Homo Sapiens'\n",
    "    count = 0\n",
    "    \n",
    "    def __init__(self, name, age):\n",
    "        self.name = name\n",
    "        self.age = age\n",
    "        Person.count += 1\n",
    "        \n",
    "    def display(self):\n",
    "        print(f'{self.name} is {self.age} year old {Person.species}')\n",
    "        \n",
    "p1 = Person('John', 20)\n",
    "p2 = Person('Jack', 34)\n",
    "\n",
    "p1.display()\n",
    "p2.display()"
   ]
  },
  {
   "cell_type": "code",
   "execution_count": 14,
   "metadata": {},
   "outputs": [
    {
     "data": {
      "text/plain": [
       "2"
      ]
     },
     "execution_count": 14,
     "metadata": {},
     "output_type": "execute_result"
    }
   ],
   "source": [
    "Person.count"
   ]
  },
  {
   "cell_type": "code",
   "execution_count": 15,
   "metadata": {},
   "outputs": [],
   "source": [
    "p3 = Person('Jill', 40)"
   ]
  },
  {
   "cell_type": "code",
   "execution_count": 16,
   "metadata": {},
   "outputs": [],
   "source": [
    "p4 = Person('dig', 44)"
   ]
  },
  {
   "cell_type": "code",
   "execution_count": 17,
   "metadata": {},
   "outputs": [
    {
     "data": {
      "text/plain": [
       "4"
      ]
     },
     "execution_count": 17,
     "metadata": {},
     "output_type": "execute_result"
    }
   ],
   "source": [
    "Person.count"
   ]
  },
  {
   "cell_type": "code",
   "execution_count": 20,
   "metadata": {},
   "outputs": [],
   "source": [
    "class BankAccount:\n",
    "    \n",
    "    rate_of_interest = 5\n",
    "    minimum_balance = 100\n",
    "    minimum_balance_fees = 10\n",
    "    \n",
    "    def __init__(self, account_number, owner_name, balance):\n",
    "        self.account_number = account_number\n",
    "        self.owner_name = owner_name\n",
    "        self.balance = balance\n",
    "        \n",
    "    def withdraw(self, amount):\n",
    "        self.balance -= amount\n",
    "        \n",
    "    def deposit(self, amount):\n",
    "        self.amount += amount\n",
    "        \n",
    "account1 = BankAccount('7348', 'Tom', 50)\n",
    "account2 = BankAccount('6378', 'Bob', 400)\n"
   ]
  },
  {
   "cell_type": "code",
   "execution_count": 24,
   "metadata": {},
   "outputs": [
    {
     "name": "stdout",
     "output_type": "stream",
     "text": [
      "100\n",
      "5\n"
     ]
    }
   ],
   "source": [
    "class Book():\n",
    "    \n",
    "    x = 5\n",
    "    \n",
    "    def __init__(self):\n",
    "        self.x = 100\n",
    "        \n",
    "    def display(self):\n",
    "        print(self.x)\n",
    "        print(Book.x)\n",
    "        \n",
    "b = Book()\n",
    "b.display()\n"
   ]
  },
  {
   "cell_type": "code",
   "execution_count": 22,
   "metadata": {},
   "outputs": [
    {
     "data": {
      "text/plain": [
       "5"
      ]
     },
     "execution_count": 22,
     "metadata": {},
     "output_type": "execute_result"
    }
   ],
   "source": [
    "Book.x"
   ]
  },
  {
   "cell_type": "code",
   "execution_count": 23,
   "metadata": {},
   "outputs": [
    {
     "data": {
      "text/plain": [
       "100"
      ]
     },
     "execution_count": 23,
     "metadata": {},
     "output_type": "execute_result"
    }
   ],
   "source": [
    "b.x"
   ]
  },
  {
   "cell_type": "code",
   "execution_count": 25,
   "metadata": {},
   "outputs": [],
   "source": [
    "class Account():\n",
    "    \n",
    "    rate = 5\n",
    "    \n",
    "a1 = Account()\n",
    "a2 = Account()"
   ]
  },
  {
   "cell_type": "code",
   "execution_count": 26,
   "metadata": {},
   "outputs": [
    {
     "data": {
      "text/plain": [
       "5"
      ]
     },
     "execution_count": 26,
     "metadata": {},
     "output_type": "execute_result"
    }
   ],
   "source": [
    "Account.rate"
   ]
  },
  {
   "cell_type": "code",
   "execution_count": 27,
   "metadata": {},
   "outputs": [
    {
     "data": {
      "text/plain": [
       "5"
      ]
     },
     "execution_count": 27,
     "metadata": {},
     "output_type": "execute_result"
    }
   ],
   "source": [
    "a1.rate"
   ]
  },
  {
   "cell_type": "code",
   "execution_count": 28,
   "metadata": {},
   "outputs": [
    {
     "data": {
      "text/plain": [
       "5"
      ]
     },
     "execution_count": 28,
     "metadata": {},
     "output_type": "execute_result"
    }
   ],
   "source": [
    "a2.rate"
   ]
  },
  {
   "cell_type": "code",
   "execution_count": 29,
   "metadata": {},
   "outputs": [],
   "source": [
    "Account.rate = 6"
   ]
  },
  {
   "cell_type": "code",
   "execution_count": 30,
   "metadata": {},
   "outputs": [
    {
     "data": {
      "text/plain": [
       "6"
      ]
     },
     "execution_count": 30,
     "metadata": {},
     "output_type": "execute_result"
    }
   ],
   "source": [
    "Account.rate"
   ]
  },
  {
   "cell_type": "code",
   "execution_count": 31,
   "metadata": {},
   "outputs": [
    {
     "data": {
      "text/plain": [
       "6"
      ]
     },
     "execution_count": 31,
     "metadata": {},
     "output_type": "execute_result"
    }
   ],
   "source": [
    "a1.rate"
   ]
  },
  {
   "cell_type": "code",
   "execution_count": 33,
   "metadata": {},
   "outputs": [
    {
     "data": {
      "text/plain": [
       "6"
      ]
     },
     "execution_count": 33,
     "metadata": {},
     "output_type": "execute_result"
    }
   ],
   "source": [
    "a2.rate"
   ]
  },
  {
   "cell_type": "code",
   "execution_count": 34,
   "metadata": {},
   "outputs": [],
   "source": [
    "a1.rate = 7"
   ]
  },
  {
   "cell_type": "code",
   "execution_count": 35,
   "metadata": {},
   "outputs": [
    {
     "data": {
      "text/plain": [
       "7"
      ]
     },
     "execution_count": 35,
     "metadata": {},
     "output_type": "execute_result"
    }
   ],
   "source": [
    "a1.rate"
   ]
  },
  {
   "cell_type": "code",
   "execution_count": 36,
   "metadata": {},
   "outputs": [
    {
     "data": {
      "text/plain": [
       "6"
      ]
     },
     "execution_count": 36,
     "metadata": {},
     "output_type": "execute_result"
    }
   ],
   "source": [
    "Account.rate"
   ]
  },
  {
   "cell_type": "code",
   "execution_count": 37,
   "metadata": {},
   "outputs": [
    {
     "data": {
      "text/plain": [
       "6"
      ]
     },
     "execution_count": 37,
     "metadata": {},
     "output_type": "execute_result"
    }
   ],
   "source": [
    "a2.rate"
   ]
  },
  {
   "cell_type": "code",
   "execution_count": 38,
   "metadata": {},
   "outputs": [
    {
     "data": {
      "text/plain": [
       "7"
      ]
     },
     "execution_count": 38,
     "metadata": {},
     "output_type": "execute_result"
    }
   ],
   "source": [
    "a1.rate"
   ]
  },
  {
   "cell_type": "code",
   "execution_count": 39,
   "metadata": {},
   "outputs": [
    {
     "data": {
      "text/plain": [
       "140728048428992"
      ]
     },
     "execution_count": 39,
     "metadata": {},
     "output_type": "execute_result"
    }
   ],
   "source": [
    "id(Account.rate)"
   ]
  },
  {
   "cell_type": "code",
   "execution_count": 40,
   "metadata": {},
   "outputs": [
    {
     "data": {
      "text/plain": [
       "140728048429024"
      ]
     },
     "execution_count": 40,
     "metadata": {},
     "output_type": "execute_result"
    }
   ],
   "source": [
    "id(a1.rate)"
   ]
  },
  {
   "cell_type": "code",
   "execution_count": 41,
   "metadata": {},
   "outputs": [
    {
     "data": {
      "text/plain": [
       "140728048428992"
      ]
     },
     "execution_count": 41,
     "metadata": {},
     "output_type": "execute_result"
    }
   ],
   "source": [
    "id(a2.rate)"
   ]
  },
  {
   "cell_type": "code",
   "execution_count": 42,
   "metadata": {},
   "outputs": [
    {
     "name": "stdout",
     "output_type": "stream",
     "text": [
      "5 5 140728048428960 140728048428960\n",
      "10 5 140728048429120 140728048428960\n"
     ]
    }
   ],
   "source": [
    "class Account():\n",
    "    \n",
    "    rate = 5\n",
    "    \n",
    "    def some_method(self):\n",
    "        print(self.rate, Account.rate, id(self.rate), id(Account.rate))\n",
    "        self.rate = 10\n",
    "        print(self.rate, Account.rate, id(self.rate), id(Account.rate))\n",
    "    \n",
    "a1 = Account()\n",
    "a2 = Account()\n",
    "\n",
    "a1.some_method()"
   ]
  },
  {
   "cell_type": "code",
   "execution_count": 43,
   "metadata": {},
   "outputs": [
    {
     "name": "stdout",
     "output_type": "stream",
     "text": [
      "5 5 140728048428960 140728048428960\n",
      "10 10 140728048429120 140728048429120\n"
     ]
    }
   ],
   "source": [
    "class Account():\n",
    "    \n",
    "    rate = 5\n",
    "    \n",
    "    def some_method(self):\n",
    "        print(self.rate, Account.rate, id(self.rate), id(Account.rate))\n",
    "        Account.rate = 10\n",
    "        print(self.rate, Account.rate, id(self.rate), id(Account.rate))\n",
    "    \n",
    "a1 = Account()\n",
    "a2 = Account()\n",
    "\n",
    "a1.some_method()"
   ]
  },
  {
   "cell_type": "code",
   "execution_count": 50,
   "metadata": {},
   "outputs": [
    {
     "name": "stdout",
     "output_type": "stream",
     "text": [
      "5\n"
     ]
    },
    {
     "ename": "NameError",
     "evalue": "name '__MyClass_method1' is not defined",
     "output_type": "error",
     "traceback": [
      "\u001b[1;31m---------------------------------------------------------------------------\u001b[0m",
      "\u001b[1;31mNameError\u001b[0m                                 Traceback (most recent call last)",
      "\u001b[1;32m<ipython-input-50-7b07421eabbf>\u001b[0m in \u001b[0;36m<module>\u001b[1;34m\u001b[0m\n\u001b[0;32m     14\u001b[0m \u001b[1;33m\u001b[0m\u001b[0m\n\u001b[0;32m     15\u001b[0m \u001b[0mMyClass\u001b[0m\u001b[1;33m.\u001b[0m\u001b[0mmethod2\u001b[0m\u001b[1;33m(\u001b[0m\u001b[1;33m)\u001b[0m\u001b[1;33m\u001b[0m\u001b[1;33m\u001b[0m\u001b[0m\n\u001b[1;32m---> 16\u001b[1;33m \u001b[0m__MyClass_method1\u001b[0m\u001b[1;33m(\u001b[0m\u001b[1;33m)\u001b[0m\u001b[1;33m\u001b[0m\u001b[1;33m\u001b[0m\u001b[0m\n\u001b[0m",
      "\u001b[1;31mNameError\u001b[0m: name '__MyClass_method1' is not defined"
     ]
    }
   ],
   "source": [
    "class MyClass():\n",
    "    \n",
    "    a = 5\n",
    "    \n",
    "    def __init__(self, x):\n",
    "        self._x = x\n",
    "        \n",
    "    def method1(self):\n",
    "        print(self.x)\n",
    "        \n",
    "    @classmethod\n",
    "    def method2(cls):\n",
    "        print(cls.a)\n",
    "        \n",
    "MyClass.method2()\n"
   ]
  },
  {
   "cell_type": "code",
   "execution_count": 56,
   "metadata": {},
   "outputs": [
    {
     "name": "stdout",
     "output_type": "stream",
     "text": [
      "There are 0 Homo Sapiens\n",
      "There are 2 Homo Sapiens\n"
     ]
    }
   ],
   "source": [
    "class Person:\n",
    "    \n",
    "    species = 'Homo Sapiens'\n",
    "    count = 0\n",
    "    \n",
    "    def __init__(self, name, age):\n",
    "        self.name = name\n",
    "        self.age = age\n",
    "        Person.count += 1\n",
    "        \n",
    "    def display(self):\n",
    "        print(f'{self.name} is {self.age} year old {Person.species}')\n",
    "        \n",
    "    @classmethod\n",
    "    def show_count(cls):\n",
    "        print(f'There are {cls.count} {cls.species}')\n",
    "        \n",
    "Person.show_count()\n",
    "        \n",
    "p1 = Person('John', 20)\n",
    "p2 = Person('Jack', 34)\n",
    "\n",
    "p1.show_count()"
   ]
  },
  {
   "cell_type": "code",
   "execution_count": 63,
   "metadata": {},
   "outputs": [
    {
     "name": "stdout",
     "output_type": "stream",
     "text": [
      "I am Jim 23 years old\n",
      "I am Jane 34 years old\n"
     ]
    }
   ],
   "source": [
    "class Person:\n",
    "        \n",
    "    def __init__(self, name, age):\n",
    "        self.name = name\n",
    "        self.age = age\n",
    "                \n",
    "    def display(self):\n",
    "        print('I am', self.name, self.age, 'years old')\n",
    "\n",
    "    @classmethod\n",
    "    def from_str(cls, s):\n",
    "        name,age = s.split(',')\n",
    "        return cls(name, int(age))\n",
    "    \n",
    "    @classmethod\n",
    "    def from_dict(cls, s):\n",
    "        return cls( d['name'], d['age'])\n",
    "    \n",
    "p1 = Person('John',20)\n",
    "p2 = Person('Jack',34)\n",
    "\n",
    "s = 'Jim, 23'\n",
    "p3 = Person.from_str(s)\n",
    "p3.display()\n",
    "d = {'name' : 'Jane', 'age' : 34}\n",
    "p4 = Person.from_dict(d)\n",
    "p4.display()"
   ]
  },
  {
   "cell_type": "code",
   "execution_count": 58,
   "metadata": {},
   "outputs": [
    {
     "ename": "AttributeError",
     "evalue": "type object 'Person' has no attribute 's'",
     "output_type": "error",
     "traceback": [
      "\u001b[1;31m---------------------------------------------------------------------------\u001b[0m",
      "\u001b[1;31mAttributeError\u001b[0m                            Traceback (most recent call last)",
      "\u001b[1;32m<ipython-input-58-122ab894985f>\u001b[0m in \u001b[0;36m<module>\u001b[1;34m\u001b[0m\n\u001b[1;32m----> 1\u001b[1;33m \u001b[0mPerson\u001b[0m\u001b[1;33m.\u001b[0m\u001b[0ms\u001b[0m\u001b[1;33m\u001b[0m\u001b[1;33m\u001b[0m\u001b[0m\n\u001b[0m",
      "\u001b[1;31mAttributeError\u001b[0m: type object 'Person' has no attribute 's'"
     ]
    }
   ],
   "source": [
    "Person.s"
   ]
  },
  {
   "cell_type": "code",
   "execution_count": 78,
   "metadata": {},
   "outputs": [],
   "source": [
    "class Employee:\n",
    "    def __init__(self,first_name,last_name,birth_year,salary):\n",
    "        self.first_name = first_name\n",
    "        self.last_name = last_name\n",
    "        self.birth_year = birth_year\n",
    "        self.salary = salary\n",
    "        \n",
    "    def show(self):\n",
    "        print(f'''I am {self.first_name} {self.last_name} born in {self.birth_year} ''')\n",
    "        "
   ]
  },
  {
   "cell_type": "code",
   "execution_count": 85,
   "metadata": {},
   "outputs": [
    {
     "name": "stdout",
     "output_type": "stream",
     "text": [
      "I am Jim 23 years old\n",
      "I am Jane 34 years old\n",
      "I am james Smith 1 years old\n"
     ]
    }
   ],
   "source": [
    "\n",
    "#from employee import Employee\n",
    "from datetime import datetime\n",
    "class Person:\n",
    "        \n",
    "    def __init__(self,name,age):\n",
    "        self.name = name\n",
    "        self.age = age\n",
    "                \n",
    "    def display(self):\n",
    "        print('I am', self.name, self.age, 'years old')\n",
    "\n",
    "    @classmethod\n",
    "    def from_str(cls, s):\n",
    "        name,age = s.split(',')\n",
    "        return cls(name, int(age))\n",
    "    \n",
    "    @classmethod\n",
    "    def from_dict(cls, d):\n",
    "        return cls( d['name'], d['age'])\n",
    "    \n",
    "    @classmethod\n",
    "    def from_employee(cls, emp):\n",
    "        name = emp.first_name + ' ' + emp.last_name\n",
    "        age = datetime.today().year - emp.birth_year\n",
    "        return cls(name, age)\n",
    "    \n",
    "p1 = Person('John',20)\n",
    "p2 = Person('Jack',34)\n",
    "\n",
    "s = 'Jim, 23'\n",
    "p3 = Person.from_str(s)\n",
    "p3.display()\n",
    "d = {'name' : 'Jane', 'age' : 34}\n",
    "p4 = Person.from_dict(d)\n",
    "p4.display()\n",
    "\n",
    "e1 = Employee('james', 'Smith', 2021, 6000)\n",
    "p5 = Person.from_employee(e1)\n",
    "p5.display()"
   ]
  },
  {
   "cell_type": "code",
   "execution_count": 6,
   "metadata": {},
   "outputs": [
    {
     "name": "stdout",
     "output_type": "stream",
     "text": [
      "Course Title :  Learn C++\n",
      "Instructor :  Jack\n",
      "Price :  50\n",
      "Number of Lectures :  30\n",
      "Users :  ['Allen', 'Max', 'Tom']\n",
      "Average Rating :  4.0\n",
      "Video Length :  10\n",
      "\n",
      "Course Title :  Learn Java\n",
      "Instructor :  Jim\n",
      "Price :  50\n",
      "Number of Lectures :  35\n",
      "Users :  ['Allen', 'Mary', 'JIm']\n",
      "Average Rating :  4.5\n",
      "Number of Pages :  1000\n"
     ]
    }
   ],
   "source": [
    "class Course:\n",
    "    def __init__(self, title, instructor, lectures, price):\n",
    "        self.title = title\n",
    "        self.instructor = instructor\n",
    "        self.price = price\n",
    "        self.lectures = lectures\n",
    "        self.users = []\n",
    "        self.ratings = 0\n",
    "        self.avg_rating = 0\n",
    "        \n",
    "    def __str__(self):\n",
    "        return f'{self.title} by {self.instructor}'\n",
    "    \n",
    "    def new_user_enrolled(self, user):\n",
    "        self.users.append(user)\n",
    "        \n",
    "    def received_a_rating(self, new_rating):\n",
    "        self.avg_rating = (self.avg_rating * self.ratings + new_rating)/(self.ratings +1)\n",
    "        self.ratings += 1\n",
    "        \n",
    "    def show_details(self):\n",
    "        print('Course Title : ', self.title)\n",
    "        print('Instructor : ', self.instructor)\n",
    "        print('Price : ', self.price)\n",
    "        print('Number of Lectures : ', self.lectures)\n",
    "        print('Users : ', self.users)\n",
    "        print('Average Rating : ', self.avg_rating)\n",
    "        \n",
    "class VideoCourse(Course):\n",
    "    def __init__(self, title, instructor, lectures, price, length_video):\n",
    "        super().__init__(title, instructor, lectures, price)\n",
    "        self.length_video = length_video\n",
    "        \n",
    "    def show_details(self):\n",
    "        super().show_details()\n",
    "        print('Video Length : ', self.length_video)\n",
    "        \n",
    "class PdfCourse(Course):\n",
    "    def __init__(self, title, instructor, lectures, price, pages):\n",
    "        super().__init__(title, instructor, lectures, price)\n",
    "        self.pages = pages\n",
    "        \n",
    "    def show_details(self):\n",
    "        super().show_details()\n",
    "        print('Number of Pages : ', self.pages)\n",
    "        \n",
    "vc = VideoCourse('Learn C++', 'Jack', 30, 50, 10)\n",
    "vc.new_user_enrolled('Allen')\n",
    "vc.new_user_enrolled('Max')\n",
    "vc.new_user_enrolled('Tom')\n",
    "vc.received_a_rating(3)\n",
    "vc.received_a_rating(5)\n",
    "vc.received_a_rating(4)\n",
    "vc.show_details()\n",
    "\n",
    "print()\n",
    " \n",
    "pc = PdfCourse('Learn Java', 'Jim', 35, 50, 1000)\n",
    "pc.new_user_enrolled('Allen')\n",
    "pc.new_user_enrolled('Mary')\n",
    "pc.new_user_enrolled('JIm')\n",
    "pc.received_a_rating(5)\n",
    "pc.received_a_rating(4)\n",
    "pc.received_a_rating(4.5)\n",
    "pc.show_details()\n",
    "        \n",
    "        "
   ]
  },
  {
   "cell_type": "code",
   "execution_count": 7,
   "metadata": {},
   "outputs": [
    {
     "name": "stdout",
     "output_type": "stream",
     "text": [
      "Can cook noodles\n",
      "\n",
      "Can cook pasta\n",
      "Can cook butter chicken\n"
     ]
    }
   ],
   "source": [
    "class Mother:\n",
    "        def cook(self):\n",
    "           print('Can cook pasta')\n",
    " \n",
    "class Father:\n",
    "        def cook(self):\n",
    "             print('Can cook noodles')\n",
    " \n",
    "class Daughter(Father, Mother):\n",
    "          pass\n",
    " \n",
    "class Son(Mother, Father):\n",
    "         def cook(self):\n",
    "             super().cook()\n",
    "             print('Can cook butter chicken') \n",
    " \n",
    "d = Daughter()  \n",
    "s = Son()\n",
    "\n",
    "d.cook()\n",
    "print()\n",
    "s.cook()\n"
   ]
  },
  {
   "cell_type": "code",
   "execution_count": 8,
   "metadata": {},
   "outputs": [
    {
     "name": "stdout",
     "output_type": "stream",
     "text": [
      "2675T\n",
      "4567S\n",
      "3421T\n",
      "5749\n"
     ]
    }
   ],
   "source": [
    "class Person:\n",
    "    def __init__(self,id):\n",
    "        self.id = id\n",
    "        \n",
    "class Teacher(Person):\n",
    "    def __init__(self,id):\n",
    "        Person.__init__(self,id)\n",
    "        self.id += 'T'\n",
    "    \n",
    "class Student(Person):\n",
    "    def __init__(self,id):\n",
    "        Person.__init__(self,id)\n",
    "        self.id += 'S'\n",
    "   \n",
    "class TeachingAssistant(Student, Teacher):\n",
    "     def __init__(self,id):\n",
    "        Student.__init__(self,id)\n",
    "        Teacher.__init__(self,id)\n",
    "       \n",
    "x = TeachingAssistant('2675')\n",
    "print(x.id)\n",
    "y = Student('4567')\n",
    "print(y.id)\n",
    "z = Teacher('3421')\n",
    "print(z.id)\n",
    "p = Person('5749')\n",
    "print(p.id)\n"
   ]
  },
  {
   "cell_type": "code",
   "execution_count": 9,
   "metadata": {},
   "outputs": [
    {
     "name": "stdout",
     "output_type": "stream",
     "text": [
      "2675TS\n",
      "4567S\n",
      "3421T\n",
      "5749\n"
     ]
    }
   ],
   "source": [
    "class Person:\n",
    "    def __init__(self,id):\n",
    "        self.id = id\n",
    "        \n",
    "class Teacher(Person):\n",
    "    def __init__(self,id):\n",
    "        super().__init__(id)\n",
    "        self.id += 'T'\n",
    "    \n",
    "class Student(Person):\n",
    "    def __init__(self,id):\n",
    "        super().__init__(id)\n",
    "        self.id += 'S'\n",
    "   \n",
    "class TeachingAssistant(Student, Teacher):\n",
    "     def __init__(self,id):\n",
    "        super().__init__(id)\n",
    "        \n",
    "       \n",
    "x = TeachingAssistant('2675')\n",
    "print(x.id)\n",
    "y = Student('4567')\n",
    "print(y.id)\n",
    "z = Teacher('3421')\n",
    "print(z.id)\n",
    "p = Person('5749')\n",
    "print(p.id)"
   ]
  },
  {
   "cell_type": "code",
   "execution_count": 8,
   "metadata": {},
   "outputs": [
    {
     "name": "stdout",
     "output_type": "stream",
     "text": [
      "3\n",
      "Krishna 67 68 69\n",
      "Arjun 70 98 63\n",
      "Malika 52 56 60\n",
      "Malika\n",
      "56.00\n"
     ]
    }
   ],
   "source": [
    "n = int(input())\n",
    "student_marks = {}\n",
    "for _ in range(n):\n",
    "    line = input().split()\n",
    "    name, scores = line[0], line[1:]\n",
    "    scores = map(float, scores)\n",
    "    student_marks[name] = scores\n",
    "query_name = input()\n",
    "output = list(student_marks[query_name])    \n",
    "per = sum(output)/len(output);\n",
    "print(\"%.2f\" % per); "
   ]
  },
  {
   "cell_type": "code",
   "execution_count": 27,
   "metadata": {},
   "outputs": [
    {
     "name": "stdout",
     "output_type": "stream",
     "text": [
      "1.1 2.2 3.3 4.4 5.5 6.6 7.7 8.8 9.9\n",
      "[ 1.  2.  3.  4.  5.  6.  7.  8.  9.]\n",
      "[  2.   3.   4.   5.   6.   7.   8.   9.  10.]\n",
      "[  1.   2.   3.   4.   6.   7.   8.   9.  10.]\n"
     ]
    }
   ],
   "source": [
    "import numpy\n",
    "numpy.set_printoptions(sign=' ')\n",
    "a = numpy.array(input().split(),float)\n",
    "print(numpy.floor(a))\n",
    "print(numpy.ceil(a))\n",
    "print(numpy.rint(a))"
   ]
  },
  {
   "cell_type": "code",
   "execution_count": null,
   "metadata": {},
   "outputs": [],
   "source": [
    "import numpy\n",
    "\n",
    "numpy.set_printoptions(sign=' ')\n",
    "\n",
    "my_array = numpy.array([ [1, 2], [3, 4] ])\n",
    "\n",
    "print numpy.sum(my_array, axis = 0)         #Output : [4 6]\n",
    "print numpy.sum(my_array, axis = 1)         #Output : [3 7]\n",
    "print numpy.sum(my_array, axis = None)      #Output : 10\n",
    "print numpy.sum(my_array)"
   ]
  },
  {
   "cell_type": "code",
   "execution_count": 28,
   "metadata": {},
   "outputs": [
    {
     "name": "stdout",
     "output_type": "stream",
     "text": [
      "2 2\n",
      "1 2\n",
      "3 4\n",
      "24\n"
     ]
    }
   ],
   "source": [
    "import numpy\n",
    "\n",
    "N, M = map(int, input().split())\n",
    "A = numpy.array([input().split() for _ in range(N)], int)\n",
    "print(numpy.prod(numpy.sum(A, axis=0), axis=0))"
   ]
  },
  {
   "cell_type": "code",
   "execution_count": null,
   "metadata": {},
   "outputs": [],
   "source": []
  }
 ],
 "metadata": {
  "kernelspec": {
   "display_name": "Python 3",
   "language": "python",
   "name": "python3"
  },
  "language_info": {
   "codemirror_mode": {
    "name": "ipython",
    "version": 3
   },
   "file_extension": ".py",
   "mimetype": "text/x-python",
   "name": "python",
   "nbconvert_exporter": "python",
   "pygments_lexer": "ipython3",
   "version": "3.7.4"
  }
 },
 "nbformat": 4,
 "nbformat_minor": 4
}
