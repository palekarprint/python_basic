{
 "cells": [
  {
   "cell_type": "code",
   "execution_count": 1,
   "metadata": {},
   "outputs": [
    {
     "name": "stdout",
     "output_type": "stream",
     "text": [
      "Mike 200\n",
      "Tom 0\n",
      "Mike 100\n",
      "Tom 500\n"
     ]
    }
   ],
   "source": [
    "class BankAccount:\n",
    "    def __init__(self, name, balance=0):\n",
    "        self.name = name\n",
    "        self.balance = balance\n",
    " \n",
    "    def display(self):\n",
    "         print(self.name, self.balance)\n",
    " \n",
    "    def withdraw(self, amount):\n",
    "        self.balance -= amount\n",
    " \n",
    "    def deposit(self, amount):\n",
    "        self.balance += amount\n",
    "    \n",
    "a1 = BankAccount('Mike', 200)\n",
    "a2 = BankAccount('Tom')\n",
    " \n",
    "a1.display()\n",
    "a2.display()\n",
    " \n",
    "a1.withdraw(100)\n",
    "a2.deposit(500)\n",
    " \n",
    "a1.display()\n",
    "a2.display()"
   ]
  },
  {
   "cell_type": "code",
   "execution_count": 2,
   "metadata": {},
   "outputs": [
    {
     "name": "stdout",
     "output_type": "stream",
     "text": [
      "Learn Physics\n",
      "ISBN : 957-4-36-547417-1\n",
      "Price : 200\n",
      "Number of copies : 10\n",
      "..................................................\n",
      "Learn Chemistry\n",
      "ISBN : 652-6-86-748413-3\n",
      "Price : 220\n",
      "Number of copies : 20\n",
      "..................................................\n",
      "Learn Maths\n",
      "ISBN : 957-7-39-347216-2\n",
      "Price : 300\n",
      "Number of copies : 5\n",
      "..................................................\n",
      "Learn Biology\n",
      "ISBN : 957-7-39-347216-2\n",
      "Price : 200\n",
      "Number of copies : 6\n",
      "..................................................\n"
     ]
    }
   ],
   "source": [
    "class Book:\n",
    "    \n",
    "    def __init__(self,isbn, title,author,publisher,pages,price,copies):\n",
    "        self.isbn = isbn\n",
    "        self.title = title\n",
    "        self.author = author\n",
    "        self.publisher = publisher\n",
    "        self.pages = pages\n",
    "        self.price = price\n",
    "        self.copies = copies\n",
    "   \n",
    "    def display(self):\n",
    "        print(self.title)\n",
    "        print(f'ISBN : {self.isbn}')\n",
    "        print(f'Price : {self.price}')\n",
    "        print(f'Number of copies : {self.copies}')\n",
    "        print('.' * 50)\n",
    " \n",
    "book1 = Book('957-4-36-547417-1', 'Learn Physics','Stephen', 'CBC', 350, 200,10)\n",
    "book2 = Book('652-6-86-748413-3', 'Learn Chemistry','Jack', 'CBC', 400, 220,20)\n",
    "book3 = Book('957-7-39-347216-2', 'Learn Maths','John', 'XYZ', 500, 300,5)\n",
    "book4 = Book('957-7-39-347216-2', 'Learn Biology','Jack', 'XYZ', 400, 200,6)\n",
    " \n",
    "book1.display()\n",
    "book2.display()\n",
    "book3.display()\n",
    "book4.display()"
   ]
  },
  {
   "cell_type": "code",
   "execution_count": 3,
   "metadata": {},
   "outputs": [],
   "source": [
    "def in_stock(self):\n",
    "        return True if self.copies>0 else False\n",
    " \n",
    "def sell(self):\n",
    "        if self.in_stock():\n",
    "            self.copies -= 1\n",
    "        else:\n",
    "            print('The book is out of stock')"
   ]
  },
  {
   "cell_type": "code",
   "execution_count": 4,
   "metadata": {},
   "outputs": [
    {
     "name": "stdout",
     "output_type": "stream",
     "text": [
      "Learn Physics\n",
      "ISBN : 957-4-36-547417-1\n",
      "Price : 200\n",
      "Number of copies : 10\n",
      "..................................................\n",
      "Learn Chemistry\n",
      "ISBN : 652-6-86-748413-3\n",
      "Price : 220\n",
      "Number of copies : 20\n",
      "..................................................\n",
      "Learn Maths\n",
      "ISBN : 957-7-39-347216-2\n",
      "Price : 300\n",
      "Number of copies : 5\n",
      "..................................................\n",
      "Learn Biology\n",
      "ISBN : 957-7-39-347216-2\n",
      "Price : 200\n",
      "Number of copies : 6\n",
      "..................................................\n",
      "['Learn Chemistry', 'Learn Biology']\n"
     ]
    }
   ],
   "source": [
    "books = [book1, book2, book3, book4]\n",
    " \n",
    "for book in books:\n",
    "    book.display()\n",
    " \n",
    "jack_books = [book.title for book in books if book.author == 'Jack']\n",
    " \n",
    "print(jack_books)"
   ]
  },
  {
   "cell_type": "code",
   "execution_count": 6,
   "metadata": {},
   "outputs": [],
   "source": [
    "@property\n",
    "def price(self):\n",
    "       return self._price\n",
    " \n",
    "@price.setter\n",
    "def price(self, new_price):\n",
    "      if 50 <= new_price <= 1000:\n",
    "          self._price = new_price\n",
    "      else:\n",
    "           raise ValueError ('Price cannot be less than 10 or more than 500')"
   ]
  },
  {
   "cell_type": "code",
   "execution_count": 7,
   "metadata": {},
   "outputs": [
    {
     "name": "stdout",
     "output_type": "stream",
     "text": [
      "2/3\n",
      "-2/3\n",
      "5/6\n"
     ]
    }
   ],
   "source": [
    "class Fraction:\n",
    "    def __init__(self,nr,dr=1):\n",
    "        self.nr = nr\n",
    "        self.dr = dr\n",
    "        if self.dr < 0:    \n",
    "            self.nr *= -1\n",
    "            self.dr *= -1\n",
    " \n",
    "    def show(self):\n",
    "        print(f'{self.nr}/{self.dr}')\n",
    "       \n",
    "f1 = Fraction(2,3)\n",
    "f1.show()\n",
    "f2 = Fraction(2,-3)\n",
    "f2.show()\n",
    "f3 = Fraction(-5,-6)\n",
    "f3.show()"
   ]
  },
  {
   "cell_type": "code",
   "execution_count": 8,
   "metadata": {},
   "outputs": [],
   "source": [
    "def multiply(self,other):\n",
    "        if isinstance(other,int):\n",
    "            other = Fraction(other)\n",
    "        return Fraction(self.nr * other.nr , self.dr * other.dr)\n",
    " \n",
    "def add(self,other):\n",
    "        if isinstance(other,int):\n",
    "            other = Fraction(other)\n",
    "        return Fraction(self.nr * other.dr + other.nr * self.dr, self.dr * other.dr)"
   ]
  },
  {
   "cell_type": "code",
   "execution_count": 9,
   "metadata": {},
   "outputs": [
    {
     "name": "stdout",
     "output_type": "stream",
     "text": [
      "A234 95.0\n",
      "X879 376.0\n",
      "B987 950.4\n",
      "H456 752.0\n"
     ]
    }
   ],
   "source": [
    "class Product():\n",
    "    def __init__(self, id, marked_price, discount):\n",
    "        self.id = id\n",
    "        self.marked_price = marked_price\n",
    "        self.discount = discount\n",
    "        \n",
    "    @property\n",
    "    def selling_price(self):\n",
    "        return self.marked_price - 0.01 * self.discount * self.marked_price\n",
    "    \n",
    "    def display(self):\n",
    "        print(self.id,  self.marked_price,  self.discount)\n",
    "    \n",
    "p1 = Product('A234', 100, 5)\n",
    "p2 = Product('X879', 400, 6)\n",
    "p3 = Product('B987', 990, 4)\n",
    "p4 = Product('H456', 800, 6)\n",
    " \n",
    "print(p1.id, p1.selling_price)\n",
    "print(p2.id, p2.selling_price)\n",
    "print(p3.id, p3.selling_price)\n",
    "print(p4.id, p4.selling_price)"
   ]
  },
  {
   "cell_type": "code",
   "execution_count": 10,
   "metadata": {},
   "outputs": [
    {
     "name": "stdout",
     "output_type": "stream",
     "text": [
      "A234 95.0\n",
      "X879 376.0\n",
      "B987 930.6\n",
      "H456 736.0\n",
      "H456 704.0\n"
     ]
    }
   ],
   "source": [
    "class Product():\n",
    "    def __init__(self, id, marked_price, discount):\n",
    "        self.id = id\n",
    "        self.marked_price = marked_price\n",
    "        self._discount = discount\n",
    "        \n",
    "    @property\n",
    "    def selling_price(self):\n",
    "        return self.marked_price - 0.01 * self.discount * self.marked_price\n",
    " \n",
    "    @property\n",
    "    def discount(self):\n",
    "        return self._discount+2 if self.marked_price > 500 else self._discount\n",
    " \n",
    "    @discount.setter\n",
    "    def discount(self, new_discount):\n",
    "        self._discount = new_discount\n",
    "        \n",
    "    def display(self):\n",
    "        print(self.id, self.marked_price, self.discount)\n",
    " \n",
    "p1 = Product('A234', 100, 5)\n",
    "p2 = Product('X879', 400, 6)\n",
    "p3 = Product('B987', 990, 4)\n",
    "p4 = Product('H456', 800, 6)\n",
    " \n",
    "print(p1.id, p1.selling_price)\n",
    "print(p2.id, p2.selling_price)\n",
    "print(p3.id, p3.selling_price)\n",
    "print(p4.id, p4.selling_price)\n",
    " \n",
    "p4.discount = 10\n",
    "print(p4.id, p4.selling_price)"
   ]
  },
  {
   "cell_type": "code",
   "execution_count": 11,
   "metadata": {},
   "outputs": [
    {
     "name": "stdout",
     "output_type": "stream",
     "text": [
      "7 14 43.96 153.86\n"
     ]
    }
   ],
   "source": [
    "class Circle:\n",
    "    def __init__(self, radius):\n",
    "        self.radius = radius\n",
    " \n",
    "    @property\n",
    "    def radius(self):\n",
    "        return self._radius\n",
    " \n",
    "    @radius.setter\n",
    "    def radius(self, new_radius):\n",
    "        if new_radius > 0:\n",
    "            self._radius = new_radius\n",
    "        else:\n",
    "            raise ValueError('Radius should be positive')\n",
    " \n",
    "    @property\n",
    "    def diameter(self):\n",
    "        return self._radius * 2\n",
    " \n",
    "    @property\n",
    "    def circumference(self):\n",
    "        return 2 * 3.14 * self._radius\n",
    " \n",
    "    def area(self):\n",
    "        return 3.14 * self._radius * self._radius\n",
    " \n",
    "c1 = Circle(7)\n",
    "print( c1.radius, c1.diameter, c1.circumference, c1.area() )"
   ]
  },
  {
   "cell_type": "code",
   "execution_count": 3,
   "metadata": {},
   "outputs": [
    {
     "name": "stdout",
     "output_type": "stream",
     "text": [
      "2/3\n",
      "-2/3\n",
      "5/6\n",
      "-100/60\n"
     ]
    },
    {
     "data": {
      "text/plain": [
       "1"
      ]
     },
     "execution_count": 3,
     "metadata": {},
     "output_type": "execute_result"
    }
   ],
   "source": [
    "#Exercie 3.1\n",
    "class Fraction:\n",
    "    \n",
    "    def __init__(self,nr,dr=1):\n",
    "        self.nr = nr\n",
    "        self.dr = dr\n",
    "        if self.dr < 0:    \n",
    "            self.nr *= -1\n",
    "            self.dr *= -1\n",
    "            \n",
    "    @staticmethod\n",
    "    def hcf(x,y):\n",
    "        x=abs(x)\n",
    "        y=abs(y)\n",
    "        smaller = y if x>y else x\n",
    "        s = smaller\n",
    "        while s>0:\n",
    "            if x%s==0 and y%s==0:\n",
    "                break\n",
    "            s-=1\n",
    "        return s\n",
    " \n",
    "    def show(self):\n",
    "        print(f'{self.nr}/{self.dr}')\n",
    "       \n",
    "f1 = Fraction(2,3)\n",
    "f1.show()\n",
    "f2 = Fraction(2,-3)\n",
    "f2.show()\n",
    "f3 = Fraction(-5,-6)\n",
    "f3.show()\n",
    "\n",
    "f4 = Fraction(100,-60)\n",
    "f4.show()\n",
    "\n",
    "f1.hcf(-5, 3)"
   ]
  },
  {
   "cell_type": "code",
   "execution_count": 4,
   "metadata": {},
   "outputs": [
    {
     "name": "stdout",
     "output_type": "stream",
     "text": [
      "1/6\n",
      "-1/6\n",
      "-1/36\n",
      "0/36\n",
      "31/6\n",
      "5/6\n"
     ]
    }
   ],
   "source": [
    "class Fraction:\n",
    "    def __init__(self,nr,dr=1):\n",
    "        self.nr = nr\n",
    "        self.dr = dr\n",
    "        if self.dr < 0:  \n",
    "            self.nr *= -1\n",
    "            self.dr *= -1\n",
    "        self._reduce()\n",
    " \n",
    "    def show(self):\n",
    "        print(f'{self.nr}/{self.dr}')\n",
    " \n",
    "    def multiply(self,other):\n",
    "        if isinstance(other,int):\n",
    "            other = Fraction(other)\n",
    "        f = Fraction(self.nr * other.nr , self.dr * other.dr)\n",
    "        f._reduce()\n",
    "        return f\n",
    "        \n",
    "    def add(self,other):\n",
    "        if isinstance(other,int):\n",
    "            other = Fraction(other)\n",
    "        f = Fraction(self.nr * other.dr + other.nr * self.dr, self.dr * other.dr)\n",
    "        f._reduce()\n",
    "        return f\n",
    " \n",
    "    def _reduce(self):\n",
    "        h = Fraction.hcf(self.nr, self.dr)\n",
    "        if h == 0:\n",
    "            return\n",
    "        \n",
    "        self.nr //= h\n",
    "        self.dr //= h\n",
    "        \n",
    "    @staticmethod\n",
    "    def hcf(x,y):\n",
    "        x=abs(x)\n",
    "        y=abs(y)\n",
    "        smaller = y if x>y else x\n",
    "        s = smaller\n",
    "        while s>0:\n",
    "            if x%s==0 and y%s==0:\n",
    "                break\n",
    "            s-=1\n",
    "        return s\n",
    " \n",
    "       \n",
    "f1 = Fraction(6,36)\n",
    "f1.show()\n",
    "f2 = Fraction(2,-12)\n",
    "f2.show()\n",
    "f3 = f1.multiply(f2)\n",
    "f3.show()\n",
    "f3 = f1.add(f2)\n",
    "f3.show()\n",
    "f3 = f1.add(5) \n",
    "f3.show()\n",
    "f3 = f1.multiply(5) \n",
    "f3.show()"
   ]
  },
  {
   "cell_type": "code",
   "execution_count": 16,
   "metadata": {},
   "outputs": [],
   "source": [
    "s=432\n",
    "while s>0:\n",
    "    if 504%s==0 and 3432%s==0:\n",
    "        break\n",
    "    s -= 1"
   ]
  },
  {
   "cell_type": "code",
   "execution_count": 17,
   "metadata": {},
   "outputs": [
    {
     "data": {
      "text/plain": [
       "24"
      ]
     },
     "execution_count": 17,
     "metadata": {},
     "output_type": "execute_result"
    }
   ],
   "source": [
    "s"
   ]
  },
  {
   "cell_type": "code",
   "execution_count": 14,
   "metadata": {},
   "outputs": [],
   "source": [
    "a=6\n",
    "b=6\n",
    "a//=b"
   ]
  },
  {
   "cell_type": "code",
   "execution_count": 15,
   "metadata": {},
   "outputs": [
    {
     "data": {
      "text/plain": [
       "1"
      ]
     },
     "execution_count": 15,
     "metadata": {},
     "output_type": "execute_result"
    }
   ],
   "source": [
    "a"
   ]
  },
  {
   "cell_type": "code",
   "execution_count": 18,
   "metadata": {},
   "outputs": [
    {
     "name": "stdout",
     "output_type": "stream",
     "text": [
      "Bob 25 2200\n",
      "Ted 22 5000\n",
      "Jack 27 11000\n",
      "18200\n",
      "['Bob', 'Ted', 'Jack']\n"
     ]
    }
   ],
   "source": [
    "class SalesPerson:    \n",
    "    total_revenue = 0\n",
    "    names = []\n",
    "    \n",
    "    def __init__(self,name,age):\n",
    "        self.name = name\n",
    "        self.age = age\n",
    "        self.sales_amount = 0\n",
    "        SalesPerson.names.append(name)\n",
    " \n",
    "    def make_sale(self,money):\n",
    "        self.sales_amount += money\n",
    "        SalesPerson.total_revenue += money\n",
    " \n",
    "    def show(self):\n",
    "        print(self.name, self.age, self.sales_amount)\n",
    " \n",
    "s1 = SalesPerson('Bob', 25)\n",
    "s2 = SalesPerson('Ted', 22)\n",
    "s3 = SalesPerson('Jack', 27)\n",
    "            \n",
    "s1.make_sale(1000)\n",
    "s1.make_sale(1200)\n",
    "s2.make_sale(5000)\n",
    "s3.make_sale(3000)\n",
    "s3.make_sale(8000)\n",
    " \n",
    "s1.show()\n",
    "s2.show()\n",
    "s3.show()\n",
    " \n",
    "print(SalesPerson.total_revenue)\n",
    "print(SalesPerson.names)"
   ]
  },
  {
   "cell_type": "code",
   "execution_count": 19,
   "metadata": {},
   "outputs": [
    {
     "name": "stdout",
     "output_type": "stream",
     "text": [
      "{'outlook.com', 'yahoo.com', 'gmail.com'}\n"
     ]
    }
   ],
   "source": [
    "class Employee:\n",
    "    domains = set()\n",
    "    \n",
    "    def __init__(self,name,email):\n",
    "        self.name = name\n",
    "        self.email = email\n",
    "        domain = email[email.index('@')+1 : ]\n",
    "        Employee.domains.add(domain)\n",
    "   \n",
    "    def display(self):\n",
    "        print(self.name, self.email)\n",
    "             \n",
    "e1 = Employee('John','john@gmail.com')\n",
    "e2 = Employee('Jack','jack@yahoo.com')\n",
    "e3 = Employee('Jill','jill@outlook.com')\n",
    "e4 = Employee('Ted','ted@yahoo.com')\n",
    "e5 = Employee('Tim','tim@gmail.com')\n",
    "e6 = Employee('Mike','mike@yahoo.com')\n",
    " \n",
    "print(Employee.domains)"
   ]
  },
  {
   "cell_type": "code",
   "execution_count": 20,
   "metadata": {},
   "outputs": [
    {
     "ename": "RuntimeError",
     "evalue": "Domain xmail.com is not allowed",
     "output_type": "error",
     "traceback": [
      "\u001b[1;31m---------------------------------------------------------------------------\u001b[0m",
      "\u001b[1;31mRuntimeError\u001b[0m                              Traceback (most recent call last)",
      "\u001b[1;32m<ipython-input-20-f6d0ae0b9efe>\u001b[0m in \u001b[0;36m<module>\u001b[1;34m\u001b[0m\n\u001b[0;32m     25\u001b[0m \u001b[0me3\u001b[0m \u001b[1;33m=\u001b[0m \u001b[0mEmployee\u001b[0m\u001b[1;33m(\u001b[0m\u001b[1;34m'Jill'\u001b[0m\u001b[1;33m,\u001b[0m\u001b[1;34m'jill@outlook.com'\u001b[0m\u001b[1;33m)\u001b[0m\u001b[1;33m\u001b[0m\u001b[1;33m\u001b[0m\u001b[0m\n\u001b[0;32m     26\u001b[0m \u001b[0me4\u001b[0m \u001b[1;33m=\u001b[0m \u001b[0mEmployee\u001b[0m\u001b[1;33m(\u001b[0m\u001b[1;34m'Ted'\u001b[0m\u001b[1;33m,\u001b[0m\u001b[1;34m'ted@yahoo.com'\u001b[0m\u001b[1;33m)\u001b[0m\u001b[1;33m\u001b[0m\u001b[1;33m\u001b[0m\u001b[0m\n\u001b[1;32m---> 27\u001b[1;33m \u001b[0me5\u001b[0m \u001b[1;33m=\u001b[0m \u001b[0mEmployee\u001b[0m\u001b[1;33m(\u001b[0m\u001b[1;34m'Tim'\u001b[0m\u001b[1;33m,\u001b[0m\u001b[1;34m'tim@xmail.com'\u001b[0m\u001b[1;33m)\u001b[0m\u001b[1;33m\u001b[0m\u001b[1;33m\u001b[0m\u001b[0m\n\u001b[0m\u001b[0;32m     28\u001b[0m \u001b[0me5\u001b[0m\u001b[1;33m.\u001b[0m\u001b[0mdisplay\u001b[0m\u001b[1;33m(\u001b[0m\u001b[1;33m)\u001b[0m\u001b[1;33m\u001b[0m\u001b[1;33m\u001b[0m\u001b[0m\n\u001b[0;32m     29\u001b[0m \u001b[1;33m\u001b[0m\u001b[0m\n",
      "\u001b[1;32m<ipython-input-20-f6d0ae0b9efe>\u001b[0m in \u001b[0;36m__init__\u001b[1;34m(self, name, email)\u001b[0m\n\u001b[0;32m      4\u001b[0m     \u001b[1;32mdef\u001b[0m \u001b[0m__init__\u001b[0m\u001b[1;33m(\u001b[0m\u001b[0mself\u001b[0m\u001b[1;33m,\u001b[0m\u001b[0mname\u001b[0m\u001b[1;33m,\u001b[0m\u001b[0memail\u001b[0m\u001b[1;33m)\u001b[0m\u001b[1;33m:\u001b[0m\u001b[1;33m\u001b[0m\u001b[1;33m\u001b[0m\u001b[0m\n\u001b[0;32m      5\u001b[0m         \u001b[0mself\u001b[0m\u001b[1;33m.\u001b[0m\u001b[0mname\u001b[0m \u001b[1;33m=\u001b[0m \u001b[0mname\u001b[0m\u001b[1;33m\u001b[0m\u001b[1;33m\u001b[0m\u001b[0m\n\u001b[1;32m----> 6\u001b[1;33m         \u001b[0mself\u001b[0m\u001b[1;33m.\u001b[0m\u001b[0memail\u001b[0m \u001b[1;33m=\u001b[0m \u001b[0memail\u001b[0m\u001b[1;33m\u001b[0m\u001b[1;33m\u001b[0m\u001b[0m\n\u001b[0m\u001b[0;32m      7\u001b[0m \u001b[1;33m\u001b[0m\u001b[0m\n\u001b[0;32m      8\u001b[0m     \u001b[1;32mdef\u001b[0m \u001b[0mdisplay\u001b[0m\u001b[1;33m(\u001b[0m\u001b[0mself\u001b[0m\u001b[1;33m)\u001b[0m\u001b[1;33m:\u001b[0m\u001b[1;33m\u001b[0m\u001b[1;33m\u001b[0m\u001b[0m\n",
      "\u001b[1;32m<ipython-input-20-f6d0ae0b9efe>\u001b[0m in \u001b[0;36memail\u001b[1;34m(self, new_email)\u001b[0m\n\u001b[0;32m     19\u001b[0m             \u001b[0mself\u001b[0m\u001b[1;33m.\u001b[0m\u001b[0m_email\u001b[0m \u001b[1;33m=\u001b[0m \u001b[0mnew_email\u001b[0m\u001b[1;33m\u001b[0m\u001b[1;33m\u001b[0m\u001b[0m\n\u001b[0;32m     20\u001b[0m         \u001b[1;32melse\u001b[0m\u001b[1;33m:\u001b[0m\u001b[1;33m\u001b[0m\u001b[1;33m\u001b[0m\u001b[0m\n\u001b[1;32m---> 21\u001b[1;33m             \u001b[1;32mraise\u001b[0m \u001b[0mRuntimeError\u001b[0m\u001b[1;33m(\u001b[0m\u001b[1;34mf'Domain {domain} is not allowed'\u001b[0m\u001b[1;33m)\u001b[0m\u001b[1;33m\u001b[0m\u001b[1;33m\u001b[0m\u001b[0m\n\u001b[0m\u001b[0;32m     22\u001b[0m \u001b[1;33m\u001b[0m\u001b[0m\n\u001b[0;32m     23\u001b[0m \u001b[0me1\u001b[0m \u001b[1;33m=\u001b[0m \u001b[0mEmployee\u001b[0m\u001b[1;33m(\u001b[0m\u001b[1;34m'John'\u001b[0m\u001b[1;33m,\u001b[0m\u001b[1;34m'john@gmail.com'\u001b[0m\u001b[1;33m)\u001b[0m\u001b[1;33m\u001b[0m\u001b[1;33m\u001b[0m\u001b[0m\n",
      "\u001b[1;31mRuntimeError\u001b[0m: Domain xmail.com is not allowed"
     ]
    }
   ],
   "source": [
    "class Employee:\n",
    "    allowed_domains = {'yahoo.com', 'gmail.com', 'outlook.com'}\n",
    "    \n",
    "    def __init__(self,name,email):\n",
    "        self.name = name\n",
    "        self.email = email\n",
    "   \n",
    "    def display(self):\n",
    "        print(self.name, self.email)\n",
    " \n",
    "    @property\n",
    "    def email(self):\n",
    "        return self._email\n",
    " \n",
    "    @email.setter\n",
    "    def email(self, new_email):\n",
    "        domain = new_email[new_email.index('@')+1 : ]\n",
    "        if domain in Employee.allowed_domains:\n",
    "            self._email = new_email\n",
    "        else:\n",
    "            raise RuntimeError(f'Domain {domain} is not allowed')\n",
    "            \n",
    "e1 = Employee('John','john@gmail.com')\n",
    "e2 = Employee('Jack','jack@yahoo.com')\n",
    "e3 = Employee('Jill','jill@outlook.com')\n",
    "e4 = Employee('Ted','ted@yahoo.com')\n",
    "e5 = Employee('Tim','tim@xmail.com')\n",
    "e5.display()\n",
    " \n",
    "e4.email = 'ted@ymail.com'\n",
    "e4.display()\n",
    " \n",
    "e3.email = 'jill@gmail.com'\n",
    "e3.display()"
   ]
  },
  {
   "cell_type": "code",
   "execution_count": 22,
   "metadata": {},
   "outputs": [
    {
     "name": "stdout",
     "output_type": "stream",
     "text": [
      "1.Push\n",
      "2.Pop\n",
      "3.Peek\n",
      "4.Size\n",
      "5.Display\n",
      "6.Quit\n",
      "Enter your choice : 2\n"
     ]
    },
    {
     "ename": "RuntimeError",
     "evalue": "Stack is empty",
     "output_type": "error",
     "traceback": [
      "\u001b[1;31m---------------------------------------------------------------------------\u001b[0m",
      "\u001b[1;31mRuntimeError\u001b[0m                              Traceback (most recent call last)",
      "\u001b[1;32m<ipython-input-22-70d34e157f9b>\u001b[0m in \u001b[0;36m<module>\u001b[1;34m\u001b[0m\n\u001b[0;32m     43\u001b[0m             \u001b[0mst\u001b[0m\u001b[1;33m.\u001b[0m\u001b[0mpush\u001b[0m\u001b[1;33m(\u001b[0m\u001b[0mx\u001b[0m\u001b[1;33m)\u001b[0m\u001b[1;33m\u001b[0m\u001b[1;33m\u001b[0m\u001b[0m\n\u001b[0;32m     44\u001b[0m         \u001b[1;32melif\u001b[0m \u001b[0mchoice\u001b[0m \u001b[1;33m==\u001b[0m \u001b[1;36m2\u001b[0m\u001b[1;33m:\u001b[0m\u001b[1;33m\u001b[0m\u001b[1;33m\u001b[0m\u001b[0m\n\u001b[1;32m---> 45\u001b[1;33m             \u001b[0mx\u001b[0m\u001b[1;33m=\u001b[0m\u001b[0mst\u001b[0m\u001b[1;33m.\u001b[0m\u001b[0mpop\u001b[0m\u001b[1;33m(\u001b[0m\u001b[1;33m)\u001b[0m\u001b[1;33m\u001b[0m\u001b[1;33m\u001b[0m\u001b[0m\n\u001b[0m\u001b[0;32m     46\u001b[0m             \u001b[0mprint\u001b[0m\u001b[1;33m(\u001b[0m\u001b[1;34m\"Popped element is : \"\u001b[0m \u001b[1;33m,\u001b[0m \u001b[0mx\u001b[0m\u001b[1;33m)\u001b[0m\u001b[1;33m\u001b[0m\u001b[1;33m\u001b[0m\u001b[0m\n\u001b[0;32m     47\u001b[0m         \u001b[1;32melif\u001b[0m \u001b[0mchoice\u001b[0m \u001b[1;33m==\u001b[0m \u001b[1;36m3\u001b[0m\u001b[1;33m:\u001b[0m\u001b[1;33m\u001b[0m\u001b[1;33m\u001b[0m\u001b[0m\n",
      "\u001b[1;32m<ipython-input-22-70d34e157f9b>\u001b[0m in \u001b[0;36mpop\u001b[1;34m(self)\u001b[0m\n\u001b[0;32m     19\u001b[0m     \u001b[1;32mdef\u001b[0m \u001b[0mpop\u001b[0m\u001b[1;33m(\u001b[0m\u001b[0mself\u001b[0m\u001b[1;33m)\u001b[0m\u001b[1;33m:\u001b[0m\u001b[1;33m\u001b[0m\u001b[1;33m\u001b[0m\u001b[0m\n\u001b[0;32m     20\u001b[0m         \u001b[1;32mif\u001b[0m \u001b[0mself\u001b[0m\u001b[1;33m.\u001b[0m\u001b[0mis_empty\u001b[0m\u001b[1;33m(\u001b[0m\u001b[1;33m)\u001b[0m\u001b[1;33m:\u001b[0m\u001b[1;33m\u001b[0m\u001b[1;33m\u001b[0m\u001b[0m\n\u001b[1;32m---> 21\u001b[1;33m             \u001b[1;32mraise\u001b[0m \u001b[0mRuntimeError\u001b[0m\u001b[1;33m(\u001b[0m\u001b[1;34m\"Stack is empty\"\u001b[0m\u001b[1;33m)\u001b[0m\u001b[1;33m\u001b[0m\u001b[1;33m\u001b[0m\u001b[0m\n\u001b[0m\u001b[0;32m     22\u001b[0m         \u001b[1;32mreturn\u001b[0m \u001b[0mself\u001b[0m\u001b[1;33m.\u001b[0m\u001b[0mitems\u001b[0m\u001b[1;33m.\u001b[0m\u001b[0mpop\u001b[0m\u001b[1;33m(\u001b[0m\u001b[1;33m)\u001b[0m\u001b[1;33m\u001b[0m\u001b[1;33m\u001b[0m\u001b[0m\n\u001b[0;32m     23\u001b[0m \u001b[1;33m\u001b[0m\u001b[0m\n",
      "\u001b[1;31mRuntimeError\u001b[0m: Stack is empty"
     ]
    }
   ],
   "source": [
    "class Stack:\n",
    " \n",
    "    MAX_SIZE = 5\n",
    "        \n",
    "    def __init__(self):\n",
    "        self.items = []\n",
    " \n",
    "    def is_empty(self):\n",
    "        return self.items == []\n",
    " \n",
    "    def size(self):\n",
    "        return len(self.items)\n",
    " \n",
    "    def push(self, item):\n",
    "        if self.size() == Stack.MAX_SIZE:\n",
    "            raise RuntimeError('Stack is full')\n",
    "        self.items.append(item)\n",
    " \n",
    "    def pop(self):\n",
    "        if self.is_empty():\n",
    "            raise RuntimeError(\"Stack is empty\")\n",
    "        return self.items.pop()\n",
    "    \n",
    "    def display(self):\n",
    "        print(self.items)\n",
    " \n",
    " \n",
    "if __name__ == \"__main__\":\n",
    "    st = Stack()\n",
    " \n",
    "    while True:\n",
    "        print(\"1.Push\") \n",
    "        print(\"2.Pop\") \n",
    "        print(\"3.Peek\") \n",
    "        print(\"4.Size\")\n",
    "        print(\"5.Display\") \n",
    "        print(\"6.Quit\")\n",
    "         \n",
    "        choice = int(input(\"Enter your choice : \"))\n",
    " \n",
    "        if choice == 1:\n",
    "            x=int(input(\"Enter the element to be pushed : \"))\n",
    "            st.push(x) \n",
    "        elif choice == 2:\n",
    "            x=st.pop() \n",
    "            print(\"Popped element is : \" , x) \n",
    "        elif choice == 3:\n",
    "            print(\"Element at the top is : \" , st.peek()) \n",
    "        elif choice == 4:\n",
    "            print(\"Size of stack \" , st.size()) \n",
    "        elif choice == 5:\n",
    "            st.display()         \n",
    "        elif choice == 6:\n",
    "          break;\n",
    "        else:\n",
    "          print(\"Wrong choice\") \n",
    "        print() "
   ]
  },
  {
   "cell_type": "code",
   "execution_count": 23,
   "metadata": {},
   "outputs": [
    {
     "name": "stdout",
     "output_type": "stream",
     "text": [
      "Mike 200 PQR Bank Delhi\n",
      "Tom 0 ABC bank, XYZ Street, New Delhi\n"
     ]
    }
   ],
   "source": [
    "class BankAccount:\n",
    " \n",
    "    bank_name = 'ABC bank, XYZ Street, New Delhi'\n",
    " \n",
    "    def __init__(self, name, balance=0, bank=bank_name):\n",
    "        self.name = name\n",
    "        self.balance = balance\n",
    "        self.bank = bank\n",
    " \n",
    "    def display(self):\n",
    "         print(self.name, self.balance, self.bank)\n",
    " \n",
    "    def withdraw(self, amount):\n",
    "        self.balance -= amount\n",
    " \n",
    "    def deposit(self, amount):\n",
    "        self.balance += amount\n",
    "    \n",
    "a1 = BankAccount('Mike', 200, 'PQR Bank Delhi')\n",
    "a2 = BankAccount('Tom')\n",
    " \n",
    "a1.display()\n",
    "a2.display()"
   ]
  },
  {
   "cell_type": "code",
   "execution_count": 1,
   "metadata": {},
   "outputs": [],
   "source": [
    "class Fraction:\n",
    "    def __init__(self,nr,dr=1):\n",
    "        self.nr = nr\n",
    "        self.dr = dr\n",
    "        if self.dr < 0:  \n",
    "            self.nr *= -1\n",
    "            self.dr *= -1\n",
    "        self._reduce()\n",
    " \n",
    "    def show(self):\n",
    "        print(f'{self.nr}/{self.dr}')\n",
    " \n",
    "    def multiply(self,other):\n",
    "        if isinstance(other,int):\n",
    "            other = Fraction(other)\n",
    "        f = Fraction(self.nr * other.nr , self.dr * other.dr)\n",
    "        f._reduce()\n",
    "        return f\n",
    "        \n",
    "    def add(self,other):\n",
    "        if isinstance(other,int):\n",
    "            other = Fraction(other)\n",
    "        f = Fraction(self.nr * other.dr + other.nr * self.dr, self.dr * other.dr)\n",
    "        f._reduce()\n",
    "        return f\n",
    " \n",
    "    def _reduce(self):\n",
    "        h = Fraction.hcf(self.nr, self.dr)\n",
    "        if h == 0:\n",
    "            return\n",
    "        \n",
    "        self.nr //= h\n",
    "        self.dr //= h\n",
    "        \n",
    "    @staticmethod\n",
    "    def hcf(x,y):\n",
    "        x=abs(x)\n",
    "        y=abs(y)\n",
    "        smaller = y if x>y else x\n",
    "        s = smaller\n",
    "        while s>0:\n",
    "            if x%s==0 and y%s==0:\n",
    "                break\n",
    "            s-=1\n",
    "        return s"
   ]
  },
  {
   "cell_type": "code",
   "execution_count": 2,
   "metadata": {},
   "outputs": [],
   "source": [
    "f1 = Fraction(2,3)"
   ]
  },
  {
   "cell_type": "code",
   "execution_count": 3,
   "metadata": {},
   "outputs": [],
   "source": [
    "f2 = Fraction(3,4)"
   ]
  },
  {
   "cell_type": "code",
   "execution_count": 4,
   "metadata": {},
   "outputs": [
    {
     "ename": "TypeError",
     "evalue": "unsupported operand type(s) for +: 'Fraction' and 'Fraction'",
     "output_type": "error",
     "traceback": [
      "\u001b[1;31m---------------------------------------------------------------------------\u001b[0m",
      "\u001b[1;31mTypeError\u001b[0m                                 Traceback (most recent call last)",
      "\u001b[1;32m<ipython-input-4-141f9c2f002e>\u001b[0m in \u001b[0;36m<module>\u001b[1;34m\u001b[0m\n\u001b[1;32m----> 1\u001b[1;33m \u001b[0mf3\u001b[0m \u001b[1;33m=\u001b[0m \u001b[0mf1\u001b[0m \u001b[1;33m+\u001b[0m \u001b[0mf2\u001b[0m\u001b[1;33m\u001b[0m\u001b[1;33m\u001b[0m\u001b[0m\n\u001b[0m",
      "\u001b[1;31mTypeError\u001b[0m: unsupported operand type(s) for +: 'Fraction' and 'Fraction'"
     ]
    }
   ],
   "source": [
    "f3 = f1 + f2"
   ]
  },
  {
   "cell_type": "code",
   "execution_count": 6,
   "metadata": {},
   "outputs": [
    {
     "ename": "TypeError",
     "evalue": "unsupported operand type(s) for *: 'Fraction' and 'Fraction'",
     "output_type": "error",
     "traceback": [
      "\u001b[1;31m---------------------------------------------------------------------------\u001b[0m",
      "\u001b[1;31mTypeError\u001b[0m                                 Traceback (most recent call last)",
      "\u001b[1;32m<ipython-input-6-3e27138a58d4>\u001b[0m in \u001b[0;36m<module>\u001b[1;34m\u001b[0m\n\u001b[1;32m----> 1\u001b[1;33m \u001b[0mf3\u001b[0m \u001b[1;33m=\u001b[0m \u001b[0mf1\u001b[0m \u001b[1;33m*\u001b[0m \u001b[0mf2\u001b[0m\u001b[1;33m\u001b[0m\u001b[1;33m\u001b[0m\u001b[0m\n\u001b[0m",
      "\u001b[1;31mTypeError\u001b[0m: unsupported operand type(s) for *: 'Fraction' and 'Fraction'"
     ]
    }
   ],
   "source": [
    "f3 = f1 * f2"
   ]
  },
  {
   "cell_type": "code",
   "execution_count": 7,
   "metadata": {},
   "outputs": [],
   "source": [
    "f3 = f1.add(f2)"
   ]
  },
  {
   "cell_type": "code",
   "execution_count": 8,
   "metadata": {},
   "outputs": [
    {
     "name": "stdout",
     "output_type": "stream",
     "text": [
      "17/12\n"
     ]
    }
   ],
   "source": [
    "f3.show()"
   ]
  },
  {
   "cell_type": "code",
   "execution_count": 19,
   "metadata": {},
   "outputs": [],
   "source": [
    "class Fraction:\n",
    "    def __init__(self,nr,dr=1):\n",
    "        self.nr = nr\n",
    "        self.dr = dr\n",
    "        if self.dr < 0:  \n",
    "            self.nr *= -1\n",
    "            self.dr *= -1\n",
    "        self._reduce()\n",
    " \n",
    "    def show(self):\n",
    "        print(f'{self.nr}/{self.dr}')\n",
    " \n",
    "    def __mul__(self,other):\n",
    "        if isinstance(other,int):\n",
    "            other = Fraction(other)\n",
    "        f = Fraction(self.nr * other.nr , self.dr * other.dr)\n",
    "        f._reduce()\n",
    "        return f\n",
    "        \n",
    "    def __add__(self,other):\n",
    "        if isinstance(other,int):\n",
    "            other = Fraction(other)\n",
    "        f = Fraction(self.nr * other.dr + other.nr * self.dr, self.dr * other.dr)\n",
    "        f._reduce()\n",
    "        return f\n",
    "    \n",
    "    def __sub__(self,other):\n",
    "        if isinstance(other,int):\n",
    "            other = Fraction(other)\n",
    "        f = Fraction(self.nr * other.dr - other.nr * self.dr, self.dr * other.dr)\n",
    "        f._reduce()\n",
    "        return f\n",
    " \n",
    "    def _reduce(self):\n",
    "        h = Fraction.hcf(self.nr, self.dr)\n",
    "        if h == 0:\n",
    "            return\n",
    "        \n",
    "        self.nr //= h\n",
    "        self.dr //= h\n",
    "        \n",
    "    @staticmethod\n",
    "    def hcf(x,y):\n",
    "        x=abs(x)\n",
    "        y=abs(y)\n",
    "        smaller = y if x>y else x\n",
    "        s = smaller\n",
    "        while s>0:\n",
    "            if x%s==0 and y%s==0:\n",
    "                break\n",
    "            s-=1\n",
    "        return s"
   ]
  },
  {
   "cell_type": "code",
   "execution_count": 10,
   "metadata": {},
   "outputs": [
    {
     "name": "stdout",
     "output_type": "stream",
     "text": [
      "17/12\n"
     ]
    }
   ],
   "source": [
    "f1 = Fraction(2,3)\n",
    "f2 = Fraction(3,4)\n",
    "f3 = f1.__add__(f2)\n",
    "f3.show()"
   ]
  },
  {
   "cell_type": "code",
   "execution_count": 11,
   "metadata": {},
   "outputs": [],
   "source": [
    "f3 = f1 + f2"
   ]
  },
  {
   "cell_type": "code",
   "execution_count": 12,
   "metadata": {},
   "outputs": [
    {
     "name": "stdout",
     "output_type": "stream",
     "text": [
      "17/12\n"
     ]
    }
   ],
   "source": [
    "f3.show()"
   ]
  },
  {
   "cell_type": "code",
   "execution_count": 15,
   "metadata": {},
   "outputs": [
    {
     "name": "stdout",
     "output_type": "stream",
     "text": [
      "-1/12\n"
     ]
    }
   ],
   "source": [
    "f1 = Fraction(2,3)\n",
    "f2 = Fraction(3,4)\n",
    "f3 = f1 - f2\n",
    "f3.show()"
   ]
  },
  {
   "cell_type": "code",
   "execution_count": 23,
   "metadata": {},
   "outputs": [
    {
     "name": "stdout",
     "output_type": "stream",
     "text": [
      "1/2\n"
     ]
    }
   ],
   "source": [
    "f1 = Fraction(2,3)\n",
    "f2 = Fraction(3,4)\n",
    "f3 = f1 * f2\n",
    "f3.show()"
   ]
  },
  {
   "cell_type": "code",
   "execution_count": 25,
   "metadata": {},
   "outputs": [],
   "source": [
    "f1 = Fraction(2,3)\n",
    "f2 = Fraction(2,3)"
   ]
  },
  {
   "cell_type": "code",
   "execution_count": 26,
   "metadata": {},
   "outputs": [
    {
     "data": {
      "text/plain": [
       "False"
      ]
     },
     "execution_count": 26,
     "metadata": {},
     "output_type": "execute_result"
    }
   ],
   "source": [
    "f1 == f2"
   ]
  },
  {
   "cell_type": "code",
   "execution_count": 27,
   "metadata": {},
   "outputs": [
    {
     "data": {
      "text/plain": [
       "True"
      ]
     },
     "execution_count": 27,
     "metadata": {},
     "output_type": "execute_result"
    }
   ],
   "source": [
    "f1 != f2"
   ]
  },
  {
   "cell_type": "code",
   "execution_count": 65,
   "metadata": {},
   "outputs": [],
   "source": [
    "class Fraction:\n",
    "    def __init__(self,nr,dr=1):\n",
    "        self.nr = nr\n",
    "        self.dr = dr\n",
    "        if self.dr < 0:  \n",
    "            self.nr *= -1\n",
    "            self.dr *= -1\n",
    "        self._reduce()\n",
    " \n",
    "    def show(self):\n",
    "        print(f'{self.nr}/{self.dr}')\n",
    "        \n",
    "    def __str__(self):\n",
    "        return f'{self.nr}/{self.dr}'\n",
    "    \n",
    "    def __repr__(self):\n",
    "        return f'{self.nr}/{self.dr}'\n",
    " \n",
    "    def __mul__(self,other):\n",
    "        if isinstance(other,int):\n",
    "            other = Fraction(other)\n",
    "        f = Fraction(self.nr * other.nr , self.dr * other.dr)\n",
    "        f._reduce()\n",
    "        return f\n",
    "        \n",
    "    def __add__(self,other):\n",
    "        if isinstance(other,int):\n",
    "            other = Fraction(other)\n",
    "        f = Fraction(self.nr * other.dr + other.nr * self.dr, self.dr * other.dr)\n",
    "        f._reduce()\n",
    "        return f\n",
    "    \n",
    "    def __sub__(self,other):\n",
    "        if isinstance(other,int):\n",
    "            other = Fraction(other)\n",
    "        f = Fraction(self.nr * other.dr - other.nr * self.dr, self.dr * other.dr)\n",
    "        f._reduce()\n",
    "        return f\n",
    "    \n",
    "    def __eq__(self,other):\n",
    "        return (self.nr * other.dr) == (self.dr * other.nr)\n",
    "    \n",
    "    def __lt__(self,other):\n",
    "        return (self.nr * other.dr) < (self.dr * other.nr)\n",
    " \n",
    "    def __le__(self,other):\n",
    "        return (self.nr * other.dr) <= (self.dr * other.nr)\n",
    "    \n",
    "    def _reduce(self):\n",
    "        h = Fraction.hcf(self.nr, self.dr)\n",
    "        if h == 0:\n",
    "            return\n",
    "        \n",
    "        self.nr //= h\n",
    "        self.dr //= h\n",
    "        \n",
    "    @staticmethod\n",
    "    def hcf(x,y):\n",
    "        x=abs(x)\n",
    "        y=abs(y)\n",
    "        smaller = y if x>y else x\n",
    "        s = smaller\n",
    "        while s>0:\n",
    "            if x%s==0 and y%s==0:\n",
    "                break\n",
    "            s-=1\n",
    "        return s"
   ]
  },
  {
   "cell_type": "code",
   "execution_count": 43,
   "metadata": {},
   "outputs": [],
   "source": [
    "f1 = Fraction(2,3)\n",
    "f2 = Fraction(2,3)\n",
    "f3 = Fraction(4,6)"
   ]
  },
  {
   "cell_type": "code",
   "execution_count": 44,
   "metadata": {},
   "outputs": [
    {
     "data": {
      "text/plain": [
       "True"
      ]
     },
     "execution_count": 44,
     "metadata": {},
     "output_type": "execute_result"
    }
   ],
   "source": [
    "f1 == f2"
   ]
  },
  {
   "cell_type": "code",
   "execution_count": 45,
   "metadata": {},
   "outputs": [
    {
     "data": {
      "text/plain": [
       "True"
      ]
     },
     "execution_count": 45,
     "metadata": {},
     "output_type": "execute_result"
    }
   ],
   "source": [
    "f1 == f3"
   ]
  },
  {
   "cell_type": "code",
   "execution_count": 46,
   "metadata": {},
   "outputs": [
    {
     "data": {
      "text/plain": [
       "False"
      ]
     },
     "execution_count": 46,
     "metadata": {},
     "output_type": "execute_result"
    }
   ],
   "source": [
    "f1 != f3"
   ]
  },
  {
   "cell_type": "code",
   "execution_count": 48,
   "metadata": {},
   "outputs": [],
   "source": [
    "f1 = Fraction(2,3)\n",
    "f2 = Fraction(2,3)\n",
    "f3 = Fraction(1,5)"
   ]
  },
  {
   "cell_type": "code",
   "execution_count": 49,
   "metadata": {},
   "outputs": [
    {
     "data": {
      "text/plain": [
       "False"
      ]
     },
     "execution_count": 49,
     "metadata": {},
     "output_type": "execute_result"
    }
   ],
   "source": [
    "f1 < f2"
   ]
  },
  {
   "cell_type": "code",
   "execution_count": 50,
   "metadata": {},
   "outputs": [
    {
     "data": {
      "text/plain": [
       "False"
      ]
     },
     "execution_count": 50,
     "metadata": {},
     "output_type": "execute_result"
    }
   ],
   "source": [
    "f1 <= f3"
   ]
  },
  {
   "cell_type": "code",
   "execution_count": 51,
   "metadata": {},
   "outputs": [
    {
     "data": {
      "text/plain": [
       "True"
      ]
     },
     "execution_count": 51,
     "metadata": {},
     "output_type": "execute_result"
    }
   ],
   "source": [
    "f1 <= f2"
   ]
  },
  {
   "cell_type": "code",
   "execution_count": 52,
   "metadata": {},
   "outputs": [],
   "source": [
    "f = Fraction(2,3)"
   ]
  },
  {
   "cell_type": "code",
   "execution_count": 53,
   "metadata": {},
   "outputs": [
    {
     "name": "stdout",
     "output_type": "stream",
     "text": [
      "<__main__.Fraction object at 0x0000022AE9B36550>\n"
     ]
    }
   ],
   "source": [
    "print(f)"
   ]
  },
  {
   "cell_type": "code",
   "execution_count": 54,
   "metadata": {},
   "outputs": [
    {
     "data": {
      "text/plain": [
       "<__main__.Fraction at 0x22ae9b36550>"
      ]
     },
     "execution_count": 54,
     "metadata": {},
     "output_type": "execute_result"
    }
   ],
   "source": [
    "f"
   ]
  },
  {
   "cell_type": "code",
   "execution_count": 55,
   "metadata": {},
   "outputs": [
    {
     "data": {
      "text/plain": [
       "'<__main__.Fraction object at 0x0000022AE9B36550>'"
      ]
     },
     "execution_count": 55,
     "metadata": {},
     "output_type": "execute_result"
    }
   ],
   "source": [
    "str(f)"
   ]
  },
  {
   "cell_type": "code",
   "execution_count": 56,
   "metadata": {},
   "outputs": [
    {
     "name": "stdout",
     "output_type": "stream",
     "text": [
      "2/3\n"
     ]
    }
   ],
   "source": [
    "f.show()"
   ]
  },
  {
   "cell_type": "code",
   "execution_count": 58,
   "metadata": {},
   "outputs": [],
   "source": [
    "f = Fraction(2,3)"
   ]
  },
  {
   "cell_type": "code",
   "execution_count": 59,
   "metadata": {},
   "outputs": [
    {
     "name": "stdout",
     "output_type": "stream",
     "text": [
      "2/3\n"
     ]
    }
   ],
   "source": [
    "print(f)"
   ]
  },
  {
   "cell_type": "code",
   "execution_count": 60,
   "metadata": {},
   "outputs": [
    {
     "data": {
      "text/plain": [
       "'2/3'"
      ]
     },
     "execution_count": 60,
     "metadata": {},
     "output_type": "execute_result"
    }
   ],
   "source": [
    "str(f)"
   ]
  },
  {
   "cell_type": "code",
   "execution_count": 61,
   "metadata": {},
   "outputs": [
    {
     "data": {
      "text/plain": [
       "<__main__.Fraction at 0x22ae9c9b940>"
      ]
     },
     "execution_count": 61,
     "metadata": {},
     "output_type": "execute_result"
    }
   ],
   "source": [
    "f"
   ]
  },
  {
   "cell_type": "code",
   "execution_count": 66,
   "metadata": {},
   "outputs": [],
   "source": [
    "f = Fraction(2,3)"
   ]
  },
  {
   "cell_type": "code",
   "execution_count": 67,
   "metadata": {},
   "outputs": [
    {
     "data": {
      "text/plain": [
       "2/3"
      ]
     },
     "execution_count": 67,
     "metadata": {},
     "output_type": "execute_result"
    }
   ],
   "source": [
    "f"
   ]
  },
  {
   "cell_type": "code",
   "execution_count": null,
   "metadata": {},
   "outputs": [],
   "source": []
  }
 ],
 "metadata": {
  "kernelspec": {
   "display_name": "Python 3",
   "language": "python",
   "name": "python3"
  },
  "language_info": {
   "codemirror_mode": {
    "name": "ipython",
    "version": 3
   },
   "file_extension": ".py",
   "mimetype": "text/x-python",
   "name": "python",
   "nbconvert_exporter": "python",
   "pygments_lexer": "ipython3",
   "version": "3.8.5"
  }
 },
 "nbformat": 4,
 "nbformat_minor": 4
}
