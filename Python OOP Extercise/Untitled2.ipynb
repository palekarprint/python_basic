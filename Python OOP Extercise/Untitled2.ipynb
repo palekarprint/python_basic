{
 "cells": [
  {
   "cell_type": "code",
   "execution_count": 49,
   "metadata": {},
   "outputs": [],
   "source": [
    "class Time:\n",
    "    def __init__(self,h,m,s):\n",
    "        self._h = h \n",
    "        self._m = m\n",
    "        self._s = h\n",
    " \n",
    "    #Read-only field accessors\n",
    "    @property\n",
    "    def hours(self):\n",
    "        return self._h\n",
    " \n",
    "    @property\n",
    "    def minutes(self):\n",
    "        return self._m\n",
    "\n",
    "    @property\n",
    "    def seconds(self):\n",
    "        return self._s\n",
    " \n",
    "def _cmp(time1, time2):\n",
    "    if time1._h == time2._h:\n",
    "        return -1\n",
    "    if time1._m == time2._m:\n",
    "        return -1\n",
    "    if time1._s == time2._s:\n",
    "        return -1\n",
    "    if time1._h < time2._h:\n",
    "        return 1\n",
    "    if time1._h > time2._h:\n",
    "        return -1\n",
    "    if time1._m < time2._m:\n",
    "        return 1\n",
    "    if time1._m > time2._m:\n",
    "        return -1\n",
    "    if time1._s < time2._s:\n",
    "        return 1\n",
    "    if time1._s > time2._s:\n",
    "        return -1\n",
    "    return 0\n",
    "    \n",
    "    def __eq__(self, other):\n",
    "        return True if _cmp(self, other) == 0 else False\n",
    "    \n",
    "    def __lt__(self,other):\n",
    "        return True if _cmp(self,other) == 1 else False\n",
    "    \n",
    "    def __le__(self,other):\n",
    "        return True if (_cmp(self,other) == 0 or _cmp(self,other) == 1) else False\n",
    " \n",
    "       \n",
    "t1 = Time(13, 10, 5)\n",
    "t2 = Time(5, 15, 30)\n",
    "t3 = Time(5, 15, 30)\n"
   ]
  },
  {
   "cell_type": "code",
   "execution_count": 46,
   "metadata": {},
   "outputs": [
    {
     "data": {
      "text/plain": [
       "False"
      ]
     },
     "execution_count": 46,
     "metadata": {},
     "output_type": "execute_result"
    }
   ],
   "source": [
    "t1 == t2"
   ]
  },
  {
   "cell_type": "code",
   "execution_count": 50,
   "metadata": {},
   "outputs": [
    {
     "data": {
      "text/plain": [
       "False"
      ]
     },
     "execution_count": 50,
     "metadata": {},
     "output_type": "execute_result"
    }
   ],
   "source": [
    "t2 == t3"
   ]
  },
  {
   "cell_type": "code",
   "execution_count": 40,
   "metadata": {},
   "outputs": [
    {
     "data": {
      "text/plain": [
       "True"
      ]
     },
     "execution_count": 40,
     "metadata": {},
     "output_type": "execute_result"
    }
   ],
   "source": [
    "t2 != t3"
   ]
  },
  {
   "cell_type": "code",
   "execution_count": 47,
   "metadata": {},
   "outputs": [
    {
     "name": "stdout",
     "output_type": "stream",
     "text": [
      "6 3\n",
      "3 0\n",
      "4 6\n",
      "4 6\n"
     ]
    }
   ],
   "source": [
    "class Length:\n",
    "    def __init__(self, feet, inches):\n",
    "        self.feet = feet  \n",
    "        self.inches = inches\n",
    " \n",
    "    def __str__(self):\n",
    "        return f'{self.feet} {self.inches}'\n",
    " \n",
    "    def add_length(self,L):\n",
    "       f = self.feet + L.feet\n",
    "       i = self.inches + L.inches\n",
    "       if i >= 12:\n",
    "           i = i - 12\n",
    "       f += 1\n",
    "       return Length(f, i)\n",
    " \n",
    "    def add_inches(self,inches):\n",
    "       f = self.feet + inches // 12\n",
    "       i = self.inches + inches % 12\n",
    "       if i >= 12:\n",
    "           i = i - 12\n",
    "       f += 1\n",
    "       return Length(f, i)\n",
    "    \n",
    "    def __add__(self,other):\n",
    "        if isinstance(other, Length):\n",
    "            return self.add_length(other)\n",
    "        if isinstance(other,int):\n",
    "            return self.add_inches(other)\n",
    "        else:\n",
    "            return NotImplemented\n",
    " \n",
    "    def __radd__(self,other):\n",
    "      return self.__add__(other)\n",
    "  \n",
    " \n",
    "length1 = Length(2,10)\n",
    "length2 = Length(3,5)\n",
    "    \n",
    "print(length1 + length2)\n",
    "print(length1 + 2)\n",
    "print(length1 + 20)\n",
    "print(20 + length1)"
   ]
  },
  {
   "cell_type": "code",
   "execution_count": 55,
   "metadata": {},
   "outputs": [
    {
     "ename": "TypeError",
     "evalue": "'<' not supported between instances of 'Time' and 'Time'",
     "output_type": "error",
     "traceback": [
      "\u001b[1;31m---------------------------------------------------------------------------\u001b[0m",
      "\u001b[1;31mTypeError\u001b[0m                                 Traceback (most recent call last)",
      "\u001b[1;32m<ipython-input-55-c6088f1eaeec>\u001b[0m in \u001b[0;36m<module>\u001b[1;34m\u001b[0m\n\u001b[0;32m     45\u001b[0m \u001b[0mt2\u001b[0m \u001b[1;33m=\u001b[0m \u001b[0mTime\u001b[0m\u001b[1;33m(\u001b[0m\u001b[1;36m5\u001b[0m\u001b[1;33m,\u001b[0m \u001b[1;36m15\u001b[0m\u001b[1;33m,\u001b[0m \u001b[1;36m30\u001b[0m\u001b[1;33m)\u001b[0m\u001b[1;33m\u001b[0m\u001b[1;33m\u001b[0m\u001b[0m\n\u001b[0;32m     46\u001b[0m \u001b[0mt3\u001b[0m \u001b[1;33m=\u001b[0m \u001b[0mTime\u001b[0m\u001b[1;33m(\u001b[0m\u001b[1;36m5\u001b[0m\u001b[1;33m,\u001b[0m \u001b[1;36m15\u001b[0m\u001b[1;33m,\u001b[0m \u001b[1;36m30\u001b[0m\u001b[1;33m)\u001b[0m\u001b[1;33m\u001b[0m\u001b[1;33m\u001b[0m\u001b[0m\n\u001b[1;32m---> 47\u001b[1;33m \u001b[0mprint\u001b[0m\u001b[1;33m(\u001b[0m\u001b[0mt1\u001b[0m \u001b[1;33m<\u001b[0m \u001b[0mt2\u001b[0m\u001b[1;33m)\u001b[0m\u001b[1;33m\u001b[0m\u001b[1;33m\u001b[0m\u001b[0m\n\u001b[0m\u001b[0;32m     48\u001b[0m \u001b[0mprint\u001b[0m\u001b[1;33m(\u001b[0m\u001b[0mt1\u001b[0m \u001b[1;33m>\u001b[0m \u001b[0mt2\u001b[0m\u001b[1;33m)\u001b[0m\u001b[1;33m\u001b[0m\u001b[1;33m\u001b[0m\u001b[0m\n\u001b[0;32m     49\u001b[0m \u001b[0mprint\u001b[0m\u001b[1;33m(\u001b[0m\u001b[0mt1\u001b[0m \u001b[1;33m==\u001b[0m \u001b[0mt2\u001b[0m\u001b[1;33m)\u001b[0m\u001b[1;33m\u001b[0m\u001b[1;33m\u001b[0m\u001b[0m\n",
      "\u001b[1;31mTypeError\u001b[0m: '<' not supported between instances of 'Time' and 'Time'"
     ]
    }
   ],
   "source": [
    "class Time:\n",
    "    def __init__(self,h,m,s):\n",
    "        self._h = h \n",
    "        self._m = m\n",
    "        self._s = h\n",
    " \n",
    "    #Read-only field accessors\n",
    "    @property\n",
    "    def hours(self):\n",
    "        return self._h\n",
    " \n",
    "    @property\n",
    "    def minutes(self):\n",
    "        return self._m\n",
    " \n",
    "    @property\n",
    "    def seconds(self):\n",
    "        return self._s\n",
    " \n",
    "def _cmp(time1,time2):\n",
    "    if time1._h < time2._h:\n",
    "        return 1\n",
    "    if time1._h > time2._h:\n",
    "        return -1\n",
    "    if time1._m < time2._m:\n",
    "        return 1\n",
    "    if time1._m > time2._m:\n",
    "        return -1\n",
    "    if time1._s < time2._s:\n",
    "        return 1\n",
    "    if time1._s > time2._s:\n",
    "        return -1\n",
    "    return 0\n",
    " \n",
    "def __eq__(self,other):\n",
    "        return True if _cmp(self,other) == 0 else False\n",
    "    \n",
    "def __lt__(self,other):\n",
    "        return True if _cmp(self,other) == 1 else False\n",
    " \n",
    "def __le__(self,other):\n",
    "        return True if (_cmp(self,other) == 0 or _cmp(self,other) == 1)  else False\n",
    "       \n",
    "t1 = Time(13, 10, 5)\n",
    "t2 = Time(5, 15, 30)\n",
    "t3 = Time(5, 15, 30)\n",
    "print(t1 < t2)\n",
    "print(t1 > t2)\n",
    "print(t1 == t2)\n",
    "print(t2 == t3)"
   ]
  },
  {
   "cell_type": "code",
   "execution_count": 77,
   "metadata": {},
   "outputs": [],
   "source": [
    "class Person:\n",
    "    def __init__(self, name, age, address, phone):\n",
    "        self.name = name\n",
    "        self.age = age\n",
    "        self.address = address\n",
    "        self.phone = phone\n",
    "        \n",
    "    def greet(self):\n",
    "        print('Hello I am', self.name)\n",
    "        \n",
    "    def is_adult(self):\n",
    "        if self.age > 18:\n",
    "            return True\n",
    "        else:\n",
    "            return False\n",
    "    \n",
    "    def contat_details(self):\n",
    "        print(self.address, self.phone)\n",
    "        \n",
    "class Employee(Person):\n",
    "    pass\n",
    "\n",
    "    def __init__(self, name, age, address, phone, salary, office_address, office_phone):\n",
    "        self.name = name\n",
    "        self.age = age\n",
    "        self.address = address\n",
    "        self.phone = phone\n",
    "        self.salary = salary\n",
    "        self.office_address = office_address\n",
    "        self.office_phone = office_phone\n",
    "        \n",
    "    def contat_details(self):\n",
    "        print(self.address, self.phone)\n",
    "        print(self.office_address, self.office_phone)\n",
    "        \n",
    "    def calculate_tax(self):\n",
    "        if self.salary < 5000:\n",
    "            return 0\n",
    "        else:\n",
    "            return self.salary * 0.05\n",
    "        \n",
    "emp = Employee('jack', 30, 'D4, XYZ street, Delhi', '9423644357', 8000, 'ABC, street, Delhi', '9420684017')\n"
   ]
  },
  {
   "cell_type": "code",
   "execution_count": 58,
   "metadata": {},
   "outputs": [
    {
     "name": "stdout",
     "output_type": "stream",
     "text": [
      "Hello I am jack\n"
     ]
    }
   ],
   "source": [
    "emp.greet()"
   ]
  },
  {
   "cell_type": "code",
   "execution_count": 59,
   "metadata": {},
   "outputs": [
    {
     "name": "stdout",
     "output_type": "stream",
     "text": [
      "D4, XYZ street, Delhi 9423644357\n"
     ]
    }
   ],
   "source": [
    "emp.contat_details()"
   ]
  },
  {
   "cell_type": "code",
   "execution_count": 61,
   "metadata": {},
   "outputs": [
    {
     "data": {
      "text/plain": [
       "'jack'"
      ]
     },
     "execution_count": 61,
     "metadata": {},
     "output_type": "execute_result"
    }
   ],
   "source": [
    "emp.name"
   ]
  },
  {
   "cell_type": "code",
   "execution_count": 62,
   "metadata": {},
   "outputs": [
    {
     "data": {
      "text/plain": [
       "30"
      ]
     },
     "execution_count": 62,
     "metadata": {},
     "output_type": "execute_result"
    }
   ],
   "source": [
    "emp.age"
   ]
  },
  {
   "cell_type": "code",
   "execution_count": 63,
   "metadata": {},
   "outputs": [
    {
     "data": {
      "text/plain": [
       "True"
      ]
     },
     "execution_count": 63,
     "metadata": {},
     "output_type": "execute_result"
    }
   ],
   "source": [
    "isinstance(emp, Employee)"
   ]
  },
  {
   "cell_type": "code",
   "execution_count": 65,
   "metadata": {},
   "outputs": [
    {
     "data": {
      "text/plain": [
       "True"
      ]
     },
     "execution_count": 65,
     "metadata": {},
     "output_type": "execute_result"
    }
   ],
   "source": [
    "isinstance(emp, Person)"
   ]
  },
  {
   "cell_type": "code",
   "execution_count": 66,
   "metadata": {},
   "outputs": [
    {
     "data": {
      "text/plain": [
       "True"
      ]
     },
     "execution_count": 66,
     "metadata": {},
     "output_type": "execute_result"
    }
   ],
   "source": [
    "issubclass(Employee, Person)"
   ]
  },
  {
   "cell_type": "code",
   "execution_count": 67,
   "metadata": {},
   "outputs": [
    {
     "data": {
      "text/plain": [
       "True"
      ]
     },
     "execution_count": 67,
     "metadata": {},
     "output_type": "execute_result"
    }
   ],
   "source": [
    "issubclass(Person, object)"
   ]
  },
  {
   "cell_type": "code",
   "execution_count": 68,
   "metadata": {},
   "outputs": [
    {
     "data": {
      "text/plain": [
       "True"
      ]
     },
     "execution_count": 68,
     "metadata": {},
     "output_type": "execute_result"
    }
   ],
   "source": [
    "issubclass(str, object)"
   ]
  },
  {
   "cell_type": "code",
   "execution_count": 69,
   "metadata": {},
   "outputs": [
    {
     "data": {
      "text/plain": [
       "True"
      ]
     },
     "execution_count": 69,
     "metadata": {},
     "output_type": "execute_result"
    }
   ],
   "source": [
    "issubclass(int, object)"
   ]
  },
  {
   "cell_type": "code",
   "execution_count": 75,
   "metadata": {},
   "outputs": [
    {
     "data": {
      "text/plain": [
       "8000"
      ]
     },
     "execution_count": 75,
     "metadata": {},
     "output_type": "execute_result"
    }
   ],
   "source": [
    "emp.salary"
   ]
  },
  {
   "cell_type": "code",
   "execution_count": 76,
   "metadata": {},
   "outputs": [
    {
     "data": {
      "text/plain": [
       "400.0"
      ]
     },
     "execution_count": 76,
     "metadata": {},
     "output_type": "execute_result"
    }
   ],
   "source": [
    "emp.calculate_tax()"
   ]
  },
  {
   "cell_type": "code",
   "execution_count": 78,
   "metadata": {},
   "outputs": [
    {
     "name": "stdout",
     "output_type": "stream",
     "text": [
      "D4, XYZ street, Delhi 9423644357\n",
      "ABC, street, Delhi 9420684017\n"
     ]
    }
   ],
   "source": [
    "emp.contat_details()"
   ]
  },
  {
   "cell_type": "code",
   "execution_count": 79,
   "metadata": {},
   "outputs": [],
   "source": [
    "class Person:\n",
    "    def __init__(self, name, age, address, phone):\n",
    "        self.name = name\n",
    "        self.age = age\n",
    "        self.address = address\n",
    "        self.phone = phone\n",
    "        \n",
    "    def greet(self):\n",
    "        print('Hello I am', self.name)\n",
    "        \n",
    "    def is_adult(self):\n",
    "        if self.age > 18:\n",
    "            return True\n",
    "        else:\n",
    "            return False\n",
    "    \n",
    "    def contat_details(self):\n",
    "        print(self.address, self.phone)\n",
    "        \n",
    "class Employee(Person):\n",
    "    pass\n",
    "\n",
    "    def __init__(self, name, age, address, phone, salary, office_address, office_phone):\n",
    "        Person.__init__(self, name, age, address, phone)\n",
    "        self.salary = salary\n",
    "        self.office_address = office_address\n",
    "        self.office_phone = office_phone\n",
    "        \n",
    "    def contat_details(self):\n",
    "        Person.contat_details(self)\n",
    "        print(self.office_address, self.office_phone)\n",
    "        \n",
    "    def calculate_tax(self):\n",
    "        if self.salary < 5000:\n",
    "            return 0\n",
    "        else:\n",
    "            return self.salary * 0.05\n",
    "        \n",
    "emp = Employee('jack', 30, 'D4, XYZ street, Delhi', '9423644357', 8000, 'ABC, street, Delhi', '9420684017')\n"
   ]
  },
  {
   "cell_type": "code",
   "execution_count": 80,
   "metadata": {},
   "outputs": [
    {
     "name": "stdout",
     "output_type": "stream",
     "text": [
      "D4, XYZ street, Delhi 9423644357\n",
      "ABC, street, Delhi 9420684017\n"
     ]
    }
   ],
   "source": [
    "emp.contat_details()"
   ]
  },
  {
   "cell_type": "code",
   "execution_count": 81,
   "metadata": {},
   "outputs": [],
   "source": [
    "class Person:\n",
    "    def __init__(self, name, age, address, phone):\n",
    "        self.name = name\n",
    "        self.age = age\n",
    "        self.address = address\n",
    "        self.phone = phone\n",
    "        \n",
    "    def greet(self):\n",
    "        print('Hello I am', self.name)\n",
    "        \n",
    "    def is_adult(self):\n",
    "        if self.age > 18:\n",
    "            return True\n",
    "        else:\n",
    "            return False\n",
    "    \n",
    "    def contat_details(self):\n",
    "        print(self.address, self.phone)\n",
    "        \n",
    "class Employee(Person):\n",
    "    pass\n",
    "\n",
    "    def __init__(self, name, age, address, phone, salary, office_address, office_phone):\n",
    "        super().__init__(name, age, address, phone)\n",
    "        self.salary = salary\n",
    "        self.office_address = office_address\n",
    "        self.office_phone = office_phone\n",
    "        \n",
    "    def contat_details(self):\n",
    "        super().contat_details()\n",
    "        print(self.office_address, self.office_phone)\n",
    "        \n",
    "    def calculate_tax(self):\n",
    "        if self.salary < 5000:\n",
    "            return 0\n",
    "        else:\n",
    "            return self.salary * 0.05\n",
    "        \n",
    "emp = Employee('jack', 30, 'D4, XYZ street, Delhi', '9423644357', 8000, 'ABC, street, Delhi', '9420684017')\n"
   ]
  },
  {
   "cell_type": "code",
   "execution_count": 82,
   "metadata": {},
   "outputs": [
    {
     "name": "stdout",
     "output_type": "stream",
     "text": [
      "D4, XYZ street, Delhi 9423644357\n",
      "ABC, street, Delhi 9420684017\n"
     ]
    }
   ],
   "source": [
    "emp.contat_details()"
   ]
  },
  {
   "cell_type": "code",
   "execution_count": 83,
   "metadata": {},
   "outputs": [],
   "source": [
    "class Teacher:\n",
    "    def greet(self):\n",
    "        print('I am a Teacher')\n",
    "        \n",
    "class Student:\n",
    "    def greet(self):\n",
    "        print('I am a Student')\n",
    "\n",
    "class TeachingAssistant(Student, Teacher):\n",
    "    def greet(self):\n",
    "        print('I am a Teaching Assistant')\n",
    "        \n",
    "x = TeachingAssistant()\n",
    "        "
   ]
  },
  {
   "cell_type": "code",
   "execution_count": 84,
   "metadata": {},
   "outputs": [
    {
     "name": "stdout",
     "output_type": "stream",
     "text": [
      "I am a Teaching Assistant\n"
     ]
    }
   ],
   "source": [
    "x.greet()"
   ]
  },
  {
   "cell_type": "code",
   "execution_count": 85,
   "metadata": {},
   "outputs": [],
   "source": [
    "class Teacher:\n",
    "    def greet(self):\n",
    "        print('I am a Teacher')\n",
    "        \n",
    "class Student:\n",
    "    def greet(self):\n",
    "        print('I am a Student')\n",
    "\n",
    "class TeachingAssistant(Student, Teacher):\n",
    "    pass\n",
    "  \n",
    "        \n",
    "x = TeachingAssistant()"
   ]
  },
  {
   "cell_type": "code",
   "execution_count": 86,
   "metadata": {},
   "outputs": [
    {
     "name": "stdout",
     "output_type": "stream",
     "text": [
      "I am a Student\n"
     ]
    }
   ],
   "source": [
    "x.greet()"
   ]
  },
  {
   "cell_type": "code",
   "execution_count": 87,
   "metadata": {},
   "outputs": [],
   "source": [
    "class Teacher:\n",
    "    def greet(self):\n",
    "        print('I am a Teacher')\n",
    "        \n",
    "class Student:\n",
    "    def greet(self):\n",
    "        print('I am a Student')\n",
    "\n",
    "class TeachingAssistant(Teacher, Student):\n",
    "    pass\n",
    "  \n",
    "        \n",
    "x = TeachingAssistant()"
   ]
  },
  {
   "cell_type": "code",
   "execution_count": 88,
   "metadata": {},
   "outputs": [
    {
     "name": "stdout",
     "output_type": "stream",
     "text": [
      "I am a Teacher\n"
     ]
    }
   ],
   "source": [
    "x.greet()"
   ]
  },
  {
   "cell_type": "code",
   "execution_count": 89,
   "metadata": {},
   "outputs": [
    {
     "data": {
      "text/plain": [
       "(__main__.Teacher, __main__.Student)"
      ]
     },
     "execution_count": 89,
     "metadata": {},
     "output_type": "execute_result"
    }
   ],
   "source": [
    "TeachingAssistant.__bases__"
   ]
  },
  {
   "cell_type": "code",
   "execution_count": 91,
   "metadata": {},
   "outputs": [
    {
     "name": "stdout",
     "output_type": "stream",
     "text": [
      "I am a Teaching Assistant\n"
     ]
    }
   ],
   "source": [
    "class Teacher:\n",
    "    def greet(self):\n",
    "        print('I am a Teacher')\n",
    "        \n",
    "class Student:\n",
    "    def greet(self):\n",
    "        print('I am a Student')\n",
    "\n",
    "class TeachingAssistant(Student, Teacher):\n",
    "    def greet(self):\n",
    "        print('I am a Teaching Assistant')\n",
    "  \n",
    "        \n",
    "x = TeachingAssistant()\n",
    "x.greet()"
   ]
  },
  {
   "cell_type": "code",
   "execution_count": 92,
   "metadata": {},
   "outputs": [
    {
     "name": "stdout",
     "output_type": "stream",
     "text": [
      "Help on class TeachingAssistant in module __main__:\n",
      "\n",
      "class TeachingAssistant(Student, Teacher)\n",
      " |  Method resolution order:\n",
      " |      TeachingAssistant\n",
      " |      Student\n",
      " |      Teacher\n",
      " |      builtins.object\n",
      " |  \n",
      " |  Methods defined here:\n",
      " |  \n",
      " |  greet(self)\n",
      " |  \n",
      " |  ----------------------------------------------------------------------\n",
      " |  Data descriptors inherited from Student:\n",
      " |  \n",
      " |  __dict__\n",
      " |      dictionary for instance variables (if defined)\n",
      " |  \n",
      " |  __weakref__\n",
      " |      list of weak references to the object (if defined)\n",
      "\n"
     ]
    }
   ],
   "source": [
    "help(TeachingAssistant)"
   ]
  },
  {
   "cell_type": "code",
   "execution_count": 93,
   "metadata": {},
   "outputs": [
    {
     "data": {
      "text/plain": [
       "(__main__.TeachingAssistant, __main__.Student, __main__.Teacher, object)"
      ]
     },
     "execution_count": 93,
     "metadata": {},
     "output_type": "execute_result"
    }
   ],
   "source": [
    "TeachingAssistant.__mro__"
   ]
  },
  {
   "cell_type": "code",
   "execution_count": 94,
   "metadata": {},
   "outputs": [
    {
     "data": {
      "text/plain": [
       "[__main__.TeachingAssistant, __main__.Student, __main__.Teacher, object]"
      ]
     },
     "execution_count": 94,
     "metadata": {},
     "output_type": "execute_result"
    }
   ],
   "source": [
    "TeachingAssistant.mro()"
   ]
  },
  {
   "cell_type": "code",
   "execution_count": 95,
   "metadata": {},
   "outputs": [
    {
     "data": {
      "text/plain": [
       "(__main__.TeachingAssistant, __main__.Student, __main__.Teacher, object)"
      ]
     },
     "execution_count": 95,
     "metadata": {},
     "output_type": "execute_result"
    }
   ],
   "source": [
    "x.__class__.__mro__"
   ]
  },
  {
   "cell_type": "code",
   "execution_count": 96,
   "metadata": {},
   "outputs": [
    {
     "name": "stdout",
     "output_type": "stream",
     "text": [
      "I am a Person\n",
      "I am a Student\n",
      "I am a Person\n",
      "I am a Teacher\n",
      "I am a Teaching Assistant\n"
     ]
    }
   ],
   "source": [
    "class Person:\n",
    "    def greet(self):\n",
    "        print('I am a Person')\n",
    "        \n",
    "class Teacher(Person):\n",
    "    def greet(self):\n",
    "        Person.greet(self)\n",
    "        print('I am a Teacher')\n",
    "        \n",
    "class Student(Person):\n",
    "    def greet(self):\n",
    "        Person.greet(self)\n",
    "        print('I am a Student')\n",
    "\n",
    "class TeachingAssistant(Student, Teacher):\n",
    "    def greet(self):\n",
    "        Student.greet(self)\n",
    "        Teacher.greet(self)\n",
    "        print('I am a Teaching Assistant')\n",
    "  \n",
    "        \n",
    "x = TeachingAssistant()\n",
    "x.greet()"
   ]
  },
  {
   "cell_type": "code",
   "execution_count": 100,
   "metadata": {},
   "outputs": [
    {
     "name": "stdout",
     "output_type": "stream",
     "text": [
      "I am a Person\n",
      "I am a Teacher\n",
      "I am a Student\n",
      "I am a Teaching Assistant\n"
     ]
    }
   ],
   "source": [
    "class Person:\n",
    "    def greet(self):\n",
    "        print('I am a Person')\n",
    "        \n",
    "class Teacher(Person):\n",
    "    def greet(self):\n",
    "        super().greet()\n",
    "        print('I am a Teacher')\n",
    "        \n",
    "class Student(Person):\n",
    "    def greet(self):\n",
    "        super().greet()\n",
    "        print('I am a Student')\n",
    "\n",
    "class TeachingAssistant(Student, Teacher):\n",
    "    def greet(self):\n",
    "        super().greet()\n",
    "        print('I am a Teaching Assistant')\n",
    "  \n",
    "        \n",
    "x = TeachingAssistant()\n",
    "x.greet()"
   ]
  },
  {
   "cell_type": "code",
   "execution_count": 101,
   "metadata": {},
   "outputs": [
    {
     "name": "stdout",
     "output_type": "stream",
     "text": [
      "Help on class TeachingAssistant in module __main__:\n",
      "\n",
      "class TeachingAssistant(Student, Teacher)\n",
      " |  Method resolution order:\n",
      " |      TeachingAssistant\n",
      " |      Student\n",
      " |      Teacher\n",
      " |      Person\n",
      " |      builtins.object\n",
      " |  \n",
      " |  Methods defined here:\n",
      " |  \n",
      " |  greet(self)\n",
      " |  \n",
      " |  ----------------------------------------------------------------------\n",
      " |  Data descriptors inherited from Person:\n",
      " |  \n",
      " |  __dict__\n",
      " |      dictionary for instance variables (if defined)\n",
      " |  \n",
      " |  __weakref__\n",
      " |      list of weak references to the object (if defined)\n",
      "\n"
     ]
    }
   ],
   "source": [
    "help(TeachingAssistant)"
   ]
  },
  {
   "cell_type": "code",
   "execution_count": 102,
   "metadata": {},
   "outputs": [],
   "source": [
    "s = Student()"
   ]
  },
  {
   "cell_type": "code",
   "execution_count": 103,
   "metadata": {},
   "outputs": [
    {
     "name": "stdout",
     "output_type": "stream",
     "text": [
      "I am a Person\n",
      "I am a Student\n"
     ]
    }
   ],
   "source": [
    "s.greet()"
   ]
  },
  {
   "cell_type": "code",
   "execution_count": 104,
   "metadata": {},
   "outputs": [
    {
     "name": "stdout",
     "output_type": "stream",
     "text": [
      "Help on class Student in module __main__:\n",
      "\n",
      "class Student(Person)\n",
      " |  Method resolution order:\n",
      " |      Student\n",
      " |      Person\n",
      " |      builtins.object\n",
      " |  \n",
      " |  Methods defined here:\n",
      " |  \n",
      " |  greet(self)\n",
      " |  \n",
      " |  ----------------------------------------------------------------------\n",
      " |  Data descriptors inherited from Person:\n",
      " |  \n",
      " |  __dict__\n",
      " |      dictionary for instance variables (if defined)\n",
      " |  \n",
      " |  __weakref__\n",
      " |      list of weak references to the object (if defined)\n",
      "\n"
     ]
    }
   ],
   "source": [
    "help(Student)"
   ]
  },
  {
   "cell_type": "code",
   "execution_count": null,
   "metadata": {},
   "outputs": [],
   "source": []
  }
 ],
 "metadata": {
  "kernelspec": {
   "display_name": "Python 3",
   "language": "python",
   "name": "python3"
  },
  "language_info": {
   "codemirror_mode": {
    "name": "ipython",
    "version": 3
   },
   "file_extension": ".py",
   "mimetype": "text/x-python",
   "name": "python",
   "nbconvert_exporter": "python",
   "pygments_lexer": "ipython3",
   "version": "3.8.5"
  }
 },
 "nbformat": 4,
 "nbformat_minor": 4
}
