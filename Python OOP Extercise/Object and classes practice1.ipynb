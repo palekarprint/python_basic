{
 "cells": [
  {
   "cell_type": "code",
   "execution_count": 4,
   "metadata": {},
   "outputs": [],
   "source": [
    "class Person:\n",
    "    pass\n",
    "p1 = Person()\n",
    "p2 = Person()"
   ]
  },
  {
   "cell_type": "code",
   "execution_count": 3,
   "metadata": {},
   "outputs": [
    {
     "data": {
      "text/plain": [
       "2356935984992"
      ]
     },
     "execution_count": 3,
     "metadata": {},
     "output_type": "execute_result"
    }
   ],
   "source": [
    "id(Person)"
   ]
  },
  {
   "cell_type": "code",
   "execution_count": 5,
   "metadata": {},
   "outputs": [
    {
     "data": {
      "text/plain": [
       "__main__.Person"
      ]
     },
     "execution_count": 5,
     "metadata": {},
     "output_type": "execute_result"
    }
   ],
   "source": [
    "type(p1)"
   ]
  },
  {
   "cell_type": "code",
   "execution_count": 6,
   "metadata": {},
   "outputs": [
    {
     "data": {
      "text/plain": [
       "__main__.Person"
      ]
     },
     "execution_count": 6,
     "metadata": {},
     "output_type": "execute_result"
    }
   ],
   "source": [
    "type(p2)"
   ]
  },
  {
   "cell_type": "code",
   "execution_count": 7,
   "metadata": {},
   "outputs": [
    {
     "data": {
      "text/plain": [
       "2356946417024"
      ]
     },
     "execution_count": 7,
     "metadata": {},
     "output_type": "execute_result"
    }
   ],
   "source": [
    "id(p1)"
   ]
  },
  {
   "cell_type": "code",
   "execution_count": 8,
   "metadata": {},
   "outputs": [
    {
     "data": {
      "text/plain": [
       "2356946416592"
      ]
     },
     "execution_count": 8,
     "metadata": {},
     "output_type": "execute_result"
    }
   ],
   "source": [
    "id(p2)"
   ]
  },
  {
   "cell_type": "code",
   "execution_count": 9,
   "metadata": {},
   "outputs": [
    {
     "data": {
      "text/plain": [
       "<__main__.Person at 0x224c4f43580>"
      ]
     },
     "execution_count": 9,
     "metadata": {},
     "output_type": "execute_result"
    }
   ],
   "source": [
    "p1"
   ]
  },
  {
   "cell_type": "code",
   "execution_count": 10,
   "metadata": {},
   "outputs": [
    {
     "data": {
      "text/plain": [
       "<__main__.Person at 0x224c4f433d0>"
      ]
     },
     "execution_count": 10,
     "metadata": {},
     "output_type": "execute_result"
    }
   ],
   "source": [
    "p2"
   ]
  },
  {
   "cell_type": "code",
   "execution_count": 11,
   "metadata": {},
   "outputs": [
    {
     "name": "stdout",
     "output_type": "stream",
     "text": [
      "I am a Person\n",
      "Hello, how are you doing\n",
      "I am a Person\n",
      "Hello, how are you doing\n"
     ]
    }
   ],
   "source": [
    "class Person:\n",
    "    def display(self):\n",
    "        print('I am a Person')\n",
    "    def greet (self):\n",
    "        print('Hello, how are you doing')\n",
    "p1 = Person()\n",
    "p2 = Person()\n",
    "\n",
    "p1.display()\n",
    "p1.greet()\n",
    "\n",
    "p2.display()\n",
    "p2.greet()"
   ]
  },
  {
   "cell_type": "code",
   "execution_count": 12,
   "metadata": {},
   "outputs": [
    {
     "name": "stdout",
     "output_type": "stream",
     "text": [
      "I am a Person <__main__.Person object at 0x00000224C74A9AC0>\n",
      "Hello, how are you doing <__main__.Person object at 0x00000224C74A9AC0>\n",
      "I am a Person <__main__.Person object at 0x00000224C74A9DF0>\n",
      "Hello, how are you doing <__main__.Person object at 0x00000224C74A9DF0>\n"
     ]
    }
   ],
   "source": [
    "class Person:\n",
    "    def display(self):\n",
    "        print('I am a Person', self)\n",
    "    def greet (self):\n",
    "        print('Hello, how are you doing',self)\n",
    "p1 = Person()\n",
    "p2 = Person()\n",
    "\n",
    "p1.display()\n",
    "p1.greet()\n",
    "\n",
    "p2.display()\n",
    "p2.greet()"
   ]
  },
  {
   "cell_type": "code",
   "execution_count": 13,
   "metadata": {},
   "outputs": [],
   "source": [
    "p1.name = 'Tom'"
   ]
  },
  {
   "cell_type": "code",
   "execution_count": 14,
   "metadata": {},
   "outputs": [
    {
     "data": {
      "text/plain": [
       "'Tom'"
      ]
     },
     "execution_count": 14,
     "metadata": {},
     "output_type": "execute_result"
    }
   ],
   "source": [
    "p1.name"
   ]
  },
  {
   "cell_type": "code",
   "execution_count": 15,
   "metadata": {},
   "outputs": [
    {
     "ename": "AttributeError",
     "evalue": "'Person' object has no attribute 'name'",
     "output_type": "error",
     "traceback": [
      "\u001b[1;31m---------------------------------------------------------------------------\u001b[0m",
      "\u001b[1;31mAttributeError\u001b[0m                            Traceback (most recent call last)",
      "\u001b[1;32m<ipython-input-15-1fe4036a7206>\u001b[0m in \u001b[0;36m<module>\u001b[1;34m\u001b[0m\n\u001b[1;32m----> 1\u001b[1;33m \u001b[0mp2\u001b[0m\u001b[1;33m.\u001b[0m\u001b[0mname\u001b[0m\u001b[1;33m\u001b[0m\u001b[1;33m\u001b[0m\u001b[0m\n\u001b[0m",
      "\u001b[1;31mAttributeError\u001b[0m: 'Person' object has no attribute 'name'"
     ]
    }
   ],
   "source": [
    "p2.name"
   ]
  },
  {
   "cell_type": "code",
   "execution_count": 17,
   "metadata": {},
   "outputs": [
    {
     "name": "stdout",
     "output_type": "stream",
     "text": [
      "I am a Person <__main__.Person object at 0x00000224C750D6A0>\n",
      "Hello, how are you doing <__main__.Person object at 0x00000224C750D6A0>\n",
      "I am a Person <__main__.Person object at 0x00000224C750DAC0>\n",
      "Hello, how are you doing <__main__.Person object at 0x00000224C750DAC0>\n"
     ]
    }
   ],
   "source": [
    "class Person:\n",
    "    def set_details(self):\n",
    "        self.name = 'John'\n",
    "        self.age = 20\n",
    "    def display(self):\n",
    "        print('I am a Person', self)\n",
    "    def greet (self):\n",
    "        print('Hello, how are you doing',self)\n",
    "p1 = Person()\n",
    "p2 = Person()\n",
    "\n",
    "p1.set_details()\n",
    "p2.set_details()\n",
    "\n",
    "p1.display()\n",
    "p1.greet()\n",
    "\n",
    "p2.display()\n",
    "p2.greet()"
   ]
  },
  {
   "cell_type": "code",
   "execution_count": 18,
   "metadata": {},
   "outputs": [
    {
     "data": {
      "text/plain": [
       "'John'"
      ]
     },
     "execution_count": 18,
     "metadata": {},
     "output_type": "execute_result"
    }
   ],
   "source": [
    "p1.name"
   ]
  },
  {
   "cell_type": "code",
   "execution_count": 19,
   "metadata": {},
   "outputs": [
    {
     "data": {
      "text/plain": [
       "20"
      ]
     },
     "execution_count": 19,
     "metadata": {},
     "output_type": "execute_result"
    }
   ],
   "source": [
    "p1.age"
   ]
  },
  {
   "cell_type": "code",
   "execution_count": 20,
   "metadata": {},
   "outputs": [
    {
     "data": {
      "text/plain": [
       "'John'"
      ]
     },
     "execution_count": 20,
     "metadata": {},
     "output_type": "execute_result"
    }
   ],
   "source": [
    "p2.name"
   ]
  },
  {
   "cell_type": "code",
   "execution_count": 21,
   "metadata": {},
   "outputs": [
    {
     "data": {
      "text/plain": [
       "20"
      ]
     },
     "execution_count": 21,
     "metadata": {},
     "output_type": "execute_result"
    }
   ],
   "source": [
    "p2.age"
   ]
  },
  {
   "cell_type": "code",
   "execution_count": 22,
   "metadata": {},
   "outputs": [],
   "source": [
    "p2.name = 'Jack'"
   ]
  },
  {
   "cell_type": "code",
   "execution_count": 23,
   "metadata": {},
   "outputs": [],
   "source": [
    "p2.age = 30"
   ]
  },
  {
   "cell_type": "code",
   "execution_count": 24,
   "metadata": {},
   "outputs": [
    {
     "data": {
      "text/plain": [
       "'Jack'"
      ]
     },
     "execution_count": 24,
     "metadata": {},
     "output_type": "execute_result"
    }
   ],
   "source": [
    "p2.name"
   ]
  },
  {
   "cell_type": "code",
   "execution_count": 25,
   "metadata": {},
   "outputs": [
    {
     "data": {
      "text/plain": [
       "30"
      ]
     },
     "execution_count": 25,
     "metadata": {},
     "output_type": "execute_result"
    }
   ],
   "source": [
    "p2.age"
   ]
  },
  {
   "cell_type": "code",
   "execution_count": 26,
   "metadata": {},
   "outputs": [
    {
     "data": {
      "text/plain": [
       "'John'"
      ]
     },
     "execution_count": 26,
     "metadata": {},
     "output_type": "execute_result"
    }
   ],
   "source": [
    "p1.name"
   ]
  },
  {
   "cell_type": "code",
   "execution_count": 27,
   "metadata": {},
   "outputs": [
    {
     "data": {
      "text/plain": [
       "20"
      ]
     },
     "execution_count": 27,
     "metadata": {},
     "output_type": "execute_result"
    }
   ],
   "source": [
    "p1.age"
   ]
  },
  {
   "cell_type": "code",
   "execution_count": 28,
   "metadata": {},
   "outputs": [
    {
     "name": "stdout",
     "output_type": "stream",
     "text": [
      "I am a Person <__main__.Person object at 0x00000224C70165E0>\n",
      "Hello, how are you doing <__main__.Person object at 0x00000224C70165E0>\n",
      "I am a Person <__main__.Person object at 0x00000224C7016280>\n",
      "Hello, how are you doing <__main__.Person object at 0x00000224C7016280>\n"
     ]
    }
   ],
   "source": [
    "class Person:\n",
    "    def set_details(self, name, age):\n",
    "        self.name = name\n",
    "        self.age = age\n",
    "    def display(self):\n",
    "        print('I am a Person', self)\n",
    "    def greet (self):\n",
    "        print('Hello, how are you doing',self)\n",
    "p1 = Person()\n",
    "p2 = Person()\n",
    "\n",
    "p1.set_details('Bob', 70)\n",
    "p2.set_details('Ted', 80)\n",
    "\n",
    "p1.display()\n",
    "p1.greet()\n",
    "\n",
    "p2.display()\n",
    "p2.greet()"
   ]
  },
  {
   "cell_type": "code",
   "execution_count": 29,
   "metadata": {},
   "outputs": [
    {
     "data": {
      "text/plain": [
       "'Bob'"
      ]
     },
     "execution_count": 29,
     "metadata": {},
     "output_type": "execute_result"
    }
   ],
   "source": [
    "p1.name"
   ]
  },
  {
   "cell_type": "code",
   "execution_count": 30,
   "metadata": {},
   "outputs": [
    {
     "data": {
      "text/plain": [
       "70"
      ]
     },
     "execution_count": 30,
     "metadata": {},
     "output_type": "execute_result"
    }
   ],
   "source": [
    "p1.age"
   ]
  },
  {
   "cell_type": "code",
   "execution_count": 31,
   "metadata": {},
   "outputs": [
    {
     "data": {
      "text/plain": [
       "'Ted'"
      ]
     },
     "execution_count": 31,
     "metadata": {},
     "output_type": "execute_result"
    }
   ],
   "source": [
    "p2.name"
   ]
  },
  {
   "cell_type": "code",
   "execution_count": 32,
   "metadata": {},
   "outputs": [
    {
     "data": {
      "text/plain": [
       "80"
      ]
     },
     "execution_count": 32,
     "metadata": {},
     "output_type": "execute_result"
    }
   ],
   "source": [
    "p2.age"
   ]
  },
  {
   "cell_type": "code",
   "execution_count": 41,
   "metadata": {},
   "outputs": [
    {
     "name": "stdout",
     "output_type": "stream",
     "text": [
      "Hello, how are you doing?\n",
      "I am  Bob\n",
      "Hello, how do you do\n",
      "I am  Ted\n"
     ]
    }
   ],
   "source": [
    "class Person:\n",
    "    def set_details(self, name, age):\n",
    "        self.name = name\n",
    "        self.age = age\n",
    "    def display(self):\n",
    "        print('I am ', self.name)\n",
    "    def greet (self):\n",
    "        if self.age < 80 :\n",
    "            print('Hello, how are you doing?')\n",
    "        else:\n",
    "            print('Hello, how do you do')\n",
    "        self.display()\n",
    "        \n",
    "p1 = Person()\n",
    "p2 = Person()\n",
    "\n",
    "p1.set_details('Bob', 20)\n",
    "p2.set_details('Ted', 90)\n",
    "\n",
    "#p1.display()\n",
    "p1.greet()\n",
    "#p2.display()\n",
    "p2.greet()"
   ]
  },
  {
   "cell_type": "code",
   "execution_count": 49,
   "metadata": {},
   "outputs": [
    {
     "name": "stdout",
     "output_type": "stream",
     "text": [
      "I am  Bob\n",
      "Hello, how are you doing?\n",
      "Hello, how do you do\n"
     ]
    }
   ],
   "source": [
    "class Person:\n",
    "    def set_details(self, name, age):\n",
    "        self.name = name\n",
    "        self.age = age\n",
    "    def display(self):\n",
    "        print('I am ', self.name)\n",
    "    def greet (self):\n",
    "        if self.age < 80 :\n",
    "            print('Hello, how are you doing?')\n",
    "        else:\n",
    "            print('Hello, how do you do')\n",
    "        display()\n",
    "        \n",
    "p1 = Person()\n",
    "p2 = Person()\n",
    "\n",
    "p1.set_details('Bob', 20)\n",
    "p2.set_details('Ted', 90)\n",
    "\n",
    "p1.display()\n",
    "p1.greet()\n",
    "#p2.display()\n",
    "p2.greet()"
   ]
  },
  {
   "cell_type": "code",
   "execution_count": 52,
   "metadata": {},
   "outputs": [
    {
     "ename": "SyntaxError",
     "evalue": "unexpected EOF while parsing (<ipython-input-52-1fc0eca733b9>, line 7)",
     "output_type": "error",
     "traceback": [
      "\u001b[1;36m  File \u001b[1;32m\"<ipython-input-52-1fc0eca733b9>\"\u001b[1;36m, line \u001b[1;32m7\u001b[0m\n\u001b[1;33m    print(type(t1) == type(t2)\u001b[0m\n\u001b[1;37m                              ^\u001b[0m\n\u001b[1;31mSyntaxError\u001b[0m\u001b[1;31m:\u001b[0m unexpected EOF while parsing\n"
     ]
    }
   ],
   "source": [
    "class Test:\n",
    "    pass\n",
    " \n",
    "t1 = Test()\n",
    "t2 = Test()\n",
    "print(t1 == t2)\n",
    "print(type(t1) == type(t2)"
   ]
  },
  {
   "cell_type": "code",
   "execution_count": 53,
   "metadata": {},
   "outputs": [
    {
     "ename": "SyntaxError",
     "evalue": "invalid syntax (<ipython-input-53-b8b45a21b8fd>, line 1)",
     "output_type": "error",
     "traceback": [
      "\u001b[1;36m  File \u001b[1;32m\"<ipython-input-53-b8b45a21b8fd>\"\u001b[1;36m, line \u001b[1;32m1\u001b[0m\n\u001b[1;33m    print()?\u001b[0m\n\u001b[1;37m           ^\u001b[0m\n\u001b[1;31mSyntaxError\u001b[0m\u001b[1;31m:\u001b[0m invalid syntax\n"
     ]
    }
   ],
   "source": [
    "print()?"
   ]
  },
  {
   "cell_type": "code",
   "execution_count": 54,
   "metadata": {},
   "outputs": [],
   "source": [
    "print?"
   ]
  },
  {
   "cell_type": "code",
   "execution_count": 57,
   "metadata": {},
   "outputs": [
    {
     "name": "stdout",
     "output_type": "stream",
     "text": [
      "True\n"
     ]
    }
   ],
   "source": [
    "print(10 == 10)"
   ]
  },
  {
   "cell_type": "code",
   "execution_count": 67,
   "metadata": {},
   "outputs": [
    {
     "name": "stdout",
     "output_type": "stream",
     "text": [
      "Account Holder Vikas has Available balance 1000\n",
      "Account Holder Shital has Available balance 2000\n",
      "Available balance after withdrawal 900\n",
      "Available balance after withdrawal 1800\n",
      "Account Holder Vikas has Available balance 900\n",
      "Account Holder Shital has Available balance 1800\n",
      "Available balance after deposit 1900\n",
      "Available balance after deposit 2800\n"
     ]
    }
   ],
   "source": [
    "#Practice Exercise - 1\n",
    "class Bank_Account:\n",
    "    def set_details(self, name, balance = 0):\n",
    "        self.name = name\n",
    "        self.balance = balance\n",
    "    \n",
    "    def display(self):\n",
    "        print('Account Holder', self.name, 'has', end=' ')\n",
    "        print('Available balance', self.balance,)\n",
    "    \n",
    "    def withdraw(self, amount):\n",
    "        self.balance = self.balance - amount\n",
    "        print('Available balance after withdrawal', self.balance)\n",
    "        \n",
    "    def deposit(self, amount):\n",
    "        self.balance = self.balance + amount\n",
    "        print('Available balance after deposit', self.balance + amount)\n",
    "        \n",
    "p1 = Bank_Account()\n",
    "p2 = Bank_Account()\n",
    "\n",
    "p1.set_details('Vikas' , 1000)\n",
    "p2.set_details('Shital' , 2000)\n",
    "\n",
    "p1.display()\n",
    "p2.display()\n",
    "\n",
    "p1.withdraw(100)\n",
    "p2.withdraw(200)\n",
    "\n",
    "p1.display()\n",
    "p2.display()\n",
    "\n",
    "p1.deposit(500)\n",
    "p2.deposit(500)"
   ]
  },
  {
   "cell_type": "code",
   "execution_count": 1,
   "metadata": {},
   "outputs": [
    {
     "name": "stdout",
     "output_type": "stream",
     "text": [
      "Mike 200\n",
      "Tom 0\n",
      "Mike 100\n",
      "Tom 500\n"
     ]
    }
   ],
   "source": [
    "class BankAccount:\n",
    "    def set_details(self, name, balance=0):\n",
    "        self.name = name\n",
    "        self.balance = balance\n",
    " \n",
    "    def display(self):\n",
    "         print(self.name, self.balance)\n",
    " \n",
    "    def withdraw(self, amount):\n",
    "        self.balance -= amount\n",
    " \n",
    "    def deposit(self, amount):\n",
    "        self.balance += amount\n",
    "    \n",
    "a1 = BankAccount()\n",
    "a1.set_details('Mike', 200)\n",
    " \n",
    "a2 = BankAccount()\n",
    "a2.set_details('Tom')\n",
    " \n",
    "a1.display()\n",
    "a2.display()\n",
    " \n",
    "a1.withdraw(100)\n",
    "a2.deposit(500)\n",
    " \n",
    "a1.display()\n",
    "a2.display()"
   ]
  },
  {
   "cell_type": "code",
   "execution_count": 2,
   "metadata": {},
   "outputs": [
    {
     "name": "stdout",
     "output_type": "stream",
     "text": [
      "Account Holder Vikas has Available balance 1000\n",
      "Account Holder Shital has Available balance 2000\n",
      "Available balance after withdrawal 900\n",
      "Available balance after withdrawal 1800\n",
      "Account Holder Vikas has Available balance 900\n",
      "Account Holder Shital has Available balance 1800\n",
      "Available balance after deposit 1400\n",
      "Available balance after deposit 2300\n"
     ]
    }
   ],
   "source": [
    "#Practice Exercise - 2.1 \n",
    "class Bank_Account:\n",
    "    def __init__(self, name, balance = 0):\n",
    "        self.name = name\n",
    "        self.balance = balance\n",
    "    \n",
    "    def display(self):\n",
    "        print('Account Holder', self.name, 'has', end=' ')\n",
    "        print('Available balance', self.balance,)\n",
    "    \n",
    "    def withdraw(self, amount):\n",
    "        self.balance -= amount\n",
    "        print('Available balance after withdrawal', self.balance)\n",
    "        \n",
    "    def deposit(self, amount):\n",
    "        self.balance += amount\n",
    "        print('Available balance after deposit', self.balance)\n",
    "        \n",
    "p1 = Bank_Account('Vikas' , 1000)\n",
    "p2 = Bank_Account('Shital' , 2000)\n",
    "\n",
    "\n",
    "p1.display()\n",
    "p2.display()\n",
    "\n",
    "p1.withdraw(100)\n",
    "p2.withdraw(200)\n",
    "\n",
    "p1.display()\n",
    "p2.display()\n",
    "\n",
    "p1.deposit(500)\n",
    "p2.deposit(500)"
   ]
  }
 ],
 "metadata": {
  "kernelspec": {
   "display_name": "Python 3",
   "language": "python",
   "name": "python3"
  },
  "language_info": {
   "codemirror_mode": {
    "name": "ipython",
    "version": 3
   },
   "file_extension": ".py",
   "mimetype": "text/x-python",
   "name": "python",
   "nbconvert_exporter": "python",
   "pygments_lexer": "ipython3",
   "version": "3.8.5"
  }
 },
 "nbformat": 4,
 "nbformat_minor": 4
}
