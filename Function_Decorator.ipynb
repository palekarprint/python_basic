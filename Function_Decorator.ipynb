{
 "cells": [
  {
   "cell_type": "code",
   "execution_count": 1,
   "id": "0b43397f",
   "metadata": {},
   "outputs": [],
   "source": [
    "def printer():\n",
    "    print(\"Hellow World\")"
   ]
  },
  {
   "cell_type": "code",
   "execution_count": 2,
   "id": "7e2bcb7b",
   "metadata": {},
   "outputs": [
    {
     "name": "stdout",
     "output_type": "stream",
     "text": [
      "Hellow World\n"
     ]
    }
   ],
   "source": [
    "printer()"
   ]
  },
  {
   "cell_type": "code",
   "execution_count": 3,
   "id": "e3fc9497",
   "metadata": {},
   "outputs": [],
   "source": [
    "def display(func):\n",
    "    def inner():\n",
    "        print('Executing', func.__name__, 'Function')\n",
    "        func()\n",
    "        print('Execution Finished')\n",
    "    return inner"
   ]
  },
  {
   "cell_type": "code",
   "execution_count": 4,
   "id": "e4dc1f78",
   "metadata": {},
   "outputs": [
    {
     "name": "stdout",
     "output_type": "stream",
     "text": [
      "<function display.<locals>.inner at 0x0000021E6EF5E040>\n"
     ]
    }
   ],
   "source": [
    "print(display(printer))"
   ]
  },
  {
   "cell_type": "code",
   "execution_count": 5,
   "id": "f18c8e4f",
   "metadata": {},
   "outputs": [],
   "source": [
    "def display(func):\n",
    "    def inner():\n",
    "        print('Executing', func.__name__, 'Function')\n",
    "        func()\n",
    "        print('Execution Finished')\n",
    "    return inner()"
   ]
  },
  {
   "cell_type": "code",
   "execution_count": 6,
   "id": "12f348eb",
   "metadata": {},
   "outputs": [
    {
     "name": "stdout",
     "output_type": "stream",
     "text": [
      "Executing printer Function\n",
      "Hellow World\n",
      "Execution Finished\n",
      "None\n"
     ]
    }
   ],
   "source": [
    "print(display(printer))"
   ]
  },
  {
   "cell_type": "code",
   "execution_count": 8,
   "id": "49dd7145",
   "metadata": {},
   "outputs": [],
   "source": [
    "def display(func):\n",
    "    def inner():\n",
    "        print('Executing', func.__name__, 'Function')\n",
    "        func()\n",
    "        print('Execution Finished')\n",
    "    return inner"
   ]
  },
  {
   "cell_type": "code",
   "execution_count": 9,
   "id": "72e39432",
   "metadata": {},
   "outputs": [
    {
     "data": {
      "text/plain": [
       "<function __main__.display.<locals>.inner()>"
      ]
     },
     "execution_count": 9,
     "metadata": {},
     "output_type": "execute_result"
    }
   ],
   "source": [
    "display(printer)"
   ]
  },
  {
   "cell_type": "code",
   "execution_count": 10,
   "id": "a22d72c2",
   "metadata": {},
   "outputs": [],
   "source": [
    "decorated = display(printer)"
   ]
  },
  {
   "cell_type": "code",
   "execution_count": 11,
   "id": "acab6142",
   "metadata": {},
   "outputs": [
    {
     "name": "stdout",
     "output_type": "stream",
     "text": [
      "Executing printer Function\n",
      "Hellow World\n",
      "Execution Finished\n"
     ]
    }
   ],
   "source": [
    "decorated()"
   ]
  },
  {
   "cell_type": "code",
   "execution_count": 12,
   "id": "12037b82",
   "metadata": {},
   "outputs": [
    {
     "data": {
      "text/plain": [
       "function"
      ]
     },
     "execution_count": 12,
     "metadata": {},
     "output_type": "execute_result"
    }
   ],
   "source": [
    "type(decorated)"
   ]
  },
  {
   "cell_type": "raw",
   "id": "95e2f417",
   "metadata": {},
   "source": [
    "----------------------------------------------------------"
   ]
  },
  {
   "cell_type": "code",
   "execution_count": null,
   "id": "7bc9d8b2",
   "metadata": {},
   "outputs": [],
   "source": [
    "def display(func):\n",
    "    def inner():\n",
    "        print('Executing', func.__name__, 'Function')\n",
    "        func()\n",
    "        print('Execution Finished')\n",
    "    return inner"
   ]
  },
  {
   "cell_type": "code",
   "execution_count": 14,
   "id": "ae9cd987",
   "metadata": {},
   "outputs": [],
   "source": [
    "@display\n",
    "def printer():\n",
    "    print(\"Hellow World\")"
   ]
  },
  {
   "cell_type": "code",
   "execution_count": 15,
   "id": "bd2256db",
   "metadata": {},
   "outputs": [
    {
     "name": "stdout",
     "output_type": "stream",
     "text": [
      "Executing printer Function\n",
      "Hellow World\n",
      "Execution Finished\n"
     ]
    }
   ],
   "source": [
    "printer()"
   ]
  },
  {
   "cell_type": "raw",
   "id": "72e4ca52",
   "metadata": {},
   "source": [
    "----------------------------------------------------------"
   ]
  },
  {
   "cell_type": "code",
   "execution_count": 16,
   "id": "70297737",
   "metadata": {},
   "outputs": [],
   "source": [
    "def divide(a, b):\n",
    "    return a/b"
   ]
  },
  {
   "cell_type": "code",
   "execution_count": 17,
   "id": "ec5dec5b",
   "metadata": {},
   "outputs": [
    {
     "ename": "ZeroDivisionError",
     "evalue": "division by zero",
     "output_type": "error",
     "traceback": [
      "\u001b[1;31m---------------------------------------------------------------------------\u001b[0m",
      "\u001b[1;31mZeroDivisionError\u001b[0m                         Traceback (most recent call last)",
      "\u001b[1;32m~\\AppData\\Local\\Temp\\ipykernel_10964\\1029623480.py\u001b[0m in \u001b[0;36m<module>\u001b[1;34m\u001b[0m\n\u001b[1;32m----> 1\u001b[1;33m \u001b[0mdivide\u001b[0m\u001b[1;33m(\u001b[0m\u001b[1;36m2\u001b[0m\u001b[1;33m,\u001b[0m \u001b[1;36m0\u001b[0m\u001b[1;33m)\u001b[0m\u001b[1;33m\u001b[0m\u001b[1;33m\u001b[0m\u001b[0m\n\u001b[0m",
      "\u001b[1;32m~\\AppData\\Local\\Temp\\ipykernel_10964\\560253271.py\u001b[0m in \u001b[0;36mdivide\u001b[1;34m(a, b)\u001b[0m\n\u001b[0;32m      1\u001b[0m \u001b[1;32mdef\u001b[0m \u001b[0mdivide\u001b[0m\u001b[1;33m(\u001b[0m\u001b[0ma\u001b[0m\u001b[1;33m,\u001b[0m \u001b[0mb\u001b[0m\u001b[1;33m)\u001b[0m\u001b[1;33m:\u001b[0m\u001b[1;33m\u001b[0m\u001b[1;33m\u001b[0m\u001b[0m\n\u001b[1;32m----> 2\u001b[1;33m     \u001b[1;32mreturn\u001b[0m \u001b[0ma\u001b[0m\u001b[1;33m/\u001b[0m\u001b[0mb\u001b[0m\u001b[1;33m\u001b[0m\u001b[1;33m\u001b[0m\u001b[0m\n\u001b[0m",
      "\u001b[1;31mZeroDivisionError\u001b[0m: division by zero"
     ]
    }
   ],
   "source": [
    "divide(2, 0)"
   ]
  },
  {
   "cell_type": "code",
   "execution_count": 18,
   "id": "a31f19ef",
   "metadata": {},
   "outputs": [],
   "source": [
    "def smart_divide(func):\n",
    "    def inner(a, b):\n",
    "        print(f'I am going to devide {a}, {b}')\n",
    "        if ( b == 0):\n",
    "            print('Can not devide')\n",
    "            return\n",
    "        return func(a, b)\n",
    "    return inner"
   ]
  },
  {
   "cell_type": "code",
   "execution_count": 19,
   "id": "2d8627e3",
   "metadata": {},
   "outputs": [
    {
     "name": "stdout",
     "output_type": "stream",
     "text": [
      "I am going to devide 2, 0\n",
      "Can not divide\n"
     ]
    }
   ],
   "source": [
    "def inner(a, b):\n",
    "        print(f'I am going to devide {a}, {b}')\n",
    "        if ( b == 0):\n",
    "            print('Can not divide')\n",
    "            return\n",
    "        return func(a, b)\n",
    "\n",
    "inner(2, 0)"
   ]
  },
  {
   "cell_type": "code",
   "execution_count": 20,
   "id": "9a6c9f6f",
   "metadata": {},
   "outputs": [],
   "source": [
    "@smart_divide\n",
    "def divide(a, b):\n",
    "    return a/b"
   ]
  },
  {
   "cell_type": "code",
   "execution_count": 21,
   "id": "82e5ab76",
   "metadata": {},
   "outputs": [
    {
     "name": "stdout",
     "output_type": "stream",
     "text": [
      "I am going to devide 2, 0\n",
      "Can not devide\n"
     ]
    }
   ],
   "source": [
    "divide(2, 0)"
   ]
  },
  {
   "cell_type": "code",
   "execution_count": 22,
   "id": "3c17b2cf",
   "metadata": {},
   "outputs": [
    {
     "name": "stdout",
     "output_type": "stream",
     "text": [
      "I am going to devide 2, 2\n"
     ]
    },
    {
     "data": {
      "text/plain": [
       "1.0"
      ]
     },
     "execution_count": 22,
     "metadata": {},
     "output_type": "execute_result"
    }
   ],
   "source": [
    "divide(2, 2)"
   ]
  },
  {
   "cell_type": "code",
   "execution_count": null,
   "id": "96251f5d",
   "metadata": {},
   "outputs": [],
   "source": []
  }
 ],
 "metadata": {
  "kernelspec": {
   "display_name": "Python 3 (ipykernel)",
   "language": "python",
   "name": "python3"
  },
  "language_info": {
   "codemirror_mode": {
    "name": "ipython",
    "version": 3
   },
   "file_extension": ".py",
   "mimetype": "text/x-python",
   "name": "python",
   "nbconvert_exporter": "python",
   "pygments_lexer": "ipython3",
   "version": "3.9.13"
  }
 },
 "nbformat": 4,
 "nbformat_minor": 5
}
