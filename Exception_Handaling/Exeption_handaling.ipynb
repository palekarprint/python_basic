{
 "cells": [
  {
   "cell_type": "code",
   "execution_count": 1,
   "id": "78519e3f-bec9-408e-9a06-5b006fb85967",
   "metadata": {},
   "outputs": [
    {
     "ename": "IndentationError",
     "evalue": "unexpected indent (849508660.py, line 2)",
     "output_type": "error",
     "traceback": [
      "\u001b[0;36m  Cell \u001b[0;32mIn [1], line 2\u001b[0;36m\u001b[0m\n\u001b[0;31m    print('This is my code for error')\u001b[0m\n\u001b[0m    ^\u001b[0m\n\u001b[0;31mIndentationError\u001b[0m\u001b[0;31m:\u001b[0m unexpected indent\n"
     ]
    }
   ],
   "source": [
    "print('I write a code')\n",
    "    print('This is my code for error')\n"
   ]
  },
  {
   "cell_type": "code",
   "execution_count": 2,
   "id": "cb5dd2c6-100d-49cd-823f-68380f36db73",
   "metadata": {},
   "outputs": [
    {
     "name": "stdout",
     "output_type": "stream",
     "text": [
      "i am creating error\n"
     ]
    }
   ],
   "source": [
    "    print('i am creating error')"
   ]
  },
  {
   "cell_type": "code",
   "execution_count": 3,
   "id": "cd915645-607b-4ac1-8611-ab9cbb462ab3",
   "metadata": {},
   "outputs": [
    {
     "ename": "NameError",
     "evalue": "name 'a' is not defined",
     "output_type": "error",
     "traceback": [
      "\u001b[0;31m---------------------------------------------------------------------------\u001b[0m",
      "\u001b[0;31mNameError\u001b[0m                                 Traceback (most recent call last)",
      "Cell \u001b[0;32mIn [3], line 1\u001b[0m\n\u001b[0;32m----> 1\u001b[0m \u001b[43ma\u001b[49m\u001b[38;5;241m-\u001b[39m\u001b[38;5;241m10\u001b[39m\n",
      "\u001b[0;31mNameError\u001b[0m: name 'a' is not defined"
     ]
    }
   ],
   "source": [
    "a-10"
   ]
  },
  {
   "cell_type": "code",
   "execution_count": 4,
   "id": "45622957-b1df-429a-aa08-562b73576eec",
   "metadata": {},
   "outputs": [
    {
     "ename": "SyntaxError",
     "evalue": "expected ':' (1815878917.py, line 1)",
     "output_type": "error",
     "traceback": [
      "\u001b[0;36m  Cell \u001b[0;32mIn [4], line 1\u001b[0;36m\u001b[0m\n\u001b[0;31m    if (a<10)\u001b[0m\n\u001b[0m             ^\u001b[0m\n\u001b[0;31mSyntaxError\u001b[0m\u001b[0;31m:\u001b[0m expected ':'\n"
     ]
    }
   ],
   "source": [
    "if (a<10)\n",
    "    print('a is less than 10')\n"
   ]
  },
  {
   "cell_type": "code",
   "execution_count": 5,
   "id": "e810b861-9afd-4378-ab5a-c6782a337a84",
   "metadata": {},
   "outputs": [
    {
     "ename": "ZeroDivisionError",
     "evalue": "division by zero",
     "output_type": "error",
     "traceback": [
      "\u001b[0;31m---------------------------------------------------------------------------\u001b[0m",
      "\u001b[0;31mZeroDivisionError\u001b[0m                         Traceback (most recent call last)",
      "Cell \u001b[0;32mIn [5], line 1\u001b[0m\n\u001b[0;32m----> 1\u001b[0m \u001b[38;5;241;43m1\u001b[39;49m\u001b[38;5;241;43m/\u001b[39;49m\u001b[38;5;241;43m0\u001b[39;49m\n",
      "\u001b[0;31mZeroDivisionError\u001b[0m: division by zero"
     ]
    }
   ],
   "source": [
    "1/0"
   ]
  },
  {
   "cell_type": "code",
   "execution_count": 6,
   "id": "00e43655-9dbb-4515-a875-c2bab2f8225d",
   "metadata": {},
   "outputs": [
    {
     "ename": "FileNotFoundError",
     "evalue": "[Errno 2] No such file or directory: 'tett.txt'",
     "output_type": "error",
     "traceback": [
      "\u001b[0;31m---------------------------------------------------------------------------\u001b[0m",
      "\u001b[0;31mFileNotFoundError\u001b[0m                         Traceback (most recent call last)",
      "Cell \u001b[0;32mIn [6], line 1\u001b[0m\n\u001b[0;32m----> 1\u001b[0m \u001b[38;5;28;43mopen\u001b[39;49m\u001b[43m(\u001b[49m\u001b[38;5;124;43m\"\u001b[39;49m\u001b[38;5;124;43mtett.txt\u001b[39;49m\u001b[38;5;124;43m\"\u001b[39;49m\u001b[43m)\u001b[49m\n",
      "\u001b[0;31mFileNotFoundError\u001b[0m: [Errno 2] No such file or directory: 'tett.txt'"
     ]
    }
   ],
   "source": [
    "open(\"tett.txt\")"
   ]
  },
  {
   "cell_type": "code",
   "execution_count": 7,
   "id": "2dbe123e-8d45-4653-ae48-d67d515983f3",
   "metadata": {},
   "outputs": [
    {
     "ename": "NameError",
     "evalue": "name 'c' is not defined",
     "output_type": "error",
     "traceback": [
      "\u001b[0;31m---------------------------------------------------------------------------\u001b[0m",
      "\u001b[0;31mNameError\u001b[0m                                 Traceback (most recent call last)",
      "Cell \u001b[0;32mIn [7], line 3\u001b[0m\n\u001b[1;32m      1\u001b[0m a\u001b[38;5;241m=\u001b[39m\u001b[38;5;241m10\u001b[39m\n\u001b[1;32m      2\u001b[0m b\u001b[38;5;241m=\u001b[39m\u001b[38;5;241m20\u001b[39m\n\u001b[0;32m----> 3\u001b[0m \u001b[38;5;28mprint\u001b[39m(\u001b[38;5;124m'\u001b[39m\u001b[38;5;124maddition\u001b[39m\u001b[38;5;124m'\u001b[39m, a\u001b[38;5;241m+\u001b[39m\u001b[43mc\u001b[49m)\n",
      "\u001b[0;31mNameError\u001b[0m: name 'c' is not defined"
     ]
    }
   ],
   "source": [
    "a=10\n",
    "b=20\n",
    "print('addition', a+c)"
   ]
  },
  {
   "cell_type": "code",
   "execution_count": 13,
   "id": "7342717b-3aad-45ab-bc89-115d5d96e1c5",
   "metadata": {},
   "outputs": [
    {
     "name": "stdout",
     "output_type": "stream",
     "text": [
      "['ArithmeticError', 'AssertionError', 'AttributeError', 'BaseException', 'BlockingIOError', 'BrokenPipeError', 'BufferError', 'BytesWarning', 'ChildProcessError', 'ConnectionAbortedError', 'ConnectionError', 'ConnectionRefusedError', 'ConnectionResetError', 'DeprecationWarning', 'EOFError', 'Ellipsis', 'EncodingWarning', 'EnvironmentError', 'Exception', 'False', 'FileExistsError', 'FileNotFoundError', 'FloatingPointError', 'FutureWarning', 'GeneratorExit', 'IOError', 'ImportError', 'ImportWarning', 'IndentationError', 'IndexError', 'InterruptedError', 'IsADirectoryError', 'KeyError', 'KeyboardInterrupt', 'LookupError', 'MemoryError', 'ModuleNotFoundError', 'NameError', 'None', 'NotADirectoryError', 'NotImplemented', 'NotImplementedError', 'OSError', 'OverflowError', 'PendingDeprecationWarning', 'PermissionError', 'ProcessLookupError', 'RecursionError', 'ReferenceError', 'ResourceWarning', 'RuntimeError', 'RuntimeWarning', 'StopAsyncIteration', 'StopIteration', 'SyntaxError', 'SyntaxWarning', 'SystemError', 'SystemExit', 'TabError', 'TimeoutError', 'True', 'TypeError', 'UnboundLocalError', 'UnicodeDecodeError', 'UnicodeEncodeError', 'UnicodeError', 'UnicodeTranslateError', 'UnicodeWarning', 'UserWarning', 'ValueError', 'Warning', 'ZeroDivisionError', '__IPYTHON__', '__build_class__', '__debug__', '__doc__', '__import__', '__loader__', '__name__', '__package__', '__spec__', 'abs', 'aiter', 'all', 'anext', 'any', 'ascii', 'bin', 'bool', 'breakpoint', 'bytearray', 'bytes', 'callable', 'chr', 'classmethod', 'compile', 'complex', 'copyright', 'credits', 'delattr', 'dict', 'dir', 'display', 'divmod', 'enumerate', 'eval', 'exec', 'execfile', 'filter', 'float', 'format', 'frozenset', 'get_ipython', 'getattr', 'globals', 'hasattr', 'hash', 'help', 'hex', 'id', 'input', 'int', 'isinstance', 'issubclass', 'iter', 'len', 'license', 'list', 'locals', 'map', 'max', 'memoryview', 'min', 'next', 'object', 'oct', 'open', 'ord', 'pow', 'print', 'property', 'range', 'repr', 'reversed', 'round', 'runfile', 'set', 'setattr', 'slice', 'sorted', 'staticmethod', 'str', 'sum', 'super', 'tuple', 'type', 'vars', 'zip']\n"
     ]
    }
   ],
   "source": [
    "print(dir(locals()['__builtins__']))"
   ]
  },
  {
   "cell_type": "code",
   "execution_count": 14,
   "id": "e1807315-1e56-4e01-9c2e-99daf89c0d4d",
   "metadata": {},
   "outputs": [
    {
     "name": "stdin",
     "output_type": "stream",
     "text": [
      " 0\n"
     ]
    },
    {
     "ename": "ZeroDivisionError",
     "evalue": "division by zero",
     "output_type": "error",
     "traceback": [
      "\u001b[0;31m---------------------------------------------------------------------------\u001b[0m",
      "\u001b[0;31mZeroDivisionError\u001b[0m                         Traceback (most recent call last)",
      "Cell \u001b[0;32mIn [14], line 3\u001b[0m\n\u001b[1;32m      1\u001b[0m a \u001b[38;5;241m=\u001b[39m \u001b[38;5;241m6\u001b[39m\n\u001b[1;32m      2\u001b[0m b \u001b[38;5;241m=\u001b[39m \u001b[38;5;28mint\u001b[39m(\u001b[38;5;28minput\u001b[39m())\n\u001b[0;32m----> 3\u001b[0m \u001b[43ma\u001b[49m\u001b[38;5;241;43m/\u001b[39;49m\u001b[43mb\u001b[49m\n",
      "\u001b[0;31mZeroDivisionError\u001b[0m: division by zero"
     ]
    }
   ],
   "source": [
    "a = 6\n",
    "b = int(input())\n",
    "a/b\n"
   ]
  },
  {
   "cell_type": "code",
   "execution_count": 16,
   "id": "6516cc41-e079-40ba-975e-3b4aa8e80fa0",
   "metadata": {},
   "outputs": [
    {
     "name": "stdin",
     "output_type": "stream",
     "text": [
      " 0\n"
     ]
    },
    {
     "name": "stdout",
     "output_type": "stream",
     "text": [
      "Can not devide with zero, provide diff. no.\n"
     ]
    }
   ],
   "source": [
    "try:\n",
    "    a = 6\n",
    "    b = int(input())\n",
    "    c = a/b\n",
    "    print(c)\n",
    "except:\n",
    "    print('Can not devide with zero, provide diff. no.')"
   ]
  },
  {
   "cell_type": "code",
   "execution_count": 17,
   "id": "2bb5dfd5-28c7-487f-9171-e8663d8e76fc",
   "metadata": {},
   "outputs": [
    {
     "name": "stdin",
     "output_type": "stream",
     "text": [
      " 1\n"
     ]
    },
    {
     "name": "stdout",
     "output_type": "stream",
     "text": [
      "6.0\n"
     ]
    }
   ],
   "source": [
    "try:\n",
    "    a = 6\n",
    "    b = int(input())\n",
    "    c = a/b\n",
    "    print(c)\n",
    "except:\n",
    "    print('Can not devide with zero, provide diff. no.')"
   ]
  },
  {
   "cell_type": "code",
   "execution_count": 18,
   "id": "df795aa8-59f5-421a-9cb8-70cb4adaadc9",
   "metadata": {},
   "outputs": [
    {
     "name": "stdout",
     "output_type": "stream",
     "text": [
      "There is error\n"
     ]
    }
   ],
   "source": [
    "try:\n",
    "    f = open('test.txt', 'r')\n",
    "    f.write('ineuron')\n",
    "except:\n",
    "    print('There is error')"
   ]
  },
  {
   "cell_type": "code",
   "execution_count": 19,
   "id": "92117600-d9a2-447a-81e7-f80ef3e7bfb5",
   "metadata": {},
   "outputs": [
    {
     "ename": "IndentationError",
     "evalue": "unexpected indent (1639494140.py, line 2)",
     "output_type": "error",
     "traceback": [
      "\u001b[0;36m  Cell \u001b[0;32mIn [19], line 2\u001b[0;36m\u001b[0m\n\u001b[0;31m    f.write('ineuron')\u001b[0m\n\u001b[0m    ^\u001b[0m\n\u001b[0;31mIndentationError\u001b[0m\u001b[0;31m:\u001b[0m unexpected indent\n"
     ]
    }
   ],
   "source": [
    "f = open('test.txt', 'r')\n",
    "    f.write('ineuron')"
   ]
  },
  {
   "cell_type": "code",
   "execution_count": 20,
   "id": "1e163ffa-b1f8-49d1-bc32-b6c5d1163513",
   "metadata": {},
   "outputs": [
    {
     "name": "stdout",
     "output_type": "stream",
     "text": [
      "1\n",
      "2\n",
      "3\n",
      "4\n",
      "5\n",
      "6\n",
      "7\n",
      "8\n",
      "9\n"
     ]
    },
    {
     "ename": "IndexError",
     "evalue": "list index out of range",
     "output_type": "error",
     "traceback": [
      "\u001b[0;31m---------------------------------------------------------------------------\u001b[0m",
      "\u001b[0;31mIndexError\u001b[0m                                Traceback (most recent call last)",
      "Cell \u001b[0;32mIn [20], line 4\u001b[0m\n\u001b[1;32m      1\u001b[0m l \u001b[38;5;241m=\u001b[39m [\u001b[38;5;241m1\u001b[39m, \u001b[38;5;241m2\u001b[39m, \u001b[38;5;241m3\u001b[39m, \u001b[38;5;241m4\u001b[39m, \u001b[38;5;241m5\u001b[39m, \u001b[38;5;241m6\u001b[39m, \u001b[38;5;241m7\u001b[39m, \u001b[38;5;241m8\u001b[39m, \u001b[38;5;241m9\u001b[39m]\n\u001b[1;32m      3\u001b[0m \u001b[38;5;28;01mfor\u001b[39;00m i \u001b[38;5;129;01min\u001b[39;00m \u001b[38;5;28mrange\u001b[39m(\u001b[38;5;28mlen\u001b[39m(l)\u001b[38;5;241m+\u001b[39m\u001b[38;5;241m1\u001b[39m):\n\u001b[0;32m----> 4\u001b[0m     \u001b[38;5;28mprint\u001b[39m(\u001b[43ml\u001b[49m\u001b[43m[\u001b[49m\u001b[43mi\u001b[49m\u001b[43m]\u001b[49m)\n",
      "\u001b[0;31mIndexError\u001b[0m: list index out of range"
     ]
    }
   ],
   "source": [
    "l = [1, 2, 3, 4, 5, 6, 7, 8, 9]\n",
    "\n",
    "for i in range(len(l)+1):\n",
    "    print(l[i])"
   ]
  },
  {
   "cell_type": "code",
   "execution_count": 21,
   "id": "be77aaff-3906-466f-9c82-952bddaf8031",
   "metadata": {},
   "outputs": [
    {
     "name": "stdout",
     "output_type": "stream",
     "text": [
      "1\n",
      "2\n",
      "3\n",
      "4\n",
      "5\n",
      "6\n",
      "7\n",
      "8\n",
      "9\n",
      "error\n"
     ]
    }
   ],
   "source": [
    "l = [1, 2, 3, 4, 5, 6, 7, 8, 9]\n",
    "try:\n",
    "    for i in range(len(l)+1):\n",
    "        print(l[i])\n",
    "except:\n",
    "    print('error')"
   ]
  },
  {
   "cell_type": "code",
   "execution_count": 23,
   "id": "dab13a62-2b01-4d5e-917a-03d227f6f968",
   "metadata": {},
   "outputs": [
    {
     "name": "stdout",
     "output_type": "stream",
     "text": [
      "1\n",
      "2\n",
      "3\n",
      "4\n",
      "5\n",
      "6\n",
      "7\n",
      "8\n",
      "9\n",
      "list index out of range\n",
      "This is not working\n"
     ]
    }
   ],
   "source": [
    "l = [1, 2, 3, 4, 5, 6, 7, 8, 9]\n",
    "try:\n",
    "    for i in range(len(l)+1):\n",
    "        print(l[i])\n",
    "except Exception as e:\n",
    "    print(e)\n",
    "    print('This is not working')"
   ]
  },
  {
   "cell_type": "code",
   "execution_count": 24,
   "id": "caf9e0ed-4166-433c-9a2f-319f49e99ac7",
   "metadata": {},
   "outputs": [
    {
     "name": "stdin",
     "output_type": "stream",
     "text": [
      " e\n"
     ]
    },
    {
     "name": "stdout",
     "output_type": "stream",
     "text": [
      "invalid literal for int() with base 10: 'e'\n"
     ]
    }
   ],
   "source": [
    "try:\n",
    "    a= int(input())\n",
    "except Exception as e:\n",
    "    print(e)"
   ]
  },
  {
   "cell_type": "code",
   "execution_count": 25,
   "id": "55471475-dabd-4aa6-b8d5-dc629a6f8ac7",
   "metadata": {},
   "outputs": [
    {
     "name": "stdin",
     "output_type": "stream",
     "text": [
      "Enter value for a: e\n"
     ]
    },
    {
     "name": "stdout",
     "output_type": "stream",
     "text": [
      "Enter Value is wrong\n"
     ]
    }
   ],
   "source": [
    "try:\n",
    "    a= int(input('Enter value for a:'))\n",
    "    b= int(input('Enter value for b:'))\n",
    "    c=a/b\n",
    "    print('answer', c)\n",
    "except ValueError:\n",
    "    print('Enter Value is wrong')\n",
    "except ZeroDivisionError:\n",
    "    print('can not devide by zero')"
   ]
  },
  {
   "cell_type": "code",
   "execution_count": 26,
   "id": "59b2fd2e-5ad1-4f11-b8f1-866478cc72ce",
   "metadata": {},
   "outputs": [
    {
     "name": "stdin",
     "output_type": "stream",
     "text": [
      "Enter value for a: 2\n",
      "Enter value for b: 0\n"
     ]
    },
    {
     "name": "stdout",
     "output_type": "stream",
     "text": [
      "can not devide by zero\n"
     ]
    }
   ],
   "source": [
    "try:\n",
    "    a= int(input('Enter value for a:'))\n",
    "    b= int(input('Enter value for b:'))\n",
    "    c=a/b\n",
    "    print('answer', c)\n",
    "except ValueError:\n",
    "    print('Enter Value is wrong')\n",
    "except ZeroDivisionError:\n",
    "    print('can not devide by zero')\n"
   ]
  },
  {
   "cell_type": "code",
   "execution_count": 28,
   "id": "8eb8c8b9-610e-4572-83b8-08b1db360f77",
   "metadata": {},
   "outputs": [
    {
     "name": "stdout",
     "output_type": "stream",
     "text": [
      "The Entry is: a\n",
      "oops <class 'ValueError'> occured\n",
      "next entry\n",
      "The Entry is: 0\n",
      "oops <class 'ZeroDivisionError'> occured\n",
      "next entry\n",
      "The Entry is: 2\n",
      "The reciprocal of 2 is 0.5\n"
     ]
    }
   ],
   "source": [
    "import sys\n",
    "randon_list = ['a', 0, 2]\n",
    "for entry in randon_list:\n",
    "    try:\n",
    "        print(\"The Entry is:\", entry)\n",
    "        r = 1/int(entry)\n",
    "        break\n",
    "    except:\n",
    "        print('oops', sys.exc_info()[0], \"occured\")\n",
    "        print('next entry')\n",
    "print('The reciprocal of', entry, \"is\", r)"
   ]
  },
  {
   "cell_type": "code",
   "execution_count": 29,
   "id": "c42f4ee8-d078-42af-a7ec-045220c96214",
   "metadata": {},
   "outputs": [
    {
     "name": "stdout",
     "output_type": "stream",
     "text": [
      "The Entry is: a\n",
      "oops (<class 'ValueError'>, ValueError(\"invalid literal for int() with base 10: 'a'\"), <traceback object at 0x7f637585f440>) occured\n",
      "next entry\n",
      "The Entry is: 0\n",
      "oops (<class 'ZeroDivisionError'>, ZeroDivisionError('division by zero'), <traceback object at 0x7f637585f440>) occured\n",
      "next entry\n",
      "The Entry is: 2\n",
      "The reciprocal of 2 is 0.5\n"
     ]
    }
   ],
   "source": [
    "import sys\n",
    "randon_list = ['a', 0, 2]\n",
    "for entry in randon_list:\n",
    "    try:\n",
    "        print(\"The Entry is:\", entry)\n",
    "        r = 1/int(entry)\n",
    "        break\n",
    "    except:\n",
    "        print('oops', sys.exc_info(), \"occured\")\n",
    "        print('next entry')\n",
    "print('The reciprocal of', entry, \"is\", r)"
   ]
  },
  {
   "cell_type": "code",
   "execution_count": 30,
   "id": "e9d7ad36-72a5-4c65-9411-6a10e3b58b12",
   "metadata": {},
   "outputs": [
    {
     "name": "stdin",
     "output_type": "stream",
     "text": [
      "Enter the number 2\n"
     ]
    },
    {
     "name": "stdout",
     "output_type": "stream",
     "text": [
      "0.5\n"
     ]
    }
   ],
   "source": [
    "try:\n",
    "    num = int(input('Enter the number'))\n",
    "    assert num %2 == 0 \n",
    "except:\n",
    "    print(\"Not a even number\")\n",
    "else:\n",
    "    recipocal = 1/num\n",
    "    print(recipocal)\n",
    "    "
   ]
  },
  {
   "cell_type": "code",
   "execution_count": 31,
   "id": "b2218f85-4882-4447-b69f-daefb0686301",
   "metadata": {},
   "outputs": [
    {
     "name": "stdin",
     "output_type": "stream",
     "text": [
      "Enter value for a: 2\n",
      "Enter value for b: 3\n"
     ]
    },
    {
     "name": "stdout",
     "output_type": "stream",
     "text": [
      "answer 0.6666666666666666\n",
      "else block\n"
     ]
    }
   ],
   "source": [
    "try:\n",
    "    a= int(input('Enter value for a:'))\n",
    "    b= int(input('Enter value for b:'))\n",
    "    c=a/b\n",
    "    print('answer', c)\n",
    "except ZeroDivisionError:\n",
    "    print('can not devide by zero')\n",
    "else:\n",
    "    print('else block')"
   ]
  },
  {
   "cell_type": "code",
   "execution_count": 32,
   "id": "4edd6bd5-9bb9-41ca-a0ee-ae9e5093dc63",
   "metadata": {},
   "outputs": [
    {
     "name": "stdin",
     "output_type": "stream",
     "text": [
      "Enter value for a: 5\n",
      "Enter value for b: 0\n"
     ]
    },
    {
     "name": "stdout",
     "output_type": "stream",
     "text": [
      "can not devide by zero\n",
      "from finally block\n"
     ]
    }
   ],
   "source": [
    "try:\n",
    "    a= int(input('Enter value for a:'))\n",
    "    b= int(input('Enter value for b:'))\n",
    "    c=a/b\n",
    "    print('answer', c)\n",
    "except ZeroDivisionError:\n",
    "    print('can not devide by zero')\n",
    "finally:\n",
    "    print('from finally block')"
   ]
  },
  {
   "cell_type": "code",
   "execution_count": 35,
   "id": "19a677ea-777d-4c0a-95fe-95222d8fb26c",
   "metadata": {},
   "outputs": [
    {
     "name": "stdin",
     "output_type": "stream",
     "text": [
      "Enter value for a: 5\n",
      "Enter value for b: 3\n"
     ]
    },
    {
     "name": "stdout",
     "output_type": "stream",
     "text": [
      "answer 1.6666666666666667\n",
      "from finally block\n"
     ]
    }
   ],
   "source": [
    "try:\n",
    "    a= int(input('Enter value for a:'))\n",
    "    b= int(input('Enter value for b:'))\n",
    "    c=a/b\n",
    "    print('answer', c)\n",
    "except ZeroDivisionError:\n",
    "    print('can not devide by zero')\n",
    "finally:\n",
    "    print('from finally block')"
   ]
  },
  {
   "cell_type": "code",
   "execution_count": 36,
   "id": "b2ed6710-1fbc-4a05-b532-394648186331",
   "metadata": {},
   "outputs": [
    {
     "name": "stdin",
     "output_type": "stream",
     "text": [
      "Enter value for a: 2\n",
      "Enter value for b: 2\n"
     ]
    },
    {
     "name": "stdout",
     "output_type": "stream",
     "text": [
      "answer 1.0\n",
      "from finally block\n"
     ]
    }
   ],
   "source": [
    "try:\n",
    "    a= int(input('Enter value for a:'))\n",
    "    b= int(input('Enter value for b:'))\n",
    "    c=a/b\n",
    "    print('answer', c)\n",
    "except ZeroDivisionError:\n",
    "    print('can not devide by zero')\n",
    "finally:\n",
    "    print('from finally block')\n"
   ]
  },
  {
   "cell_type": "code",
   "execution_count": 38,
   "id": "62db0047-2756-4a06-8091-12654aa957fa",
   "metadata": {},
   "outputs": [],
   "source": [
    "def devide(x, y):\n",
    "    print(x/y)"
   ]
  },
  {
   "cell_type": "code",
   "execution_count": 39,
   "id": "ac839e2a-f385-4c16-b4f7-b022d970998e",
   "metadata": {},
   "outputs": [
    {
     "name": "stdout",
     "output_type": "stream",
     "text": [
      "5.0\n"
     ]
    },
    {
     "ename": "ZeroDivisionError",
     "evalue": "division by zero",
     "output_type": "error",
     "traceback": [
      "\u001b[0;31m---------------------------------------------------------------------------\u001b[0m",
      "\u001b[0;31mZeroDivisionError\u001b[0m                         Traceback (most recent call last)",
      "Cell \u001b[0;32mIn [39], line 2\u001b[0m\n\u001b[1;32m      1\u001b[0m devide(\u001b[38;5;241m10\u001b[39m,\u001b[38;5;241m2\u001b[39m)\n\u001b[0;32m----> 2\u001b[0m \u001b[43mdevide\u001b[49m\u001b[43m(\u001b[49m\u001b[38;5;241;43m10\u001b[39;49m\u001b[43m,\u001b[49m\u001b[38;5;241;43m0\u001b[39;49m\u001b[43m)\u001b[49m\n\u001b[1;32m      3\u001b[0m devide(\u001b[38;5;241m10\u001b[39m,\u001b[38;5;241m4\u001b[39m)\n",
      "Cell \u001b[0;32mIn [38], line 2\u001b[0m, in \u001b[0;36mdevide\u001b[0;34m(x, y)\u001b[0m\n\u001b[1;32m      1\u001b[0m \u001b[38;5;28;01mdef\u001b[39;00m \u001b[38;5;21mdevide\u001b[39m(x, y):\n\u001b[0;32m----> 2\u001b[0m     \u001b[38;5;28mprint\u001b[39m(\u001b[43mx\u001b[49m\u001b[38;5;241;43m/\u001b[39;49m\u001b[43my\u001b[49m)\n",
      "\u001b[0;31mZeroDivisionError\u001b[0m: division by zero"
     ]
    }
   ],
   "source": [
    "devide(10,2)\n",
    "devide(10,0)\n",
    "devide(10,4)"
   ]
  },
  {
   "cell_type": "code",
   "execution_count": 42,
   "id": "8bc98abb-2a89-4203-ac93-6228481f018a",
   "metadata": {},
   "outputs": [],
   "source": [
    "def devide(x, y):\n",
    "    try:\n",
    "        print(x/y)\n",
    "    except ZeroDivisionError as e:\n",
    "        print(e)"
   ]
  },
  {
   "cell_type": "code",
   "execution_count": 44,
   "id": "190c1f55-ecc1-4034-8afa-867c223e8ed2",
   "metadata": {},
   "outputs": [
    {
     "name": "stdout",
     "output_type": "stream",
     "text": [
      "5.0\n",
      "division by zero\n",
      "2.5\n"
     ]
    }
   ],
   "source": [
    "devide(10,2)\n",
    "devide(10,0)\n",
    "devide(10,4)"
   ]
  },
  {
   "cell_type": "code",
   "execution_count": 45,
   "id": "c46a2ea3-d428-4eba-97c4-b544dff76779",
   "metadata": {},
   "outputs": [],
   "source": [
    "def devide(x, y):\n",
    "    try:\n",
    "        print(x/y)\n",
    "    except ZeroDivisionError as e:\n",
    "        print(e)\n",
    "    else:\n",
    "        print('from else block')\n",
    "    finally:\n",
    "        print('from finally block')"
   ]
  },
  {
   "cell_type": "code",
   "execution_count": 46,
   "id": "0458c9de-7d2f-4b55-b753-f1ffc9eb6878",
   "metadata": {},
   "outputs": [
    {
     "name": "stdout",
     "output_type": "stream",
     "text": [
      "5.0\n",
      "from else block\n",
      "from finally block\n",
      "division by zero\n",
      "from finally block\n",
      "2.5\n",
      "from else block\n",
      "from finally block\n"
     ]
    }
   ],
   "source": [
    "devide(10,2)\n",
    "devide(10,0)\n",
    "devide(10,4)"
   ]
  },
  {
   "cell_type": "markdown",
   "id": "3c118234-7aec-43d5-ba61-e4173634bf6a",
   "metadata": {},
   "source": [
    "## NESTED TRY"
   ]
  },
  {
   "cell_type": "code",
   "execution_count": 47,
   "id": "f9cecb8d-b93f-4d89-a3f7-8322b8451d33",
   "metadata": {},
   "outputs": [
    {
     "name": "stdout",
     "output_type": "stream",
     "text": [
      "Outer try block\n",
      "nested try block\n",
      "Outer except block\n",
      "division by zero\n"
     ]
    }
   ],
   "source": [
    "x = 10\n",
    "y = 0\n",
    "try :\n",
    "    print(\"Outer try block\")\n",
    "    try:\n",
    "        print(\"nested try block\")\n",
    "        print(x/y)\n",
    "    except TypeError as te:\n",
    "        print('nested except block')\n",
    "        print(te)\n",
    "except ZeroDivisionError as ze:\n",
    "    print('Outer except block')\n",
    "    print(ze)\n"
   ]
  },
  {
   "cell_type": "code",
   "execution_count": 48,
   "id": "b42329ba-1c73-43cb-9a5f-3880419d8043",
   "metadata": {},
   "outputs": [
    {
     "name": "stdout",
     "output_type": "stream",
     "text": [
      "Outer try block\n",
      "nested try block\n",
      "2.5\n"
     ]
    }
   ],
   "source": [
    "x = 10\n",
    "y = 4\n",
    "try :\n",
    "    print(\"Outer try block\")\n",
    "    try:\n",
    "        print(\"nested try block\")\n",
    "        print(x/y)\n",
    "    except TypeError as te:\n",
    "        print('nested except block')\n",
    "        print(te)\n",
    "except ZeroDivisionError as ze:\n",
    "    print('Outer except block')\n",
    "    print(ze)\n"
   ]
  },
  {
   "cell_type": "code",
   "execution_count": 49,
   "id": "9a563e28-bcf3-487d-9acb-040006694f47",
   "metadata": {},
   "outputs": [],
   "source": [
    "def func1():\n",
    "    flag = True\n",
    "    while flag:\n",
    "        try:\n",
    "            a = int(input('Enter the intergers'))\n",
    "            if type(a) == int:\n",
    "                return \"yes, you entered an interger\"\n",
    "            flag = False\n",
    "        except Exception as e:\n",
    "            print('You did not entered the interger, enter the integer')"
   ]
  },
  {
   "cell_type": "code",
   "execution_count": 51,
   "id": "1425187d-03db-4d6a-b0a7-dba2898d4c46",
   "metadata": {},
   "outputs": [
    {
     "name": "stdin",
     "output_type": "stream",
     "text": [
      "Enter the intergers i\n"
     ]
    },
    {
     "name": "stdout",
     "output_type": "stream",
     "text": [
      "You did not entered the interger, enter the integer\n"
     ]
    },
    {
     "name": "stdin",
     "output_type": "stream",
     "text": [
      "Enter the intergers k\n"
     ]
    },
    {
     "name": "stdout",
     "output_type": "stream",
     "text": [
      "You did not entered the interger, enter the integer\n"
     ]
    },
    {
     "name": "stdin",
     "output_type": "stream",
     "text": [
      "Enter the intergers 7\n"
     ]
    },
    {
     "data": {
      "text/plain": [
       "'yes, you entered an interger'"
      ]
     },
     "execution_count": 51,
     "metadata": {},
     "output_type": "execute_result"
    }
   ],
   "source": [
    "func1()"
   ]
  },
  {
   "cell_type": "code",
   "execution_count": 53,
   "id": "427fe721-1f54-4cde-b4dd-4f01f8d10b97",
   "metadata": {},
   "outputs": [
    {
     "name": "stdout",
     "output_type": "stream",
     "text": [
      "There is no issue with code\n"
     ]
    }
   ],
   "source": [
    "try:\n",
    "    l = [4, 5, 6, 7, 8, 9]\n",
    "    l[1]\n",
    "except:\n",
    "    print(\"there is issue with my code\")\n",
    "    t = (4, 5, 6, 7, 8, 9)\n",
    "    print(t)\n",
    "    try:\n",
    "        t[0] = 'vikas'\n",
    "        try:\n",
    "            list(t)\n",
    "            print(t)\n",
    "        except:\n",
    "            pass\n",
    "    except:\n",
    "        pass\n",
    "else:\n",
    "    print(\"There is no issue with code\")\n",
    "    "
   ]
  },
  {
   "cell_type": "code",
   "execution_count": 54,
   "id": "f19689cf-b970-4253-863e-4e0fd3d9b021",
   "metadata": {},
   "outputs": [
    {
     "name": "stdout",
     "output_type": "stream",
     "text": [
      "there is issue with my code\n",
      "(4, 5, 6, 7, 8, 9)\n"
     ]
    }
   ],
   "source": [
    "try:\n",
    "    l = [4, 5, 6, 7, 8, 9]\n",
    "    l[10]\n",
    "except:\n",
    "    print(\"there is issue with my code\")\n",
    "    t = (4, 5, 6, 7, 8, 9)\n",
    "    print(t)\n",
    "    try:\n",
    "        t[0] = 'vikas'\n",
    "        try:\n",
    "            list(t)\n",
    "            print(t)\n",
    "        except:\n",
    "            pass\n",
    "    except:\n",
    "        pass\n",
    "else:\n",
    "    print(\"There is no issue with code\")"
   ]
  },
  {
   "cell_type": "code",
   "execution_count": null,
   "id": "03c1d708-91a2-46a9-82e6-0ab115d80b2e",
   "metadata": {},
   "outputs": [],
   "source": [
    "l = [4, 5, 6, 7, 8, 9]\n",
    "l[10]"
   ]
  },
  {
   "cell_type": "code",
   "execution_count": null,
   "id": "c59fe988-e7b3-48a2-a86e-391f6dc56cbe",
   "metadata": {},
   "outputs": [],
   "source": [
    "l = [4, 5, 6, 7, 8, 9]\n",
    "l[10]"
   ]
  },
  {
   "cell_type": "code",
   "execution_count": null,
   "id": "27048046-1247-48f0-85cd-7026baed0039",
   "metadata": {},
   "outputs": [],
   "source": []
  }
 ],
 "metadata": {
  "kernelspec": {
   "display_name": "Python 3 (ipykernel)",
   "language": "python",
   "name": "python3"
  },
  "language_info": {
   "codemirror_mode": {
    "name": "ipython",
    "version": 3
   },
   "file_extension": ".py",
   "mimetype": "text/x-python",
   "name": "python",
   "nbconvert_exporter": "python",
   "pygments_lexer": "ipython3",
   "version": "3.10.6"
  }
 },
 "nbformat": 4,
 "nbformat_minor": 5
}
